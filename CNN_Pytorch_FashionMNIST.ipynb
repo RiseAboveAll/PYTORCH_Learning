{
  "nbformat": 4,
  "nbformat_minor": 0,
  "metadata": {
    "colab": {
      "name": "CNN-Pytorch-FashionMNIST.ipynb",
      "provenance": [],
      "authorship_tag": "ABX9TyNaIxZfqVEeGNOHHKjViNm9",
      "include_colab_link": true
    },
    "kernelspec": {
      "name": "python3",
      "display_name": "Python 3"
    },
    "accelerator": "GPU"
  },
  "cells": [
    {
      "cell_type": "markdown",
      "metadata": {
        "id": "view-in-github",
        "colab_type": "text"
      },
      "source": [
        "<a href=\"https://colab.research.google.com/github/RiseAboveAll/PYTORCH_Learning/blob/master/CNN_Pytorch_FashionMNIST.ipynb\" target=\"_parent\"><img src=\"https://colab.research.google.com/assets/colab-badge.svg\" alt=\"Open In Colab\"/></a>"
      ]
    },
    {
      "cell_type": "markdown",
      "metadata": {
        "id": "c9mZeAqTHomN",
        "colab_type": "text"
      },
      "source": [
        "## Theory"
      ]
    },
    {
      "cell_type": "markdown",
      "metadata": {
        "id": "KAWqR-gPmMtG",
        "colab_type": "text"
      },
      "source": [
        "**Modules Required**:\n",
        "\n",
        "- Convolutional Module :\n",
        "\n",
        "Main part is filter or kernel which is a 4 dimensional kernel of size C1xHxWxC2\n",
        "\n",
        "Size of kernel is always odd\n",
        "\n",
        "    ```\n",
        "\n",
        "    nn.Conv2d(in_channels=C1,out_channels=C2,kernel_size=K,stride=s)\n",
        "\n",
        "    ```\n",
        "\n",
        "Why do we use Conv2d?\n",
        "\n",
        "We know that color images are 3-d images os shape HxWxC. But the channel dimension(C) is not a spatial dimension, hence it is a 2-D, i.e signal does not flow in that direction. \n",
        "\n",
        "We can have 1-d Convolution and 3-d convolutions also. When we have some input which varies with time (time series data) we use 1-d convolution. Whereas if we look at video, it will be a 3-d convolution. It is because Height , Width are the spatial dimensions & Time is the third dimension. It is also possble to have object with 3 dimensions of shape HxWxD.\n",
        "\n",
        "**Important Concepts :**\n",
        "\n",
        "- Inheritance :\n",
        "\n",
        "Pytorch models are all based on **Module**, Module is a base class that all other modules inherit from. (nn.Module). eg: nn.Linear() model inherits from the nn.Module class.\n",
        "\n",
        "Inheritance means there exists a relationship. \n",
        "\n",
        "-  Hierachical Structure :\n",
        "\n",
        "Due to Module the models are in hirearchical structure. Stacking of layers also brings hierachy. Stacking can be in form of i.e model is module of module of module, i.e Model is also a module. \n",
        "\n",
        "-  Custom Models :\n",
        "\n",
        "We build custom model because sometimes we need operation which is not a module. It is also known as Functional Model .\n",
        "\n",
        "  - Comparison of Sequential and Custom Model:\n",
        "\n",
        "  ***Sequential Model**\n",
        "\n",
        "  ```\n",
        "\n",
        "  Model=nn.Sequential(\n",
        "    nn.Linear(784,128),\n",
        "    nn.ReLU(),\n",
        "    nn.Linear(128,10)\n",
        "  )\n",
        "\n",
        "  ```\n",
        "  ***Functional Model**\n",
        "\n",
        "  ```\n",
        "  Class ANN(nn.Module):\n",
        "\n",
        "    def __init__(self):\n",
        "      super(ANN,self).__init__()\n",
        "      #Layer Definiton\n",
        "      self.layer1=nn.Linear(784,128)\n",
        "      self.layer2=nn.ReLU()\n",
        "      self.layer3=nn.Linear(128,10)\n",
        "    def forward(self,x):\n",
        "      #Layer Execution\n",
        "      x=self.layer1(x)\n",
        "      x=self.layer2(x)\n",
        "      x=self.layer3(x)\n",
        "      return x\n",
        "  model=ANN()\n",
        "\n",
        "  ```\n",
        "\n",
        "\n"
      ]
    },
    {
      "cell_type": "markdown",
      "metadata": {
        "id": "ayfFpNB49lpj",
        "colab_type": "text"
      },
      "source": [
        "**CNN Custom Sequential Model**\n",
        "\n",
        "\n",
        "``` \n",
        "\n",
        "class CNN(nn.Module):\n",
        "\n",
        "  def __init__(self,K):\n",
        "\n",
        "    suoer(CNN,self).__init__()\n",
        "    #Define the Convolution Layers\n",
        "    self.conv=nn.Sequential(\n",
        "                #The number of filters specified in the out_channels parameter will be the number of filters for the in_channels parameter of the next layer \n",
        "                nn.Conv2d(3,32,kernel_size=3,stride=2)\n",
        "                nn.Conv2d(32,64,kernel_size=3,stride=2)\n",
        "                nn.Conv2d(64,128,kernel_size=3,stride=2))\n",
        "    #Define the Dense Layer\n",
        "    self.dense=nn.Sequential(\n",
        "                nn.Linear(?,1024)\n",
        "                nn.Linear(1024,k)\n",
        "    )\n",
        "  def forward(self,X):\n",
        "    out=self.conv(X)\n",
        "    out=out.view(-1,?)\n",
        "    out=self.dense(out)\n",
        "    return out\n",
        "\n",
        "```\n",
        "\n",
        "*Note :In the above code :\n",
        "\n",
        "? depicts the product of final image dimension , i.e the product of last convolution layer feature map. \n",
        "\n",
        "Sometimes we use **Dropout** in convolution network also. It is used for regularization. To implemet Dropout use : nn.Dropout(p_drop)\n",
        "\n",
        "\n",
        "\n"
      ]
    },
    {
      "cell_type": "markdown",
      "metadata": {
        "id": "horqA6xHbu-1",
        "colab_type": "text"
      },
      "source": [
        "To know how calculate the dimensionality of the initial feature vector into the dense layers of CNN we need to understand Convolutional Arithmatic.\n",
        "\n",
        "Convolution Layer Shape Convention : \n",
        "\n",
        "-  Input : (N,Cin,Hin,Win)\n",
        "\n",
        "-  Output : (N,Cout,Hout,Wout)\n",
        "\n",
        "<h2>Convolutional Arithmatic</h2>\n",
        "\n",
        "- It is used for calculating the output size. \n",
        "\n",
        "- Formula : O=[[Hin - K + (2*P)]/s]+1\n",
        "\n",
        " \n",
        "\n"
      ]
    },
    {
      "cell_type": "markdown",
      "metadata": {
        "id": "4zM0lopZFpNW",
        "colab_type": "text"
      },
      "source": [
        ""
      ]
    },
    {
      "cell_type": "markdown",
      "metadata": {
        "id": "fy2Klh6_FpHK",
        "colab_type": "text"
      },
      "source": [
        "## Code"
      ]
    },
    {
      "cell_type": "markdown",
      "metadata": {
        "id": "xiHvMX-XIWOk",
        "colab_type": "text"
      },
      "source": [
        "### Import Libraries"
      ]
    },
    {
      "cell_type": "code",
      "metadata": {
        "id": "8-mgCyamJyOn",
        "colab_type": "code",
        "colab": {
          "base_uri": "https://localhost:8080/",
          "height": 262
        },
        "outputId": "8d346c98-4cdc-495e-a862-95509332a5df"
      },
      "source": [
        "!pip3 install --upgrade numpy"
      ],
      "execution_count": 8,
      "outputs": [
        {
          "output_type": "stream",
          "text": [
            "Collecting numpy\n",
            "\u001b[?25l  Downloading https://files.pythonhosted.org/packages/b1/9a/7d474ba0860a41f771c9523d8c4ea56b084840b5ca4092d96bdee8a3b684/numpy-1.19.1-cp36-cp36m-manylinux2010_x86_64.whl (14.5MB)\n",
            "\u001b[K     |████████████████████████████████| 14.5MB 234kB/s \n",
            "\u001b[31mERROR: datascience 0.10.6 has requirement folium==0.2.1, but you'll have folium 0.8.3 which is incompatible.\u001b[0m\n",
            "\u001b[31mERROR: albumentations 0.1.12 has requirement imgaug<0.2.7,>=0.2.5, but you'll have imgaug 0.2.9 which is incompatible.\u001b[0m\n",
            "\u001b[?25hInstalling collected packages: numpy\n",
            "  Found existing installation: numpy 1.18.5\n",
            "    Uninstalling numpy-1.18.5:\n",
            "      Successfully uninstalled numpy-1.18.5\n",
            "Successfully installed numpy-1.19.1\n"
          ],
          "name": "stdout"
        },
        {
          "output_type": "display_data",
          "data": {
            "application/vnd.colab-display-data+json": {
              "pip_warning": {
                "packages": [
                  "numpy"
                ]
              }
            }
          },
          "metadata": {
            "tags": []
          }
        }
      ]
    },
    {
      "cell_type": "code",
      "metadata": {
        "id": "od9dlbf-FoTV",
        "colab_type": "code",
        "colab": {}
      },
      "source": [
        "import torch\n",
        "from torch import nn\n",
        "import torchvision\n",
        "from torchvision import transforms\n",
        "from torch.utils.data import DataLoader\n",
        "\n",
        "import numpy as np\n",
        "\n",
        "import matplotlib.pyplot as plt\n",
        "from datetime import datetime"
      ],
      "execution_count": 14,
      "outputs": []
    },
    {
      "cell_type": "markdown",
      "metadata": {
        "id": "s2URprqHIZKc",
        "colab_type": "text"
      },
      "source": [
        "### Load Dataset"
      ]
    },
    {
      "cell_type": "code",
      "metadata": {
        "id": "lzb9UKaNIbBJ",
        "colab_type": "code",
        "colab": {}
      },
      "source": [
        "train_dataset=torchvision.datasets.FashionMNIST(root='.',train=True,transform=transforms.ToTensor(),download=True)"
      ],
      "execution_count": 2,
      "outputs": []
    },
    {
      "cell_type": "code",
      "metadata": {
        "id": "zVhWU2b6Iv92",
        "colab_type": "code",
        "colab": {
          "base_uri": "https://localhost:8080/",
          "height": 33
        },
        "outputId": "2a095e5a-761c-4324-883a-312983f57405"
      },
      "source": [
        "train_dataset.data.max()"
      ],
      "execution_count": 3,
      "outputs": [
        {
          "output_type": "execute_result",
          "data": {
            "text/plain": [
              "tensor(255, dtype=torch.uint8)"
            ]
          },
          "metadata": {
            "tags": []
          },
          "execution_count": 3
        }
      ]
    },
    {
      "cell_type": "code",
      "metadata": {
        "id": "V_XShlbpIUY3",
        "colab_type": "code",
        "colab": {
          "base_uri": "https://localhost:8080/",
          "height": 33
        },
        "outputId": "f2705108-cad5-4e3b-d443-fe449783baaf"
      },
      "source": [
        "train_dataset.data.shape"
      ],
      "execution_count": 4,
      "outputs": [
        {
          "output_type": "execute_result",
          "data": {
            "text/plain": [
              "torch.Size([60000, 28, 28])"
            ]
          },
          "metadata": {
            "tags": []
          },
          "execution_count": 4
        }
      ]
    },
    {
      "cell_type": "code",
      "metadata": {
        "id": "artqq1B8lpiv",
        "colab_type": "code",
        "colab": {}
      },
      "source": [
        "test_dataset=torchvision.datasets.FashionMNIST(root='.',train=False,transform=transforms.ToTensor(),download=True)"
      ],
      "execution_count": 5,
      "outputs": []
    },
    {
      "cell_type": "code",
      "metadata": {
        "id": "ogzAjpXoKLb5",
        "colab_type": "code",
        "colab": {}
      },
      "source": [
        "#Number of classes\n",
        "K=len(set(train_dataset.targets.numpy()))"
      ],
      "execution_count": 6,
      "outputs": []
    },
    {
      "cell_type": "code",
      "metadata": {
        "id": "mUBY0_jEKgqh",
        "colab_type": "code",
        "colab": {
          "base_uri": "https://localhost:8080/",
          "height": 33
        },
        "outputId": "ae5c1f8d-8769-460e-f3f2-f0a2e7f455d4"
      },
      "source": [
        "print('Number of Classes {0}'.format(K))"
      ],
      "execution_count": 7,
      "outputs": [
        {
          "output_type": "stream",
          "text": [
            "Number of Classes 10\n"
          ],
          "name": "stdout"
        }
      ]
    },
    {
      "cell_type": "markdown",
      "metadata": {
        "id": "sQ1XYN72KuoU",
        "colab_type": "text"
      },
      "source": [
        "### Building Model"
      ]
    },
    {
      "cell_type": "code",
      "metadata": {
        "id": "ZjGTbqSYKmFF",
        "colab_type": "code",
        "colab": {}
      },
      "source": [
        "class CNN(nn.Module):\n",
        "  def __init__(self,K):\n",
        "    super(CNN,self).__init__()\n",
        "    self.conv_layers=nn.Sequential(\n",
        "        nn.Conv2d(in_channels=1,out_channels=32,kernel_size=3,stride=2),\n",
        "        nn.ReLU(),\n",
        "        nn.Conv2d(in_channels=32,out_channels=64,kernel_size=3,stride=2),\n",
        "        nn.ReLU(),\n",
        "        nn.Conv2d(in_channels=64,out_channels=128,kernel_size=3,stride=2),\n",
        "        nn.ReLU()\n",
        "    )\n",
        "    self.dense_layer=nn.Sequential(\n",
        "        nn.Dropout(.2),\n",
        "        nn.Linear(128*2*2,512),\n",
        "        nn.ReLU(),\n",
        "        nn.Dropout(.2),\n",
        "        nn.Linear(512,K)\n",
        "    )\n",
        "  def forward(self,X):\n",
        "    out=self.conv_layers(X)\n",
        "    out=out.view(out.size(0),-1)\n",
        "    out=self.dense_layer(out)\n",
        "    return out"
      ],
      "execution_count": 10,
      "outputs": []
    },
    {
      "cell_type": "code",
      "metadata": {
        "id": "MhaNgg0iOWJG",
        "colab_type": "code",
        "colab": {}
      },
      "source": [
        "#Instantiate Model\n",
        "model=CNN(K)\n"
      ],
      "execution_count": 71,
      "outputs": []
    },
    {
      "cell_type": "code",
      "metadata": {
        "id": "HRCmyn-YOlsJ",
        "colab_type": "code",
        "colab": {
          "base_uri": "https://localhost:8080/",
          "height": 293
        },
        "outputId": "e6f6cf4f-6741-4724-c050-7af112c98b90"
      },
      "source": [
        "#Move model to GPU\n",
        "device=torch.device('cuda:0' if torch.cuda.is_available() else  \"cpu\")\n",
        "model.to(device)"
      ],
      "execution_count": 72,
      "outputs": [
        {
          "output_type": "execute_result",
          "data": {
            "text/plain": [
              "CNN(\n",
              "  (conv_layers): Sequential(\n",
              "    (0): Conv2d(1, 32, kernel_size=(3, 3), stride=(2, 2))\n",
              "    (1): ReLU()\n",
              "    (2): Conv2d(32, 64, kernel_size=(3, 3), stride=(2, 2))\n",
              "    (3): ReLU()\n",
              "    (4): Conv2d(64, 128, kernel_size=(3, 3), stride=(2, 2))\n",
              "    (5): ReLU()\n",
              "  )\n",
              "  (dense_layer): Sequential(\n",
              "    (0): Dropout(p=0.2, inplace=False)\n",
              "    (1): Linear(in_features=512, out_features=512, bias=True)\n",
              "    (2): ReLU()\n",
              "    (3): Dropout(p=0.2, inplace=False)\n",
              "    (4): Linear(in_features=512, out_features=10, bias=True)\n",
              "  )\n",
              ")"
            ]
          },
          "metadata": {
            "tags": []
          },
          "execution_count": 72
        }
      ]
    },
    {
      "cell_type": "code",
      "metadata": {
        "id": "eKwrHWhqPR34",
        "colab_type": "code",
        "colab": {}
      },
      "source": [
        "#Loss and Optimizer\n",
        "criterion=nn.CrossEntropyLoss()\n",
        "optimizer=torch.optim.Adam(model.parameters(),lr=.00005)"
      ],
      "execution_count": 73,
      "outputs": []
    },
    {
      "cell_type": "code",
      "metadata": {
        "id": "tL5tG_OsVwwd",
        "colab_type": "code",
        "colab": {}
      },
      "source": [
        "#Data Loader\n",
        "#It is useful because it automatically generates batches in training loop.\n",
        "batch_size=128\n",
        "train_loader=DataLoader(dataset=train_dataset,batch_size=batch_size,shuffle=True)\n",
        "test_loader=DataLoader(dataset=test_dataset,batch_size=batch_size,shuffle=False)"
      ],
      "execution_count": 74,
      "outputs": []
    },
    {
      "cell_type": "code",
      "metadata": {
        "id": "kp-UCe32Wqve",
        "colab_type": "code",
        "colab": {}
      },
      "source": [
        "# Function to Encapsulate training\n",
        "def batch_gradient(model,criterion,optimizer,train_loader,test_loader,epochs):\n",
        "  train_losses=np.zeros(epochs)\n",
        "  test_losses=np.zeros(epochs)\n",
        "  for it in range(epochs):\n",
        "    t0=datetime.now()\n",
        "    train_loss=[]\n",
        "    for inputs,targets in train_loader:\n",
        "      #Move Data to GPU\n",
        "      inputs,targets=inputs.to(device),targets.to(device)\n",
        "      #Zero the parameter Gradient\n",
        "      optimizer.zero_grad()\n",
        "      #Forward Pass\n",
        "      outputs=model(inputs)\n",
        "      loss=criterion(outputs,targets)\n",
        "      #Bacward Pass\n",
        "      loss.backward()\n",
        "      #Perform single optmization step\n",
        "      optimizer.step()\n",
        "\n",
        "      train_loss.append(loss.item())\n",
        "\n",
        "    #Get train loss and test loss\n",
        "    train_loss=np.mean(train_loss)\n",
        "    test_loss=[]\n",
        "    for inputs,targets in test_loader:\n",
        "      #Move Data to GPU\n",
        "      inputs,targets=inputs.to(device),targets.to(device)\n",
        "      outputs=model(inputs)\n",
        "      loss=criterion(outputs,targets)\n",
        "      test_loss.append(loss.item())\n",
        "    test_loss=np.mean(test_loss)\n",
        "\n",
        "    #Save Losses\n",
        "    train_losses[it]=train_loss\n",
        "    test_losses[it]=test_loss\n",
        "    dt=datetime.now()-t0\n",
        "    print(f'Epoch {it+1}/{epochs},Duration : {dt} , Train Loss : {train_loss : .4f},  Test Loss : {test_loss : .4f}')\n",
        "  return train_losses,test_losses\n",
        "\n",
        "\n",
        "\n",
        "\n"
      ],
      "execution_count": 75,
      "outputs": []
    },
    {
      "cell_type": "code",
      "metadata": {
        "id": "-_ZM8TgbagYz",
        "colab_type": "code",
        "colab": {
          "base_uri": "https://localhost:8080/",
          "height": 423
        },
        "outputId": "529392ec-ceca-49b7-b9f2-f14e4be9afdb"
      },
      "source": [
        "train_losses,test_losses=batch_gradient(model,criterion,optimizer,train_loader,test_loader,25)"
      ],
      "execution_count": 76,
      "outputs": [
        {
          "output_type": "stream",
          "text": [
            "Epoch 1/25,Duration : 0:00:06.590903 , Train Loss :  1.2683,  Test Loss :  0.8116\n",
            "Epoch 2/25,Duration : 0:00:06.598372 , Train Loss :  0.7386,  Test Loss :  0.7043\n",
            "Epoch 3/25,Duration : 0:00:06.581935 , Train Loss :  0.6571,  Test Loss :  0.6490\n",
            "Epoch 4/25,Duration : 0:00:06.622883 , Train Loss :  0.6091,  Test Loss :  0.6159\n",
            "Epoch 5/25,Duration : 0:00:06.584243 , Train Loss :  0.5727,  Test Loss :  0.5823\n",
            "Epoch 6/25,Duration : 0:00:06.552313 , Train Loss :  0.5489,  Test Loss :  0.5636\n",
            "Epoch 7/25,Duration : 0:00:06.575441 , Train Loss :  0.5277,  Test Loss :  0.5427\n",
            "Epoch 8/25,Duration : 0:00:06.571662 , Train Loss :  0.5119,  Test Loss :  0.5253\n",
            "Epoch 9/25,Duration : 0:00:06.585017 , Train Loss :  0.4967,  Test Loss :  0.5182\n",
            "Epoch 10/25,Duration : 0:00:06.627233 , Train Loss :  0.4847,  Test Loss :  0.5068\n",
            "Epoch 11/25,Duration : 0:00:06.629848 , Train Loss :  0.4737,  Test Loss :  0.4913\n",
            "Epoch 12/25,Duration : 0:00:06.602020 , Train Loss :  0.4642,  Test Loss :  0.4879\n",
            "Epoch 13/25,Duration : 0:00:06.724200 , Train Loss :  0.4542,  Test Loss :  0.4767\n",
            "Epoch 14/25,Duration : 0:00:06.663094 , Train Loss :  0.4464,  Test Loss :  0.4698\n",
            "Epoch 15/25,Duration : 0:00:06.598066 , Train Loss :  0.4365,  Test Loss :  0.4579\n",
            "Epoch 16/25,Duration : 0:00:06.566286 , Train Loss :  0.4279,  Test Loss :  0.4576\n",
            "Epoch 17/25,Duration : 0:00:06.550590 , Train Loss :  0.4204,  Test Loss :  0.4455\n",
            "Epoch 18/25,Duration : 0:00:06.610989 , Train Loss :  0.4117,  Test Loss :  0.4398\n",
            "Epoch 19/25,Duration : 0:00:06.639817 , Train Loss :  0.4065,  Test Loss :  0.4336\n",
            "Epoch 20/25,Duration : 0:00:06.630214 , Train Loss :  0.4010,  Test Loss :  0.4263\n",
            "Epoch 21/25,Duration : 0:00:06.601359 , Train Loss :  0.3932,  Test Loss :  0.4216\n",
            "Epoch 22/25,Duration : 0:00:06.642015 , Train Loss :  0.3886,  Test Loss :  0.4247\n",
            "Epoch 23/25,Duration : 0:00:06.623155 , Train Loss :  0.3861,  Test Loss :  0.4202\n",
            "Epoch 24/25,Duration : 0:00:06.614977 , Train Loss :  0.3796,  Test Loss :  0.4183\n",
            "Epoch 25/25,Duration : 0:00:06.617016 , Train Loss :  0.3759,  Test Loss :  0.4066\n"
          ],
          "name": "stdout"
        }
      ]
    },
    {
      "cell_type": "code",
      "metadata": {
        "id": "CUOc54ZRa0e9",
        "colab_type": "code",
        "colab": {
          "base_uri": "https://localhost:8080/",
          "height": 281
        },
        "outputId": "8d4a180b-9d9c-4d8e-8917-a6b8ebab6095"
      },
      "source": [
        "plt.plot(train_losses,label='train loss')\n",
        "plt.plot(test_losses,label='test loss')\n",
        "plt.legend()"
      ],
      "execution_count": 77,
      "outputs": [
        {
          "output_type": "execute_result",
          "data": {
            "text/plain": [
              "<matplotlib.legend.Legend at 0x7f14e0830cc0>"
            ]
          },
          "metadata": {
            "tags": []
          },
          "execution_count": 77
        },
        {
          "output_type": "display_data",
          "data": {
            "image/png": "[encoded data removed]",
            "text/plain": [
              "<Figure size 432x288 with 1 Axes>"
            ]
          },
          "metadata": {
            "tags": [],
            "needs_background": "light"
          }
        }
      ]
    },
    {
      "cell_type": "code",
      "metadata": {
        "id": "1jrB7Tq4cndI",
        "colab_type": "code",
        "colab": {
          "base_uri": "https://localhost:8080/",
          "height": 33
        },
        "outputId": "535f57f6-2484-41cb-8c81-4d8c099a4ccd"
      },
      "source": [
        "# Accuracy\n",
        "\n",
        "n_correct=0\n",
        "n_total=0\n",
        "for inputs,targets in train_loader:\n",
        "  #Move data to GPU\n",
        "  inputs,targets=inputs.to(device),targets.to(device)\n",
        "  #Forward Pass\n",
        "  outputs=model(inputs)\n",
        "  #Get Prediction\n",
        "  _,predictions=torch.max(outputs,1)\n",
        "  #update counts\n",
        "  n_correct += (predictions==targets).sum().item()\n",
        "  n_total += targets.shape[0]\n",
        "train_acc = n_correct/n_total\n",
        "n_correct=0\n",
        "n_total=0\n",
        "for inputs,targets in test_loader:\n",
        "  #Move data to GPU\n",
        "  inputs,targets=inputs.to(device),targets.to(device)\n",
        "  #Forward Pass\n",
        "  outputs=model(inputs)\n",
        "  #Get Prediction\n",
        "  _,predictions=torch.max(outputs,1)\n",
        "  #update counts\n",
        "  n_correct += (predictions==targets).sum().item()\n",
        "  n_total += targets.shape[0]\n",
        "test_acc=n_correct/n_total\n",
        "print(f'Train Acc : {train_acc:.4f}, Test Acc : {test_acc:.4f}')"
      ],
      "execution_count": 78,
      "outputs": [
        {
          "output_type": "stream",
          "text": [
            "Train Acc : 0.8626, Test Acc : 0.8481\n"
          ],
          "name": "stdout"
        }
      ]
    },
    {
      "cell_type": "code",
      "metadata": {
        "id": "gZP0cdl-jhLT",
        "colab_type": "code",
        "colab": {}
      },
      "source": [
        ""
      ],
      "execution_count": null,
      "outputs": []
    }
  ]
}