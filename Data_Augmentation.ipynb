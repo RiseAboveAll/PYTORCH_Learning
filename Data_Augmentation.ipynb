{
  "nbformat": 4,
  "nbformat_minor": 0,
  "metadata": {
    "colab": {
      "name": "Data-Augmentation.ipynb",
      "provenance": [],
      "collapsed_sections": [],
      "authorship_tag": "ABX9TyOeIL3wCMHFbBR683SnmKH5",
      "include_colab_link": true
    },
    "kernelspec": {
      "name": "python3",
      "display_name": "Python 3"
    }
  },
  "cells": [
    {
      "cell_type": "markdown",
      "metadata": {
        "id": "view-in-github",
        "colab_type": "text"
      },
      "source": [
        "<a href=\"https://colab.research.google.com/github/RiseAboveAll/PYTORCH_Learning/blob/master/Data_Augmentation.ipynb\" target=\"_parent\"><img src=\"https://colab.research.google.com/assets/colab-badge.svg\" alt=\"Open In Colab\"/></a>"
      ]
    },
    {
      "cell_type": "markdown",
      "metadata": {
        "id": "dUU6ZWh2lD55",
        "colab_type": "text"
      },
      "source": [
        "## Data Augmentation \n",
        "\n",
        "```\n",
        "\n",
        "def image_augmentation_generator():\n",
        "  for x_batch,y_batch in zip(X_train,y_train):\n",
        "    x_batch=augment(x_batch)\n",
        "    yield x_batch,y_batch\n",
        "\n",
        "```\n",
        "\n",
        "\n"
      ]
    },
    {
      "cell_type": "markdown",
      "metadata": {
        "id": "R8uYXYAbmiBI",
        "colab_type": "text"
      },
      "source": [
        "## Batch Normalization\n",
        "\n",
        "- It is a layer used while training convolution network\n",
        "\n",
        "- After any particular layer , data can become not normalized, hence we can use BatchNormalization\n",
        "\n",
        "-  It acts as a Regularizer\n",
        "\n"
      ]
    },
    {
      "cell_type": "code",
      "metadata": {
        "id": "9EuZxE7joI1e",
        "colab_type": "code",
        "colab": {}
      },
      "source": [
        ""
      ],
      "execution_count": null,
      "outputs": []
    },
    {
      "cell_type": "code",
      "metadata": {
        "id": "ZkV9gge0iYkh",
        "colab_type": "code",
        "colab": {}
      },
      "source": [
        ""
      ],
      "execution_count": null,
      "outputs": []
    }
  ]
}