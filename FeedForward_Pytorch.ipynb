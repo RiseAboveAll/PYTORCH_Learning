{
  "nbformat": 4,
  "nbformat_minor": 0,
  "metadata": {
    "colab": {
      "name": "FeedForward-Pytorch.ipynb",
      "provenance": [],
      "collapsed_sections": [],
      "authorship_tag": "ABX9TyPP66TMURggCJDWWTXQfmBL",
      "include_colab_link": true
    },
    "kernelspec": {
      "name": "python3",
      "display_name": "Python 3"
    }
  },
  "cells": [
    {
      "cell_type": "markdown",
      "metadata": {
        "id": "view-in-github",
        "colab_type": "text"
      },
      "source": [
        "<a href=\"https://colab.research.google.com/github/RiseAboveAll/PYTORCH_Learning/blob/master/FeedForward_Pytorch.ipynb\" target=\"_parent\"><img src=\"https://colab.research.google.com/assets/colab-badge.svg\" alt=\"Open In Colab\"/></a>"
      ]
    },
    {
      "cell_type": "markdown",
      "metadata": {
        "id": "U1sK8QFHgwAJ",
        "colab_type": "text"
      },
      "source": [
        "# Deep Neural Network Introduction"
      ]
    },
    {
      "cell_type": "markdown",
      "metadata": {
        "id": "OM3oofMKg6qd",
        "colab_type": "text"
      },
      "source": [
        "**Mathematical Representation of Model:**\n",
        "\n",
        "```\n",
        "-  [x1 x2 1] . [w11 w12] = [[x1.w11 + x2.w21 + 1.w31] [x1.w21 + x2.w22 + 1.w32]]\n",
        "               [w21 w22]\n",
        "               [w31 w32]\n",
        "\n",
        "```\n",
        "Output of First Hidden Layer\n",
        "\n",
        "```\n",
        "-  [a,b]=[sigmoid([x1.w11 + x2.w21 + 1.w31]),sigmoid([x1.w21 + x2.w22 + 1.w32])]\n",
        "\n",
        "```\n",
        "\n",
        "This output is input to the next Hidden or Output Layer\n",
        "\n",
        "```\n",
        "          2nd-Layer Weight\n",
        "[a,b,1] . [w11] = sigmoid([a.w11 + b.w21 + 1.w31])\n",
        "          [w21]\n",
        "          [w31]\n",
        "\n",
        "```"
      ]
    },
    {
      "cell_type": "code",
      "metadata": {
        "id": "RHlI2MPIg5pX",
        "colab_type": "code",
        "colab": {}
      },
      "source": [
        ""
      ],
      "execution_count": null,
      "outputs": []
    },
    {
      "cell_type": "code",
      "metadata": {
        "id": "BxkMwXxzfgdc",
        "colab_type": "code",
        "colab": {}
      },
      "source": [
        "import torch\n",
        "from torch import nn\n",
        "import numpy as np\n",
        "import matplotlib.pyplot as plt\n",
        "from sklearn import datasets"
      ],
      "execution_count": 1,
      "outputs": []
    },
    {
      "cell_type": "markdown",
      "metadata": {
        "id": "L-agWbwdndJ4",
        "colab_type": "text"
      },
      "source": [
        "# Deep Neural Network"
      ]
    },
    {
      "cell_type": "markdown",
      "metadata": {
        "id": "k2ehkKjXoAJg",
        "colab_type": "text"
      },
      "source": [
        "## Creating a Data Set"
      ]
    },
    {
      "cell_type": "code",
      "metadata": {
        "id": "T8hF_teane7a",
        "colab_type": "code",
        "colab": {}
      },
      "source": [
        "n_pts=500\n",
        "\n",
        "#Importing Data Set, make_blob() creates the cluster of data points randomly centered around chosen centered point\n",
        "X,y=datasets.make_circles(n_samples=n_pts,random_state=123,noise=.1,factor=0.2 )\n",
        "def scatter_plot():\n",
        "  plt.scatter(X[y==0,0],X[y==0,1])\n",
        "  plt.scatter(X[y==1,0],X[y==1,1])"
      ],
      "execution_count": 2,
      "outputs": []
    },
    {
      "cell_type": "code",
      "metadata": {
        "id": "m03S1sR3nkEN",
        "colab_type": "code",
        "colab": {
          "base_uri": "https://localhost:8080/",
          "height": 266
        },
        "outputId": "ef0f2ada-5f32-43d2-f6b7-370fa490bd86"
      },
      "source": [
        "scatter_plot()"
      ],
      "execution_count": null,
      "outputs": [
        {
          "output_type": "display_data",
          "data": {
            "image/png": "[encoded data removed]",
            "text/plain": [
              "<Figure size 432x288 with 1 Axes>"
            ]
          },
          "metadata": {
            "tags": [],
            "needs_background": "light"
          }
        }
      ]
    },
    {
      "cell_type": "code",
      "metadata": {
        "id": "KsLZnKeZIpJ5",
        "colab_type": "code",
        "colab": {}
      },
      "source": [
        "torch.Tensor?"
      ],
      "execution_count": null,
      "outputs": []
    },
    {
      "cell_type": "code",
      "metadata": {
        "id": "ITlc7u8JY3xO",
        "colab_type": "code",
        "colab": {}
      },
      "source": [
        "#Convert numpy data to tensor\n",
        "X_data=torch.Tensor(X)\n",
        "y_data=torch.Tensor(y.reshape(n_pts,1))"
      ],
      "execution_count": 3,
      "outputs": []
    },
    {
      "cell_type": "code",
      "metadata": {
        "id": "GYLXgYu2wNNr",
        "colab_type": "code",
        "colab": {}
      },
      "source": [
        "class Model(nn.Module):\n",
        "  def __init__(self,input_size,H1,output_size):\n",
        "    super().__init__()\n",
        "    self.Linear = nn.Linear(input_size,H1)\n",
        "    self.Linear2=nn.Linear(H1,output_size)\n",
        "  def forward(self,x):\n",
        "    x=torch.sigmoid(self.Linear(x))\n",
        "    x=torch.sigmoid(self.Linear2(x))\n",
        "    return x\n",
        "  def pred(self,x):\n",
        "    pred=self.forward(x)\n",
        "    if pred >= 0.5:\n",
        "      return 1\n",
        "    else:\n",
        "      return 0\n"
      ],
      "execution_count": 89,
      "outputs": []
    },
    {
      "cell_type": "code",
      "metadata": {
        "id": "37kXqmZ9kHWw",
        "colab_type": "code",
        "colab": {
          "base_uri": "https://localhost:8080/",
          "height": 153
        },
        "outputId": "ac652ccb-5546-44b0-bfd6-3b33381eff43"
      },
      "source": [
        "torch.manual_seed(2)\n",
        "model=Model(2,4,1)\n",
        "print(list(model.parameters()))"
      ],
      "execution_count": 90,
      "outputs": [
        {
          "output_type": "stream",
          "text": [
            "[Parameter containing:\n",
            "tensor([[ 0.1622, -0.1683],\n",
            "        [ 0.1939, -0.0361],\n",
            "        [ 0.3021,  0.1683],\n",
            "        [-0.0813, -0.5717]], requires_grad=True), Parameter containing:\n",
            "tensor([ 0.1614, -0.6260,  0.0929,  0.0470], requires_grad=True), Parameter containing:\n",
            "tensor([[-0.1099,  0.4088,  0.0334,  0.2073]], requires_grad=True), Parameter containing:\n",
            "tensor([0.2116], requires_grad=True)]\n"
          ],
          "name": "stdout"
        }
      ]
    },
    {
      "cell_type": "code",
      "metadata": {
        "id": "WnMGcH8kk5l-",
        "colab_type": "code",
        "colab": {}
      },
      "source": [
        "criterion=nn.BCELoss( )\n",
        "optimizer=torch.optim.Adam(model.parameters(),lr=.01)"
      ],
      "execution_count": 86,
      "outputs": []
    },
    {
      "cell_type": "code",
      "metadata": {
        "id": "iuitgHMXF0XD",
        "colab_type": "code",
        "colab": {
          "base_uri": "https://localhost:8080/",
          "height": 697
        },
        "outputId": "8a3a6e0a-160e-41c9-cb90-9a93b55ecaba"
      },
      "source": [
        "epochs=1000\n",
        "losses=[]\n",
        "for i in range(epochs):\n",
        "  y_pred=model.forward(X_data)\n",
        "  loss=criterion(y_pred,y_data)\n",
        "  if (i+1)%25==0:\n",
        "    print(\"epochs :\", i, \"Loss :\", loss.item())\n",
        "  losses.append(loss.item())\n",
        "  optimizer.zero_grad()\n",
        "  loss.backward()\n",
        "  optimizer.step()\n",
        "\n"
      ],
      "execution_count": 87,
      "outputs": [
        {
          "output_type": "stream",
          "text": [
            "epochs : 24 Loss : 0.6939950585365295\n",
            "epochs : 49 Loss : 0.6931254863739014\n",
            "epochs : 74 Loss : 0.6926693320274353\n",
            "epochs : 99 Loss : 0.6905523538589478\n",
            "epochs : 124 Loss : 0.6822648644447327\n",
            "epochs : 149 Loss : 0.6645609736442566\n",
            "epochs : 174 Loss : 0.6355495452880859\n",
            "epochs : 199 Loss : 0.5843154788017273\n",
            "epochs : 224 Loss : 0.5217462182044983\n",
            "epochs : 249 Loss : 0.4697740077972412\n",
            "epochs : 274 Loss : 0.43216291069984436\n",
            "epochs : 299 Loss : 0.4049542546272278\n",
            "epochs : 324 Loss : 0.38438281416893005\n",
            "epochs : 349 Loss : 0.36745238304138184\n",
            "epochs : 374 Loss : 0.35056233406066895\n",
            "epochs : 399 Loss : 0.3290361166000366\n",
            "epochs : 424 Loss : 0.3006575405597687\n",
            "epochs : 449 Loss : 0.2668645977973938\n",
            "epochs : 474 Loss : 0.23201481997966766\n",
            "epochs : 499 Loss : 0.20069849491119385\n",
            "epochs : 524 Loss : 0.17434917390346527\n",
            "epochs : 549 Loss : 0.15239404141902924\n",
            "epochs : 574 Loss : 0.1330554485321045\n",
            "epochs : 599 Loss : 0.11464504152536392\n",
            "epochs : 624 Loss : 0.09784934669733047\n",
            "epochs : 649 Loss : 0.08461441844701767\n",
            "epochs : 674 Loss : 0.07470927387475967\n",
            "epochs : 699 Loss : 0.06716472655534744\n",
            "epochs : 724 Loss : 0.06122312322258949\n",
            "epochs : 749 Loss : 0.05639524385333061\n",
            "epochs : 774 Loss : 0.0523684099316597\n",
            "epochs : 799 Loss : 0.04893709719181061\n",
            "epochs : 824 Loss : 0.04596181958913803\n",
            "epochs : 849 Loss : 0.0433448888361454\n",
            "epochs : 874 Loss : 0.041016027331352234\n",
            "epochs : 899 Loss : 0.03892328590154648\n",
            "epochs : 924 Loss : 0.037027500569820404\n",
            "epochs : 949 Loss : 0.03529845178127289\n",
            "epochs : 974 Loss : 0.03371237963438034\n",
            "epochs : 999 Loss : 0.032250311225652695\n"
          ],
          "name": "stdout"
        }
      ]
    },
    {
      "cell_type": "code",
      "metadata": {
        "id": "_CvxuLY_H633",
        "colab_type": "code",
        "colab": {
          "base_uri": "https://localhost:8080/",
          "height": 296
        },
        "outputId": "a95f0739-a4ff-4d28-90c1-dcbe77138192"
      },
      "source": [
        "plt.plot(range(epochs),losses)\n",
        "plt.ylabel('Loss')\n",
        "plt.xlabel('Epochs')"
      ],
      "execution_count": 88,
      "outputs": [
        {
          "output_type": "execute_result",
          "data": {
            "text/plain": [
              "Text(0.5, 0, 'Epochs')"
            ]
          },
          "metadata": {
            "tags": []
          },
          "execution_count": 88
        },
        {
          "output_type": "display_data",
          "data": {
            "image/png": "[encoded data removed]",
            "text/plain": [
              "<Figure size 432x288 with 1 Axes>"
            ]
          },
          "metadata": {
            "tags": [],
            "needs_background": "light"
          }
        }
      ]
    },
    {
      "cell_type": "markdown",
      "metadata": {
        "id": "95iJHp5zEp_F",
        "colab_type": "text"
      },
      "source": [
        "**In the above graph we can see that there are lags in the losses , hence it indicates that learning rate passed in might be too small, hence we need to increase it to make loss curve more smoother.**"
      ]
    },
    {
      "cell_type": "code",
      "metadata": {
        "id": "1tu79VVoKXet",
        "colab_type": "code",
        "colab": {}
      },
      "source": [
        "criterion=nn.BCELoss( )\n",
        "optimizer=torch.optim.Adam(model.parameters(),lr=.1)"
      ],
      "execution_count": 91,
      "outputs": []
    },
    {
      "cell_type": "code",
      "metadata": {
        "id": "A4pqKXndg1nc",
        "colab_type": "code",
        "colab": {
          "base_uri": "https://localhost:8080/",
          "height": 697
        },
        "outputId": "94be8682-e361-4956-e30e-e35ac4a6a624"
      },
      "source": [
        "epochs=1000\n",
        "losses=[]\n",
        "for i in range(epochs):\n",
        "  y_pred=model.forward(X_data)\n",
        "  loss=criterion(y_pred,y_data)\n",
        "  if (i+1)%25==0:\n",
        "    print(\"epochs :\", i, \"Loss :\", loss.item())\n",
        "  losses.append(loss.item())\n",
        "  optimizer.zero_grad()\n",
        "  loss.backward()\n",
        "  optimizer.step()\n",
        "\n"
      ],
      "execution_count": 92,
      "outputs": [
        {
          "output_type": "stream",
          "text": [
            "epochs : 24 Loss : 0.6653285622596741\n",
            "epochs : 49 Loss : 0.4270012080669403\n",
            "epochs : 74 Loss : 0.23607683181762695\n",
            "epochs : 99 Loss : 0.07403949648141861\n",
            "epochs : 124 Loss : 0.03875090181827545\n",
            "epochs : 149 Loss : 0.02716524712741375\n",
            "epochs : 174 Loss : 0.021129809319972992\n",
            "epochs : 199 Loss : 0.017259638756513596\n",
            "epochs : 224 Loss : 0.014526033774018288\n",
            "epochs : 249 Loss : 0.012480225414037704\n",
            "epochs : 274 Loss : 0.010887730866670609\n",
            "epochs : 299 Loss : 0.009611702524125576\n",
            "epochs : 324 Loss : 0.008565886877477169\n",
            "epochs : 349 Loss : 0.007692829705774784\n",
            "epochs : 374 Loss : 0.006953039206564426\n",
            "epochs : 399 Loss : 0.0063189733773469925\n",
            "epochs : 424 Loss : 0.005771162454038858\n",
            "epochs : 449 Loss : 0.005295276176184416\n",
            "epochs : 474 Loss : 0.004880106542259455\n",
            "epochs : 499 Loss : 0.004516413901001215\n",
            "epochs : 524 Loss : 0.004196360241621733\n",
            "epochs : 549 Loss : 0.003913297783583403\n",
            "epochs : 574 Loss : 0.0036616413854062557\n",
            "epochs : 599 Loss : 0.003436725353822112\n",
            "epochs : 624 Loss : 0.0032346416264772415\n",
            "epochs : 649 Loss : 0.003052159445360303\n",
            "epochs : 674 Loss : 0.0028865747153759003\n",
            "epochs : 699 Loss : 0.002735655289143324\n",
            "epochs : 724 Loss : 0.002597526414319873\n",
            "epochs : 749 Loss : 0.0024706204421818256\n",
            "epochs : 774 Loss : 0.0023536242078989744\n",
            "epochs : 799 Loss : 0.0022454189602285624\n",
            "epochs : 824 Loss : 0.0021450617350637913\n",
            "epochs : 849 Loss : 0.002051726682111621\n",
            "epochs : 874 Loss : 0.0019647141452878714\n",
            "epochs : 899 Loss : 0.0018834210932254791\n",
            "epochs : 924 Loss : 0.0018073044484481215\n",
            "epochs : 949 Loss : 0.0017359086778014898\n",
            "epochs : 974 Loss : 0.0016688142204657197\n",
            "epochs : 999 Loss : 0.0016056547174230218\n"
          ],
          "name": "stdout"
        }
      ]
    },
    {
      "cell_type": "code",
      "metadata": {
        "id": "8lM6kg2iVved",
        "colab_type": "code",
        "colab": {
          "base_uri": "https://localhost:8080/",
          "height": 296
        },
        "outputId": "fb71ab03-56b0-4582-cef7-18b2ec9b6183"
      },
      "source": [
        "plt.plot(range(epochs),losses)\n",
        "plt.ylabel('Loss')\n",
        "plt.xlabel('Epochs')"
      ],
      "execution_count": 93,
      "outputs": [
        {
          "output_type": "execute_result",
          "data": {
            "text/plain": [
              "Text(0.5, 0, 'Epochs')"
            ]
          },
          "metadata": {
            "tags": []
          },
          "execution_count": 93
        },
        {
          "output_type": "display_data",
          "data": {
            "image/png": "[encoded data removed]",
            "text/plain": [
              "<Figure size 432x288 with 1 Axes>"
            ]
          },
          "metadata": {
            "tags": [],
            "needs_background": "light"
          }
        }
      ]
    },
    {
      "cell_type": "code",
      "metadata": {
        "id": "0n7OMmL6FN86",
        "colab_type": "code",
        "colab": {}
      },
      "source": [
        ""
      ],
      "execution_count": null,
      "outputs": []
    }
  ]
}