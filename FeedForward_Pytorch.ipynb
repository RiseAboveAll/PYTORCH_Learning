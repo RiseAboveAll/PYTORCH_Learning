{
  "nbformat": 4,
  "nbformat_minor": 0,
  "metadata": {
    "colab": {
      "name": "FeedForward-Pytorch.ipynb",
      "provenance": [],
      "collapsed_sections": [],
      "authorship_tag": "ABX9TyMRfGhwz2nCV1uysAJHp+R4",
      "include_colab_link": true
    },
    "kernelspec": {
      "name": "python3",
      "display_name": "Python 3"
    },
    "accelerator": "GPU"
  },
  "cells": [
    {
      "cell_type": "markdown",
      "metadata": {
        "id": "view-in-github",
        "colab_type": "text"
      },
      "source": [
        "<a href=\"https://colab.research.google.com/github/RiseAboveAll/PYTORCH_Learning/blob/master/FeedForward_Pytorch.ipynb\" target=\"_parent\"><img src=\"https://colab.research.google.com/assets/colab-badge.svg\" alt=\"Open In Colab\"/></a>"
      ]
    },
    {
      "cell_type": "markdown",
      "metadata": {
        "id": "U1sK8QFHgwAJ",
        "colab_type": "text"
      },
      "source": [
        "# Deep Neural Network Introduction"
      ]
    },
    {
      "cell_type": "markdown",
      "metadata": {
        "id": "OM3oofMKg6qd",
        "colab_type": "text"
      },
      "source": [
        "**Mathematical Representation of Model:**\n",
        "\n",
        "```\n",
        "-  [x1 x2 1] . [w11 w12] = [[x1.w11 + x2.w21 + 1.w31] [x1.w21 + x2.w22 + 1.w32]]\n",
        "               [w21 w22]\n",
        "               [w31 w32]\n",
        "\n",
        "```\n",
        "Output of First Hidden Layer\n",
        "\n",
        "```\n",
        "-  [a,b]=[sigmoid([x1.w11 + x2.w21 + 1.w31]),sigmoid([x1.w21 + x2.w22 + 1.w32])]\n",
        "\n",
        "```\n",
        "\n",
        "This output is input to the next Hidden or Output Layer\n",
        "\n",
        "```\n",
        "          2nd-Layer Weight\n",
        "[a,b,1] . [w11] = sigmoid([a.w11 + b.w21 + 1.w31])\n",
        "          [w21]\n",
        "          [w31]\n",
        "\n",
        "```"
      ]
    },
    {
      "cell_type": "code",
      "metadata": {
        "id": "RHlI2MPIg5pX",
        "colab_type": "code",
        "colab": {}
      },
      "source": [
        ""
      ],
      "execution_count": null,
      "outputs": []
    },
    {
      "cell_type": "code",
      "metadata": {
        "id": "BxkMwXxzfgdc",
        "colab_type": "code",
        "colab": {}
      },
      "source": [
        "import torch\n",
        "from torch import nn\n",
        "import numpy as np\n",
        "import matplotlib.pyplot as plt\n",
        "from sklearn import datasets"
      ],
      "execution_count": 1,
      "outputs": []
    },
    {
      "cell_type": "markdown",
      "metadata": {
        "id": "L-agWbwdndJ4",
        "colab_type": "text"
      },
      "source": [
        "# Deep Neural Network"
      ]
    },
    {
      "cell_type": "markdown",
      "metadata": {
        "id": "k2ehkKjXoAJg",
        "colab_type": "text"
      },
      "source": [
        "## Creating a Data Set"
      ]
    },
    {
      "cell_type": "code",
      "metadata": {
        "id": "T8hF_teane7a",
        "colab_type": "code",
        "colab": {}
      },
      "source": [
        "n_pts=500\n",
        "\n",
        "#Importing Data Set, make_blob() creates the cluster of data points randomly centered around chosen centered point\n",
        "X,y=datasets.make_circles(n_samples=n_pts,random_state=123,noise=.1,factor=0.2 )\n",
        "def scatter_plot():\n",
        "  plt.scatter(X[y==0,0],X[y==0,1])\n",
        "  plt.scatter(X[y==1,0],X[y==1,1])"
      ],
      "execution_count": 2,
      "outputs": []
    },
    {
      "cell_type": "code",
      "metadata": {
        "id": "m03S1sR3nkEN",
        "colab_type": "code",
        "colab": {
          "base_uri": "https://localhost:8080/",
          "height": 265
        },
        "outputId": "36455734-5d71-4136-b25c-5d4be18fba5f"
      },
      "source": [
        "scatter_plot()"
      ],
      "execution_count": 3,
      "outputs": [
        {
          "output_type": "display_data",
          "data": {
            "image/png": "[encoded data removed]",
            "text/plain": [
              "<Figure size 432x288 with 1 Axes>"
            ]
          },
          "metadata": {
            "tags": [],
            "needs_background": "light"
          }
        }
      ]
    },
    {
      "cell_type": "code",
      "metadata": {
        "id": "KsLZnKeZIpJ5",
        "colab_type": "code",
        "colab": {}
      },
      "source": [
        "torch.Tensor?"
      ],
      "execution_count": 4,
      "outputs": []
    },
    {
      "cell_type": "code",
      "metadata": {
        "id": "ITlc7u8JY3xO",
        "colab_type": "code",
        "colab": {}
      },
      "source": [
        "#Convert numpy data to tensor\n",
        "X_data=torch.Tensor(X)\n",
        "y_data=torch.Tensor(y.reshape(n_pts,1))"
      ],
      "execution_count": 5,
      "outputs": []
    },
    {
      "cell_type": "code",
      "metadata": {
        "id": "GYLXgYu2wNNr",
        "colab_type": "code",
        "colab": {}
      },
      "source": [
        "class Model(nn.Module):\n",
        "  def __init__(self,input_size,H1,output_size):\n",
        "    super().__init__()\n",
        "    self.Linear = nn.Linear(input_size,H1)\n",
        "    self.Linear2=nn.Linear(H1,output_size)\n",
        "  def forward(self,x):\n",
        "    x=torch.sigmoid(self.Linear(x))\n",
        "    x=torch.sigmoid(self.Linear2(x))\n",
        "    return x\n",
        "  def pred(self,x):\n",
        "    pred=self.forward(x)\n",
        "    if pred >= 0.5:\n",
        "      return 1\n",
        "    else:\n",
        "      return 0\n"
      ],
      "execution_count": 6,
      "outputs": []
    },
    {
      "cell_type": "code",
      "metadata": {
        "id": "37kXqmZ9kHWw",
        "colab_type": "code",
        "colab": {
          "base_uri": "https://localhost:8080/",
          "height": 163
        },
        "outputId": "75591196-29d2-473c-fe34-521cd30edd4a"
      },
      "source": [
        "torch.manual_seed(2)\n",
        "model=Model(2,4,1)\n",
        "print(list(model.parameters()))"
      ],
      "execution_count": 12,
      "outputs": [
        {
          "output_type": "stream",
          "text": [
            "[Parameter containing:\n",
            "tensor([[ 0.1622, -0.1683],\n",
            "        [ 0.1939, -0.0361],\n",
            "        [ 0.3021,  0.1683],\n",
            "        [-0.0813, -0.5717]], requires_grad=True), Parameter containing:\n",
            "tensor([ 0.1614, -0.6260,  0.0929,  0.0470], requires_grad=True), Parameter containing:\n",
            "tensor([[-0.1099,  0.4088,  0.0334,  0.2073]], requires_grad=True), Parameter containing:\n",
            "tensor([0.2116], requires_grad=True)]\n"
          ],
          "name": "stdout"
        }
      ]
    },
    {
      "cell_type": "code",
      "metadata": {
        "id": "WnMGcH8kk5l-",
        "colab_type": "code",
        "colab": {}
      },
      "source": [
        "criterion=nn.BCELoss( )\n",
        "optimizer=torch.optim.Adam(model.parameters(),lr=.01)"
      ],
      "execution_count": 13,
      "outputs": []
    },
    {
      "cell_type": "code",
      "metadata": {
        "id": "iuitgHMXF0XD",
        "colab_type": "code",
        "colab": {
          "base_uri": "https://localhost:8080/",
          "height": 727
        },
        "outputId": "a04c08e5-0f1a-46c1-90e8-2a33278d8e58"
      },
      "source": [
        "epochs=1000\n",
        "losses=[]\n",
        "for i in range(epochs):\n",
        "  y_pred=model.forward(X_data)\n",
        "  loss=criterion(y_pred,y_data)\n",
        "  if (i+1)%25==0:\n",
        "    print(\"epochs :\", i, \"Loss :\", loss.item())\n",
        "  losses.append(loss.item())\n",
        "  optimizer.zero_grad()\n",
        "  loss.backward()\n",
        "  optimizer.step()\n",
        "\n"
      ],
      "execution_count": 14,
      "outputs": [
        {
          "output_type": "stream",
          "text": [
            "epochs : 24 Loss : 0.6939950585365295\n",
            "epochs : 49 Loss : 0.6931254863739014\n",
            "epochs : 74 Loss : 0.6926693320274353\n",
            "epochs : 99 Loss : 0.6905523538589478\n",
            "epochs : 124 Loss : 0.6822648644447327\n",
            "epochs : 149 Loss : 0.6645609736442566\n",
            "epochs : 174 Loss : 0.6355495452880859\n",
            "epochs : 199 Loss : 0.5843154788017273\n",
            "epochs : 224 Loss : 0.5217462182044983\n",
            "epochs : 249 Loss : 0.4697740375995636\n",
            "epochs : 274 Loss : 0.43216291069984436\n",
            "epochs : 299 Loss : 0.4049542546272278\n",
            "epochs : 324 Loss : 0.38438287377357483\n",
            "epochs : 349 Loss : 0.3674524426460266\n",
            "epochs : 374 Loss : 0.35056236386299133\n",
            "epochs : 399 Loss : 0.329036146402359\n",
            "epochs : 424 Loss : 0.30065762996673584\n",
            "epochs : 449 Loss : 0.26686468720436096\n",
            "epochs : 474 Loss : 0.23201490938663483\n",
            "epochs : 499 Loss : 0.20069856941699982\n",
            "epochs : 524 Loss : 0.17434927821159363\n",
            "epochs : 549 Loss : 0.1523941159248352\n",
            "epochs : 574 Loss : 0.13305553793907166\n",
            "epochs : 599 Loss : 0.11464519798755646\n",
            "epochs : 624 Loss : 0.09784946590662003\n",
            "epochs : 649 Loss : 0.08461450040340424\n",
            "epochs : 674 Loss : 0.07470933347940445\n",
            "epochs : 699 Loss : 0.06716477125883102\n",
            "epochs : 724 Loss : 0.061223145574331284\n",
            "epochs : 749 Loss : 0.05639525130391121\n",
            "epochs : 774 Loss : 0.052368421107530594\n",
            "epochs : 799 Loss : 0.0489371120929718\n",
            "epochs : 824 Loss : 0.045961830765008926\n",
            "epochs : 849 Loss : 0.04334491118788719\n",
            "epochs : 874 Loss : 0.041016027331352234\n",
            "epochs : 899 Loss : 0.03892330080270767\n",
            "epochs : 924 Loss : 0.037027508020401\n",
            "epochs : 949 Loss : 0.035298459231853485\n",
            "epochs : 974 Loss : 0.03371238335967064\n",
            "epochs : 999 Loss : 0.03225031495094299\n"
          ],
          "name": "stdout"
        }
      ]
    },
    {
      "cell_type": "code",
      "metadata": {
        "id": "_CvxuLY_H633",
        "colab_type": "code",
        "colab": {
          "base_uri": "https://localhost:8080/",
          "height": 296
        },
        "outputId": "27b1266c-b2ff-4517-dd4c-3616389f6f6e"
      },
      "source": [
        "plt.plot(range(epochs),losses)\n",
        "plt.ylabel('Loss')\n",
        "plt.xlabel('Epochs')"
      ],
      "execution_count": 15,
      "outputs": [
        {
          "output_type": "execute_result",
          "data": {
            "text/plain": [
              "Text(0.5, 0, 'Epochs')"
            ]
          },
          "metadata": {
            "tags": []
          },
          "execution_count": 15
        },
        {
          "output_type": "display_data",
          "data": {
            "image/png": "[encoded data removed]",
            "text/plain": [
              "<Figure size 432x288 with 1 Axes>"
            ]
          },
          "metadata": {
            "tags": [],
            "needs_background": "light"
          }
        }
      ]
    },
    {
      "cell_type": "markdown",
      "metadata": {
        "id": "95iJHp5zEp_F",
        "colab_type": "text"
      },
      "source": [
        "**In the above graph we can see that there are lags in the losses , hence it indicates that learning rate passed in might be too small, hence we need to increase it to make loss curve more smoother.**"
      ]
    },
    {
      "cell_type": "code",
      "metadata": {
        "id": "lXfVgWCAfROy",
        "colab_type": "code",
        "colab": {
          "base_uri": "https://localhost:8080/",
          "height": 158
        },
        "outputId": "f2d82bf1-f5df-48d8-a2ee-c2fd883ff806"
      },
      "source": [
        "torch.manual_seed(2)\n",
        "model=Model(2,4,1)\n",
        "print(list(model.parameters()))"
      ],
      "execution_count": 34,
      "outputs": [
        {
          "output_type": "stream",
          "text": [
            "[Parameter containing:\n",
            "tensor([[ 0.1622, -0.1683],\n",
            "        [ 0.1939, -0.0361],\n",
            "        [ 0.3021,  0.1683],\n",
            "        [-0.0813, -0.5717]], requires_grad=True), Parameter containing:\n",
            "tensor([ 0.1614, -0.6260,  0.0929,  0.0470], requires_grad=True), Parameter containing:\n",
            "tensor([[-0.1099,  0.4088,  0.0334,  0.2073]], requires_grad=True), Parameter containing:\n",
            "tensor([0.2116], requires_grad=True)]\n"
          ],
          "name": "stdout"
        }
      ]
    },
    {
      "cell_type": "code",
      "metadata": {
        "id": "1tu79VVoKXet",
        "colab_type": "code",
        "colab": {}
      },
      "source": [
        "criterion=nn.BCELoss( )\n",
        "optimizer=torch.optim.Adam(model.parameters(),lr=.1)"
      ],
      "execution_count": 35,
      "outputs": []
    },
    {
      "cell_type": "code",
      "metadata": {
        "id": "A4pqKXndg1nc",
        "colab_type": "code",
        "colab": {
          "base_uri": "https://localhost:8080/",
          "height": 727
        },
        "outputId": "05556f2c-b877-4f1c-fc25-8b22e284258e"
      },
      "source": [
        "epochs=1000\n",
        "losses=[]\n",
        "for i in range(epochs):\n",
        "  y_pred=model.forward(X_data)\n",
        "  loss=criterion(y_pred,y_data)\n",
        "  if (i+1)%25==0:\n",
        "    print(\"epochs :\", i, \"Loss :\", loss.item())\n",
        "  losses.append(loss.item())\n",
        "  optimizer.zero_grad()\n",
        "  loss.backward()\n",
        "  optimizer.step()\n",
        "\n"
      ],
      "execution_count": 36,
      "outputs": [
        {
          "output_type": "stream",
          "text": [
            "epochs : 24 Loss : 0.6653285622596741\n",
            "epochs : 49 Loss : 0.4270012080669403\n",
            "epochs : 74 Loss : 0.2360769808292389\n",
            "epochs : 99 Loss : 0.07403954863548279\n",
            "epochs : 124 Loss : 0.03875089809298515\n",
            "epochs : 149 Loss : 0.02716524340212345\n",
            "epochs : 174 Loss : 0.021129800006747246\n",
            "epochs : 199 Loss : 0.017259638756513596\n",
            "epochs : 224 Loss : 0.014526035636663437\n",
            "epochs : 249 Loss : 0.012480225414037704\n",
            "epochs : 274 Loss : 0.010887730866670609\n",
            "epochs : 299 Loss : 0.009611702524125576\n",
            "epochs : 324 Loss : 0.008565888740122318\n",
            "epochs : 349 Loss : 0.007692829240113497\n",
            "epochs : 374 Loss : 0.006953040603548288\n",
            "epochs : 399 Loss : 0.006318974774330854\n",
            "epochs : 424 Loss : 0.005771162454038858\n",
            "epochs : 449 Loss : 0.005295274779200554\n",
            "epochs : 474 Loss : 0.004880106076598167\n",
            "epochs : 499 Loss : 0.004516412038356066\n",
            "epochs : 524 Loss : 0.004196359775960445\n",
            "epochs : 549 Loss : 0.003913298714905977\n",
            "epochs : 574 Loss : 0.003661641152575612\n",
            "epochs : 599 Loss : 0.0034367255866527557\n",
            "epochs : 624 Loss : 0.0032346423249691725\n",
            "epochs : 649 Loss : 0.003052158746868372\n",
            "epochs : 674 Loss : 0.0028865751810371876\n",
            "epochs : 699 Loss : 0.0027356543578207493\n",
            "epochs : 724 Loss : 0.002597526181489229\n",
            "epochs : 749 Loss : 0.0024706197436898947\n",
            "epochs : 774 Loss : 0.0023536256048828363\n",
            "epochs : 799 Loss : 0.0022454189602285624\n",
            "epochs : 824 Loss : 0.0021450601052492857\n",
            "epochs : 849 Loss : 0.0020517269149422646\n",
            "epochs : 874 Loss : 0.001964713679626584\n",
            "epochs : 899 Loss : 0.0018834213260561228\n",
            "epochs : 924 Loss : 0.001807304215617478\n",
            "epochs : 949 Loss : 0.001735908561386168\n",
            "epochs : 974 Loss : 0.0016688125906512141\n",
            "epochs : 999 Loss : 0.0016056535532698035\n"
          ],
          "name": "stdout"
        }
      ]
    },
    {
      "cell_type": "code",
      "metadata": {
        "id": "8lM6kg2iVved",
        "colab_type": "code",
        "colab": {
          "base_uri": "https://localhost:8080/",
          "height": 296
        },
        "outputId": "a60e0fc8-a4b4-48a0-8a6c-1693209e0b36"
      },
      "source": [
        "plt.plot(range(epochs),losses)\n",
        "plt.ylabel('Loss')\n",
        "plt.xlabel('Epochs')"
      ],
      "execution_count": 37,
      "outputs": [
        {
          "output_type": "execute_result",
          "data": {
            "text/plain": [
              "Text(0.5, 0, 'Epochs')"
            ]
          },
          "metadata": {
            "tags": []
          },
          "execution_count": 37
        },
        {
          "output_type": "display_data",
          "data": {
            "image/png": "[encoded data removed]",
            "text/plain": [
              "<Figure size 432x288 with 1 Axes>"
            ]
          },
          "metadata": {
            "tags": [],
            "needs_background": "light"
          }
        }
      ]
    },
    {
      "cell_type": "markdown",
      "metadata": {
        "id": "VwLmtQGnfT9w",
        "colab_type": "text"
      },
      "source": [
        "## Testing Model"
      ]
    },
    {
      "cell_type": "code",
      "metadata": {
        "id": "0n7OMmL6FN86",
        "colab_type": "code",
        "colab": {}
      },
      "source": [
        "def plot_decision_boundary(x,y):\n",
        "  x_span=np.linspace(np.min(x[:,0]),np.max(x[:,0]))\n",
        "  y_span=np.linspace(np.min(x[:,1]),np.max(x[:,1]))\n",
        "  xx,yy=np.meshgrid(x_span,y_span)\n",
        "  grid=torch.Tensor(np.c_[xx.ravel(),yy.ravel()])\n",
        "  pred_func=model.forward(grid)\n",
        "  z=pred_func.view(xx.shape).detach().numpy()\n",
        "  plt.contour(xx,yy,z,colors='black')"
      ],
      "execution_count": 40,
      "outputs": []
    },
    {
      "cell_type": "code",
      "metadata": {
        "id": "HKrXHoJjgPgq",
        "colab_type": "code",
        "colab": {
          "base_uri": "https://localhost:8080/",
          "height": 264
        },
        "outputId": "aee24e1b-0ada-4ca3-f4f2-22983e887647"
      },
      "source": [
        "plot_decision_boundary(X,y)\n",
        "scatter_plot()"
      ],
      "execution_count": 41,
      "outputs": [
        {
          "output_type": "display_data",
          "data": {
            "image/png": "[encoded data removed]",
            "text/plain": [
              "<Figure size 432x288 with 1 Axes>"
            ]
          },
          "metadata": {
            "tags": [],
            "needs_background": "light"
          }
        }
      ]
    },
    {
      "cell_type": "code",
      "metadata": {
        "id": "kReX_XqIgVN3",
        "colab_type": "code",
        "colab": {}
      },
      "source": [
        "plt.contour?"
      ],
      "execution_count": 31,
      "outputs": []
    },
    {
      "cell_type": "code",
      "metadata": {
        "id": "YW9j8mpyhq33",
        "colab_type": "code",
        "colab": {}
      },
      "source": [
        ""
      ],
      "execution_count": null,
      "outputs": []
    }
  ]
}