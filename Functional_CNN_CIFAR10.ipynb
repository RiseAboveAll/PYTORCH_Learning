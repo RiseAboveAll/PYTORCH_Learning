{
  "nbformat": 4,
  "nbformat_minor": 0,
  "metadata": {
    "colab": {
      "name": "Functional-CNN-CIFAR10.ipynb",
      "provenance": [],
      "authorship_tag": "ABX9TyMnUhz4Wg0rqWXLqEcBl2n/",
      "include_colab_link": true
    },
    "kernelspec": {
      "name": "python3",
      "display_name": "Python 3"
    },
    "accelerator": "GPU",
    "widgets": {
      "application/vnd.jupyter.widget-state+json": {
        "8ea00f13a7ef428783ffc33eb80509ff": {
          "model_module": "@jupyter-widgets/controls",
          "model_name": "HBoxModel",
          "state": {
            "_view_name": "HBoxView",
            "_dom_classes": [],
            "_model_name": "HBoxModel",
            "_view_module": "@jupyter-widgets/controls",
            "_model_module_version": "1.5.0",
            "_view_count": null,
            "_view_module_version": "1.5.0",
            "box_style": "",
            "layout": "IPY_MODEL_58cafcd7900c4744aeda452534b04bf7",
            "_model_module": "@jupyter-widgets/controls",
            "children": [
              "IPY_MODEL_8097bff3d4ed4dfc82e15e9ee355da22",
              "IPY_MODEL_b8cb121b20b34df3be2ab538eb5052c1"
            ]
          }
        },
        "58cafcd7900c4744aeda452534b04bf7": {
          "model_module": "@jupyter-widgets/base",
          "model_name": "LayoutModel",
          "state": {
            "_view_name": "LayoutView",
            "grid_template_rows": null,
            "right": null,
            "justify_content": null,
            "_view_module": "@jupyter-widgets/base",
            "overflow": null,
            "_model_module_version": "1.2.0",
            "_view_count": null,
            "flex_flow": null,
            "width": null,
            "min_width": null,
            "border": null,
            "align_items": null,
            "bottom": null,
            "_model_module": "@jupyter-widgets/base",
            "top": null,
            "grid_column": null,
            "overflow_y": null,
            "overflow_x": null,
            "grid_auto_flow": null,
            "grid_area": null,
            "grid_template_columns": null,
            "flex": null,
            "_model_name": "LayoutModel",
            "justify_items": null,
            "grid_row": null,
            "max_height": null,
            "align_content": null,
            "visibility": null,
            "align_self": null,
            "height": null,
            "min_height": null,
            "padding": null,
            "grid_auto_rows": null,
            "grid_gap": null,
            "max_width": null,
            "order": null,
            "_view_module_version": "1.2.0",
            "grid_template_areas": null,
            "object_position": null,
            "object_fit": null,
            "grid_auto_columns": null,
            "margin": null,
            "display": null,
            "left": null
          }
        },
        "8097bff3d4ed4dfc82e15e9ee355da22": {
          "model_module": "@jupyter-widgets/controls",
          "model_name": "FloatProgressModel",
          "state": {
            "_view_name": "ProgressView",
            "style": "IPY_MODEL_c5d68b39e5b542f5ba369b51b04b1860",
            "_dom_classes": [],
            "description": "",
            "_model_name": "FloatProgressModel",
            "bar_style": "info",
            "max": 1,
            "_view_module": "@jupyter-widgets/controls",
            "_model_module_version": "1.5.0",
            "value": 1,
            "_view_count": null,
            "_view_module_version": "1.5.0",
            "orientation": "horizontal",
            "min": 0,
            "description_tooltip": null,
            "_model_module": "@jupyter-widgets/controls",
            "layout": "IPY_MODEL_80ed52fb365d453da3e8083f03612aa3"
          }
        },
        "b8cb121b20b34df3be2ab538eb5052c1": {
          "model_module": "@jupyter-widgets/controls",
          "model_name": "HTMLModel",
          "state": {
            "_view_name": "HTMLView",
            "style": "IPY_MODEL_d1daaa2fca064ad68b4ad711099c9177",
            "_dom_classes": [],
            "description": "",
            "_model_name": "HTMLModel",
            "placeholder": "​",
            "_view_module": "@jupyter-widgets/controls",
            "_model_module_version": "1.5.0",
            "value": " 170500096/? [00:20&lt;00:00, 51298618.83it/s]",
            "_view_count": null,
            "_view_module_version": "1.5.0",
            "description_tooltip": null,
            "_model_module": "@jupyter-widgets/controls",
            "layout": "IPY_MODEL_ba07d01557314258b39dd447498a88f0"
          }
        },
        "c5d68b39e5b542f5ba369b51b04b1860": {
          "model_module": "@jupyter-widgets/controls",
          "model_name": "ProgressStyleModel",
          "state": {
            "_view_name": "StyleView",
            "_model_name": "ProgressStyleModel",
            "description_width": "initial",
            "_view_module": "@jupyter-widgets/base",
            "_model_module_version": "1.5.0",
            "_view_count": null,
            "_view_module_version": "1.2.0",
            "bar_color": null,
            "_model_module": "@jupyter-widgets/controls"
          }
        },
        "80ed52fb365d453da3e8083f03612aa3": {
          "model_module": "@jupyter-widgets/base",
          "model_name": "LayoutModel",
          "state": {
            "_view_name": "LayoutView",
            "grid_template_rows": null,
            "right": null,
            "justify_content": null,
            "_view_module": "@jupyter-widgets/base",
            "overflow": null,
            "_model_module_version": "1.2.0",
            "_view_count": null,
            "flex_flow": null,
            "width": null,
            "min_width": null,
            "border": null,
            "align_items": null,
            "bottom": null,
            "_model_module": "@jupyter-widgets/base",
            "top": null,
            "grid_column": null,
            "overflow_y": null,
            "overflow_x": null,
            "grid_auto_flow": null,
            "grid_area": null,
            "grid_template_columns": null,
            "flex": null,
            "_model_name": "LayoutModel",
            "justify_items": null,
            "grid_row": null,
            "max_height": null,
            "align_content": null,
            "visibility": null,
            "align_self": null,
            "height": null,
            "min_height": null,
            "padding": null,
            "grid_auto_rows": null,
            "grid_gap": null,
            "max_width": null,
            "order": null,
            "_view_module_version": "1.2.0",
            "grid_template_areas": null,
            "object_position": null,
            "object_fit": null,
            "grid_auto_columns": null,
            "margin": null,
            "display": null,
            "left": null
          }
        },
        "d1daaa2fca064ad68b4ad711099c9177": {
          "model_module": "@jupyter-widgets/controls",
          "model_name": "DescriptionStyleModel",
          "state": {
            "_view_name": "StyleView",
            "_model_name": "DescriptionStyleModel",
            "description_width": "",
            "_view_module": "@jupyter-widgets/base",
            "_model_module_version": "1.5.0",
            "_view_count": null,
            "_view_module_version": "1.2.0",
            "_model_module": "@jupyter-widgets/controls"
          }
        },
        "ba07d01557314258b39dd447498a88f0": {
          "model_module": "@jupyter-widgets/base",
          "model_name": "LayoutModel",
          "state": {
            "_view_name": "LayoutView",
            "grid_template_rows": null,
            "right": null,
            "justify_content": null,
            "_view_module": "@jupyter-widgets/base",
            "overflow": null,
            "_model_module_version": "1.2.0",
            "_view_count": null,
            "flex_flow": null,
            "width": null,
            "min_width": null,
            "border": null,
            "align_items": null,
            "bottom": null,
            "_model_module": "@jupyter-widgets/base",
            "top": null,
            "grid_column": null,
            "overflow_y": null,
            "overflow_x": null,
            "grid_auto_flow": null,
            "grid_area": null,
            "grid_template_columns": null,
            "flex": null,
            "_model_name": "LayoutModel",
            "justify_items": null,
            "grid_row": null,
            "max_height": null,
            "align_content": null,
            "visibility": null,
            "align_self": null,
            "height": null,
            "min_height": null,
            "padding": null,
            "grid_auto_rows": null,
            "grid_gap": null,
            "max_width": null,
            "order": null,
            "_view_module_version": "1.2.0",
            "grid_template_areas": null,
            "object_position": null,
            "object_fit": null,
            "grid_auto_columns": null,
            "margin": null,
            "display": null,
            "left": null
          }
        }
      }
    }
  },
  "cells": [
    {
      "cell_type": "markdown",
      "metadata": {
        "id": "view-in-github",
        "colab_type": "text"
      },
      "source": [
        "<a href=\"https://colab.research.google.com/github/RiseAboveAll/PYTORCH_Learning/blob/master/Functional_CNN_CIFAR10.ipynb\" target=\"_parent\"><img src=\"https://colab.research.google.com/assets/colab-badge.svg\" alt=\"Open In Colab\"/></a>"
      ]
    },
    {
      "cell_type": "markdown",
      "metadata": {
        "id": "v7OLTvIv6xc9",
        "colab_type": "text"
      },
      "source": [
        "## Import Libraries"
      ]
    },
    {
      "cell_type": "code",
      "metadata": {
        "id": "dsrzxNZF26iF",
        "colab_type": "code",
        "colab": {}
      },
      "source": [
        "import torch\n",
        "from torch import nn\n",
        "from torchvision import transforms\n",
        "import torchvision\n",
        "from torch.nn import functional as F\n",
        "from torch.utils.data import DataLoader\n",
        "import numpy as np\n",
        "import matplotlib.pyplot as plt\n",
        "from datetime import datetime"
      ],
      "execution_count": 1,
      "outputs": []
    },
    {
      "cell_type": "markdown",
      "metadata": {
        "id": "cQQeo5Uy60zx",
        "colab_type": "text"
      },
      "source": [
        "## Load Dataset"
      ]
    },
    {
      "cell_type": "code",
      "metadata": {
        "id": "L_TiYxWq4Og8",
        "colab_type": "code",
        "colab": {
          "base_uri": "https://localhost:8080/",
          "height": 97,
          "referenced_widgets": [
            "8ea00f13a7ef428783ffc33eb80509ff",
            "58cafcd7900c4744aeda452534b04bf7",
            "8097bff3d4ed4dfc82e15e9ee355da22",
            "b8cb121b20b34df3be2ab538eb5052c1",
            "c5d68b39e5b542f5ba369b51b04b1860",
            "80ed52fb365d453da3e8083f03612aa3",
            "d1daaa2fca064ad68b4ad711099c9177",
            "ba07d01557314258b39dd447498a88f0"
          ]
        },
        "outputId": "0f5651f9-fb11-43e5-9f17-73a10a05b99a"
      },
      "source": [
        "train_dataset=torchvision.datasets.CIFAR10(root='.',train=True,transform=transforms.ToTensor(),download=True)\n",
        "test_dataset=torchvision.datasets.CIFAR10(root='.',train=False,transform=transforms.ToTensor(),download=True)"
      ],
      "execution_count": 2,
      "outputs": [
        {
          "output_type": "stream",
          "text": [
            "Downloading https://www.cs.toronto.edu/~kriz/cifar-10-python.tar.gz to ./cifar-10-python.tar.gz\n"
          ],
          "name": "stdout"
        },
        {
          "output_type": "display_data",
          "data": {
            "application/vnd.jupyter.widget-view+json": {
              "model_id": "8ea00f13a7ef428783ffc33eb80509ff",
              "version_minor": 0,
              "version_major": 2
            },
            "text/plain": [
              "HBox(children=(FloatProgress(value=1.0, bar_style='info', max=1.0), HTML(value='')))"
            ]
          },
          "metadata": {
            "tags": []
          }
        },
        {
          "output_type": "stream",
          "text": [
            "Extracting ./cifar-10-python.tar.gz to .\n",
            "Files already downloaded and verified\n"
          ],
          "name": "stdout"
        }
      ]
    },
    {
      "cell_type": "code",
      "metadata": {
        "id": "ZxZD27rJ4jsq",
        "colab_type": "code",
        "colab": {
          "base_uri": "https://localhost:8080/",
          "height": 33
        },
        "outputId": "c90e1acb-ffd3-416c-a78c-f9e995129f0d"
      },
      "source": [
        "#We can see the data is not in tensor form , rather it is in numpy array form\n",
        "train_dataset.data.shape"
      ],
      "execution_count": 3,
      "outputs": [
        {
          "output_type": "execute_result",
          "data": {
            "text/plain": [
              "(50000, 32, 32, 3)"
            ]
          },
          "metadata": {
            "tags": []
          },
          "execution_count": 3
        }
      ]
    },
    {
      "cell_type": "code",
      "metadata": {
        "id": "hDohvWRJ560A",
        "colab_type": "code",
        "colab": {}
      },
      "source": [
        "K=len(set(train_dataset.targets))"
      ],
      "execution_count": 4,
      "outputs": []
    },
    {
      "cell_type": "code",
      "metadata": {
        "id": "Y5_Kq_T46dps",
        "colab_type": "code",
        "colab": {
          "base_uri": "https://localhost:8080/",
          "height": 33
        },
        "outputId": "fd5753ef-5f18-47a5-c26e-3fb68862e3bf"
      },
      "source": [
        "#Number of Classes\n",
        "K"
      ],
      "execution_count": 5,
      "outputs": [
        {
          "output_type": "execute_result",
          "data": {
            "text/plain": [
              "10"
            ]
          },
          "metadata": {
            "tags": []
          },
          "execution_count": 5
        }
      ]
    },
    {
      "cell_type": "markdown",
      "metadata": {
        "id": "h_Dch5f569UU",
        "colab_type": "text"
      },
      "source": [
        "## Data Loader"
      ]
    },
    {
      "cell_type": "code",
      "metadata": {
        "id": "kplXedgt6ehV",
        "colab_type": "code",
        "colab": {}
      },
      "source": [
        "batch_size=128\n",
        "train_loader=DataLoader(dataset=train_dataset,batch_size=batch_size,shuffle=True)\n",
        "test_loader=DataLoader(dataset=test_dataset,batch_size=batch_size,shuffle=False)"
      ],
      "execution_count": 6,
      "outputs": []
    },
    {
      "cell_type": "markdown",
      "metadata": {
        "id": "ADh6cCjz7vFD",
        "colab_type": "text"
      },
      "source": [
        "## Model Buidling :"
      ]
    },
    {
      "cell_type": "code",
      "metadata": {
        "id": "-y4rYneI7xJJ",
        "colab_type": "code",
        "colab": {}
      },
      "source": [
        "class CNN(nn.Module):\n",
        "  def __init__(self,K):\n",
        "    super(CNN,self).__init__()\n",
        "    #Define Convolution Layer\n",
        "    self.conv1=nn.Conv2d(in_channels=3,out_channels=32,kernel_size=3,stride=2)\n",
        "    self.conv2=nn.Conv2d(in_channels=32,out_channels=64,kernel_size=3,stride=2)\n",
        "    self.conv3=nn.Conv2d(in_channels=64,out_channels=128,kernel_size=3,stride=2)\n",
        "    #Define Dense Layer\n",
        "    self.Dense1=nn.Linear(128*3*3,1024)\n",
        "    self.Dense2=nn.Linear(1024,K)\n",
        "  def forward(self,X):\n",
        "    X=F.relu(self.conv1(X))\n",
        "    X=F.relu(self.conv2(X))\n",
        "    X=F.relu(self.conv3(X))\n",
        "    X=X.view(-1,128*3*3)\n",
        "    X=F.dropout(X,p=.5)\n",
        "    X=F.relu(self.Dense1(X))\n",
        "    X=F.dropout(X,p=.2)\n",
        "    X=self.Dense2(X)\n",
        "    return X\n"
      ],
      "execution_count": 7,
      "outputs": []
    },
    {
      "cell_type": "code",
      "metadata": {
        "id": "Ldew2nrM7U5O",
        "colab_type": "code",
        "colab": {}
      },
      "source": [
        "model=CNN(K)"
      ],
      "execution_count": 8,
      "outputs": []
    },
    {
      "cell_type": "code",
      "metadata": {
        "id": "jTiFp0vvMiQD",
        "colab_type": "code",
        "colab": {
          "base_uri": "https://localhost:8080/",
          "height": 245
        },
        "outputId": "4bb288d0-8a4a-4f8b-d87b-fa9a671d701e"
      },
      "source": [
        "device=torch.device(\"cuda:0\" if torch.cuda.is_available() else \"cpu\")\n",
        "print(device)\n",
        "model.to(device)"
      ],
      "execution_count": 9,
      "outputs": [
        {
          "output_type": "stream",
          "text": [
            "cuda:0\n"
          ],
          "name": "stdout"
        },
        {
          "output_type": "stream",
          "text": [
            "/usr/local/lib/python3.6/dist-packages/torch/cuda/__init__.py:125: UserWarning: \n",
            "Tesla T4 with CUDA capability sm_75 is not compatible with the current PyTorch installation.\n",
            "The current PyTorch install supports CUDA capabilities sm_37 sm_50 sm_60 sm_70.\n",
            "If you want to use the Tesla T4 GPU with PyTorch, please check the instructions at https://pytorch.org/get-started/locally/\n",
            "\n",
            "  warnings.warn(incompatible_device_warn.format(device_name, capability, \" \".join(arch_list), device_name))\n"
          ],
          "name": "stderr"
        },
        {
          "output_type": "execute_result",
          "data": {
            "text/plain": [
              "CNN(\n",
              "  (conv1): Conv2d(3, 32, kernel_size=(3, 3), stride=(2, 2))\n",
              "  (conv2): Conv2d(32, 64, kernel_size=(3, 3), stride=(2, 2))\n",
              "  (conv3): Conv2d(64, 128, kernel_size=(3, 3), stride=(2, 2))\n",
              "  (Dense1): Linear(in_features=1152, out_features=1024, bias=True)\n",
              "  (Dense2): Linear(in_features=1024, out_features=10, bias=True)\n",
              ")"
            ]
          },
          "metadata": {
            "tags": []
          },
          "execution_count": 9
        }
      ]
    },
    {
      "cell_type": "code",
      "metadata": {
        "id": "il2BIyhtDTbo",
        "colab_type": "code",
        "colab": {}
      },
      "source": [
        "#Loss & Optimizer\n",
        "criterion=nn.CrossEntropyLoss()\n",
        "optimizer=torch.optim.Adam(model.parameters(),lr=.0001)"
      ],
      "execution_count": 10,
      "outputs": []
    },
    {
      "cell_type": "code",
      "metadata": {
        "id": "8-iioBXtDvXN",
        "colab_type": "code",
        "colab": {}
      },
      "source": [
        "# Function to Encapsulate training\n",
        "def batch_gradient(model,criterion,optimizer,train_loader,test_loader,epochs):\n",
        "  train_losses=np.zeros(epochs)\n",
        "  test_losses=np.zeros(epochs)\n",
        "  for it in range(epochs):\n",
        "    t0=datetime.now()\n",
        "    train_loss=[]\n",
        "    for inputs,targets in train_loader:\n",
        "      #Move Data to GPU\n",
        "      inputs,targets=inputs.to(device),targets.to(device)\n",
        "      #Zero the parameter Gradient\n",
        "      optimizer.zero_grad()\n",
        "      #Forward Pass\n",
        "      outputs=model(inputs)\n",
        "      loss=criterion(outputs,targets)\n",
        "      #Bacward Pass\n",
        "      loss.backward()\n",
        "      #Perform single optmization step\n",
        "      optimizer.step()\n",
        "\n",
        "      train_loss.append(loss.item())\n",
        "\n",
        "    #Get train loss and test loss\n",
        "    train_loss=np.mean(train_loss)\n",
        "    test_loss=[]\n",
        "    for inputs,targets in test_loader:\n",
        "      #Move Data to GPU\n",
        "      inputs,targets=inputs.to(device),targets.to(device)\n",
        "      outputs=model(inputs)\n",
        "      loss=criterion(outputs,targets)\n",
        "      test_loss.append(loss.item())\n",
        "    test_loss=np.mean(test_loss)\n",
        "\n",
        "    #Save Losses\n",
        "    train_losses[it]=train_loss\n",
        "    test_losses[it]=test_loss\n",
        "    dt=datetime.now()-t0\n",
        "    print(f'Epoch {it+1}/{epochs},Duration : {dt} , Train Loss : {train_loss : .4f},  Test Loss : {test_loss : .4f}')\n",
        "  return train_losses,test_losses\n",
        "\n",
        "\n",
        "\n",
        "\n"
      ],
      "execution_count": 11,
      "outputs": []
    },
    {
      "cell_type": "code",
      "metadata": {
        "id": "wv49vyN5D-E5",
        "colab_type": "code",
        "colab": {
          "base_uri": "https://localhost:8080/",
          "height": 830
        },
        "outputId": "503a1ebe-b034-4ee6-e2a4-82e50fbdd074"
      },
      "source": [
        "train_losses,test_losses=batch_gradient(model,criterion,optimizer,train_loader,test_loader,50)"
      ],
      "execution_count": 12,
      "outputs": [
        {
          "output_type": "stream",
          "text": [
            "Epoch 1/50,Duration : 0:00:08.097080 , Train Loss :  1.9753,  Test Loss :  1.7382\n",
            "Epoch 2/50,Duration : 0:00:07.944251 , Train Loss :  1.6812,  Test Loss :  1.6352\n",
            "Epoch 3/50,Duration : 0:00:07.874677 , Train Loss :  1.5990,  Test Loss :  1.5501\n",
            "Epoch 4/50,Duration : 0:00:07.817937 , Train Loss :  1.5361,  Test Loss :  1.5016\n",
            "Epoch 5/50,Duration : 0:00:07.758758 , Train Loss :  1.4870,  Test Loss :  1.4693\n",
            "Epoch 6/50,Duration : 0:00:07.780633 , Train Loss :  1.4436,  Test Loss :  1.4385\n",
            "Epoch 7/50,Duration : 0:00:07.759739 , Train Loss :  1.4142,  Test Loss :  1.3943\n",
            "Epoch 8/50,Duration : 0:00:07.622221 , Train Loss :  1.3805,  Test Loss :  1.3718\n",
            "Epoch 9/50,Duration : 0:00:07.588377 , Train Loss :  1.3518,  Test Loss :  1.3437\n",
            "Epoch 10/50,Duration : 0:00:07.634181 , Train Loss :  1.3310,  Test Loss :  1.3295\n",
            "Epoch 11/50,Duration : 0:00:07.606671 , Train Loss :  1.3072,  Test Loss :  1.3126\n",
            "Epoch 12/50,Duration : 0:00:07.634073 , Train Loss :  1.2895,  Test Loss :  1.2991\n",
            "Epoch 13/50,Duration : 0:00:07.573681 , Train Loss :  1.2710,  Test Loss :  1.2805\n",
            "Epoch 14/50,Duration : 0:00:07.632644 , Train Loss :  1.2557,  Test Loss :  1.2601\n",
            "Epoch 15/50,Duration : 0:00:07.703005 , Train Loss :  1.2346,  Test Loss :  1.2510\n",
            "Epoch 16/50,Duration : 0:00:07.737451 , Train Loss :  1.2188,  Test Loss :  1.2468\n",
            "Epoch 17/50,Duration : 0:00:07.596564 , Train Loss :  1.2060,  Test Loss :  1.2505\n",
            "Epoch 18/50,Duration : 0:00:07.699139 , Train Loss :  1.1913,  Test Loss :  1.2231\n",
            "Epoch 19/50,Duration : 0:00:07.654912 , Train Loss :  1.1694,  Test Loss :  1.2230\n",
            "Epoch 20/50,Duration : 0:00:07.635383 , Train Loss :  1.1613,  Test Loss :  1.1926\n",
            "Epoch 21/50,Duration : 0:00:07.604752 , Train Loss :  1.1455,  Test Loss :  1.1901\n",
            "Epoch 22/50,Duration : 0:00:07.671162 , Train Loss :  1.1350,  Test Loss :  1.1801\n",
            "Epoch 23/50,Duration : 0:00:07.624645 , Train Loss :  1.1220,  Test Loss :  1.1730\n",
            "Epoch 24/50,Duration : 0:00:07.614022 , Train Loss :  1.1110,  Test Loss :  1.1596\n",
            "Epoch 25/50,Duration : 0:00:07.566907 , Train Loss :  1.1031,  Test Loss :  1.1492\n",
            "Epoch 26/50,Duration : 0:00:07.615379 , Train Loss :  1.0885,  Test Loss :  1.1530\n",
            "Epoch 27/50,Duration : 0:00:07.559166 , Train Loss :  1.0721,  Test Loss :  1.1539\n",
            "Epoch 28/50,Duration : 0:00:07.539186 , Train Loss :  1.0662,  Test Loss :  1.1443\n",
            "Epoch 29/50,Duration : 0:00:07.516447 , Train Loss :  1.0554,  Test Loss :  1.1226\n",
            "Epoch 30/50,Duration : 0:00:07.486812 , Train Loss :  1.0410,  Test Loss :  1.1359\n",
            "Epoch 31/50,Duration : 0:00:07.548285 , Train Loss :  1.0322,  Test Loss :  1.1112\n",
            "Epoch 32/50,Duration : 0:00:07.487744 , Train Loss :  1.0203,  Test Loss :  1.1168\n",
            "Epoch 33/50,Duration : 0:00:07.533853 , Train Loss :  1.0113,  Test Loss :  1.1039\n",
            "Epoch 34/50,Duration : 0:00:07.545092 , Train Loss :  0.9985,  Test Loss :  1.1060\n",
            "Epoch 35/50,Duration : 0:00:07.475003 , Train Loss :  0.9916,  Test Loss :  1.1165\n",
            "Epoch 36/50,Duration : 0:00:07.461574 , Train Loss :  0.9840,  Test Loss :  1.1024\n",
            "Epoch 37/50,Duration : 0:00:07.470809 , Train Loss :  0.9699,  Test Loss :  1.0983\n",
            "Epoch 38/50,Duration : 0:00:07.472898 , Train Loss :  0.9620,  Test Loss :  1.0897\n",
            "Epoch 39/50,Duration : 0:00:07.496226 , Train Loss :  0.9521,  Test Loss :  1.0719\n",
            "Epoch 40/50,Duration : 0:00:07.553033 , Train Loss :  0.9446,  Test Loss :  1.0907\n",
            "Epoch 41/50,Duration : 0:00:07.498264 , Train Loss :  0.9353,  Test Loss :  1.0774\n",
            "Epoch 42/50,Duration : 0:00:07.498998 , Train Loss :  0.9260,  Test Loss :  1.0886\n",
            "Epoch 43/50,Duration : 0:00:07.489587 , Train Loss :  0.9145,  Test Loss :  1.0742\n",
            "Epoch 44/50,Duration : 0:00:07.544409 , Train Loss :  0.9074,  Test Loss :  1.0659\n",
            "Epoch 45/50,Duration : 0:00:07.528047 , Train Loss :  0.8988,  Test Loss :  1.0669\n",
            "Epoch 46/50,Duration : 0:00:07.483108 , Train Loss :  0.8936,  Test Loss :  1.0535\n",
            "Epoch 47/50,Duration : 0:00:07.495759 , Train Loss :  0.8860,  Test Loss :  1.0527\n",
            "Epoch 48/50,Duration : 0:00:07.554796 , Train Loss :  0.8783,  Test Loss :  1.0562\n",
            "Epoch 49/50,Duration : 0:00:07.507271 , Train Loss :  0.8640,  Test Loss :  1.0467\n",
            "Epoch 50/50,Duration : 0:00:07.554467 , Train Loss :  0.8587,  Test Loss :  1.0489\n"
          ],
          "name": "stdout"
        }
      ]
    },
    {
      "cell_type": "code",
      "metadata": {
        "id": "2P3rxbiFFIKz",
        "colab_type": "code",
        "colab": {
          "base_uri": "https://localhost:8080/",
          "height": 281
        },
        "outputId": "8333c44e-b368-4d63-f024-80a334d22925"
      },
      "source": [
        "plt.plot(train_losses,label='train loss')\n",
        "plt.plot(test_losses,label='test loss')\n",
        "plt.legend()"
      ],
      "execution_count": 13,
      "outputs": [
        {
          "output_type": "execute_result",
          "data": {
            "text/plain": [
              "<matplotlib.legend.Legend at 0x7fab06bb9198>"
            ]
          },
          "metadata": {
            "tags": []
          },
          "execution_count": 13
        },
        {
          "output_type": "display_data",
          "data": {
            "image/png": "[encoded data removed]",
            "text/plain": [
              "<Figure size 432x288 with 1 Axes>"
            ]
          },
          "metadata": {
            "tags": [],
            "needs_background": "light"
          }
        }
      ]
    },
    {
      "cell_type": "code",
      "metadata": {
        "id": "qOYXF0ThFOnh",
        "colab_type": "code",
        "colab": {
          "base_uri": "https://localhost:8080/",
          "height": 33
        },
        "outputId": "c2fca310-b8c7-4282-c21d-7a57cd58ccc4"
      },
      "source": [
        "# Accuracy\n",
        "\n",
        "n_correct=0\n",
        "n_total=0\n",
        "for inputs,targets in train_loader:\n",
        "  #Move data to GPU\n",
        "  inputs,targets=inputs.to(device),targets.to(device)\n",
        "  #Forward Pass\n",
        "  outputs=model(inputs)\n",
        "  #Get Prediction\n",
        "  _,predictions=torch.max(outputs,1)\n",
        "  #update counts\n",
        "  n_correct += (predictions==targets).sum().item()\n",
        "  n_total += targets.shape[0]\n",
        "train_acc = n_correct/n_total\n",
        "n_correct=0\n",
        "n_total=0\n",
        "for inputs,targets in test_loader:\n",
        "  #Move data to GPU\n",
        "  inputs,targets=inputs.to(device),targets.to(device)\n",
        "  #Forward Pass\n",
        "  outputs=model(inputs)\n",
        "  #Get Prediction\n",
        "  _,predictions=torch.max(outputs,1)\n",
        "  #update counts\n",
        "  n_correct += (predictions==targets).sum().item()\n",
        "  n_total += targets.shape[0]\n",
        "test_acc=n_correct/n_total\n",
        "print(f'Train Acc : {train_acc:.4f}, Test Acc : {test_acc:.4f}')"
      ],
      "execution_count": 15,
      "outputs": [
        {
          "output_type": "stream",
          "text": [
            "Train Acc : 0.7053, Test Acc : 0.6299\n"
          ],
          "name": "stdout"
        }
      ]
    },
    {
      "cell_type": "code",
      "metadata": {
        "id": "y6OGCxp3MnLG",
        "colab_type": "code",
        "colab": {}
      },
      "source": [
        ""
      ],
      "execution_count": 14,
      "outputs": []
    }
  ]
}