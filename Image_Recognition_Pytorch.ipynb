{
  "nbformat": 4,
  "nbformat_minor": 0,
  "metadata": {
    "colab": {
      "name": "Image-Recognition_Pytorch.ipynb",
      "provenance": [],
      "collapsed_sections": [],
      "authorship_tag": "ABX9TyMsa09ywX5BYSnnwrZJJhMP",
      "include_colab_link": true
    },
    "kernelspec": {
      "name": "python3",
      "display_name": "Python 3"
    },
    "accelerator": "GPU"
  },
  "cells": [
    {
      "cell_type": "markdown",
      "metadata": {
        "id": "view-in-github",
        "colab_type": "text"
      },
      "source": [
        "<a href=\"https://colab.research.google.com/github/RiseAboveAll/PYTORCH_Learning/blob/master/Image_Recognition_Pytorch.ipynb\" target=\"_parent\"><img src=\"https://colab.research.google.com/assets/colab-badge.svg\" alt=\"Open In Colab\"/></a>"
      ]
    },
    {
      "cell_type": "markdown",
      "metadata": {
        "id": "EgbFZgBJmSVj",
        "colab_type": "text"
      },
      "source": [
        "## Dataset "
      ]
    },
    {
      "cell_type": "markdown",
      "metadata": {
        "id": "EMXf53_jkAB0",
        "colab_type": "text"
      },
      "source": [
        "MNIST Dataset\n",
        "\n",
        "- Dataset of handwritten digits\n",
        "\n",
        "- It is a multiclassification problem , it has 10 classes digits between 0-9, hence output activation function is softmax\n",
        "\n",
        "-  Image size is 28x28 Hence input should have 784 neurons \n",
        "\n",
        "-  Model Architecture : Input -> Hiddel Layer1 -> Hidden Layer2 -> Output\n",
        "\n",
        "\n",
        "\n"
      ]
    },
    {
      "cell_type": "markdown",
      "metadata": {
        "id": "loQaXUO2moMs",
        "colab_type": "text"
      },
      "source": [
        "## Train & Test Dataset"
      ]
    },
    {
      "cell_type": "markdown",
      "metadata": {
        "id": "Zz8QOmwAmrkb",
        "colab_type": "text"
      },
      "source": [
        "**To avoid overfitting:**\n",
        "\n",
        "-  Reduce the Depth & Complexity of model\n",
        "\n",
        "-  Reduce number of neurons in hidden layer\n",
        "\n",
        "-  Reduce number of Epochs\n",
        "\n"
      ]
    },
    {
      "cell_type": "markdown",
      "metadata": {
        "id": "smAf5wLeCAOw",
        "colab_type": "text"
      },
      "source": [
        "## Image Transformation\n"
      ]
    },
    {
      "cell_type": "code",
      "metadata": {
        "id": "Wv2X54_cCC3D",
        "colab_type": "code",
        "colab": {}
      },
      "source": [
        "import torch\n",
        "import torchvision\n",
        "from torchvision import datasets, transforms\n",
        "from torch import nn\n",
        "import numpy as np\n",
        "import matplotlib.pyplot as plt\n",
        "from torch.utils.data import DataLoader\n",
        "from torch.nn import functional as F\n",
        "import requests\n",
        "from PIL import Image\n",
        "import PIL"
      ],
      "execution_count": 34,
      "outputs": []
    },
    {
      "cell_type": "code",
      "metadata": {
        "id": "_GHmWfp_CWyC",
        "colab_type": "code",
        "colab": {}
      },
      "source": [
        "#transforms.Normalize(mean,std)\n",
        "transform=transforms.Compose([\n",
        "                              transforms.Resize((28,28)),\n",
        "                              transforms.ToTensor(),\n",
        "                              transforms.Normalize((.5,),(.5,))\n",
        "                              ])\n",
        "training_dataset=datasets.MNIST(root='.',train=True,download=True,transform=transform)\n",
        "training_loader=DataLoader(training_dataset,batch_size=100,shuffle=True)  \n",
        "\n",
        "validation_dataset=datasets.MNIST(root='.',train=True,download=False,transform=transform)\n",
        "validation_loader=DataLoader(validation_dataset,batch_size=100,shuffle=False)  \n"
      ],
      "execution_count": 35,
      "outputs": []
    },
    {
      "cell_type": "code",
      "metadata": {
        "id": "F1YzJhQVmnf7",
        "colab_type": "code",
        "colab": {}
      },
      "source": [
        "def im_convert(tensor):\n",
        "  #tensor.clone() is used to make a copy of tensor\n",
        "  image=tensor.clone().detach().numpy()\n",
        "  print(image.shape)\n",
        "  #Tensor shape is 1x28x28 , to plot image we need shape as 28x28x1\n",
        "  image=image.transpose(1,2,0)\n",
        "  image=image * np.array((.5,.5,.5))+np.array((.5,.5,.5))\n",
        "  image=image.clip(0,1)\n",
        "  return image\n"
      ],
      "execution_count": 36,
      "outputs": []
    },
    {
      "cell_type": "markdown",
      "metadata": {
        "id": "q0R2dPdzKdud",
        "colab_type": "text"
      },
      "source": [
        "**When normalizing the images, make sure to write transforms.Normalize((0.5,), (0.5,))  , rather than what we had earlier, transforms.Normalize((0.5, 0.5, 0.5), (0.5, 0.5, 0.5)) . Ultimately, this is done to ensure a single channel of (1, 28, 28), rather than (3, 28, 28).**"
      ]
    },
    {
      "cell_type": "code",
      "metadata": {
        "id": "-O-VyHrvjw1i",
        "colab_type": "code",
        "colab": {
          "base_uri": "https://localhost:8080/",
          "height": 623
        },
        "outputId": "dfb15887-1ce6-4465-b793-5e27f0b19aea"
      },
      "source": [
        "dataiter=iter(training_loader)\n",
        "images,labels=dataiter.next()\n",
        "fig = plt.figure(figsize=(25,4))\n",
        "for i in np.arange(20):\n",
        "  ax=fig.add_subplot(2,10,i+1,xticks=[],yticks=[])\n",
        "  plt.imshow(im_convert(images[i]))\n",
        "  ax.set_title([labels[i].item()])\n",
        "\n",
        "\n"
      ],
      "execution_count": 37,
      "outputs": [
        {
          "output_type": "stream",
          "text": [
            "(1, 28, 28)\n",
            "(1, 28, 28)\n",
            "(1, 28, 28)\n",
            "(1, 28, 28)\n",
            "(1, 28, 28)\n",
            "(1, 28, 28)\n",
            "(1, 28, 28)\n",
            "(1, 28, 28)\n",
            "(1, 28, 28)\n",
            "(1, 28, 28)\n",
            "(1, 28, 28)\n",
            "(1, 28, 28)\n",
            "(1, 28, 28)\n",
            "(1, 28, 28)\n",
            "(1, 28, 28)\n",
            "(1, 28, 28)\n",
            "(1, 28, 28)\n",
            "(1, 28, 28)\n",
            "(1, 28, 28)\n",
            "(1, 28, 28)\n"
          ],
          "name": "stdout"
        },
        {
          "output_type": "display_data",
          "data": {
            "image/png": "[encoded data removed]",
            "text/plain": [
              "<Figure size 1800x288 with 20 Axes>"
            ]
          },
          "metadata": {
            "tags": []
          }
        }
      ]
    },
    {
      "cell_type": "markdown",
      "metadata": {
        "id": "vLUj1qwCKw6D",
        "colab_type": "text"
      },
      "source": [
        "## Model Building (Implementation)"
      ]
    },
    {
      "cell_type": "code",
      "metadata": {
        "id": "NKosh2mPH05n",
        "colab_type": "code",
        "colab": {}
      },
      "source": [
        "class Classifier(nn.Module):\n",
        "  def __init__(self,D_in, H1, H2, D_out):\n",
        "    super().__init__()\n",
        "    self.Linear1=nn.Linear(D_in,H1)\n",
        "    self.Linear2=nn.Linear(H1,H2)\n",
        "    self.Linear3=nn.Linear(H2,D_out)\n",
        "  def forward(self,x):\n",
        "    x=F.relu(self.Linear1(x))\n",
        "    x=F.relu(self.Linear2(x))\n",
        "    #Since this is the output layer we won't apply any activation function here\n",
        "    x=self.Linear3(x) \n",
        "    return x \n",
        "  "
      ],
      "execution_count": 38,
      "outputs": []
    },
    {
      "cell_type": "code",
      "metadata": {
        "id": "_yEiQoOgNTSA",
        "colab_type": "code",
        "colab": {
          "base_uri": "https://localhost:8080/",
          "height": 105
        },
        "outputId": "4379a282-0380-4f61-8a89-dd80b44fa34b"
      },
      "source": [
        "model=Classifier(784,125,65,10)\n",
        "model"
      ],
      "execution_count": 39,
      "outputs": [
        {
          "output_type": "execute_result",
          "data": {
            "text/plain": [
              "Classifier(\n",
              "  (Linear1): Linear(in_features=784, out_features=125, bias=True)\n",
              "  (Linear2): Linear(in_features=125, out_features=65, bias=True)\n",
              "  (Linear3): Linear(in_features=65, out_features=10, bias=True)\n",
              ")"
            ]
          },
          "metadata": {
            "tags": []
          },
          "execution_count": 39
        }
      ]
    },
    {
      "cell_type": "code",
      "metadata": {
        "id": "Hx6qIQdnWaCx",
        "colab_type": "code",
        "colab": {
          "base_uri": "https://localhost:8080/",
          "height": 123
        },
        "outputId": "8f4adbd2-b15d-4f0a-d471-c241d566343a"
      },
      "source": [
        "#Need to use GPU\n",
        "device=torch.device(\"cuda:0\" if torch.cuda.is_available() else \"cpu\")\n",
        "print(device)\n",
        "#transfers parameters of the model to the GPU\n",
        "model.to(device)"
      ],
      "execution_count": 40,
      "outputs": [
        {
          "output_type": "stream",
          "text": [
            "cuda:0\n"
          ],
          "name": "stdout"
        },
        {
          "output_type": "execute_result",
          "data": {
            "text/plain": [
              "Classifier(\n",
              "  (Linear1): Linear(in_features=784, out_features=125, bias=True)\n",
              "  (Linear2): Linear(in_features=125, out_features=65, bias=True)\n",
              "  (Linear3): Linear(in_features=65, out_features=10, bias=True)\n",
              ")"
            ]
          },
          "metadata": {
            "tags": []
          },
          "execution_count": 40
        }
      ]
    },
    {
      "cell_type": "code",
      "metadata": {
        "id": "_VBMZddPNqcR",
        "colab_type": "code",
        "colab": {}
      },
      "source": [
        "criterion=nn.CrossEntropyLoss()\n",
        "optimizer=torch.optim.Adam(model.parameters(),lr=.0001)\n"
      ],
      "execution_count": 41,
      "outputs": []
    },
    {
      "cell_type": "code",
      "metadata": {
        "id": "rLu0Zv-LOKcD",
        "colab_type": "code",
        "colab": {
          "base_uri": "https://localhost:8080/",
          "height": 230
        },
        "outputId": "237916df-0598-4c25-8c7c-dd3c81a7cf26"
      },
      "source": [
        "epochs=12\n",
        "running_loss_history=[]\n",
        "val_running_loss_history=[]\n",
        "running_correct_history=[]\n",
        "val_running_correct_history=[]\n",
        "for e in range(epochs):\n",
        "  running_loss=0.0\n",
        "  running_correct=0.0\n",
        "  val_running_loss=0.0\n",
        "  val_running_correct=0.0\n",
        "\n",
        "  for images,labels in training_loader:\n",
        "    images,labels=images.to(device),labels.to(device)\n",
        "    images=images.view(images.shape[0],-1)\n",
        "    outputs=model.forward(images)\n",
        "    loss=criterion(outputs,labels)\n",
        "    optimizer.zero_grad()\n",
        "    loss.backward()\n",
        "    optimizer.step()\n",
        "    _,preds=torch.max(outputs,1)\n",
        "    \n",
        "    running_loss += loss.item()\n",
        "    running_correct += torch.sum(preds==labels.data)\n",
        "  else:\n",
        "    #to save memory use torch.no_grad()\n",
        "    with torch.no_grad():\n",
        "      for val_images,val_labels in validation_loader:\n",
        "        val_images,val_labels=val_images.to(device),val_labels.to(device)\n",
        "        val_images=val_images.view(val_images.shape[0],-1)\n",
        "        val_outputs=model.forward(val_images)\n",
        "        val_loss=criterion(val_outputs,val_labels)\n",
        "        _,val_preds=torch.max(val_outputs,1)\n",
        "        val_running_loss += val_loss.item()\n",
        "        val_running_correct += torch.sum(val_preds == val_labels.data)\n",
        "\n",
        "    val_epoch_loss=val_running_loss/len(validation_loader)\n",
        "    val_epoch_accuracy=val_running_correct.float()/len(validation_loader)\n",
        "    val_running_loss_history.append(val_epoch_loss)\n",
        "    val_running_correct_history.append(val_epoch_accuracy)\n",
        "    epoch_loss=running_loss/len(training_loader)\n",
        "    epoch_accuracy=running_correct.float()/len(training_loader)\n",
        "    running_loss_history.append(epoch_loss)\n",
        "    running_correct_history.append(epoch_accuracy)\n",
        "    print('training loss : {:.4f}, training accuracy : {:.4f}, validation loss : {:.4f} , validation accuracy : {:.4f}'.format(epoch_loss,epoch_accuracy.item(),val_epoch_loss,val_epoch_accuracy))\n"
      ],
      "execution_count": 42,
      "outputs": [
        {
          "output_type": "stream",
          "text": [
            "training loss : 0.9691, training accuracy : 76.5517, validation loss : 0.4377 , validation accuracy : 88.0650\n",
            "training loss : 0.3776, training accuracy : 89.3650, validation loss : 0.3329 , validation accuracy : 90.5000\n",
            "training loss : 0.3163, training accuracy : 90.8783, validation loss : 0.2947 , validation accuracy : 91.3900\n",
            "training loss : 0.2825, training accuracy : 91.7867, validation loss : 0.2646 , validation accuracy : 92.3567\n",
            "training loss : 0.2579, training accuracy : 92.5733, validation loss : 0.2432 , validation accuracy : 93.0833\n",
            "training loss : 0.2368, training accuracy : 93.1900, validation loss : 0.2245 , validation accuracy : 93.4350\n",
            "training loss : 0.2190, training accuracy : 93.7900, validation loss : 0.2051 , validation accuracy : 94.1600\n",
            "training loss : 0.2029, training accuracy : 94.2167, validation loss : 0.1911 , validation accuracy : 94.5250\n",
            "training loss : 0.1887, training accuracy : 94.5983, validation loss : 0.1787 , validation accuracy : 94.8667\n",
            "training loss : 0.1760, training accuracy : 94.9383, validation loss : 0.1677 , validation accuracy : 95.2150\n",
            "training loss : 0.1653, training accuracy : 95.2400, validation loss : 0.1550 , validation accuracy : 95.5067\n",
            "training loss : 0.1556, training accuracy : 95.4433, validation loss : 0.1478 , validation accuracy : 95.7167\n"
          ],
          "name": "stdout"
        }
      ]
    },
    {
      "cell_type": "markdown",
      "metadata": {
        "id": "1E0-z8zKUEIg",
        "colab_type": "text"
      },
      "source": [
        "**We can see accuracy saturated at 95% and loss is at .1522**"
      ]
    },
    {
      "cell_type": "code",
      "metadata": {
        "id": "jd17yStCTKoK",
        "colab_type": "code",
        "colab": {
          "base_uri": "https://localhost:8080/",
          "height": 282
        },
        "outputId": "a6fd360c-9feb-4a18-bae4-cd5b9fafc223"
      },
      "source": [
        "#At learning rate =.01\n",
        "plt.plot(running_loss_history,label='training loss')"
      ],
      "execution_count": 39,
      "outputs": [
        {
          "output_type": "execute_result",
          "data": {
            "text/plain": [
              "[<matplotlib.lines.Line2D at 0x7f655b866400>]"
            ]
          },
          "metadata": {
            "tags": []
          },
          "execution_count": 39
        },
        {
          "output_type": "display_data",
          "data": {
            "image/png": "[encoded data removed]",
            "text/plain": [
              "<Figure size 432x288 with 1 Axes>"
            ]
          },
          "metadata": {
            "tags": [],
            "needs_background": "light"
          }
        }
      ]
    },
    {
      "cell_type": "markdown",
      "metadata": {
        "id": "NBlQNWXJUmuX",
        "colab_type": "text"
      },
      "source": [
        "**We can see that the loss is fluctuating as epochs progresses. Recalling the concept of gradient descent, it gradually adjust the parameters of your model in the direction of the least error,descending with the gradient. The steps that it takes to arrive at optimal parameters is dictated by the learning rate. If learning rate is too high, the steps it take will be too large, such that the parameters will in a way flip flop back and forth between points overshooting the minimum and thus leading to divergent losses. As we see in this case. Decreasing the learning rate allows the model to better zero in on a solution for the parameters. When you see divergent losses you should decrease the learning rate**"
      ]
    },
    {
      "cell_type": "code",
      "metadata": {
        "id": "HVVlzt3kUYFX",
        "colab_type": "code",
        "colab": {
          "base_uri": "https://localhost:8080/",
          "height": 282
        },
        "outputId": "aa066f03-f036-4061-dc79-faf43bd892df"
      },
      "source": [
        "#At learning rate =.0001\n",
        "plt.plot(running_loss_history,label='training loss')"
      ],
      "execution_count": 10,
      "outputs": [
        {
          "output_type": "execute_result",
          "data": {
            "text/plain": [
              "[<matplotlib.lines.Line2D at 0x7ff11ac1c198>]"
            ]
          },
          "metadata": {
            "tags": []
          },
          "execution_count": 10
        },
        {
          "output_type": "display_data",
          "data": {
            "image/png": "[encoded data removed]",
            "text/plain": [
              "<Figure size 432x288 with 1 Axes>"
            ]
          },
          "metadata": {
            "tags": [],
            "needs_background": "light"
          }
        }
      ]
    },
    {
      "cell_type": "code",
      "metadata": {
        "id": "D_0LuIFEXuaa",
        "colab_type": "code",
        "colab": {
          "base_uri": "https://localhost:8080/",
          "height": 282
        },
        "outputId": "cdc3191e-73f2-4875-d4bb-2cea789c0ea3"
      },
      "source": [
        "plt.plot(running_correct_history,label='Training Acc.')"
      ],
      "execution_count": 12,
      "outputs": [
        {
          "output_type": "execute_result",
          "data": {
            "text/plain": [
              "[<matplotlib.lines.Line2D at 0x7ff119892278>]"
            ]
          },
          "metadata": {
            "tags": []
          },
          "execution_count": 12
        },
        {
          "output_type": "display_data",
          "data": {
            "image/png": "[encoded data removed]",
            "text/plain": [
              "<Figure size 432x288 with 1 Axes>"
            ]
          },
          "metadata": {
            "tags": [],
            "needs_background": "light"
          }
        }
      ]
    },
    {
      "cell_type": "code",
      "metadata": {
        "id": "vK0Epv9_YvYC",
        "colab_type": "code",
        "colab": {
          "base_uri": "https://localhost:8080/",
          "height": 282
        },
        "outputId": "c058d610-3f31-4dbd-9048-c63834b5c6dc"
      },
      "source": [
        "#At learning rate =.0001\n",
        "plt.plot(running_loss_history,label='training loss')\n",
        "#At learning rate =.0001\n",
        "plt.plot(val_running_loss_history,label='validation loss')\n",
        "plt.legend()"
      ],
      "execution_count": 10,
      "outputs": [
        {
          "output_type": "execute_result",
          "data": {
            "text/plain": [
              "<matplotlib.legend.Legend at 0x7efdf0f62438>"
            ]
          },
          "metadata": {
            "tags": []
          },
          "execution_count": 10
        },
        {
          "output_type": "display_data",
          "data": {
            "image/png": "[encoded data removed]",
            "text/plain": [
              "<Figure size 432x288 with 1 Axes>"
            ]
          },
          "metadata": {
            "tags": [],
            "needs_background": "light"
          }
        }
      ]
    },
    {
      "cell_type": "code",
      "metadata": {
        "id": "LB0TJ8_d1bkB",
        "colab_type": "code",
        "colab": {
          "base_uri": "https://localhost:8080/",
          "height": 282
        },
        "outputId": "0941cc6f-6412-4924-d902-c73928277cbf"
      },
      "source": [
        "plt.plot(running_correct_history,label='Training Acc.')\n",
        "plt.plot(val_running_correct_history,label='Validation Acc.')\n",
        "plt.legend()"
      ],
      "execution_count": 11,
      "outputs": [
        {
          "output_type": "execute_result",
          "data": {
            "text/plain": [
              "<matplotlib.legend.Legend at 0x7efdef2f5908>"
            ]
          },
          "metadata": {
            "tags": []
          },
          "execution_count": 11
        },
        {
          "output_type": "display_data",
          "data": {
            "image/png": "[encoded data removed]",
            "text/plain": [
              "<Figure size 432x288 with 1 Axes>"
            ]
          },
          "metadata": {
            "tags": [],
            "needs_background": "light"
          }
        }
      ]
    },
    {
      "cell_type": "code",
      "metadata": {
        "id": "Jzi4zKbI1rEE",
        "colab_type": "code",
        "colab": {}
      },
      "source": [
        "#Testing Link\n",
        "url='https://images.homedepot-static.com/productImages/007164ea-d47e-4f66-8d8c-fd9f621984a2/svn/architectural-mailboxes-house-letters-numbers-3585b-5-64_1000.jpg'\n"
      ],
      "execution_count": 43,
      "outputs": []
    },
    {
      "cell_type": "code",
      "metadata": {
        "id": "p5OueIJJD3QL",
        "colab_type": "code",
        "colab": {
          "base_uri": "https://localhost:8080/",
          "height": 282
        },
        "outputId": "4461cd27-55d6-423c-8ec1-ebe5a0dd330f"
      },
      "source": [
        "response=requests.get(url,stream=True)\n",
        "img=Image.open(response.raw)\n",
        "img=PIL.ImageOps.invert(img)\n",
        "img=img.convert('1')\n",
        "img=transform(img)\n",
        "#img=img.clone().detach().numpy()\n",
        "#img=img.transpose(1,2,0)\n",
        "\n",
        "\n",
        "plt.imshow(im_convert(img))\n",
        "img=img.to(device)"
      ],
      "execution_count": 45,
      "outputs": [
        {
          "output_type": "stream",
          "text": [
            "(1, 28, 28)\n"
          ],
          "name": "stdout"
        },
        {
          "output_type": "display_data",
          "data": {
            "image/png": "[encoded data removed]",
            "text/plain": [
              "<Figure size 432x288 with 1 Axes>"
            ]
          },
          "metadata": {
            "tags": [],
            "needs_background": "light"
          }
        }
      ]
    },
    {
      "cell_type": "code",
      "metadata": {
        "id": "Sp4iPdi8EhKo",
        "colab_type": "code",
        "colab": {
          "base_uri": "https://localhost:8080/",
          "height": 34
        },
        "outputId": "dc7a5ec6-b024-4a2f-d08d-277257bed185"
      },
      "source": [
        "img=img.view(img.shape[0],-1)\n",
        "output=model(img)\n",
        "_,pred=torch.max(output,1)\n",
        "print(pred.item())"
      ],
      "execution_count": 46,
      "outputs": [
        {
          "output_type": "stream",
          "text": [
            "5\n"
          ],
          "name": "stdout"
        }
      ]
    },
    {
      "cell_type": "code",
      "metadata": {
        "id": "NWUCwWFsEqob",
        "colab_type": "code",
        "colab": {}
      },
      "source": [
        ""
      ],
      "execution_count": null,
      "outputs": []
    },
    {
      "cell_type": "code",
      "metadata": {
        "id": "hzxSCFYAKcmr",
        "colab_type": "code",
        "colab": {}
      },
      "source": [
        ""
      ],
      "execution_count": null,
      "outputs": []
    }
  ]
}