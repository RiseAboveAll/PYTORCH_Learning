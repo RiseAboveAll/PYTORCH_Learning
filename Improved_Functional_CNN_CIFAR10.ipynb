{
  "nbformat": 4,
  "nbformat_minor": 0,
  "metadata": {
    "colab": {
      "name": "Improved-Functional-CNN-CIFAR10.ipynb",
      "provenance": [],
      "authorship_tag": "ABX9TyMRkeAALPB7qu7ThcEDckSt",
      "include_colab_link": true
    },
    "kernelspec": {
      "name": "python3",
      "display_name": "Python 3"
    },
    "accelerator": "GPU"
  },
  "cells": [
    {
      "cell_type": "markdown",
      "metadata": {
        "id": "view-in-github",
        "colab_type": "text"
      },
      "source": [
        "<a href=\"https://colab.research.google.com/github/RiseAboveAll/PYTORCH_Learning/blob/master/Improved_Functional_CNN_CIFAR10.ipynb\" target=\"_parent\"><img src=\"https://colab.research.google.com/assets/colab-badge.svg\" alt=\"Open In Colab\"/></a>"
      ]
    },
    {
      "cell_type": "code",
      "metadata": {
        "id": "i452MEw8oYD2",
        "colab_type": "code",
        "colab": {}
      },
      "source": [
        ""
      ],
      "execution_count": null,
      "outputs": []
    },
    {
      "cell_type": "markdown",
      "metadata": {
        "id": "v7OLTvIv6xc9",
        "colab_type": "text"
      },
      "source": [
        "## Import Libraries"
      ]
    },
    {
      "cell_type": "code",
      "metadata": {
        "id": "dsrzxNZF26iF",
        "colab_type": "code",
        "colab": {}
      },
      "source": [
        "import torch\n",
        "from torch import nn\n",
        "from torchvision import transforms\n",
        "import torchvision\n",
        "from torch.nn import functional as F\n",
        "from torch.utils.data import DataLoader\n",
        "import numpy as np\n",
        "import matplotlib.pyplot as plt\n",
        "from datetime import datetime\n",
        "from torchsummary import summary"
      ],
      "execution_count": 25,
      "outputs": []
    },
    {
      "cell_type": "markdown",
      "metadata": {
        "id": "cQQeo5Uy60zx",
        "colab_type": "text"
      },
      "source": [
        "## Load Dataset"
      ]
    },
    {
      "cell_type": "code",
      "metadata": {
        "id": "M2WddOHQpCAU",
        "colab_type": "code",
        "colab": {}
      },
      "source": [
        "transformer_train=transforms.Compose([transforms.RandomCrop(32,padding=4),transforms.RandomHorizontalFlip(p=.5),transforms.RandomAffine(0,translate=(.1,.1)),transforms.ToTensor()])"
      ],
      "execution_count": 5,
      "outputs": []
    },
    {
      "cell_type": "code",
      "metadata": {
        "id": "L_TiYxWq4Og8",
        "colab_type": "code",
        "colab": {
          "base_uri": "https://localhost:8080/",
          "height": 50
        },
        "outputId": "44ccb5dd-f176-4586-b752-cf04d27ba198"
      },
      "source": [
        "train_dataset=torchvision.datasets.CIFAR10(root='.',train=True,transform=transformer_train,download=True)\n",
        "test_dataset=torchvision.datasets.CIFAR10(root='.',train=False,transform=transforms.ToTensor(),download=True)"
      ],
      "execution_count": 6,
      "outputs": [
        {
          "output_type": "stream",
          "text": [
            "Files already downloaded and verified\n",
            "Files already downloaded and verified\n"
          ],
          "name": "stdout"
        }
      ]
    },
    {
      "cell_type": "code",
      "metadata": {
        "id": "ZxZD27rJ4jsq",
        "colab_type": "code",
        "colab": {
          "base_uri": "https://localhost:8080/",
          "height": 33
        },
        "outputId": "8665656b-69f5-4e58-cf54-7cfdadd42393"
      },
      "source": [
        "#We can see the data is not in tensor form , rather it is in numpy array form\n",
        "train_dataset.data.shape"
      ],
      "execution_count": 9,
      "outputs": [
        {
          "output_type": "execute_result",
          "data": {
            "text/plain": [
              "(50000, 32, 32, 3)"
            ]
          },
          "metadata": {
            "tags": []
          },
          "execution_count": 9
        }
      ]
    },
    {
      "cell_type": "code",
      "metadata": {
        "id": "hDohvWRJ560A",
        "colab_type": "code",
        "colab": {}
      },
      "source": [
        "K=len(set(train_dataset.targets))"
      ],
      "execution_count": 7,
      "outputs": []
    },
    {
      "cell_type": "code",
      "metadata": {
        "id": "Y5_Kq_T46dps",
        "colab_type": "code",
        "colab": {
          "base_uri": "https://localhost:8080/",
          "height": 33
        },
        "outputId": "b620f698-9ab0-4efd-f9d7-fd624bc21637"
      },
      "source": [
        "#Number of Classes\n",
        "K"
      ],
      "execution_count": 8,
      "outputs": [
        {
          "output_type": "execute_result",
          "data": {
            "text/plain": [
              "10"
            ]
          },
          "metadata": {
            "tags": []
          },
          "execution_count": 8
        }
      ]
    },
    {
      "cell_type": "markdown",
      "metadata": {
        "id": "h_Dch5f569UU",
        "colab_type": "text"
      },
      "source": [
        "## Data Loader"
      ]
    },
    {
      "cell_type": "code",
      "metadata": {
        "id": "kplXedgt6ehV",
        "colab_type": "code",
        "colab": {}
      },
      "source": [
        "batch_size=128\n",
        "train_loader=DataLoader(dataset=train_dataset,batch_size=batch_size,shuffle=True)\n",
        "test_loader=DataLoader(dataset=test_dataset,batch_size=batch_size,shuffle=False)"
      ],
      "execution_count": 10,
      "outputs": []
    },
    {
      "cell_type": "markdown",
      "metadata": {
        "id": "ADh6cCjz7vFD",
        "colab_type": "text"
      },
      "source": [
        "## Model Buidling :"
      ]
    },
    {
      "cell_type": "code",
      "metadata": {
        "id": "-y4rYneI7xJJ",
        "colab_type": "code",
        "colab": {}
      },
      "source": [
        "class CNN(nn.Module):\n",
        "  def __init__(self,K):\n",
        "    super(CNN,self).__init__()\n",
        "    #Define Convolution Layer\n",
        "    self.conv1=nn.Sequential(\n",
        "        nn.Conv2d(in_channels=3,out_channels=32,kernel_size=3,padding=1),\n",
        "        nn.ReLU(),\n",
        "        #Batchnorm Number of feature will be equal to out_channels of previous convolution layer\n",
        "        nn.BatchNorm2d(32),\n",
        "        nn.Conv2d(in_channels=32,out_channels=32,kernel_size=3,padding=1),\n",
        "        nn.ReLU(),\n",
        "        nn.BatchNorm2d(32),\n",
        "        nn.MaxPool2d(2)\n",
        "    )\n",
        "    self.conv2=nn.Sequential(\n",
        "        nn.Conv2d(in_channels=32,out_channels=64,kernel_size=3,padding=1),\n",
        "        nn.ReLU(),\n",
        "        #Batchnorm Number of feature will be equal to out_channels of previous convolution layer\n",
        "        nn.BatchNorm2d(64),\n",
        "        nn.Conv2d(in_channels=64,out_channels=64,kernel_size=3,padding=1),\n",
        "        nn.ReLU(),\n",
        "        nn.BatchNorm2d(64),\n",
        "        nn.MaxPool2d(2)\n",
        "    )\n",
        "    self.conv3=nn.Sequential(\n",
        "        nn.Conv2d(in_channels=64,out_channels=128,kernel_size=3,padding=1),\n",
        "        nn.ReLU(),\n",
        "        #Batchnorm Number of feature will be equal to out_channels of previous convolution layer\n",
        "        nn.BatchNorm2d(128),\n",
        "        nn.Conv2d(in_channels=128,out_channels=128,kernel_size=3,padding=1),\n",
        "        nn.ReLU(),\n",
        "        nn.BatchNorm2d(128),\n",
        "        nn.MaxPool2d(2)\n",
        "    )\n",
        "    #Define Dense Layer\n",
        "    self.Dense1=nn.Linear(128*4*4,1024)\n",
        "    self.Dense2=nn.Linear(1024,K)\n",
        "  def forward(self,X):\n",
        "    X=self.conv1(X)\n",
        "    X=self.conv2(X)\n",
        "    X=self.conv3(X)\n",
        "    X=X.view(X.size(0),-1)\n",
        "    X=F.dropout(X,p=.5)\n",
        "    X=F.relu(self.Dense1(X))\n",
        "    X=F.dropout(X,p=.2)\n",
        "    X=self.Dense2(X)\n",
        "    return X\n"
      ],
      "execution_count": 17,
      "outputs": []
    },
    {
      "cell_type": "code",
      "metadata": {
        "id": "Ldew2nrM7U5O",
        "colab_type": "code",
        "colab": {}
      },
      "source": [
        "model=CNN(K)"
      ],
      "execution_count": 18,
      "outputs": []
    },
    {
      "cell_type": "code",
      "metadata": {
        "id": "jTiFp0vvMiQD",
        "colab_type": "code",
        "colab": {
          "base_uri": "https://localhost:8080/",
          "height": 537
        },
        "outputId": "1b706fb8-b670-417e-aabf-fa50b2ee7731"
      },
      "source": [
        "device=torch.device(\"cuda:0\" if torch.cuda.is_available() else \"cpu\")\n",
        "print(device)\n",
        "model.to(device)"
      ],
      "execution_count": 19,
      "outputs": [
        {
          "output_type": "stream",
          "text": [
            "cuda:0\n"
          ],
          "name": "stdout"
        },
        {
          "output_type": "execute_result",
          "data": {
            "text/plain": [
              "CNN(\n",
              "  (conv1): Sequential(\n",
              "    (0): Conv2d(3, 32, kernel_size=(3, 3), stride=(1, 1), padding=(1, 1))\n",
              "    (1): ReLU()\n",
              "    (2): BatchNorm2d(32, eps=1e-05, momentum=0.1, affine=True, track_running_stats=True)\n",
              "    (3): Conv2d(32, 32, kernel_size=(3, 3), stride=(1, 1), padding=(1, 1))\n",
              "    (4): ReLU()\n",
              "    (5): BatchNorm2d(32, eps=1e-05, momentum=0.1, affine=True, track_running_stats=True)\n",
              "    (6): MaxPool2d(kernel_size=2, stride=2, padding=0, dilation=1, ceil_mode=False)\n",
              "  )\n",
              "  (conv2): Sequential(\n",
              "    (0): Conv2d(32, 64, kernel_size=(3, 3), stride=(1, 1), padding=(1, 1))\n",
              "    (1): ReLU()\n",
              "    (2): BatchNorm2d(64, eps=1e-05, momentum=0.1, affine=True, track_running_stats=True)\n",
              "    (3): Conv2d(64, 64, kernel_size=(3, 3), stride=(1, 1), padding=(1, 1))\n",
              "    (4): ReLU()\n",
              "    (5): BatchNorm2d(64, eps=1e-05, momentum=0.1, affine=True, track_running_stats=True)\n",
              "    (6): MaxPool2d(kernel_size=2, stride=2, padding=0, dilation=1, ceil_mode=False)\n",
              "  )\n",
              "  (conv3): Sequential(\n",
              "    (0): Conv2d(64, 128, kernel_size=(3, 3), stride=(1, 1), padding=(1, 1))\n",
              "    (1): ReLU()\n",
              "    (2): BatchNorm2d(128, eps=1e-05, momentum=0.1, affine=True, track_running_stats=True)\n",
              "    (3): Conv2d(128, 128, kernel_size=(3, 3), stride=(1, 1), padding=(1, 1))\n",
              "    (4): ReLU()\n",
              "    (5): BatchNorm2d(128, eps=1e-05, momentum=0.1, affine=True, track_running_stats=True)\n",
              "    (6): MaxPool2d(kernel_size=2, stride=2, padding=0, dilation=1, ceil_mode=False)\n",
              "  )\n",
              "  (Dense1): Linear(in_features=2048, out_features=1024, bias=True)\n",
              "  (Dense2): Linear(in_features=1024, out_features=10, bias=True)\n",
              ")"
            ]
          },
          "metadata": {
            "tags": []
          },
          "execution_count": 19
        }
      ]
    },
    {
      "cell_type": "code",
      "metadata": {
        "id": "il2BIyhtDTbo",
        "colab_type": "code",
        "colab": {}
      },
      "source": [
        "#Loss & Optimizer\n",
        "criterion=nn.CrossEntropyLoss()\n",
        "optimizer=torch.optim.Adam(model.parameters(),lr=.0001)"
      ],
      "execution_count": 20,
      "outputs": []
    },
    {
      "cell_type": "code",
      "metadata": {
        "id": "8-iioBXtDvXN",
        "colab_type": "code",
        "colab": {}
      },
      "source": [
        "# Function to Encapsulate training\n",
        "def batch_gradient(model,criterion,optimizer,train_loader,test_loader,epochs):\n",
        "  train_losses=np.zeros(epochs)\n",
        "  test_losses=np.zeros(epochs)\n",
        "  for it in range(epochs):\n",
        "    t0=datetime.now()\n",
        "    train_loss=[]\n",
        "    for inputs,targets in train_loader:\n",
        "      #Move Data to GPU\n",
        "      inputs,targets=inputs.to(device),targets.to(device)\n",
        "      #Zero the parameter Gradient\n",
        "      optimizer.zero_grad()\n",
        "      #Forward Pass\n",
        "      outputs=model(inputs)\n",
        "      loss=criterion(outputs,targets)\n",
        "      #Bacward Pass\n",
        "      loss.backward()\n",
        "      #Perform single optmization step\n",
        "      optimizer.step()\n",
        "\n",
        "      train_loss.append(loss.item())\n",
        "\n",
        "    #Get train loss and test loss\n",
        "    train_loss=np.mean(train_loss)\n",
        "    test_loss=[]\n",
        "    for inputs,targets in test_loader:\n",
        "      #Move Data to GPU\n",
        "      inputs,targets=inputs.to(device),targets.to(device)\n",
        "      outputs=model(inputs)\n",
        "      loss=criterion(outputs,targets)\n",
        "      test_loss.append(loss.item())\n",
        "    test_loss=np.mean(test_loss)\n",
        "\n",
        "    #Save Losses\n",
        "    train_losses[it]=train_loss\n",
        "    test_losses[it]=test_loss\n",
        "    dt=datetime.now()-t0\n",
        "    print(f'Epoch {it+1}/{epochs},Duration : {dt} , Train Loss : {train_loss : .4f},  Test Loss : {test_loss : .4f}')\n",
        "  return train_losses,test_losses\n",
        "\n",
        "\n",
        "\n",
        "\n"
      ],
      "execution_count": 21,
      "outputs": []
    },
    {
      "cell_type": "code",
      "metadata": {
        "id": "wv49vyN5D-E5",
        "colab_type": "code",
        "colab": {
          "base_uri": "https://localhost:8080/",
          "height": 830
        },
        "outputId": "a9bb0ecf-64c1-4468-e751-9368fd2e55ed"
      },
      "source": [
        "train_losses,test_losses=batch_gradient(model,criterion,optimizer,train_loader,test_loader,50)"
      ],
      "execution_count": 22,
      "outputs": [
        {
          "output_type": "stream",
          "text": [
            "Epoch 1/50,Duration : 0:00:42.936566 , Train Loss :  1.6404,  Test Loss :  1.3898\n",
            "Epoch 2/50,Duration : 0:00:42.882573 , Train Loss :  1.3328,  Test Loss :  1.2028\n",
            "Epoch 3/50,Duration : 0:00:42.928132 , Train Loss :  1.1749,  Test Loss :  1.0851\n",
            "Epoch 4/50,Duration : 0:00:42.750539 , Train Loss :  1.0590,  Test Loss :  1.0312\n",
            "Epoch 5/50,Duration : 0:00:42.817687 , Train Loss :  0.9803,  Test Loss :  0.9265\n",
            "Epoch 6/50,Duration : 0:00:42.934659 , Train Loss :  0.9098,  Test Loss :  0.8758\n",
            "Epoch 7/50,Duration : 0:00:43.274757 , Train Loss :  0.8627,  Test Loss :  0.8466\n",
            "Epoch 8/50,Duration : 0:00:43.316394 , Train Loss :  0.8158,  Test Loss :  0.7982\n",
            "Epoch 9/50,Duration : 0:00:43.209715 , Train Loss :  0.7782,  Test Loss :  0.7894\n",
            "Epoch 10/50,Duration : 0:00:43.342237 , Train Loss :  0.7385,  Test Loss :  0.7609\n",
            "Epoch 11/50,Duration : 0:00:43.342129 , Train Loss :  0.7193,  Test Loss :  0.7392\n",
            "Epoch 12/50,Duration : 0:00:43.175682 , Train Loss :  0.6936,  Test Loss :  0.7258\n",
            "Epoch 13/50,Duration : 0:00:43.210023 , Train Loss :  0.6690,  Test Loss :  0.6894\n",
            "Epoch 14/50,Duration : 0:00:42.997368 , Train Loss :  0.6440,  Test Loss :  0.6730\n",
            "Epoch 15/50,Duration : 0:00:42.984463 , Train Loss :  0.6266,  Test Loss :  0.6648\n",
            "Epoch 16/50,Duration : 0:00:43.134141 , Train Loss :  0.6122,  Test Loss :  0.6478\n",
            "Epoch 17/50,Duration : 0:00:43.238047 , Train Loss :  0.5921,  Test Loss :  0.6394\n",
            "Epoch 18/50,Duration : 0:00:43.276827 , Train Loss :  0.5788,  Test Loss :  0.6388\n",
            "Epoch 19/50,Duration : 0:00:43.729124 , Train Loss :  0.5656,  Test Loss :  0.6221\n",
            "Epoch 20/50,Duration : 0:00:43.357920 , Train Loss :  0.5515,  Test Loss :  0.6260\n",
            "Epoch 21/50,Duration : 0:00:43.334248 , Train Loss :  0.5390,  Test Loss :  0.6064\n",
            "Epoch 22/50,Duration : 0:00:43.468622 , Train Loss :  0.5251,  Test Loss :  0.6149\n",
            "Epoch 23/50,Duration : 0:00:43.385910 , Train Loss :  0.5195,  Test Loss :  0.5983\n",
            "Epoch 24/50,Duration : 0:00:43.710144 , Train Loss :  0.5068,  Test Loss :  0.5764\n",
            "Epoch 25/50,Duration : 0:00:43.803122 , Train Loss :  0.4927,  Test Loss :  0.5659\n",
            "Epoch 26/50,Duration : 0:00:43.917819 , Train Loss :  0.4840,  Test Loss :  0.5780\n",
            "Epoch 27/50,Duration : 0:00:43.052895 , Train Loss :  0.4700,  Test Loss :  0.5667\n",
            "Epoch 28/50,Duration : 0:00:42.673374 , Train Loss :  0.4663,  Test Loss :  0.5458\n",
            "Epoch 29/50,Duration : 0:00:42.816457 , Train Loss :  0.4605,  Test Loss :  0.5605\n",
            "Epoch 30/50,Duration : 0:00:42.879675 , Train Loss :  0.4496,  Test Loss :  0.5496\n",
            "Epoch 31/50,Duration : 0:00:42.792144 , Train Loss :  0.4413,  Test Loss :  0.5453\n",
            "Epoch 32/50,Duration : 0:00:42.886150 , Train Loss :  0.4364,  Test Loss :  0.5463\n",
            "Epoch 33/50,Duration : 0:00:42.855496 , Train Loss :  0.4281,  Test Loss :  0.5340\n",
            "Epoch 34/50,Duration : 0:00:42.944844 , Train Loss :  0.4215,  Test Loss :  0.5391\n",
            "Epoch 35/50,Duration : 0:00:42.904384 , Train Loss :  0.4077,  Test Loss :  0.5246\n",
            "Epoch 36/50,Duration : 0:00:42.986562 , Train Loss :  0.4052,  Test Loss :  0.5340\n",
            "Epoch 37/50,Duration : 0:00:42.947782 , Train Loss :  0.4028,  Test Loss :  0.5206\n",
            "Epoch 38/50,Duration : 0:00:42.765485 , Train Loss :  0.3958,  Test Loss :  0.5238\n",
            "Epoch 39/50,Duration : 0:00:42.837999 , Train Loss :  0.3892,  Test Loss :  0.5320\n",
            "Epoch 40/50,Duration : 0:00:42.874621 , Train Loss :  0.3838,  Test Loss :  0.5035\n",
            "Epoch 41/50,Duration : 0:00:42.928336 , Train Loss :  0.3817,  Test Loss :  0.5062\n",
            "Epoch 42/50,Duration : 0:00:42.907177 , Train Loss :  0.3708,  Test Loss :  0.5036\n",
            "Epoch 43/50,Duration : 0:00:42.835076 , Train Loss :  0.3651,  Test Loss :  0.5071\n",
            "Epoch 44/50,Duration : 0:00:42.728419 , Train Loss :  0.3660,  Test Loss :  0.5096\n",
            "Epoch 45/50,Duration : 0:00:42.755478 , Train Loss :  0.3577,  Test Loss :  0.5022\n",
            "Epoch 46/50,Duration : 0:00:42.821614 , Train Loss :  0.3540,  Test Loss :  0.5035\n",
            "Epoch 47/50,Duration : 0:00:42.881241 , Train Loss :  0.3478,  Test Loss :  0.4937\n",
            "Epoch 48/50,Duration : 0:00:42.913552 , Train Loss :  0.3473,  Test Loss :  0.4937\n",
            "Epoch 49/50,Duration : 0:00:42.990601 , Train Loss :  0.3382,  Test Loss :  0.4903\n",
            "Epoch 50/50,Duration : 0:00:42.838090 , Train Loss :  0.3375,  Test Loss :  0.4885\n"
          ],
          "name": "stdout"
        }
      ]
    },
    {
      "cell_type": "code",
      "metadata": {
        "id": "2P3rxbiFFIKz",
        "colab_type": "code",
        "colab": {
          "base_uri": "https://localhost:8080/",
          "height": 281
        },
        "outputId": "3f049e4f-2c01-4b1d-949d-2e2af4512fda"
      },
      "source": [
        "plt.plot(train_losses,label='train loss')\n",
        "plt.plot(test_losses,label='test loss')\n",
        "plt.legend()"
      ],
      "execution_count": 23,
      "outputs": [
        {
          "output_type": "execute_result",
          "data": {
            "text/plain": [
              "<matplotlib.legend.Legend at 0x7f6865c2f0f0>"
            ]
          },
          "metadata": {
            "tags": []
          },
          "execution_count": 23
        },
        {
          "output_type": "display_data",
          "data": {
            "image/png": "[encoded data removed]",
            "text/plain": [
              "<Figure size 432x288 with 1 Axes>"
            ]
          },
          "metadata": {
            "tags": [],
            "needs_background": "light"
          }
        }
      ]
    },
    {
      "cell_type": "code",
      "metadata": {
        "id": "qOYXF0ThFOnh",
        "colab_type": "code",
        "colab": {
          "base_uri": "https://localhost:8080/",
          "height": 33
        },
        "outputId": "d70643fa-0fba-4872-8e3a-22b5ce18e904"
      },
      "source": [
        "# Accuracy\n",
        "\n",
        "n_correct=0\n",
        "n_total=0\n",
        "for inputs,targets in train_loader:\n",
        "  #Move data to GPU\n",
        "  inputs,targets=inputs.to(device),targets.to(device)\n",
        "  #Forward Pass\n",
        "  outputs=model(inputs)\n",
        "  #Get Prediction\n",
        "  _,predictions=torch.max(outputs,1)\n",
        "  #update counts\n",
        "  n_correct += (predictions==targets).sum().item()\n",
        "  n_total += targets.shape[0]\n",
        "train_acc = n_correct/n_total\n",
        "n_correct=0\n",
        "n_total=0\n",
        "for inputs,targets in test_loader:\n",
        "  #Move data to GPU\n",
        "  inputs,targets=inputs.to(device),targets.to(device)\n",
        "  #Forward Pass\n",
        "  outputs=model(inputs)\n",
        "  #Get Prediction\n",
        "  _,predictions=torch.max(outputs,1)\n",
        "  #update counts\n",
        "  n_correct += (predictions==targets).sum().item()\n",
        "  n_total += targets.shape[0]\n",
        "test_acc=n_correct/n_total\n",
        "print(f'Train Acc : {train_acc:.4f}, Test Acc : {test_acc:.4f}')"
      ],
      "execution_count": 24,
      "outputs": [
        {
          "output_type": "stream",
          "text": [
            "Train Acc : 0.8828, Test Acc : 0.8360\n"
          ],
          "name": "stdout"
        }
      ]
    },
    {
      "cell_type": "markdown",
      "metadata": {
        "id": "W4pCycZh3HWW",
        "colab_type": "text"
      },
      "source": [
        "## Model Summary"
      ]
    },
    {
      "cell_type": "code",
      "metadata": {
        "id": "y6OGCxp3MnLG",
        "colab_type": "code",
        "colab": {
          "base_uri": "https://localhost:8080/",
          "height": 602
        },
        "outputId": "20ba88de-699d-404a-bf72-bdc1b85ad26a"
      },
      "source": [
        "summary(model,(3,32,32))"
      ],
      "execution_count": 26,
      "outputs": [
        {
          "output_type": "stream",
          "text": [
            "----------------------------------------------------------------\n",
            "        Layer (type)               Output Shape         Param #\n",
            "================================================================\n",
            "            Conv2d-1           [-1, 32, 32, 32]             896\n",
            "              ReLU-2           [-1, 32, 32, 32]               0\n",
            "       BatchNorm2d-3           [-1, 32, 32, 32]              64\n",
            "            Conv2d-4           [-1, 32, 32, 32]           9,248\n",
            "              ReLU-5           [-1, 32, 32, 32]               0\n",
            "       BatchNorm2d-6           [-1, 32, 32, 32]              64\n",
            "         MaxPool2d-7           [-1, 32, 16, 16]               0\n",
            "            Conv2d-8           [-1, 64, 16, 16]          18,496\n",
            "              ReLU-9           [-1, 64, 16, 16]               0\n",
            "      BatchNorm2d-10           [-1, 64, 16, 16]             128\n",
            "           Conv2d-11           [-1, 64, 16, 16]          36,928\n",
            "             ReLU-12           [-1, 64, 16, 16]               0\n",
            "      BatchNorm2d-13           [-1, 64, 16, 16]             128\n",
            "        MaxPool2d-14             [-1, 64, 8, 8]               0\n",
            "           Conv2d-15            [-1, 128, 8, 8]          73,856\n",
            "             ReLU-16            [-1, 128, 8, 8]               0\n",
            "      BatchNorm2d-17            [-1, 128, 8, 8]             256\n",
            "           Conv2d-18            [-1, 128, 8, 8]         147,584\n",
            "             ReLU-19            [-1, 128, 8, 8]               0\n",
            "      BatchNorm2d-20            [-1, 128, 8, 8]             256\n",
            "        MaxPool2d-21            [-1, 128, 4, 4]               0\n",
            "           Linear-22                 [-1, 1024]       2,098,176\n",
            "           Linear-23                   [-1, 10]          10,250\n",
            "================================================================\n",
            "Total params: 2,396,330\n",
            "Trainable params: 2,396,330\n",
            "Non-trainable params: 0\n",
            "----------------------------------------------------------------\n",
            "Input size (MB): 0.01\n",
            "Forward/backward pass size (MB): 2.74\n",
            "Params size (MB): 9.14\n",
            "Estimated Total Size (MB): 11.90\n",
            "----------------------------------------------------------------\n"
          ],
          "name": "stdout"
        }
      ]
    },
    {
      "cell_type": "code",
      "metadata": {
        "id": "sJRwd0W_3MP_",
        "colab_type": "code",
        "colab": {}
      },
      "source": [
        ""
      ],
      "execution_count": null,
      "outputs": []
    }
  ]
}