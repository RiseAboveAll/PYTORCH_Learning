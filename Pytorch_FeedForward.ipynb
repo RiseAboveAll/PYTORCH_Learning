{
  "nbformat": 4,
  "nbformat_minor": 0,
  "metadata": {
    "colab": {
      "name": "Pytorch-FeedForward.ipynb",
      "provenance": [],
      "collapsed_sections": [
        "fxA7pqV3WK0v",
        "jZFHH7Rrx6kq",
        "LD6aCb0-sP_u",
        "S6P6pYio-51L",
        "6vLEUy1YeZys",
        "PU0xItyeedVh",
        "LP7ejkare6XT"
      ],
      "authorship_tag": "ABX9TyPTufWcoDmkhtl8l3JR4dI5",
      "include_colab_link": true
    },
    "kernelspec": {
      "name": "python3",
      "display_name": "Python 3"
    },
    "accelerator": "GPU",
    "widgets": {
      "application/vnd.jupyter.widget-state+json": {
        "e102cc52402f4c2caac1484ee3f1b2d0": {
          "model_module": "@jupyter-widgets/controls",
          "model_name": "HBoxModel",
          "state": {
            "_view_name": "HBoxView",
            "_dom_classes": [],
            "_model_name": "HBoxModel",
            "_view_module": "@jupyter-widgets/controls",
            "_model_module_version": "1.5.0",
            "_view_count": null,
            "_view_module_version": "1.5.0",
            "box_style": "",
            "layout": "IPY_MODEL_9f9534456b6540079ccce53ea621860d",
            "_model_module": "@jupyter-widgets/controls",
            "children": [
              "IPY_MODEL_2063761380f640c1a02a8058ad20533c",
              "IPY_MODEL_7994a3b427eb4af3aa8c274ec5b70e64"
            ]
          }
        },
        "9f9534456b6540079ccce53ea621860d": {
          "model_module": "@jupyter-widgets/base",
          "model_name": "LayoutModel",
          "state": {
            "_view_name": "LayoutView",
            "grid_template_rows": null,
            "right": null,
            "justify_content": null,
            "_view_module": "@jupyter-widgets/base",
            "overflow": null,
            "_model_module_version": "1.2.0",
            "_view_count": null,
            "flex_flow": null,
            "width": null,
            "min_width": null,
            "border": null,
            "align_items": null,
            "bottom": null,
            "_model_module": "@jupyter-widgets/base",
            "top": null,
            "grid_column": null,
            "overflow_y": null,
            "overflow_x": null,
            "grid_auto_flow": null,
            "grid_area": null,
            "grid_template_columns": null,
            "flex": null,
            "_model_name": "LayoutModel",
            "justify_items": null,
            "grid_row": null,
            "max_height": null,
            "align_content": null,
            "visibility": null,
            "align_self": null,
            "height": null,
            "min_height": null,
            "padding": null,
            "grid_auto_rows": null,
            "grid_gap": null,
            "max_width": null,
            "order": null,
            "_view_module_version": "1.2.0",
            "grid_template_areas": null,
            "object_position": null,
            "object_fit": null,
            "grid_auto_columns": null,
            "margin": null,
            "display": null,
            "left": null
          }
        },
        "2063761380f640c1a02a8058ad20533c": {
          "model_module": "@jupyter-widgets/controls",
          "model_name": "FloatProgressModel",
          "state": {
            "_view_name": "ProgressView",
            "style": "IPY_MODEL_9f423eaac24541cbaf64af1c4d4712d3",
            "_dom_classes": [],
            "description": "",
            "_model_name": "FloatProgressModel",
            "bar_style": "info",
            "max": 1,
            "_view_module": "@jupyter-widgets/controls",
            "_model_module_version": "1.5.0",
            "value": 1,
            "_view_count": null,
            "_view_module_version": "1.5.0",
            "orientation": "horizontal",
            "min": 0,
            "description_tooltip": null,
            "_model_module": "@jupyter-widgets/controls",
            "layout": "IPY_MODEL_4be6d2f090c34c049b84b2e490f0ff01"
          }
        },
        "7994a3b427eb4af3aa8c274ec5b70e64": {
          "model_module": "@jupyter-widgets/controls",
          "model_name": "HTMLModel",
          "state": {
            "_view_name": "HTMLView",
            "style": "IPY_MODEL_4179ffcf51c04039b00384f670cdc8c4",
            "_dom_classes": [],
            "description": "",
            "_model_name": "HTMLModel",
            "placeholder": "​",
            "_view_module": "@jupyter-widgets/controls",
            "_model_module_version": "1.5.0",
            "value": " 9920512/? [00:20&lt;00:00, 1001634.68it/s]",
            "_view_count": null,
            "_view_module_version": "1.5.0",
            "description_tooltip": null,
            "_model_module": "@jupyter-widgets/controls",
            "layout": "IPY_MODEL_9577bb039dda468e94dd159c2fca5d73"
          }
        },
        "9f423eaac24541cbaf64af1c4d4712d3": {
          "model_module": "@jupyter-widgets/controls",
          "model_name": "ProgressStyleModel",
          "state": {
            "_view_name": "StyleView",
            "_model_name": "ProgressStyleModel",
            "description_width": "initial",
            "_view_module": "@jupyter-widgets/base",
            "_model_module_version": "1.5.0",
            "_view_count": null,
            "_view_module_version": "1.2.0",
            "bar_color": null,
            "_model_module": "@jupyter-widgets/controls"
          }
        },
        "4be6d2f090c34c049b84b2e490f0ff01": {
          "model_module": "@jupyter-widgets/base",
          "model_name": "LayoutModel",
          "state": {
            "_view_name": "LayoutView",
            "grid_template_rows": null,
            "right": null,
            "justify_content": null,
            "_view_module": "@jupyter-widgets/base",
            "overflow": null,
            "_model_module_version": "1.2.0",
            "_view_count": null,
            "flex_flow": null,
            "width": null,
            "min_width": null,
            "border": null,
            "align_items": null,
            "bottom": null,
            "_model_module": "@jupyter-widgets/base",
            "top": null,
            "grid_column": null,
            "overflow_y": null,
            "overflow_x": null,
            "grid_auto_flow": null,
            "grid_area": null,
            "grid_template_columns": null,
            "flex": null,
            "_model_name": "LayoutModel",
            "justify_items": null,
            "grid_row": null,
            "max_height": null,
            "align_content": null,
            "visibility": null,
            "align_self": null,
            "height": null,
            "min_height": null,
            "padding": null,
            "grid_auto_rows": null,
            "grid_gap": null,
            "max_width": null,
            "order": null,
            "_view_module_version": "1.2.0",
            "grid_template_areas": null,
            "object_position": null,
            "object_fit": null,
            "grid_auto_columns": null,
            "margin": null,
            "display": null,
            "left": null
          }
        },
        "4179ffcf51c04039b00384f670cdc8c4": {
          "model_module": "@jupyter-widgets/controls",
          "model_name": "DescriptionStyleModel",
          "state": {
            "_view_name": "StyleView",
            "_model_name": "DescriptionStyleModel",
            "description_width": "",
            "_view_module": "@jupyter-widgets/base",
            "_model_module_version": "1.5.0",
            "_view_count": null,
            "_view_module_version": "1.2.0",
            "_model_module": "@jupyter-widgets/controls"
          }
        },
        "9577bb039dda468e94dd159c2fca5d73": {
          "model_module": "@jupyter-widgets/base",
          "model_name": "LayoutModel",
          "state": {
            "_view_name": "LayoutView",
            "grid_template_rows": null,
            "right": null,
            "justify_content": null,
            "_view_module": "@jupyter-widgets/base",
            "overflow": null,
            "_model_module_version": "1.2.0",
            "_view_count": null,
            "flex_flow": null,
            "width": null,
            "min_width": null,
            "border": null,
            "align_items": null,
            "bottom": null,
            "_model_module": "@jupyter-widgets/base",
            "top": null,
            "grid_column": null,
            "overflow_y": null,
            "overflow_x": null,
            "grid_auto_flow": null,
            "grid_area": null,
            "grid_template_columns": null,
            "flex": null,
            "_model_name": "LayoutModel",
            "justify_items": null,
            "grid_row": null,
            "max_height": null,
            "align_content": null,
            "visibility": null,
            "align_self": null,
            "height": null,
            "min_height": null,
            "padding": null,
            "grid_auto_rows": null,
            "grid_gap": null,
            "max_width": null,
            "order": null,
            "_view_module_version": "1.2.0",
            "grid_template_areas": null,
            "object_position": null,
            "object_fit": null,
            "grid_auto_columns": null,
            "margin": null,
            "display": null,
            "left": null
          }
        },
        "edcb10d347664d30808d4e301290fe6b": {
          "model_module": "@jupyter-widgets/controls",
          "model_name": "HBoxModel",
          "state": {
            "_view_name": "HBoxView",
            "_dom_classes": [],
            "_model_name": "HBoxModel",
            "_view_module": "@jupyter-widgets/controls",
            "_model_module_version": "1.5.0",
            "_view_count": null,
            "_view_module_version": "1.5.0",
            "box_style": "",
            "layout": "IPY_MODEL_01c8bdc0b5644733aad39e920a660d3d",
            "_model_module": "@jupyter-widgets/controls",
            "children": [
              "IPY_MODEL_4e3f0c3395034b35ac5529f06aec4f7c",
              "IPY_MODEL_f45224f843ce4a5bbcec9d0b7da433bb"
            ]
          }
        },
        "01c8bdc0b5644733aad39e920a660d3d": {
          "model_module": "@jupyter-widgets/base",
          "model_name": "LayoutModel",
          "state": {
            "_view_name": "LayoutView",
            "grid_template_rows": null,
            "right": null,
            "justify_content": null,
            "_view_module": "@jupyter-widgets/base",
            "overflow": null,
            "_model_module_version": "1.2.0",
            "_view_count": null,
            "flex_flow": null,
            "width": null,
            "min_width": null,
            "border": null,
            "align_items": null,
            "bottom": null,
            "_model_module": "@jupyter-widgets/base",
            "top": null,
            "grid_column": null,
            "overflow_y": null,
            "overflow_x": null,
            "grid_auto_flow": null,
            "grid_area": null,
            "grid_template_columns": null,
            "flex": null,
            "_model_name": "LayoutModel",
            "justify_items": null,
            "grid_row": null,
            "max_height": null,
            "align_content": null,
            "visibility": null,
            "align_self": null,
            "height": null,
            "min_height": null,
            "padding": null,
            "grid_auto_rows": null,
            "grid_gap": null,
            "max_width": null,
            "order": null,
            "_view_module_version": "1.2.0",
            "grid_template_areas": null,
            "object_position": null,
            "object_fit": null,
            "grid_auto_columns": null,
            "margin": null,
            "display": null,
            "left": null
          }
        },
        "4e3f0c3395034b35ac5529f06aec4f7c": {
          "model_module": "@jupyter-widgets/controls",
          "model_name": "FloatProgressModel",
          "state": {
            "_view_name": "ProgressView",
            "style": "IPY_MODEL_69c164d12a2f4e829f598f3161d76609",
            "_dom_classes": [],
            "description": "",
            "_model_name": "FloatProgressModel",
            "bar_style": "success",
            "max": 1,
            "_view_module": "@jupyter-widgets/controls",
            "_model_module_version": "1.5.0",
            "value": 1,
            "_view_count": null,
            "_view_module_version": "1.5.0",
            "orientation": "horizontal",
            "min": 0,
            "description_tooltip": null,
            "_model_module": "@jupyter-widgets/controls",
            "layout": "IPY_MODEL_1ac32968b35449bcbe6a91265d7b64b5"
          }
        },
        "f45224f843ce4a5bbcec9d0b7da433bb": {
          "model_module": "@jupyter-widgets/controls",
          "model_name": "HTMLModel",
          "state": {
            "_view_name": "HTMLView",
            "style": "IPY_MODEL_ea0c270bb2b74e399230d88d70ba32d8",
            "_dom_classes": [],
            "description": "",
            "_model_name": "HTMLModel",
            "placeholder": "​",
            "_view_module": "@jupyter-widgets/controls",
            "_model_module_version": "1.5.0",
            "value": " 32768/? [00:01&lt;00:00, 28205.72it/s]",
            "_view_count": null,
            "_view_module_version": "1.5.0",
            "description_tooltip": null,
            "_model_module": "@jupyter-widgets/controls",
            "layout": "IPY_MODEL_d9185c15e6114aa285adf04c42925564"
          }
        },
        "69c164d12a2f4e829f598f3161d76609": {
          "model_module": "@jupyter-widgets/controls",
          "model_name": "ProgressStyleModel",
          "state": {
            "_view_name": "StyleView",
            "_model_name": "ProgressStyleModel",
            "description_width": "initial",
            "_view_module": "@jupyter-widgets/base",
            "_model_module_version": "1.5.0",
            "_view_count": null,
            "_view_module_version": "1.2.0",
            "bar_color": null,
            "_model_module": "@jupyter-widgets/controls"
          }
        },
        "1ac32968b35449bcbe6a91265d7b64b5": {
          "model_module": "@jupyter-widgets/base",
          "model_name": "LayoutModel",
          "state": {
            "_view_name": "LayoutView",
            "grid_template_rows": null,
            "right": null,
            "justify_content": null,
            "_view_module": "@jupyter-widgets/base",
            "overflow": null,
            "_model_module_version": "1.2.0",
            "_view_count": null,
            "flex_flow": null,
            "width": null,
            "min_width": null,
            "border": null,
            "align_items": null,
            "bottom": null,
            "_model_module": "@jupyter-widgets/base",
            "top": null,
            "grid_column": null,
            "overflow_y": null,
            "overflow_x": null,
            "grid_auto_flow": null,
            "grid_area": null,
            "grid_template_columns": null,
            "flex": null,
            "_model_name": "LayoutModel",
            "justify_items": null,
            "grid_row": null,
            "max_height": null,
            "align_content": null,
            "visibility": null,
            "align_self": null,
            "height": null,
            "min_height": null,
            "padding": null,
            "grid_auto_rows": null,
            "grid_gap": null,
            "max_width": null,
            "order": null,
            "_view_module_version": "1.2.0",
            "grid_template_areas": null,
            "object_position": null,
            "object_fit": null,
            "grid_auto_columns": null,
            "margin": null,
            "display": null,
            "left": null
          }
        },
        "ea0c270bb2b74e399230d88d70ba32d8": {
          "model_module": "@jupyter-widgets/controls",
          "model_name": "DescriptionStyleModel",
          "state": {
            "_view_name": "StyleView",
            "_model_name": "DescriptionStyleModel",
            "description_width": "",
            "_view_module": "@jupyter-widgets/base",
            "_model_module_version": "1.5.0",
            "_view_count": null,
            "_view_module_version": "1.2.0",
            "_model_module": "@jupyter-widgets/controls"
          }
        },
        "d9185c15e6114aa285adf04c42925564": {
          "model_module": "@jupyter-widgets/base",
          "model_name": "LayoutModel",
          "state": {
            "_view_name": "LayoutView",
            "grid_template_rows": null,
            "right": null,
            "justify_content": null,
            "_view_module": "@jupyter-widgets/base",
            "overflow": null,
            "_model_module_version": "1.2.0",
            "_view_count": null,
            "flex_flow": null,
            "width": null,
            "min_width": null,
            "border": null,
            "align_items": null,
            "bottom": null,
            "_model_module": "@jupyter-widgets/base",
            "top": null,
            "grid_column": null,
            "overflow_y": null,
            "overflow_x": null,
            "grid_auto_flow": null,
            "grid_area": null,
            "grid_template_columns": null,
            "flex": null,
            "_model_name": "LayoutModel",
            "justify_items": null,
            "grid_row": null,
            "max_height": null,
            "align_content": null,
            "visibility": null,
            "align_self": null,
            "height": null,
            "min_height": null,
            "padding": null,
            "grid_auto_rows": null,
            "grid_gap": null,
            "max_width": null,
            "order": null,
            "_view_module_version": "1.2.0",
            "grid_template_areas": null,
            "object_position": null,
            "object_fit": null,
            "grid_auto_columns": null,
            "margin": null,
            "display": null,
            "left": null
          }
        },
        "d0888705d33d47d0a3f15cb4b426d83e": {
          "model_module": "@jupyter-widgets/controls",
          "model_name": "HBoxModel",
          "state": {
            "_view_name": "HBoxView",
            "_dom_classes": [],
            "_model_name": "HBoxModel",
            "_view_module": "@jupyter-widgets/controls",
            "_model_module_version": "1.5.0",
            "_view_count": null,
            "_view_module_version": "1.5.0",
            "box_style": "",
            "layout": "IPY_MODEL_1d294619d5ef44cd970bdbc4d0a5cab9",
            "_model_module": "@jupyter-widgets/controls",
            "children": [
              "IPY_MODEL_e2e744d48fb942e7967e41deeb2e8bfc",
              "IPY_MODEL_d5edaefdcf384cd8bc7114c1992120e2"
            ]
          }
        },
        "1d294619d5ef44cd970bdbc4d0a5cab9": {
          "model_module": "@jupyter-widgets/base",
          "model_name": "LayoutModel",
          "state": {
            "_view_name": "LayoutView",
            "grid_template_rows": null,
            "right": null,
            "justify_content": null,
            "_view_module": "@jupyter-widgets/base",
            "overflow": null,
            "_model_module_version": "1.2.0",
            "_view_count": null,
            "flex_flow": null,
            "width": null,
            "min_width": null,
            "border": null,
            "align_items": null,
            "bottom": null,
            "_model_module": "@jupyter-widgets/base",
            "top": null,
            "grid_column": null,
            "overflow_y": null,
            "overflow_x": null,
            "grid_auto_flow": null,
            "grid_area": null,
            "grid_template_columns": null,
            "flex": null,
            "_model_name": "LayoutModel",
            "justify_items": null,
            "grid_row": null,
            "max_height": null,
            "align_content": null,
            "visibility": null,
            "align_self": null,
            "height": null,
            "min_height": null,
            "padding": null,
            "grid_auto_rows": null,
            "grid_gap": null,
            "max_width": null,
            "order": null,
            "_view_module_version": "1.2.0",
            "grid_template_areas": null,
            "object_position": null,
            "object_fit": null,
            "grid_auto_columns": null,
            "margin": null,
            "display": null,
            "left": null
          }
        },
        "e2e744d48fb942e7967e41deeb2e8bfc": {
          "model_module": "@jupyter-widgets/controls",
          "model_name": "FloatProgressModel",
          "state": {
            "_view_name": "ProgressView",
            "style": "IPY_MODEL_17113b8dbd8e45a5bca44b39026761eb",
            "_dom_classes": [],
            "description": "",
            "_model_name": "FloatProgressModel",
            "bar_style": "success",
            "max": 1,
            "_view_module": "@jupyter-widgets/controls",
            "_model_module_version": "1.5.0",
            "value": 1,
            "_view_count": null,
            "_view_module_version": "1.5.0",
            "orientation": "horizontal",
            "min": 0,
            "description_tooltip": null,
            "_model_module": "@jupyter-widgets/controls",
            "layout": "IPY_MODEL_1a2788058e47491abd2af3ae48302a13"
          }
        },
        "d5edaefdcf384cd8bc7114c1992120e2": {
          "model_module": "@jupyter-widgets/controls",
          "model_name": "HTMLModel",
          "state": {
            "_view_name": "HTMLView",
            "style": "IPY_MODEL_b817917faa2a4799ac80dba8b4ff17f8",
            "_dom_classes": [],
            "description": "",
            "_model_name": "HTMLModel",
            "placeholder": "​",
            "_view_module": "@jupyter-widgets/controls",
            "_model_module_version": "1.5.0",
            "value": " 1654784/? [00:00&lt;00:00, 1968620.02it/s]",
            "_view_count": null,
            "_view_module_version": "1.5.0",
            "description_tooltip": null,
            "_model_module": "@jupyter-widgets/controls",
            "layout": "IPY_MODEL_6d464333ceb5483d95e8830e239b1fa7"
          }
        },
        "17113b8dbd8e45a5bca44b39026761eb": {
          "model_module": "@jupyter-widgets/controls",
          "model_name": "ProgressStyleModel",
          "state": {
            "_view_name": "StyleView",
            "_model_name": "ProgressStyleModel",
            "description_width": "initial",
            "_view_module": "@jupyter-widgets/base",
            "_model_module_version": "1.5.0",
            "_view_count": null,
            "_view_module_version": "1.2.0",
            "bar_color": null,
            "_model_module": "@jupyter-widgets/controls"
          }
        },
        "1a2788058e47491abd2af3ae48302a13": {
          "model_module": "@jupyter-widgets/base",
          "model_name": "LayoutModel",
          "state": {
            "_view_name": "LayoutView",
            "grid_template_rows": null,
            "right": null,
            "justify_content": null,
            "_view_module": "@jupyter-widgets/base",
            "overflow": null,
            "_model_module_version": "1.2.0",
            "_view_count": null,
            "flex_flow": null,
            "width": null,
            "min_width": null,
            "border": null,
            "align_items": null,
            "bottom": null,
            "_model_module": "@jupyter-widgets/base",
            "top": null,
            "grid_column": null,
            "overflow_y": null,
            "overflow_x": null,
            "grid_auto_flow": null,
            "grid_area": null,
            "grid_template_columns": null,
            "flex": null,
            "_model_name": "LayoutModel",
            "justify_items": null,
            "grid_row": null,
            "max_height": null,
            "align_content": null,
            "visibility": null,
            "align_self": null,
            "height": null,
            "min_height": null,
            "padding": null,
            "grid_auto_rows": null,
            "grid_gap": null,
            "max_width": null,
            "order": null,
            "_view_module_version": "1.2.0",
            "grid_template_areas": null,
            "object_position": null,
            "object_fit": null,
            "grid_auto_columns": null,
            "margin": null,
            "display": null,
            "left": null
          }
        },
        "b817917faa2a4799ac80dba8b4ff17f8": {
          "model_module": "@jupyter-widgets/controls",
          "model_name": "DescriptionStyleModel",
          "state": {
            "_view_name": "StyleView",
            "_model_name": "DescriptionStyleModel",
            "description_width": "",
            "_view_module": "@jupyter-widgets/base",
            "_model_module_version": "1.5.0",
            "_view_count": null,
            "_view_module_version": "1.2.0",
            "_model_module": "@jupyter-widgets/controls"
          }
        },
        "6d464333ceb5483d95e8830e239b1fa7": {
          "model_module": "@jupyter-widgets/base",
          "model_name": "LayoutModel",
          "state": {
            "_view_name": "LayoutView",
            "grid_template_rows": null,
            "right": null,
            "justify_content": null,
            "_view_module": "@jupyter-widgets/base",
            "overflow": null,
            "_model_module_version": "1.2.0",
            "_view_count": null,
            "flex_flow": null,
            "width": null,
            "min_width": null,
            "border": null,
            "align_items": null,
            "bottom": null,
            "_model_module": "@jupyter-widgets/base",
            "top": null,
            "grid_column": null,
            "overflow_y": null,
            "overflow_x": null,
            "grid_auto_flow": null,
            "grid_area": null,
            "grid_template_columns": null,
            "flex": null,
            "_model_name": "LayoutModel",
            "justify_items": null,
            "grid_row": null,
            "max_height": null,
            "align_content": null,
            "visibility": null,
            "align_self": null,
            "height": null,
            "min_height": null,
            "padding": null,
            "grid_auto_rows": null,
            "grid_gap": null,
            "max_width": null,
            "order": null,
            "_view_module_version": "1.2.0",
            "grid_template_areas": null,
            "object_position": null,
            "object_fit": null,
            "grid_auto_columns": null,
            "margin": null,
            "display": null,
            "left": null
          }
        },
        "7b72898b7f4849d98b03f4f59b39bc16": {
          "model_module": "@jupyter-widgets/controls",
          "model_name": "HBoxModel",
          "state": {
            "_view_name": "HBoxView",
            "_dom_classes": [],
            "_model_name": "HBoxModel",
            "_view_module": "@jupyter-widgets/controls",
            "_model_module_version": "1.5.0",
            "_view_count": null,
            "_view_module_version": "1.5.0",
            "box_style": "",
            "layout": "IPY_MODEL_22684bb16cb04e6588b98e2148f3ac76",
            "_model_module": "@jupyter-widgets/controls",
            "children": [
              "IPY_MODEL_fa2d000680c546b0b04b512d4e482b1e",
              "IPY_MODEL_66256ce5af5b482fbe08913a070fe3c6"
            ]
          }
        },
        "22684bb16cb04e6588b98e2148f3ac76": {
          "model_module": "@jupyter-widgets/base",
          "model_name": "LayoutModel",
          "state": {
            "_view_name": "LayoutView",
            "grid_template_rows": null,
            "right": null,
            "justify_content": null,
            "_view_module": "@jupyter-widgets/base",
            "overflow": null,
            "_model_module_version": "1.2.0",
            "_view_count": null,
            "flex_flow": null,
            "width": null,
            "min_width": null,
            "border": null,
            "align_items": null,
            "bottom": null,
            "_model_module": "@jupyter-widgets/base",
            "top": null,
            "grid_column": null,
            "overflow_y": null,
            "overflow_x": null,
            "grid_auto_flow": null,
            "grid_area": null,
            "grid_template_columns": null,
            "flex": null,
            "_model_name": "LayoutModel",
            "justify_items": null,
            "grid_row": null,
            "max_height": null,
            "align_content": null,
            "visibility": null,
            "align_self": null,
            "height": null,
            "min_height": null,
            "padding": null,
            "grid_auto_rows": null,
            "grid_gap": null,
            "max_width": null,
            "order": null,
            "_view_module_version": "1.2.0",
            "grid_template_areas": null,
            "object_position": null,
            "object_fit": null,
            "grid_auto_columns": null,
            "margin": null,
            "display": null,
            "left": null
          }
        },
        "fa2d000680c546b0b04b512d4e482b1e": {
          "model_module": "@jupyter-widgets/controls",
          "model_name": "FloatProgressModel",
          "state": {
            "_view_name": "ProgressView",
            "style": "IPY_MODEL_839b21fddf694c03a1f6f3b548227894",
            "_dom_classes": [],
            "description": "  0%",
            "_model_name": "FloatProgressModel",
            "bar_style": "info",
            "max": 1,
            "_view_module": "@jupyter-widgets/controls",
            "_model_module_version": "1.5.0",
            "value": 0,
            "_view_count": null,
            "_view_module_version": "1.5.0",
            "orientation": "horizontal",
            "min": 0,
            "description_tooltip": null,
            "_model_module": "@jupyter-widgets/controls",
            "layout": "IPY_MODEL_fecfe39df4b0421ba4e11a2c7948e8bd"
          }
        },
        "66256ce5af5b482fbe08913a070fe3c6": {
          "model_module": "@jupyter-widgets/controls",
          "model_name": "HTMLModel",
          "state": {
            "_view_name": "HTMLView",
            "style": "IPY_MODEL_c6360eeca2544df6815e114091cf8835",
            "_dom_classes": [],
            "description": "",
            "_model_name": "HTMLModel",
            "placeholder": "​",
            "_view_module": "@jupyter-widgets/controls",
            "_model_module_version": "1.5.0",
            "value": " 0/4542 [00:00&lt;?, ?it/s]",
            "_view_count": null,
            "_view_module_version": "1.5.0",
            "description_tooltip": null,
            "_model_module": "@jupyter-widgets/controls",
            "layout": "IPY_MODEL_93acb47275cb407cb081407066daf9c4"
          }
        },
        "839b21fddf694c03a1f6f3b548227894": {
          "model_module": "@jupyter-widgets/controls",
          "model_name": "ProgressStyleModel",
          "state": {
            "_view_name": "StyleView",
            "_model_name": "ProgressStyleModel",
            "description_width": "initial",
            "_view_module": "@jupyter-widgets/base",
            "_model_module_version": "1.5.0",
            "_view_count": null,
            "_view_module_version": "1.2.0",
            "bar_color": null,
            "_model_module": "@jupyter-widgets/controls"
          }
        },
        "fecfe39df4b0421ba4e11a2c7948e8bd": {
          "model_module": "@jupyter-widgets/base",
          "model_name": "LayoutModel",
          "state": {
            "_view_name": "LayoutView",
            "grid_template_rows": null,
            "right": null,
            "justify_content": null,
            "_view_module": "@jupyter-widgets/base",
            "overflow": null,
            "_model_module_version": "1.2.0",
            "_view_count": null,
            "flex_flow": null,
            "width": null,
            "min_width": null,
            "border": null,
            "align_items": null,
            "bottom": null,
            "_model_module": "@jupyter-widgets/base",
            "top": null,
            "grid_column": null,
            "overflow_y": null,
            "overflow_x": null,
            "grid_auto_flow": null,
            "grid_area": null,
            "grid_template_columns": null,
            "flex": null,
            "_model_name": "LayoutModel",
            "justify_items": null,
            "grid_row": null,
            "max_height": null,
            "align_content": null,
            "visibility": null,
            "align_self": null,
            "height": null,
            "min_height": null,
            "padding": null,
            "grid_auto_rows": null,
            "grid_gap": null,
            "max_width": null,
            "order": null,
            "_view_module_version": "1.2.0",
            "grid_template_areas": null,
            "object_position": null,
            "object_fit": null,
            "grid_auto_columns": null,
            "margin": null,
            "display": null,
            "left": null
          }
        },
        "c6360eeca2544df6815e114091cf8835": {
          "model_module": "@jupyter-widgets/controls",
          "model_name": "DescriptionStyleModel",
          "state": {
            "_view_name": "StyleView",
            "_model_name": "DescriptionStyleModel",
            "description_width": "",
            "_view_module": "@jupyter-widgets/base",
            "_model_module_version": "1.5.0",
            "_view_count": null,
            "_view_module_version": "1.2.0",
            "_model_module": "@jupyter-widgets/controls"
          }
        },
        "93acb47275cb407cb081407066daf9c4": {
          "model_module": "@jupyter-widgets/base",
          "model_name": "LayoutModel",
          "state": {
            "_view_name": "LayoutView",
            "grid_template_rows": null,
            "right": null,
            "justify_content": null,
            "_view_module": "@jupyter-widgets/base",
            "overflow": null,
            "_model_module_version": "1.2.0",
            "_view_count": null,
            "flex_flow": null,
            "width": null,
            "min_width": null,
            "border": null,
            "align_items": null,
            "bottom": null,
            "_model_module": "@jupyter-widgets/base",
            "top": null,
            "grid_column": null,
            "overflow_y": null,
            "overflow_x": null,
            "grid_auto_flow": null,
            "grid_area": null,
            "grid_template_columns": null,
            "flex": null,
            "_model_name": "LayoutModel",
            "justify_items": null,
            "grid_row": null,
            "max_height": null,
            "align_content": null,
            "visibility": null,
            "align_self": null,
            "height": null,
            "min_height": null,
            "padding": null,
            "grid_auto_rows": null,
            "grid_gap": null,
            "max_width": null,
            "order": null,
            "_view_module_version": "1.2.0",
            "grid_template_areas": null,
            "object_position": null,
            "object_fit": null,
            "grid_auto_columns": null,
            "margin": null,
            "display": null,
            "left": null
          }
        }
      }
    }
  },
  "cells": [
    {
      "cell_type": "markdown",
      "metadata": {
        "id": "view-in-github",
        "colab_type": "text"
      },
      "source": [
        "<a href=\"https://colab.research.google.com/github/RiseAboveAll/PYTORCH_Learning/blob/master/Pytorch_FeedForward.ipynb\" target=\"_parent\"><img src=\"https://colab.research.google.com/assets/colab-badge.svg\" alt=\"Open In Colab\"/></a>"
      ]
    },
    {
      "cell_type": "markdown",
      "metadata": {
        "id": "fxA7pqV3WK0v",
        "colab_type": "text"
      },
      "source": [
        "# Artificial Neural Network"
      ]
    },
    {
      "cell_type": "markdown",
      "metadata": {
        "id": "VcCgrHsgtBO4",
        "colab_type": "text"
      },
      "source": [
        "- Type of neural network : Feed Forward Neural Network"
      ]
    },
    {
      "cell_type": "markdown",
      "metadata": {
        "id": "dXX_S81KWVvU",
        "colab_type": "text"
      },
      "source": [
        "\n",
        "\n",
        "### **Forward Propogation**\n",
        "\n",
        "  -  Different neurons find different features from the input\n",
        "\n",
        "  -  Stack layers of neurons over layer\n",
        "\n",
        "  -  Same inputs can be attached to multiple different neurons, each calculating something different\n",
        "\n",
        "  -  Neurons of one layer can act as input to another layer, it increases depth and width of layer and network \n",
        "\n",
        "  -  A neuron : sigmoid(w.T . X + b)\n",
        "\n",
        "  -  Multiple Neurons : Consider when you have multiple neurons in a layer, let say from 1 to M, Zj=sigmoid(wj.T . X + bj) for j=1 to M . It can also be written more effeciently as in vector form : if Zj=sigmoid(Wj.T . X + bj) for j=1 to M then Z=sigmoid(W.T . X + b). Where :\n",
        "      \n",
        "      -  z is a matrices of size M (M x 1)\n",
        "\n",
        "      -  X is the vector of size D (Dx1) \n",
        "\n",
        "      -  W is the matrix of size D x M\n",
        "\n",
        "      -  b is a vector of size M ( Mx1 )\n",
        "\n",
        "      -  sigmoid() is an element wise multiplication\n",
        "\n",
        "\n",
        "\n",
        "\n",
        "\n",
        "\n",
        "\n"
      ]
    },
    {
      "cell_type": "markdown",
      "metadata": {
        "id": "jZFHH7Rrx6kq",
        "colab_type": "text"
      },
      "source": [
        "### **Activation Functions**"
      ]
    },
    {
      "cell_type": "markdown",
      "metadata": {
        "id": "LD6aCb0-sP_u",
        "colab_type": "text"
      },
      "source": [
        "\n",
        "\n",
        "- Sigmoid Activation:\n",
        "  \n",
        "  -  Makes neural network non linear\n",
        "\n",
        "  -  Issues with sigmoid activation function :\n",
        "\n",
        "      -  **Standardization** : We want our inputs to have mean of 0 and std at 1 and hence in same scale . Problem with sigmoid is that output is centered between 0 and 1, i.e at .5. The output of the sigmoid layer is input to the next layer . If the output is centered around 0.5 hence there is no uniformity , which is not good as next layer would also want to see the standardized input, hence we want both the input and the output of the layer both to be standardized.\n",
        "\n",
        "-  Hyperbolic Tangent(tanh) :\n",
        "\n",
        "    -  It is centered at 0 \n",
        "\n",
        "    -  It lies between -1 to 1 \n",
        "\n",
        "    -  tanh(a) = (exp(2a) - 1)/(exp(2a) + 1)\n",
        "\n",
        "    -  Issues with both **Sigmoid** & **Tanh** :\n",
        "\n",
        "        -  Vanishing Gradient : We use gradient descent to train the model. Hence we calculate the gradient of the cost with respect to parameters. The issue comes with deeper neural network, gradients have to propogate backwards throughout the networks starting from the end. Output is made of bunch of composite function, which are ove non-linear functions , hence when we take the gradient or derivative of composite function , we get chain rule, hence composite function becomes multiplication in the derivative. Derivative of sigmoid and tanh are near to 0 at flatter regions on both side of the axis. Only in the center it is non zero, maximum value of derivative is 0.25. When we multiply the smaller gradients consecutively , we get very small values, hence gradients become very small as we go further back in depth of neural network. Hence the gradients will vanish. \n",
        "\n",
        "\n",
        "-  ReLu : \n",
        "\n",
        "    -  Partially Differentiable\n",
        "\n",
        "    -  Values greater than 0 never have 0 gradient which makes training neural network lot more efficient. \n",
        "\n",
        "    -  ReLu does not have vanishing gradient as values less than equal 0 has already vanished. It is basically **Dead Neuron** . Dead Neurons are neurons which outputs always 0 because the weighted sum of its inputs are always less or equal 0. \n",
        "\n",
        "-  Leaky-Relu :\n",
        "\n",
        "    -  Has Slope < 1 for values less than 0 \n",
        "\n",
        "    -  Derivatives will always be positive \n",
        "\n",
        "-  ELU : \n",
        "\n",
        "    -  Higher speed of convergence\n",
        "\n",
        "    -  Higher accuracy\n",
        "\n",
        "    -  Allows outputs to be negative which goes back to the idea that mean of the values are close to 0 \n",
        "\n",
        "-  Softplus:\n",
        "\n",
        "    -  Taking log of the exponent, looks linear when the input is reasonably large. \n",
        "\n",
        "    -  For softplus and Relu minimum value is around 0 and maximum value is infinity , hence they are not centered around 0. \n",
        "\n"
      ]
    },
    {
      "cell_type": "markdown",
      "metadata": {
        "id": "c6E-L2-RKPLr",
        "colab_type": "text"
      },
      "source": [
        "**Something to try in activation function : BRU ( Bionodal Root Unit ) "
      ]
    },
    {
      "cell_type": "markdown",
      "metadata": {
        "id": "dF2GIPSWk1J8",
        "colab_type": "text"
      },
      "source": [
        "Code for fully Connected layer block : Sequential :\n",
        "\n",
        "nn.Sequential(\n",
        "\n",
        "  nn.Linear(D,M),\n",
        "\n",
        "  nn.ReLU(),\n",
        "\n",
        "  nn.Linear(M,K),\n",
        "\n",
        "  nn.Softmax()\n",
        "\n",
        ")\n",
        "\n"
      ]
    },
    {
      "cell_type": "markdown",
      "metadata": {
        "id": "8Z2T5U1Kn5W-",
        "colab_type": "text"
      },
      "source": [
        "**Do not Use the above code**\n",
        "\n",
        "Because pytorch combines the softmax function with the cross entropy loss (nn.CrossEntropyLoss) \n",
        "\n",
        "Code for multiclass Logistic Regression:\n",
        "\n",
        "model=nn.Linear(D,K)\n",
        "\n",
        "criterion=nn.CrossEntropyLoss()\n",
        "\n",
        "**pytorch does have standalone categorical loss called NLL Loss*\n",
        "\n"
      ]
    },
    {
      "cell_type": "markdown",
      "metadata": {
        "id": "P8lVF2VSpoVB",
        "colab_type": "text"
      },
      "source": [
        "### How to Represent Images "
      ]
    },
    {
      "cell_type": "markdown",
      "metadata": {
        "id": "8XCMF0YEpwnU",
        "colab_type": "text"
      },
      "source": [
        "**How Images are stored in Computer?**\n",
        "\n",
        "-  Images have two properties :\n",
        "\n",
        "    -  Height\n",
        "\n",
        "    -  Width\n",
        "\n",
        "-  It can be stored in form of **Matrix**, in an image matrix you store the color in form of pixel values. Colors comes in different channels like greyscale , RGB , etc. For eg : RGB, it is a set of 3 numbers , hence the matrix will have third dimension apart from height & width , it will be number of channels , i.e in case of RGB image , it is 3 , Hence it is an tensor of size (H,W,C). \n",
        "\n",
        "- **Quantization** : Physically color is light , measured by light intensity, hence it is continuous and has infinite possible values. But computers do not have infinite precision, hence in computers we have given each value as of 8 bits , i.e 2^8 = 256 possible values (0,1,2,....,255). Hence for 3 channels we have 2^8 * 2^8 * 2^8 = 16.8 million possible colors. Using this we can check how much space will an image consume. For example you hve 500 x 500 image , number of bits required = <code>500*500*3*8 = 6 million bits</code>. \n",
        "\n",
        "For images which are greyscale images, image can be either black or white or in between, it is a 2-D array(h,w), 0 represents **Black** & 255 represents **White**.\n",
        "\n",
        "**Image As Inputs**\n",
        "\n",
        "-  We do not use 8-bit valued image, neural network do not like a large scale values. Hence we scale images to have values between 0 and 1. 0 represents Black and 1 represent White in greyscale.  These are not standardized values as they are not centered around 0.  For images these values are convenient as these values can be represented as probabilities. \n",
        "\n",
        "<code>**Exception** VGG images are centered around 0 but the range is still 256.</code>\n",
        "\n",
        "**Images as inputs to neural network**\n",
        "\n",
        "-  Neural network expects input X to be of shape NxD, where <code> N is the number of samples</code> & <code> D is the number of Features</code>. An image can not have D features, it is 3-D object. Hence to represent the data set of images we would need to have a 4-D object of shape (N x H x W x C), where N is number of samples , H is height , W is width, C is number of channels. But when we are dealing with Fully Connected Dense Networks for images , we flatten the images by multiplying Height & Width hence shape is <code> (N , H*W*C) </code> . To do so we use <code> .view() </code> or <code> .reshape() </code> function. "
      ]
    },
    {
      "cell_type": "markdown",
      "metadata": {
        "id": "XQJ3xYtCY2P-",
        "colab_type": "text"
      },
      "source": [
        "# Code Prepration - Fully Connected Network ( ANN ) "
      ]
    },
    {
      "cell_type": "markdown",
      "metadata": {
        "id": "o4aCqMev-F7c",
        "colab_type": "text"
      },
      "source": [
        "- torchvision is the library which consist of datasets like MNIST\n",
        "\n"
      ]
    },
    {
      "cell_type": "markdown",
      "metadata": {
        "id": "fzirjw6Z9aZO",
        "colab_type": "text"
      },
      "source": [
        "## Basic Concepts"
      ]
    },
    {
      "cell_type": "markdown",
      "metadata": {
        "id": "_6NPNhAL-rO7",
        "colab_type": "text"
      },
      "source": [
        "#### Important Libraries"
      ]
    },
    {
      "cell_type": "code",
      "metadata": {
        "id": "X8iwPkBE-uqD",
        "colab_type": "code",
        "colab": {}
      },
      "source": [
        "import torch\n",
        "import torchvision\n",
        "import numpy as np\n",
        "import pandas as pd\n",
        "import matplotlib.pyplot as plt\n",
        "from torch import nn\n",
        "from torchvision import transforms\n",
        "from torch.utils.data import DataLoader\n",
        "from sklearn.metrics import confusion_matrix\n",
        "import itertools"
      ],
      "execution_count": 30,
      "outputs": []
    },
    {
      "cell_type": "markdown",
      "metadata": {
        "id": "S6P6pYio-51L",
        "colab_type": "text"
      },
      "source": [
        "#### Loading Data"
      ]
    },
    {
      "cell_type": "markdown",
      "metadata": {
        "id": "6vLEUy1YeZys",
        "colab_type": "text"
      },
      "source": [
        "##### Train Dataset"
      ]
    },
    {
      "cell_type": "code",
      "metadata": {
        "id": "17gLPeug-75A",
        "colab_type": "code",
        "colab": {
          "base_uri": "https://localhost:8080/",
          "height": 386,
          "referenced_widgets": [
            "e102cc52402f4c2caac1484ee3f1b2d0",
            "9f9534456b6540079ccce53ea621860d",
            "2063761380f640c1a02a8058ad20533c",
            "7994a3b427eb4af3aa8c274ec5b70e64",
            "9f423eaac24541cbaf64af1c4d4712d3",
            "4be6d2f090c34c049b84b2e490f0ff01",
            "4179ffcf51c04039b00384f670cdc8c4",
            "9577bb039dda468e94dd159c2fca5d73",
            "edcb10d347664d30808d4e301290fe6b",
            "01c8bdc0b5644733aad39e920a660d3d",
            "4e3f0c3395034b35ac5529f06aec4f7c",
            "f45224f843ce4a5bbcec9d0b7da433bb",
            "69c164d12a2f4e829f598f3161d76609",
            "1ac32968b35449bcbe6a91265d7b64b5",
            "ea0c270bb2b74e399230d88d70ba32d8",
            "d9185c15e6114aa285adf04c42925564",
            "d0888705d33d47d0a3f15cb4b426d83e",
            "1d294619d5ef44cd970bdbc4d0a5cab9",
            "e2e744d48fb942e7967e41deeb2e8bfc",
            "d5edaefdcf384cd8bc7114c1992120e2",
            "17113b8dbd8e45a5bca44b39026761eb",
            "1a2788058e47491abd2af3ae48302a13",
            "b817917faa2a4799ac80dba8b4ff17f8",
            "6d464333ceb5483d95e8830e239b1fa7",
            "7b72898b7f4849d98b03f4f59b39bc16",
            "22684bb16cb04e6588b98e2148f3ac76",
            "fa2d000680c546b0b04b512d4e482b1e",
            "66256ce5af5b482fbe08913a070fe3c6",
            "839b21fddf694c03a1f6f3b548227894",
            "fecfe39df4b0421ba4e11a2c7948e8bd",
            "c6360eeca2544df6815e114091cf8835",
            "93acb47275cb407cb081407066daf9c4"
          ]
        },
        "outputId": "aab4675d-7867-48fa-c9d9-f2ef459bf8da"
      },
      "source": [
        "train_dataset = torchvision.datasets.MNIST(root='.',train=True,download=True)\n",
        "X_train = train_dataset.data\n",
        "y_train = train_dataset.targets"
      ],
      "execution_count": 2,
      "outputs": [
        {
          "output_type": "stream",
          "text": [
            "Downloading http://yann.lecun.com/exdb/mnist/train-images-idx3-ubyte.gz to ./MNIST/raw/train-images-idx3-ubyte.gz\n"
          ],
          "name": "stdout"
        },
        {
          "output_type": "display_data",
          "data": {
            "application/vnd.jupyter.widget-view+json": {
              "model_id": "e102cc52402f4c2caac1484ee3f1b2d0",
              "version_minor": 0,
              "version_major": 2
            },
            "text/plain": [
              "HBox(children=(FloatProgress(value=1.0, bar_style='info', max=1.0), HTML(value='')))"
            ]
          },
          "metadata": {
            "tags": []
          }
        },
        {
          "output_type": "stream",
          "text": [
            "Extracting ./MNIST/raw/train-images-idx3-ubyte.gz to ./MNIST/raw\n",
            "Downloading http://yann.lecun.com/exdb/mnist/train-labels-idx1-ubyte.gz to ./MNIST/raw/train-labels-idx1-ubyte.gz\n"
          ],
          "name": "stdout"
        },
        {
          "output_type": "display_data",
          "data": {
            "application/vnd.jupyter.widget-view+json": {
              "model_id": "edcb10d347664d30808d4e301290fe6b",
              "version_minor": 0,
              "version_major": 2
            },
            "text/plain": [
              "HBox(children=(FloatProgress(value=1.0, bar_style='info', max=1.0), HTML(value='')))"
            ]
          },
          "metadata": {
            "tags": []
          }
        },
        {
          "output_type": "stream",
          "text": [
            "Extracting ./MNIST/raw/train-labels-idx1-ubyte.gz to ./MNIST/raw\n",
            "Downloading http://yann.lecun.com/exdb/mnist/t10k-images-idx3-ubyte.gz to ./MNIST/raw/t10k-images-idx3-ubyte.gz\n"
          ],
          "name": "stdout"
        },
        {
          "output_type": "display_data",
          "data": {
            "application/vnd.jupyter.widget-view+json": {
              "model_id": "d0888705d33d47d0a3f15cb4b426d83e",
              "version_minor": 0,
              "version_major": 2
            },
            "text/plain": [
              "HBox(children=(FloatProgress(value=1.0, bar_style='info', max=1.0), HTML(value='')))"
            ]
          },
          "metadata": {
            "tags": []
          }
        },
        {
          "output_type": "stream",
          "text": [
            "Extracting ./MNIST/raw/t10k-images-idx3-ubyte.gz to ./MNIST/raw\n",
            "Downloading http://yann.lecun.com/exdb/mnist/t10k-labels-idx1-ubyte.gz to ./MNIST/raw/t10k-labels-idx1-ubyte.gz\n",
            "\n",
            "\n"
          ],
          "name": "stdout"
        },
        {
          "output_type": "display_data",
          "data": {
            "application/vnd.jupyter.widget-view+json": {
              "model_id": "7b72898b7f4849d98b03f4f59b39bc16",
              "version_minor": 0,
              "version_major": 2
            },
            "text/plain": [
              "HBox(children=(FloatProgress(value=1.0, bar_style='info', max=1.0), HTML(value='')))"
            ]
          },
          "metadata": {
            "tags": []
          }
        },
        {
          "output_type": "stream",
          "text": [
            "Extracting ./MNIST/raw/t10k-labels-idx1-ubyte.gz to ./MNIST/raw\n",
            "Processing...\n",
            "Done!\n"
          ],
          "name": "stdout"
        },
        {
          "output_type": "stream",
          "text": [
            "/pytorch/torch/csrc/utils/tensor_numpy.cpp:141: UserWarning: The given NumPy array is not writeable, and PyTorch does not support non-writeable tensors. This means you can write to the underlying (supposedly non-writeable) NumPy array using the tensor. You may want to copy the array to protect its data or make it writeable before converting it to a tensor. This type of warning will be suppressed for the rest of this program.\n"
          ],
          "name": "stderr"
        }
      ]
    },
    {
      "cell_type": "code",
      "metadata": {
        "id": "PMZr9sdSK3H-",
        "colab_type": "code",
        "colab": {
          "base_uri": "https://localhost:8080/",
          "height": 34
        },
        "outputId": "d2e70658-da82-4548-db0c-dd71be8c2441"
      },
      "source": [
        "X_train.shape"
      ],
      "execution_count": 3,
      "outputs": [
        {
          "output_type": "execute_result",
          "data": {
            "text/plain": [
              "torch.Size([60000, 28, 28])"
            ]
          },
          "metadata": {
            "tags": []
          },
          "execution_count": 3
        }
      ]
    },
    {
      "cell_type": "code",
      "metadata": {
        "id": "vpgSoQPA-4jt",
        "colab_type": "code",
        "colab": {
          "base_uri": "https://localhost:8080/",
          "height": 34
        },
        "outputId": "49d6a475-caa0-4264-9365-2ec4a6ead30a"
      },
      "source": [
        "y_train.shape"
      ],
      "execution_count": 4,
      "outputs": [
        {
          "output_type": "execute_result",
          "data": {
            "text/plain": [
              "torch.Size([60000])"
            ]
          },
          "metadata": {
            "tags": []
          },
          "execution_count": 4
        }
      ]
    },
    {
      "cell_type": "markdown",
      "metadata": {
        "id": "PU0xItyeedVh",
        "colab_type": "text"
      },
      "source": [
        "##### Test Dataset"
      ]
    },
    {
      "cell_type": "code",
      "metadata": {
        "id": "RHblKgkIxz1e",
        "colab_type": "code",
        "colab": {}
      },
      "source": [
        "test_dataset = torchvision.datasets.MNIST(root='.',train=False,download=True)\n",
        "X_test = test_dataset.data\n",
        "y_test = test_dataset.targets"
      ],
      "execution_count": 3,
      "outputs": []
    },
    {
      "cell_type": "code",
      "metadata": {
        "id": "AqGnJEJ-pvY6",
        "colab_type": "code",
        "colab": {
          "base_uri": "https://localhost:8080/",
          "height": 34
        },
        "outputId": "1c66e039-9f42-40e9-8d06-5f56ec0e014e"
      },
      "source": [
        "X_test.shape"
      ],
      "execution_count": 6,
      "outputs": [
        {
          "output_type": "execute_result",
          "data": {
            "text/plain": [
              "torch.Size([10000, 28, 28])"
            ]
          },
          "metadata": {
            "tags": []
          },
          "execution_count": 6
        }
      ]
    },
    {
      "cell_type": "code",
      "metadata": {
        "id": "aCIzMZaDesQC",
        "colab_type": "code",
        "colab": {
          "base_uri": "https://localhost:8080/",
          "height": 34
        },
        "outputId": "70ca316e-c1ae-4e22-a5d3-8a11e0ec4579"
      },
      "source": [
        "y_test.shape"
      ],
      "execution_count": 7,
      "outputs": [
        {
          "output_type": "execute_result",
          "data": {
            "text/plain": [
              "torch.Size([10000])"
            ]
          },
          "metadata": {
            "tags": []
          },
          "execution_count": 7
        }
      ]
    },
    {
      "cell_type": "markdown",
      "metadata": {
        "id": "LP7ejkare6XT",
        "colab_type": "text"
      },
      "source": [
        "#### Transform\n",
        "\n",
        "- To normalize the data divide the image array by 255\n",
        "\n",
        "- Reshape the input array from N x H x W to N x D"
      ]
    },
    {
      "cell_type": "code",
      "metadata": {
        "id": "qjHv3Sw1KNy_",
        "colab_type": "code",
        "colab": {}
      },
      "source": [
        "x_train=X_train.reshape(-1,28*28)"
      ],
      "execution_count": 4,
      "outputs": []
    },
    {
      "cell_type": "code",
      "metadata": {
        "id": "I9-59mX5fVyW",
        "colab_type": "code",
        "colab": {
          "base_uri": "https://localhost:8080/",
          "height": 34
        },
        "outputId": "f4a113ad-324f-4678-8179-1d3a659e6006"
      },
      "source": [
        "x_train.shape"
      ],
      "execution_count": 9,
      "outputs": [
        {
          "output_type": "execute_result",
          "data": {
            "text/plain": [
              "torch.Size([60000, 784])"
            ]
          },
          "metadata": {
            "tags": []
          },
          "execution_count": 9
        }
      ]
    },
    {
      "cell_type": "code",
      "metadata": {
        "id": "cgIxwE1eV_4d",
        "colab_type": "code",
        "colab": {}
      },
      "source": [
        "x_test=X_test.reshape(-1,28*28)"
      ],
      "execution_count": 5,
      "outputs": []
    },
    {
      "cell_type": "code",
      "metadata": {
        "id": "6wdvOolQfd03",
        "colab_type": "code",
        "colab": {
          "base_uri": "https://localhost:8080/",
          "height": 34
        },
        "outputId": "305c9812-4f08-4d0f-f9ba-69806a70d867"
      },
      "source": [
        "x_test.shape"
      ],
      "execution_count": 11,
      "outputs": [
        {
          "output_type": "execute_result",
          "data": {
            "text/plain": [
              "torch.Size([10000, 784])"
            ]
          },
          "metadata": {
            "tags": []
          },
          "execution_count": 11
        }
      ]
    },
    {
      "cell_type": "markdown",
      "metadata": {
        "id": "lfpT_foE7bC9",
        "colab_type": "text"
      },
      "source": [
        "### Model Building"
      ]
    },
    {
      "cell_type": "markdown",
      "metadata": {
        "id": "iXLSf-yunI-f",
        "colab_type": "text"
      },
      "source": [
        "**Mathematical Representation of Model**\n",
        "\n",
        "y_hat = softmax(W2.T.a(W1.T * X + b1) + b2)\n",
        "\n",
        "breaking this equation in steps : \n",
        "\n",
        "\n",
        "\n",
        "```\n",
        "# Equational Representation of Steps of Model\n",
        "\n",
        "a1=W1.T * X + b1\n",
        "\n",
        "z1=A(a1)\n",
        "\n",
        "a2=W2.T * z1 + b2\n",
        "\n",
        "y_hat=softmax(a2) # This step is not needed in pytorch as it is already included in loss function \n",
        "\n",
        "# Code Representation of Steps of Model\n",
        "\n",
        "model=nn.Sequential(\n",
        "  #First Layer\n",
        "  nn.Linear(784,128),\n",
        "  nn.ReLU(),\n",
        "  nn.Linear(128,10)\n",
        ")\n",
        "\n",
        "# **Reason for using 128 twice is what is the output of the first layer is the input to the second layer . nn.Linear(input_neurons,output_neurons)** \n",
        "\n",
        "\n",
        "\n",
        "```\n",
        "\n",
        "\n",
        "\n"
      ]
    },
    {
      "cell_type": "markdown",
      "metadata": {
        "id": "7LuzQWkrpsxM",
        "colab_type": "text"
      },
      "source": [
        "**Train Model**\n",
        "\n",
        "- We use batches of data because too large a data does not fit the memory. \n",
        "\n",
        "Hence we use batch gradient descent : \n",
        "\n",
        "Pseudo Code :\n",
        "\n",
        "```\n",
        "for epoch in range(epochs):\n",
        "  for x_batch , y_batch in batches(X,y,batch_size=128):\n",
        "    train(x_batch,y_batch) \n",
        "\n",
        "```\n",
        "\n",
        "train() function will consist of :\n",
        "\n",
        "  -  Zeroing the Gradient\n",
        "\n",
        "  -  Calculating the Outputs for the batch\n",
        "\n",
        "  -  Calculating the loss \n",
        "\n",
        "  -  Doing one step of Gradient Descent\n",
        "\n",
        "  For batch gradient descent pytorch comes up with the DataLoader() class which comes with the batch size argument and acts as a generator over the dataset\n",
        "\n",
        "```\n",
        "\n",
        "from torch.utils.data import DataLoader\n",
        "\n",
        "train_loader = DataLoader(dataset=train_dataset,batch_size=batch_size, shuffle=True)\n",
        "\n",
        "```\n",
        "\n",
        "*Batch Gradient Descent Loop* :\n",
        "\n",
        "```\n",
        "\n",
        "for it in range(n_epochs):\n",
        "\n",
        "  for inputs , targets in train_loader:\n",
        "  \n",
        "    #Zero the parameter gradients\n",
        "\n",
        "    optimizer.zero_grad()\n",
        "\n",
        "```\n",
        "\n"
      ]
    },
    {
      "cell_type": "markdown",
      "metadata": {
        "id": "QhHo0Xo-7XZY",
        "colab_type": "text"
      },
      "source": [
        "**Evaluation**\n",
        "\n",
        "-  You have to evaluate for the accuracy per batch, hence :\n",
        "\n",
        "``` \n",
        "\n",
        "n_correct=0\n",
        "n_total=0\n",
        "for inputs,outputs in train_loader:\n",
        "  #calculate output for this batch\n",
        "  output=model(inputs)\n",
        "  predictions=torch.max(output,1)\n",
        "  ....\n",
        "acc=n_correct/n_total\n",
        "\n"
      ]
    },
    {
      "cell_type": "markdown",
      "metadata": {
        "id": "oW_Q2Y279kKL",
        "colab_type": "text"
      },
      "source": [
        "## Full Code"
      ]
    },
    {
      "cell_type": "code",
      "metadata": {
        "id": "MKYwCOw5fjNQ",
        "colab_type": "code",
        "colab": {}
      },
      "source": [
        "#Load Training Dataset post transformation\n",
        "train_dataset= torchvision.datasets.MNIST(\n",
        "    #Filepath to download data to\n",
        "    root='.',\n",
        "    #Set train = True to state function to return training dataset\n",
        "    train=True,\n",
        "    #Operation to do some preprocessing\n",
        "    transform=transforms.ToTensor(),\n",
        "    #Pytorch to download data\n",
        "    download=True)\n"
      ],
      "execution_count": 8,
      "outputs": []
    },
    {
      "cell_type": "code",
      "metadata": {
        "id": "K37Wdumk-5EN",
        "colab_type": "code",
        "colab": {
          "base_uri": "https://localhost:8080/",
          "height": 850
        },
        "outputId": "a16e0678-3c9b-40f1-ec94-46be3d62a987"
      },
      "source": [
        "train_dataset.data"
      ],
      "execution_count": 9,
      "outputs": [
        {
          "output_type": "execute_result",
          "data": {
            "text/plain": [
              "tensor([[[0, 0, 0,  ..., 0, 0, 0],\n",
              "         [0, 0, 0,  ..., 0, 0, 0],\n",
              "         [0, 0, 0,  ..., 0, 0, 0],\n",
              "         ...,\n",
              "         [0, 0, 0,  ..., 0, 0, 0],\n",
              "         [0, 0, 0,  ..., 0, 0, 0],\n",
              "         [0, 0, 0,  ..., 0, 0, 0]],\n",
              "\n",
              "        [[0, 0, 0,  ..., 0, 0, 0],\n",
              "         [0, 0, 0,  ..., 0, 0, 0],\n",
              "         [0, 0, 0,  ..., 0, 0, 0],\n",
              "         ...,\n",
              "         [0, 0, 0,  ..., 0, 0, 0],\n",
              "         [0, 0, 0,  ..., 0, 0, 0],\n",
              "         [0, 0, 0,  ..., 0, 0, 0]],\n",
              "\n",
              "        [[0, 0, 0,  ..., 0, 0, 0],\n",
              "         [0, 0, 0,  ..., 0, 0, 0],\n",
              "         [0, 0, 0,  ..., 0, 0, 0],\n",
              "         ...,\n",
              "         [0, 0, 0,  ..., 0, 0, 0],\n",
              "         [0, 0, 0,  ..., 0, 0, 0],\n",
              "         [0, 0, 0,  ..., 0, 0, 0]],\n",
              "\n",
              "        ...,\n",
              "\n",
              "        [[0, 0, 0,  ..., 0, 0, 0],\n",
              "         [0, 0, 0,  ..., 0, 0, 0],\n",
              "         [0, 0, 0,  ..., 0, 0, 0],\n",
              "         ...,\n",
              "         [0, 0, 0,  ..., 0, 0, 0],\n",
              "         [0, 0, 0,  ..., 0, 0, 0],\n",
              "         [0, 0, 0,  ..., 0, 0, 0]],\n",
              "\n",
              "        [[0, 0, 0,  ..., 0, 0, 0],\n",
              "         [0, 0, 0,  ..., 0, 0, 0],\n",
              "         [0, 0, 0,  ..., 0, 0, 0],\n",
              "         ...,\n",
              "         [0, 0, 0,  ..., 0, 0, 0],\n",
              "         [0, 0, 0,  ..., 0, 0, 0],\n",
              "         [0, 0, 0,  ..., 0, 0, 0]],\n",
              "\n",
              "        [[0, 0, 0,  ..., 0, 0, 0],\n",
              "         [0, 0, 0,  ..., 0, 0, 0],\n",
              "         [0, 0, 0,  ..., 0, 0, 0],\n",
              "         ...,\n",
              "         [0, 0, 0,  ..., 0, 0, 0],\n",
              "         [0, 0, 0,  ..., 0, 0, 0],\n",
              "         [0, 0, 0,  ..., 0, 0, 0]]], dtype=torch.uint8)"
            ]
          },
          "metadata": {
            "tags": []
          },
          "execution_count": 9
        }
      ]
    },
    {
      "cell_type": "markdown",
      "metadata": {
        "id": "FXvc0btJ_JGs",
        "colab_type": "text"
      },
      "source": [
        "- It appears that tensor has 0's it is not evident that there is any other pixel value present in tensor\n",
        "\n",
        "Let's check if there is any "
      ]
    },
    {
      "cell_type": "code",
      "metadata": {
        "id": "A-7A_tSk-IHK",
        "colab_type": "code",
        "colab": {
          "base_uri": "https://localhost:8080/",
          "height": 34
        },
        "outputId": "93c0d48d-1a0f-4f29-efa4-a7835e307523"
      },
      "source": [
        "train_dataset.data.max().item()"
      ],
      "execution_count": 11,
      "outputs": [
        {
          "output_type": "execute_result",
          "data": {
            "text/plain": [
              "255"
            ]
          },
          "metadata": {
            "tags": []
          },
          "execution_count": 11
        }
      ]
    },
    {
      "cell_type": "markdown",
      "metadata": {
        "id": "6Jq9uHeL_kl5",
        "colab_type": "text"
      },
      "source": [
        "- There present other pixel values also apart from 0's, this means that place where there is no object it's all black as 0's are there , and places where object or number value is there is some non black pixel values like 255"
      ]
    },
    {
      "cell_type": "code",
      "metadata": {
        "id": "62e6q6F1_gSN",
        "colab_type": "code",
        "colab": {
          "base_uri": "https://localhost:8080/",
          "height": 34
        },
        "outputId": "296b4cb8-941a-4340-f686-0d57fc316b27"
      },
      "source": [
        "train_dataset.data.shape"
      ],
      "execution_count": 13,
      "outputs": [
        {
          "output_type": "execute_result",
          "data": {
            "text/plain": [
              "torch.Size([60000, 28, 28])"
            ]
          },
          "metadata": {
            "tags": []
          },
          "execution_count": 13
        }
      ]
    },
    {
      "cell_type": "code",
      "metadata": {
        "id": "sWwwxqZH_vD6",
        "colab_type": "code",
        "colab": {
          "base_uri": "https://localhost:8080/",
          "height": 34
        },
        "outputId": "13502e72-373e-495a-99e4-de5ae2d6e532"
      },
      "source": [
        "# Check unique target classes\n",
        "train_dataset.targets.unique()"
      ],
      "execution_count": 15,
      "outputs": [
        {
          "output_type": "execute_result",
          "data": {
            "text/plain": [
              "tensor([0, 1, 2, 3, 4, 5, 6, 7, 8, 9])"
            ]
          },
          "metadata": {
            "tags": []
          },
          "execution_count": 15
        }
      ]
    },
    {
      "cell_type": "code",
      "metadata": {
        "id": "4IfqfxNtAQXl",
        "colab_type": "code",
        "colab": {}
      },
      "source": [
        "#Test data loader from the data \n",
        "test_dataset=torchvision.datasets.MNIST(root='.',train=False,transform=transforms.ToTensor(),download=True)"
      ],
      "execution_count": 16,
      "outputs": []
    },
    {
      "cell_type": "code",
      "metadata": {
        "id": "_QkaGvi4ArHd",
        "colab_type": "code",
        "colab": {}
      },
      "source": [
        "#Build Model\n",
        "model=nn.Sequential(\n",
        "    nn.Linear(784,128),\n",
        "    nn.LeakyReLU(),\n",
        "    nn.Linear(128,10)\n",
        ")\n"
      ],
      "execution_count": 17,
      "outputs": []
    },
    {
      "cell_type": "code",
      "metadata": {
        "id": "h30bUHYjBTBA",
        "colab_type": "code",
        "colab": {
          "base_uri": "https://localhost:8080/",
          "height": 119
        },
        "outputId": "33d59aa2-8ddd-4414-e9f3-6b6a76d01843"
      },
      "source": [
        "#Need to use GPU\n",
        "device=torch.device(\"cuda:0\" if torch.cuda.is_available() else \"cpu\")\n",
        "print(device)\n",
        "#transfers parameters of the model to the GPU\n",
        "model.to(device)"
      ],
      "execution_count": 18,
      "outputs": [
        {
          "output_type": "stream",
          "text": [
            "cuda:0\n"
          ],
          "name": "stdout"
        },
        {
          "output_type": "execute_result",
          "data": {
            "text/plain": [
              "Sequential(\n",
              "  (0): Linear(in_features=784, out_features=128, bias=True)\n",
              "  (1): LeakyReLU(negative_slope=0.01)\n",
              "  (2): Linear(in_features=128, out_features=10, bias=True)\n",
              ")"
            ]
          },
          "metadata": {
            "tags": []
          },
          "execution_count": 18
        }
      ]
    },
    {
      "cell_type": "code",
      "metadata": {
        "id": "Dpt1a3QfB55l",
        "colab_type": "code",
        "colab": {}
      },
      "source": [
        "#Loss & Optimizer\n",
        "#CrossEntropyLoss is used for multiple categories\n",
        "criterion=nn.CrossEntropyLoss()\n",
        "optimizer=torch.optim.Adam(model.parameters())"
      ],
      "execution_count": 19,
      "outputs": []
    },
    {
      "cell_type": "code",
      "metadata": {
        "id": "d6ksopwqCrMJ",
        "colab_type": "code",
        "colab": {}
      },
      "source": [
        "#Data Loader\n",
        "batch_size=128\n",
        "train_loader=DataLoader(dataset=train_dataset,batch_size=batch_size,shuffle=True)\n",
        "test_loader=DataLoader(dataset=test_dataset,batch_size=batch_size,shuffle=False)"
      ],
      "execution_count": 22,
      "outputs": []
    },
    {
      "cell_type": "markdown",
      "metadata": {
        "id": "3PA_W8uyDvEV",
        "colab_type": "text"
      },
      "source": [
        "- We notice that train_loader has shuffle as True where as test_loader has shuffle as False. It is because for training data if we loop through each sample in the same order each time, it will introduce unwanted correlation which hence will decrease performance! For test data we dont want to shuffle because we just want to evaluate the loss and accuracy\n",
        "\n"
      ]
    },
    {
      "cell_type": "code",
      "metadata": {
        "id": "ffC6tQrRDbE7",
        "colab_type": "code",
        "colab": {}
      },
      "source": [
        "#Check what does data loader do?\n",
        "#maps value to (0,1)\n",
        "#Make the data shape as [batch_size,channel,height,width]\n",
        "tmp_loader=DataLoader(dataset=train_dataset,batch_size=1,shuffle=True)\n",
        "for x,y in tmp_loader:\n",
        "  print(x.shape)\n",
        "  print(y.shape)"
      ],
      "execution_count": null,
      "outputs": []
    },
    {
      "cell_type": "code",
      "metadata": {
        "id": "f75hP-5UE13d",
        "colab_type": "code",
        "colab": {
          "base_uri": "https://localhost:8080/",
          "height": 187
        },
        "outputId": "37512c7f-c0d5-4c68-eff8-d3606f6f3904"
      },
      "source": [
        "#Train the Model\n",
        "\n",
        "n_epochs=10\n",
        "#Stuff to store\n",
        "train_losses=np.zeros(n_epochs)\n",
        "test_losses=np.zeros(n_epochs)\n",
        "for it in range(n_epochs):\n",
        "  train_loss=[]\n",
        "  for inputs,targets in train_loader:\n",
        "    #Move Data to GPU\n",
        "    inputs,targets=inputs.to(device),targets.to(device)\n",
        "    #Reshape Inputs\n",
        "    inputs=inputs.view(-1,784)\n",
        "    #Zero Parameter Gradient\n",
        "    optimizer.zero_grad()\n",
        "    #Forward Pass\n",
        "    outputs=model(inputs)\n",
        "    loss=criterion(outputs,targets)\n",
        "    #Backward & Optimize\n",
        "    loss.backward()\n",
        "    optimizer.step()\n",
        "    train_loss.append(loss.item())\n",
        "    #Get Train and Test Loss\n",
        "  train_loss=np.mean(train_loss)\n",
        "  test_loss=[]\n",
        "  for inputs,targets in test_loader:\n",
        "    #Move Data to GPU\n",
        "    inputs,targets=inputs.to(device),targets.to(device)\n",
        "    #Reshape Inputs\n",
        "    inputs=inputs.view(-1,784)\n",
        "    #Zero Parameter Gradient\n",
        "    optimizer.zero_grad()\n",
        "    #Forward Pass\n",
        "    outputs=model(inputs)\n",
        "    loss=criterion(outputs,targets)\n",
        "    test_loss.append(loss.item())\n",
        "  test_loss=np.mean(test_loss)\n",
        "  #Save Losses\n",
        "  train_losses[it]=train_loss\n",
        "  test_losses[it]=test_loss\n",
        "  print(f'Epoch{it+1}/{n_epochs}, Train Loss : {train_loss : .4f}, Test Loss : {test_loss : .4f}')\n",
        "\n",
        "\n"
      ],
      "execution_count": 26,
      "outputs": [
        {
          "output_type": "stream",
          "text": [
            "Epoch1/10, Train Loss :  0.2007, Test Loss :  0.1629\n",
            "Epoch2/10, Train Loss :  0.1444, Test Loss :  0.1313\n",
            "Epoch3/10, Train Loss :  0.1112, Test Loss :  0.1057\n",
            "Epoch4/10, Train Loss :  0.0905, Test Loss :  0.0997\n",
            "Epoch5/10, Train Loss :  0.0747, Test Loss :  0.0897\n",
            "Epoch6/10, Train Loss :  0.0639, Test Loss :  0.0815\n",
            "Epoch7/10, Train Loss :  0.0539, Test Loss :  0.0781\n",
            "Epoch8/10, Train Loss :  0.0458, Test Loss :  0.0782\n",
            "Epoch9/10, Train Loss :  0.0395, Test Loss :  0.0760\n",
            "Epoch10/10, Train Loss :  0.0335, Test Loss :  0.0780\n"
          ],
          "name": "stdout"
        }
      ]
    },
    {
      "cell_type": "code",
      "metadata": {
        "id": "EJ_ap6yuI9wK",
        "colab_type": "code",
        "colab": {
          "base_uri": "https://localhost:8080/",
          "height": 282
        },
        "outputId": "b43bc5b0-e941-4fe7-f990-8dec986b79fd"
      },
      "source": [
        "#Plot the train loss  and test loss per iteration\n",
        "\n",
        "plt.plot(train_losses,label='Train Loss')\n",
        "plt.plot(test_losses,label='Test Loss')\n",
        "plt.legend()"
      ],
      "execution_count": 27,
      "outputs": [
        {
          "output_type": "execute_result",
          "data": {
            "text/plain": [
              "<matplotlib.legend.Legend at 0x7fb0dad176a0>"
            ]
          },
          "metadata": {
            "tags": []
          },
          "execution_count": 27
        },
        {
          "output_type": "display_data",
          "data": {
            "image/png": "[encoded data removed]",
            "text/plain": [
              "<Figure size 432x288 with 1 Axes>"
            ]
          },
          "metadata": {
            "tags": [],
            "needs_background": "light"
          }
        }
      ]
    },
    {
      "cell_type": "code",
      "metadata": {
        "id": "at_N_2qaJjKb",
        "colab_type": "code",
        "colab": {
          "base_uri": "https://localhost:8080/",
          "height": 34
        },
        "outputId": "5094f9d0-4436-4293-ee05-9af2d53cf74d"
      },
      "source": [
        "#Calculate the accuracy\n",
        "n_correct=0\n",
        "n_total=0\n",
        "for inputs,targets in train_loader:\n",
        "  #Move Data to GPU Device\n",
        "  inputs,targets=inputs.to(device),targets.to(device)\n",
        "  #Reshape the inputs\n",
        "  inputs=inputs.view(-1,784)\n",
        "  #Forward Pass\n",
        "  outputs=model(inputs)\n",
        "\n",
        "  #Get Prediction\n",
        "  #torch.max() returns both maximum value and argmax\n",
        "  _,predictions=torch.max(outputs,1)\n",
        "  #Update Counts\n",
        "  n_correct+=(predictions==targets).sum().item()\n",
        "  n_total+=targets.shape[0]\n",
        "train_acc=n_correct/n_total\n",
        "\n",
        "n_correct=0\n",
        "n_total=0\n",
        "for inputs,targets in test_loader:\n",
        "  #Move Data to GPU Device\n",
        "  inputs,targets=inputs.to(device),targets.to(device)\n",
        "  #Reshape the inputs\n",
        "  inputs=inputs.view(-1,784)\n",
        "  #Forward Pass\n",
        "  outputs=model(inputs)\n",
        "\n",
        "  #Get Prediction\n",
        "  #torch.max() returns both maximum value and argmax\n",
        "  _,predictions=torch.max(outputs,1)\n",
        "  #Update Counts\n",
        "  n_correct+=(predictions==targets).sum().item()\n",
        "  n_total+=targets.shape[0]\n",
        "test_acc=n_correct/n_total\n",
        "print(f'Train Acc : {train_acc : .4f}, Test Acc : {test_acc : .4f}')"
      ],
      "execution_count": 29,
      "outputs": [
        {
          "output_type": "stream",
          "text": [
            "Train Acc :  0.9930, Test Acc :  0.9772\n"
          ],
          "name": "stdout"
        }
      ]
    },
    {
      "cell_type": "code",
      "metadata": {
        "id": "EKC_8nBXLe1B",
        "colab_type": "code",
        "colab": {}
      },
      "source": [
        "#Plot Confusion Matrix\n",
        "from"
      ],
      "execution_count": null,
      "outputs": []
    }
  ]
}