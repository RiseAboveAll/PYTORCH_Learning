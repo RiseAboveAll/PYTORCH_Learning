{
  "nbformat": 4,
  "nbformat_minor": 0,
  "metadata": {
    "colab": {
      "name": "Pytorch-FeedForward.ipynb",
      "provenance": [],
      "authorship_tag": "ABX9TyP5H0XyqA+Fkq2YzPLzOo8O",
      "include_colab_link": true
    },
    "kernelspec": {
      "name": "python3",
      "display_name": "Python 3"
    }
  },
  "cells": [
    {
      "cell_type": "markdown",
      "metadata": {
        "id": "view-in-github",
        "colab_type": "text"
      },
      "source": [
        "<a href=\"https://colab.research.google.com/github/RiseAboveAll/PYTORCH_Learning/blob/master/Pytorch_FeedForward.ipynb\" target=\"_parent\"><img src=\"https://colab.research.google.com/assets/colab-badge.svg\" alt=\"Open In Colab\"/></a>"
      ]
    },
    {
      "cell_type": "markdown",
      "metadata": {
        "id": "fxA7pqV3WK0v",
        "colab_type": "text"
      },
      "source": [
        "# Artificial Neural Network"
      ]
    },
    {
      "cell_type": "markdown",
      "metadata": {
        "id": "dXX_S81KWVvU",
        "colab_type": "text"
      },
      "source": [
        "- Type of neural network : Feed Forward Neural Network\n",
        "\n",
        "**Forward Propogation**\n",
        "\n",
        "  -  Different neurons find different features from the input\n",
        "\n",
        "  -  Stack layers of neurons over layer\n",
        "\n",
        "  -  Same inputs can be attached to multiple different neurons, each calculating something different\n",
        "\n",
        "  -  Neurons of one layer can act as input to another layer, it increases depth and width of layer and network \n",
        "\n",
        "  -  A neuron : sigmoid(w.T . X + b)\n",
        "\n",
        "  -  Multiple Neurons : Consider when you have multiple neurons in a layer, let say from 1 to M, Zj=sigmoid(wj.T . X + bj) for j=1 to M . It can also be written more effeciently as in vector form : if Zj=sigmoid(Wj.T . X + bj) for j=1 to M then Z=sigmoid(W.T . X + b). Where :\n",
        "      \n",
        "      -  z is a matrices of size M (M x 1)\n",
        "\n",
        "      -  X is the vector of size D (Dx1) \n",
        "\n",
        "      -  W is the matrix of size D x M\n",
        "\n",
        "      -  b is a vector of size M ( Mx1 )\n",
        "\n",
        "      -  sigmoid() is an element wise multiplication\n",
        "\n",
        "      \n",
        "\n"
      ]
    },
    {
      "cell_type": "code",
      "metadata": {
        "id": "cgIxwE1eV_4d",
        "colab_type": "code",
        "colab": {}
      },
      "source": [
        ""
      ],
      "execution_count": null,
      "outputs": []
    }
  ]
}