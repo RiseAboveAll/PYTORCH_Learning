{
  "nbformat": 4,
  "nbformat_minor": 0,
  "metadata": {
    "colab": {
      "name": "Pytorch-LinearRegression.ipynb",
      "provenance": [],
      "authorship_tag": "ABX9TyMynDJKpdVcBOLnENzPPzyt",
      "include_colab_link": true
    },
    "kernelspec": {
      "name": "python3",
      "display_name": "Python 3"
    }
  },
  "cells": [
    {
      "cell_type": "markdown",
      "metadata": {
        "id": "view-in-github",
        "colab_type": "text"
      },
      "source": [
        "<a href=\"https://colab.research.google.com/github/RiseAboveAll/PYTORCH_Learning/blob/master/Pytorch_LinearRegression.ipynb\" target=\"_parent\"><img src=\"https://colab.research.google.com/assets/colab-badge.svg\" alt=\"Open In Colab\"/></a>"
      ]
    },
    {
      "cell_type": "code",
      "metadata": {
        "id": "BxkMwXxzfgdc",
        "colab_type": "code",
        "colab": {}
      },
      "source": [
        "import torch\n",
        "from torch import nn\n",
        "import numpy as np\n",
        "import matplotlib.pyplot as plt\n",
        "from sklearn import datasets"
      ],
      "execution_count": null,
      "outputs": []
    },
    {
      "cell_type": "markdown",
      "metadata": {
        "id": "m268VrzbDV1i",
        "colab_type": "text"
      },
      "source": [
        "# Linear Regression - Basic"
      ]
    },
    {
      "cell_type": "code",
      "metadata": {
        "id": "EQuyViBBfxHa",
        "colab_type": "code",
        "colab": {}
      },
      "source": [
        "# Equation of Line y=w*x + b\n",
        "\n",
        "w=torch.tensor(3.0,requires_grad=True)\n",
        "b=torch.tensor(0.01,requires_grad=True)\n",
        "\n"
      ],
      "execution_count": null,
      "outputs": []
    },
    {
      "cell_type": "code",
      "metadata": {
        "id": "Yd0NACj_gzqZ",
        "colab_type": "code",
        "colab": {}
      },
      "source": [
        "def forward(x):\n",
        "  y=w*x+b\n",
        "  return y"
      ],
      "execution_count": null,
      "outputs": []
    },
    {
      "cell_type": "code",
      "metadata": {
        "id": "lR_MqPCig4ta",
        "colab_type": "code",
        "colab": {
          "base_uri": "https://localhost:8080/"
        },
        "outputId": "c210ddf1-6b60-457f-9ae8-cc686a4dfccc"
      },
      "source": [
        "x=torch.tensor(2.0)\n",
        "forward(x)"
      ],
      "execution_count": null,
      "outputs": [
        {
          "output_type": "execute_result",
          "data": {
            "text/plain": [
              "tensor(6.0100, grad_fn=<AddBackward0>)"
            ]
          },
          "metadata": {
            "tags": []
          },
          "execution_count": 4
        }
      ]
    },
    {
      "cell_type": "code",
      "metadata": {
        "id": "rykiSAaBhEuP",
        "colab_type": "code",
        "colab": {
          "base_uri": "https://localhost:8080/"
        },
        "outputId": "e733f39f-4139-45bd-96af-0f46e6ca7bbd"
      },
      "source": [
        "x=torch.tensor([[2.0],[3]])\n",
        "forward(x)"
      ],
      "execution_count": null,
      "outputs": [
        {
          "output_type": "execute_result",
          "data": {
            "text/plain": [
              "tensor([[6.0100],\n",
              "        [9.0100]], grad_fn=<AddBackward0>)"
            ]
          },
          "metadata": {
            "tags": []
          },
          "execution_count": 5
        }
      ]
    },
    {
      "cell_type": "markdown",
      "metadata": {
        "id": "vjiMroxXDZZr",
        "colab_type": "text"
      },
      "source": [
        "# Linear Class"
      ]
    },
    {
      "cell_type": "code",
      "metadata": {
        "id": "SvkigYs4hWF2",
        "colab_type": "code",
        "colab": {
          "base_uri": "https://localhost:8080/",
          "height": 34
        },
        "outputId": "a7ed79e8-0b3b-4a8b-d29e-179f09d0e9c7"
      },
      "source": [
        "#@title Set seed for generating random numbers , when we construct model using nn.Linear , it will be given random values for weights and biases for Linear class.Hence to make random values consistent we initializes seed  \n",
        "torch.manual_seed(1)"
      ],
      "execution_count": null,
      "outputs": [
        {
          "output_type": "execute_result",
          "data": {
            "text/plain": [
              "<torch._C.Generator at 0x7f80076a0550>"
            ]
          },
          "metadata": {
            "tags": []
          },
          "execution_count": 6
        }
      ]
    },
    {
      "cell_type": "code",
      "metadata": {
        "id": "o-XlRo6ZEgGN",
        "colab_type": "code",
        "colab": {}
      },
      "source": [
        "# Create Linear Object\n",
        "model=nn.Linear(in_features=1,out_features=1,bias=True)"
      ],
      "execution_count": null,
      "outputs": []
    },
    {
      "cell_type": "code",
      "metadata": {
        "id": "Hu4AwDb8E53f",
        "colab_type": "code",
        "colab": {
          "base_uri": "https://localhost:8080/",
          "height": 68
        },
        "outputId": "755b6c1e-ac0a-4d0a-eb36-7595088f3eb0"
      },
      "source": [
        "print(model.bias,model.weight)"
      ],
      "execution_count": null,
      "outputs": [
        {
          "output_type": "stream",
          "text": [
            "Parameter containing:\n",
            "tensor([-0.4414], requires_grad=True) Parameter containing:\n",
            "tensor([[0.5153]], requires_grad=True)\n"
          ],
          "name": "stdout"
        }
      ]
    },
    {
      "cell_type": "code",
      "metadata": {
        "id": "jVqHGkn3FBJv",
        "colab_type": "code",
        "colab": {
          "base_uri": "https://localhost:8080/",
          "height": 51
        },
        "outputId": "3e33e6ee-65d6-4703-a3e3-9b24e2eb91df"
      },
      "source": [
        "x=torch.tensor([[2.0],[3.3]])\n",
        "print(model(x))"
      ],
      "execution_count": null,
      "outputs": [
        {
          "output_type": "stream",
          "text": [
            "tensor([[0.5891],\n",
            "        [1.2590]], grad_fn=<AddmmBackward>)\n"
          ],
          "name": "stdout"
        }
      ]
    },
    {
      "cell_type": "code",
      "metadata": {
        "id": "5fO1TTMCOKUp",
        "colab_type": "code",
        "colab": {}
      },
      "source": [
        ""
      ],
      "execution_count": null,
      "outputs": []
    },
    {
      "cell_type": "markdown",
      "metadata": {
        "id": "3OrXgy2tIYAd",
        "colab_type": "text"
      },
      "source": [
        "# Custom Module"
      ]
    },
    {
      "cell_type": "code",
      "metadata": {
        "id": "hGnhC1i3IZqe",
        "colab_type": "code",
        "colab": {}
      },
      "source": [
        "# We will use inheritance that this class inherit the base class nn.Module, we inherit methods from this parent class \n",
        "class LR(nn.Module):\n",
        "  def __init__(self,input_size=1,output_size=1):# __init__ is a constructor \n",
        "    # For inheritance from parent class use super()\n",
        "    super().__init__()\n",
        "    #object we want to initialize\n",
        "    self.Linear=nn.Linear(input_size,output_size)\n",
        "  def forward(self,x):\n",
        "    pred=self.Linear(x)\n",
        "    return pred\n",
        "    \n"
      ],
      "execution_count": null,
      "outputs": []
    },
    {
      "cell_type": "code",
      "metadata": {
        "id": "SP-m1fOtKrmf",
        "colab_type": "code",
        "colab": {
          "base_uri": "https://localhost:8080/",
          "height": 68
        },
        "outputId": "715bfeaa-402a-4666-a66a-58f7df7bc2dc"
      },
      "source": [
        "torch.manual_seed(1)\n",
        "model=LR(1,1)\n",
        "print(list(model.parameters()))"
      ],
      "execution_count": null,
      "outputs": [
        {
          "output_type": "stream",
          "text": [
            "[Parameter containing:\n",
            "tensor([[0.5153]], requires_grad=True), Parameter containing:\n",
            "tensor([-0.4414], requires_grad=True)]\n"
          ],
          "name": "stdout"
        }
      ]
    },
    {
      "cell_type": "code",
      "metadata": {
        "id": "sBVMCszzK1Su",
        "colab_type": "code",
        "colab": {
          "base_uri": "https://localhost:8080/",
          "height": 34
        },
        "outputId": "c744ce5d-dafa-44a9-f1a2-1c4cc4306196"
      },
      "source": [
        "x=torch.tensor([2.1])\n",
        "model.forward(x)"
      ],
      "execution_count": null,
      "outputs": [
        {
          "output_type": "execute_result",
          "data": {
            "text/plain": [
              "tensor([0.6407], grad_fn=<AddBackward0>)"
            ]
          },
          "metadata": {
            "tags": []
          },
          "execution_count": 4
        }
      ]
    },
    {
      "cell_type": "code",
      "metadata": {
        "id": "zVIgWkopL06s",
        "colab_type": "code",
        "colab": {}
      },
      "source": [
        ""
      ],
      "execution_count": null,
      "outputs": []
    },
    {
      "cell_type": "markdown",
      "metadata": {
        "id": "GI9aYzx52Q7L",
        "colab_type": "text"
      },
      "source": [
        "# Creating Dataset"
      ]
    },
    {
      "cell_type": "code",
      "metadata": {
        "id": "M0JnDyhX2TAh",
        "colab_type": "code",
        "colab": {}
      },
      "source": [
        "#torch.randn(rows,cols)\n",
        "x=torch.randn(100,1)*10\n",
        "y=x + torch.randn(100,1)"
      ],
      "execution_count": null,
      "outputs": []
    },
    {
      "cell_type": "code",
      "metadata": {
        "id": "hc26brWl7Een",
        "colab_type": "code",
        "colab": {
          "base_uri": "https://localhost:8080/",
          "height": 283
        },
        "outputId": "1d2a0432-9f27-4f69-a29f-ac5378ba8642"
      },
      "source": [
        "plt.scatter(x,y)"
      ],
      "execution_count": null,
      "outputs": [
        {
          "output_type": "execute_result",
          "data": {
            "text/plain": [
              "<matplotlib.collections.PathCollection at 0x7f42a74937b8>"
            ]
          },
          "metadata": {
            "tags": []
          },
          "execution_count": 3
        },
        {
          "output_type": "display_data",
          "data": {
            "image/png": "[encoded data removed]",
            "text/plain": [
              "<Figure size 432x288 with 1 Axes>"
            ]
          },
          "metadata": {
            "tags": [],
            "needs_background": "light"
          }
        }
      ]
    },
    {
      "cell_type": "code",
      "metadata": {
        "id": "HJdZye2m8ept",
        "colab_type": "code",
        "colab": {}
      },
      "source": [
        "# We will use inheritance that this class inherit the base class nn.Module, we inherit methods from this parent class \n",
        "class LR(nn.Module):\n",
        "  def __init__(self,input_size=1,output_size=1):# __init__ is a constructor \n",
        "    # For inheritance from parent class use super()\n",
        "    super().__init__()\n",
        "    #object we want to initialize\n",
        "    self.Linear=nn.Linear(input_size,output_size)\n",
        "  def forward(self,x):\n",
        "    pred=self.Linear(x)\n",
        "    return pred\n",
        "    \n"
      ],
      "execution_count": null,
      "outputs": []
    },
    {
      "cell_type": "code",
      "metadata": {
        "id": "-vqA6tW0WSdz",
        "colab_type": "code",
        "colab": {
          "base_uri": "https://localhost:8080/",
          "height": 68
        },
        "outputId": "886141d1-7e65-4c09-f8b1-e8359140f83e"
      },
      "source": [
        "torch.manual_seed(1)\n",
        "model=LR(1,1)\n",
        "[w,b]=model.parameters()\n",
        "print(w,b)"
      ],
      "execution_count": null,
      "outputs": [
        {
          "output_type": "stream",
          "text": [
            "Parameter containing:\n",
            "tensor([[0.5153]], requires_grad=True) Parameter containing:\n",
            "tensor([-0.4414], requires_grad=True)\n"
          ],
          "name": "stdout"
        }
      ]
    },
    {
      "cell_type": "code",
      "metadata": {
        "id": "OrvD33oHWfgV",
        "colab_type": "code",
        "colab": {}
      },
      "source": [
        "#@title Adding .item() method returns python numbers\n",
        "w1=w[0][0].item() # alternative is w[0,0]\n",
        "b1=b[0].item()"
      ],
      "execution_count": null,
      "outputs": []
    },
    {
      "cell_type": "code",
      "metadata": {
        "id": "69uLSY7OWkcm",
        "colab_type": "code",
        "colab": {}
      },
      "source": [
        "def get_params():\n",
        "  return (w[0,0].item(),b[0].item())"
      ],
      "execution_count": null,
      "outputs": []
    },
    {
      "cell_type": "code",
      "metadata": {
        "id": "9Jfg68YAWlL3",
        "colab_type": "code",
        "colab": {}
      },
      "source": [
        "def plot_fit(title):\n",
        "  plt.title=title\n",
        "  w1,b1=get_params()\n",
        "  x1=np.array([-30,30])\n",
        "  y1=w1*x1+b1\n",
        "  plt.plot(x1,y1,'r')\n",
        "  plt.scatter(x,y)\n",
        "  plt.show()"
      ],
      "execution_count": null,
      "outputs": []
    },
    {
      "cell_type": "code",
      "metadata": {
        "id": "jG3aaCkQYciQ",
        "colab_type": "code",
        "colab": {
          "base_uri": "https://localhost:8080/",
          "height": 266
        },
        "outputId": "3cdfda9f-8379-4b8a-f816-225692b913bf"
      },
      "source": [
        "plot_fit('Initial Model')"
      ],
      "execution_count": null,
      "outputs": [
        {
          "output_type": "display_data",
          "data": {
            "image/png": "[encoded data removed]",
            "text/plain": [
              "<Figure size 432x288 with 1 Axes>"
            ]
          },
          "metadata": {
            "tags": [],
            "needs_background": "light"
          }
        }
      ]
    },
    {
      "cell_type": "markdown",
      "metadata": {
        "id": "6J-wnCXEYmaO",
        "colab_type": "text"
      },
      "source": [
        " **This is not the line which best fits the data , we need to use optimisation model to get best fit line**"
      ]
    },
    {
      "cell_type": "markdown",
      "metadata": {
        "id": "cqohPc8uY5OU",
        "colab_type": "text"
      },
      "source": [
        "# Loss Function"
      ]
    },
    {
      "cell_type": "markdown",
      "metadata": {
        "id": "NdNNXdPOD9Nv",
        "colab_type": "text"
      },
      "source": [
        "- Gradient of the error function should take us in the direction of the greatest increase in error , so naturally moving towards negative of the cost function , we move in the direction of dreatest descent.\n",
        "\n",
        "- Error depends on the weights and bias\n",
        "\n",
        "- Hence for gradient descent we take partial derivative of error function wrt weights(w) and bias (b). dL/dw=-2x(y-y_hat);dL/db=-2(y-y_hat)\n",
        "\n",
        "- w_u=w_o-(a*dL/dw) ; b_u=b_o - (a*dL/db)\n",
        "\n",
        "- This Gradient Descent is batch gradient descent which updates the weights and bias of whole data set, where as **Stochastic Gradient Descent** minimizes the total loss one sample at a time , it reaches convergence much faster as it frequently updates the weights of the model of the same sample size \n",
        "\n"
      ]
    },
    {
      "cell_type": "code",
      "metadata": {
        "id": "1yRgYAbXGlB-",
        "colab_type": "code",
        "colab": {}
      },
      "source": [
        "criterion=nn.MSELoss()\n",
        "optimizer=torch.optim.SGD(model.parameters(),lr=.001,momentum=.07)\n"
      ],
      "execution_count": null,
      "outputs": []
    },
    {
      "cell_type": "markdown",
      "metadata": {
        "id": "BcHXE7UhHo4l",
        "colab_type": "text"
      },
      "source": [
        "As the number of epochs increases , the more time it is able to update the weights of the neural network, which hence minimizes the error and produces optimal results!\n",
        "\n",
        "If it is too many epochs, it can lead to overfitting !\n",
        "\n"
      ]
    },
    {
      "cell_type": "code",
      "metadata": {
        "id": "PzAfVhXwYf6c",
        "colab_type": "code",
        "colab": {
          "base_uri": "https://localhost:8080/",
          "height": 1000
        },
        "outputId": "d8c0872a-2e5b-4039-f4ad-7f409288a847"
      },
      "source": [
        "epochs=100\n",
        "losses=[]\n",
        "for i in range(epochs):\n",
        "  \n",
        "  y_pred=model.forward(x)\n",
        "  loss= criterion(y_pred,y)\n",
        "  print('epoch :',i,'Loss :',loss.item())\n",
        "  losses.append(loss)\n",
        "  #compute the gradient of loss wrt parameters\n",
        "  optimizer.zero_grad()\n",
        "  loss.backward()\n",
        "  #update the parameters\n",
        "  optimizer.step()\n",
        "\n"
      ],
      "execution_count": null,
      "outputs": [
        {
          "output_type": "stream",
          "text": [
            "epoch : 0 Loss : 22.276521682739258\n",
            "epoch : 1 Loss : 15.575677871704102\n",
            "epoch : 2 Loss : 10.660954475402832\n",
            "epoch : 3 Loss : 7.405991077423096\n",
            "epoch : 4 Loss : 5.272241115570068\n",
            "epoch : 5 Loss : 3.8748481273651123\n",
            "epoch : 6 Loss : 2.9596266746520996\n",
            "epoch : 7 Loss : 2.360037326812744\n",
            "epoch : 8 Loss : 1.9670552015304565\n",
            "epoch : 9 Loss : 1.7093141078948975\n",
            "epoch : 10 Loss : 1.5401004552841187\n",
            "epoch : 11 Loss : 1.428836464881897\n",
            "epoch : 12 Loss : 1.3555076122283936\n",
            "epoch : 13 Loss : 1.307011604309082\n",
            "epoch : 14 Loss : 1.2747728824615479\n",
            "epoch : 15 Loss : 1.253177285194397\n",
            "epoch : 16 Loss : 1.2385514974594116\n",
            "epoch : 17 Loss : 1.2284891605377197\n",
            "epoch : 18 Loss : 1.2214163541793823\n",
            "epoch : 19 Loss : 1.216302752494812\n",
            "epoch : 20 Loss : 1.2124732732772827\n",
            "epoch : 21 Loss : 1.209486484527588\n",
            "epoch : 22 Loss : 1.207053780555725\n",
            "epoch : 23 Loss : 1.2049853801727295\n",
            "epoch : 24 Loss : 1.2031577825546265\n",
            "epoch : 25 Loss : 1.2014892101287842\n",
            "epoch : 26 Loss : 1.1999273300170898\n",
            "epoch : 27 Loss : 1.1984376907348633\n",
            "epoch : 28 Loss : 1.1969964504241943\n",
            "epoch : 29 Loss : 1.1955891847610474\n",
            "epoch : 30 Loss : 1.1942063570022583\n",
            "epoch : 31 Loss : 1.1928415298461914\n",
            "epoch : 32 Loss : 1.1914902925491333\n",
            "epoch : 33 Loss : 1.1901495456695557\n",
            "epoch : 34 Loss : 1.1888185739517212\n",
            "epoch : 35 Loss : 1.187495231628418\n",
            "epoch : 36 Loss : 1.1861785650253296\n",
            "epoch : 37 Loss : 1.1848689317703247\n",
            "epoch : 38 Loss : 1.1835652589797974\n",
            "epoch : 39 Loss : 1.1822681427001953\n",
            "epoch : 40 Loss : 1.1809765100479126\n",
            "epoch : 41 Loss : 1.1796905994415283\n",
            "epoch : 42 Loss : 1.178410291671753\n",
            "epoch : 43 Loss : 1.177135705947876\n",
            "epoch : 44 Loss : 1.1758663654327393\n",
            "epoch : 45 Loss : 1.174602746963501\n",
            "epoch : 46 Loss : 1.173344612121582\n",
            "epoch : 47 Loss : 1.1720917224884033\n",
            "epoch : 48 Loss : 1.170844316482544\n",
            "epoch : 49 Loss : 1.1696021556854248\n",
            "epoch : 50 Loss : 1.1683653593063354\n",
            "epoch : 51 Loss : 1.1671340465545654\n",
            "epoch : 52 Loss : 1.165907621383667\n",
            "epoch : 53 Loss : 1.164686679840088\n",
            "epoch : 54 Loss : 1.163470983505249\n",
            "epoch : 55 Loss : 1.1622604131698608\n",
            "epoch : 56 Loss : 1.1610554456710815\n",
            "epoch : 57 Loss : 1.1598553657531738\n",
            "epoch : 58 Loss : 1.1586605310440063\n",
            "epoch : 59 Loss : 1.1574705839157104\n",
            "epoch : 60 Loss : 1.1562858819961548\n",
            "epoch : 61 Loss : 1.1551060676574707\n",
            "epoch : 62 Loss : 1.1539316177368164\n",
            "epoch : 63 Loss : 1.1527621746063232\n",
            "epoch : 64 Loss : 1.151597499847412\n",
            "epoch : 65 Loss : 1.1504381895065308\n",
            "epoch : 66 Loss : 1.149283766746521\n",
            "epoch : 67 Loss : 1.1481341123580933\n",
            "epoch : 68 Loss : 1.1469894647598267\n",
            "epoch : 69 Loss : 1.1458499431610107\n",
            "epoch : 70 Loss : 1.1447150707244873\n",
            "epoch : 71 Loss : 1.1435850858688354\n",
            "epoch : 72 Loss : 1.1424599885940552\n",
            "epoch : 73 Loss : 1.1413397789001465\n",
            "epoch : 74 Loss : 1.1402239799499512\n",
            "epoch : 75 Loss : 1.1391135454177856\n",
            "epoch : 76 Loss : 1.138007640838623\n",
            "epoch : 77 Loss : 1.1369062662124634\n",
            "epoch : 78 Loss : 1.1358102560043335\n",
            "epoch : 79 Loss : 1.1347182989120483\n",
            "epoch : 80 Loss : 1.1336313486099243\n",
            "epoch : 81 Loss : 1.1325489282608032\n",
            "epoch : 82 Loss : 1.1314711570739746\n",
            "epoch : 83 Loss : 1.130397915840149\n",
            "epoch : 84 Loss : 1.1293293237686157\n",
            "epoch : 85 Loss : 1.128265380859375\n",
            "epoch : 86 Loss : 1.1272060871124268\n",
            "epoch : 87 Loss : 1.126151204109192\n",
            "epoch : 88 Loss : 1.1251009702682495\n",
            "epoch : 89 Loss : 1.1240551471710205\n",
            "epoch : 90 Loss : 1.1230138540267944\n",
            "epoch : 91 Loss : 1.1219772100448608\n",
            "epoch : 92 Loss : 1.1209447383880615\n",
            "epoch : 93 Loss : 1.1199170351028442\n",
            "epoch : 94 Loss : 1.1188932657241821\n",
            "epoch : 95 Loss : 1.117874264717102\n",
            "epoch : 96 Loss : 1.1168594360351562\n",
            "epoch : 97 Loss : 1.1158488988876343\n",
            "epoch : 98 Loss : 1.1148430109024048\n",
            "epoch : 99 Loss : 1.1138412952423096\n"
          ],
          "name": "stdout"
        }
      ]
    },
    {
      "cell_type": "code",
      "metadata": {
        "id": "Zfphzil1J0NG",
        "colab_type": "code",
        "colab": {
          "base_uri": "https://localhost:8080/",
          "height": 296
        },
        "outputId": "8d6dfbc9-17bf-4a5a-b326-0b3bf41c5d0b"
      },
      "source": [
        "plt.plot(range(epochs),losses)\n",
        "plt.xlabel('Epochs')\n",
        "plt.ylabel('Loss')"
      ],
      "execution_count": null,
      "outputs": [
        {
          "output_type": "execute_result",
          "data": {
            "text/plain": [
              "Text(0, 0.5, 'Loss')"
            ]
          },
          "metadata": {
            "tags": []
          },
          "execution_count": 12
        },
        {
          "output_type": "display_data",
          "data": {
            "image/png": "[encoded data removed]",
            "text/plain": [
              "<Figure size 432x288 with 1 Axes>"
            ]
          },
          "metadata": {
            "tags": [],
            "needs_background": "light"
          }
        }
      ]
    },
    {
      "cell_type": "code",
      "metadata": {
        "id": "5jYjk1qtLvRh",
        "colab_type": "code",
        "colab": {
          "base_uri": "https://localhost:8080/",
          "height": 265
        },
        "outputId": "9c973a95-e8eb-45c0-dfcf-d710fb3c84b4"
      },
      "source": [
        "plot_fit('Trained Model')"
      ],
      "execution_count": null,
      "outputs": [
        {
          "output_type": "display_data",
          "data": {
            "image/png": "[encoded data removed]",
            "text/plain": [
              "<Figure size 432x288 with 1 Axes>"
            ]
          },
          "metadata": {
            "tags": [],
            "needs_background": "light"
          }
        }
      ]
    },
    {
      "cell_type": "markdown",
      "metadata": {
        "id": "L-agWbwdndJ4",
        "colab_type": "text"
      },
      "source": [
        "# Perceptron"
      ]
    },
    {
      "cell_type": "markdown",
      "metadata": {
        "id": "k2ehkKjXoAJg",
        "colab_type": "text"
      },
      "source": [
        "## Creating a Data Set"
      ]
    },
    {
      "cell_type": "code",
      "metadata": {
        "id": "T8hF_teane7a",
        "colab_type": "code",
        "colab": {}
      },
      "source": [
        "n_pts=100\n",
        "centers=[[-.5,.5],[.5,-.5]]\n",
        "#Importing Data Set, make_blob() creates the cluster of data points randomly centered around chosen centered point\n",
        "X,y=datasets.make_blobs(n_samples=n_pts,random_state=123,centers=centers,cluster_std=0.4, )\n",
        "def scatter_plot():\n",
        "  plt.scatter(X[y==0,0],X[y==0,1])\n",
        "  plt.scatter(X[y==1,0],X[y==1,1])"
      ],
      "execution_count": null,
      "outputs": []
    },
    {
      "cell_type": "code",
      "metadata": {
        "id": "m03S1sR3nkEN",
        "colab_type": "code",
        "colab": {
          "base_uri": "https://localhost:8080/",
          "height": 266
        },
        "outputId": "ef0f2ada-5f32-43d2-f6b7-370fa490bd86"
      },
      "source": [
        "scatter_plot()"
      ],
      "execution_count": null,
      "outputs": [
        {
          "output_type": "display_data",
          "data": {
            "image/png": "[encoded data removed]",
            "text/plain": [
              "<Figure size 432x288 with 1 Axes>"
            ]
          },
          "metadata": {
            "tags": [],
            "needs_background": "light"
          }
        }
      ]
    },
    {
      "cell_type": "code",
      "metadata": {
        "id": "KsLZnKeZIpJ5",
        "colab_type": "code",
        "colab": {}
      },
      "source": [
        "torch.Tensor?"
      ],
      "execution_count": null,
      "outputs": []
    },
    {
      "cell_type": "code",
      "metadata": {
        "id": "ITlc7u8JY3xO",
        "colab_type": "code",
        "colab": {}
      },
      "source": [
        "#Convert numpy data to tensor\n",
        "X_data=torch.Tensor(X)\n",
        "y_data=torch.Tensor(y.reshape(n_pts,1))"
      ],
      "execution_count": null,
      "outputs": []
    },
    {
      "cell_type": "code",
      "metadata": {
        "id": "GYLXgYu2wNNr",
        "colab_type": "code",
        "colab": {}
      },
      "source": [
        "class Model(nn.Module):\n",
        "  def __init__(self,input_size,output_size):\n",
        "    super().__init__()\n",
        "    self.Linear = nn.Linear(input_size,output_size)\n",
        "  def forward(self,x):\n",
        "    pred=torch.sigmoid(self.Linear(x))\n",
        "    return pred\n",
        "  def pred(self,x):\n",
        "    pred=self.forward(x)\n",
        "    if pred >= 0.5:\n",
        "      return 1\n",
        "    else:\n",
        "      return 0\n"
      ],
      "execution_count": null,
      "outputs": []
    },
    {
      "cell_type": "code",
      "metadata": {
        "id": "37kXqmZ9kHWw",
        "colab_type": "code",
        "colab": {
          "base_uri": "https://localhost:8080/",
          "height": 68
        },
        "outputId": "00f1d25f-73bd-40a5-98e7-a612d5fbed68"
      },
      "source": [
        "torch.manual_seed(2)\n",
        "model=Model(2,1)\n",
        "print(list(model.parameters()))"
      ],
      "execution_count": null,
      "outputs": [
        {
          "output_type": "stream",
          "text": [
            "[Parameter containing:\n",
            "tensor([[ 0.1622, -0.1683]], requires_grad=True), Parameter containing:\n",
            "tensor([0.1939], requires_grad=True)]\n"
          ],
          "name": "stdout"
        }
      ]
    },
    {
      "cell_type": "code",
      "metadata": {
        "id": "PjzoJR1fkYiZ",
        "colab_type": "code",
        "colab": {
          "base_uri": "https://localhost:8080/",
          "height": 34
        },
        "outputId": "52b199c3-030c-4adc-f195-9f9903b1e2fa"
      },
      "source": [
        "[w,b]=model.parameters()\n",
        "W1,W2=w.view(2)\n",
        "b1=b[0]\n",
        "print(W1.item(),W2.item(),b1.item())"
      ],
      "execution_count": null,
      "outputs": [
        {
          "output_type": "stream",
          "text": [
            "0.16220331192016602 -0.1682732105255127 0.19390898942947388\n"
          ],
          "name": "stdout"
        }
      ]
    },
    {
      "cell_type": "code",
      "metadata": {
        "id": "DG62BaqclKEI",
        "colab_type": "code",
        "colab": {}
      },
      "source": [
        " def get_params():\n",
        "   return (W1.item(),W2.item(),b[0].item())"
      ],
      "execution_count": null,
      "outputs": []
    },
    {
      "cell_type": "code",
      "metadata": {
        "id": "dWoeMaOxl3w-",
        "colab_type": "code",
        "colab": {}
      },
      "source": [
        "def plot_fit(title):\n",
        "  plt.title=title\n",
        "  W1,W2,b=get_params()\n",
        "  x1=np.array([-2.0,2.0])\n",
        "  x2=-(W1*x1 + b)/W2\n",
        "  plt.plot(x1,x2,'r')\n",
        "  scatter_plot()\n",
        "  plt.show()"
      ],
      "execution_count": null,
      "outputs": []
    },
    {
      "cell_type": "code",
      "metadata": {
        "id": "ssA6Ivh3n263",
        "colab_type": "code",
        "colab": {
          "base_uri": "https://localhost:8080/",
          "height": 265
        },
        "outputId": "3cd5f485-fa02-4c55-b9cc-c06de23271ab"
      },
      "source": [
        "plot_fit('Initial Model')"
      ],
      "execution_count": null,
      "outputs": [
        {
          "output_type": "display_data",
          "data": {
            "image/png": "[encoded data removed]",
            "text/plain": [
              "<Figure size 432x288 with 1 Axes>"
            ]
          },
          "metadata": {
            "tags": [],
            "needs_background": "light"
          }
        }
      ]
    },
    {
      "cell_type": "code",
      "metadata": {
        "id": "WnMGcH8kk5l-",
        "colab_type": "code",
        "colab": {}
      },
      "source": [
        "criterion=nn.BCELoss( )\n",
        "optimizer=torch.optim.Adam(model.parameters(),lr=.001)"
      ],
      "execution_count": null,
      "outputs": []
    },
    {
      "cell_type": "code",
      "metadata": {
        "id": "7H2UrEXUEEM3",
        "colab_type": "code",
        "colab": {
          "base_uri": "https://localhost:8080/",
          "height": 265
        },
        "outputId": "81937c45-1658-4c3d-dc32-ad7996c51af6"
      },
      "source": [
        "plot_fit('Training Data')"
      ],
      "execution_count": null,
      "outputs": [
        {
          "output_type": "display_data",
          "data": {
            "image/png": "[encoded data removed]",
            "text/plain": [
              "<Figure size 432x288 with 1 Axes>"
            ]
          },
          "metadata": {
            "tags": [],
            "needs_background": "light"
          }
        }
      ]
    },
    {
      "cell_type": "code",
      "metadata": {
        "id": "iuitgHMXF0XD",
        "colab_type": "code",
        "colab": {
          "base_uri": "https://localhost:8080/",
          "height": 1000
        },
        "outputId": "68ba5bea-cd05-422e-ea26-a84584953eb0"
      },
      "source": [
        "epochs=1000\n",
        "losses=[]\n",
        "for i in range(epochs):\n",
        "  y_pred=model.forward(X_data)\n",
        "  loss=criterion(y_pred,y_data)\n",
        "  if (i+1)%5==0:\n",
        "    print(\"epochs :\", i, \"Loss :\", loss.item())\n",
        "  losses.append(loss.item())\n",
        "  optimizer.zero_grad()\n",
        "  loss.backward()\n",
        "  optimizer.step()\n",
        "\n"
      ],
      "execution_count": null,
      "outputs": [
        {
          "output_type": "stream",
          "text": [
            "epochs : 4 Loss : 0.6165003776550293\n",
            "epochs : 9 Loss : 0.6139997243881226\n",
            "epochs : 14 Loss : 0.6115145683288574\n",
            "epochs : 19 Loss : 0.6090461015701294\n",
            "epochs : 24 Loss : 0.6065950393676758\n",
            "epochs : 29 Loss : 0.60416179895401\n",
            "epochs : 34 Loss : 0.6017467975616455\n",
            "epochs : 39 Loss : 0.5993503332138062\n",
            "epochs : 44 Loss : 0.596972644329071\n",
            "epochs : 49 Loss : 0.5946134924888611\n",
            "epochs : 54 Loss : 0.592272937297821\n",
            "epochs : 59 Loss : 0.5899507999420166\n",
            "epochs : 64 Loss : 0.5876470804214478\n",
            "epochs : 69 Loss : 0.5853615999221802\n",
            "epochs : 74 Loss : 0.5830938816070557\n",
            "epochs : 79 Loss : 0.5808440446853638\n",
            "epochs : 84 Loss : 0.5786115527153015\n",
            "epochs : 89 Loss : 0.5763965249061584\n",
            "epochs : 94 Loss : 0.5741984248161316\n",
            "epochs : 99 Loss : 0.5720173120498657\n",
            "epochs : 104 Loss : 0.5698527693748474\n",
            "epochs : 109 Loss : 0.5677045583724976\n",
            "epochs : 114 Loss : 0.5655726194381714\n",
            "epochs : 119 Loss : 0.563456654548645\n",
            "epochs : 124 Loss : 0.5613563060760498\n",
            "epochs : 129 Loss : 0.5592716336250305\n",
            "epochs : 134 Loss : 0.557202160358429\n",
            "epochs : 139 Loss : 0.5551478862762451\n",
            "epochs : 144 Loss : 0.5531085729598999\n",
            "epochs : 149 Loss : 0.5510838031768799\n",
            "epochs : 154 Loss : 0.5490735769271851\n",
            "epochs : 159 Loss : 0.5470775961875916\n",
            "epochs : 164 Loss : 0.5450958013534546\n",
            "epochs : 169 Loss : 0.5431277751922607\n",
            "epochs : 174 Loss : 0.5411733388900757\n",
            "epochs : 179 Loss : 0.539232611656189\n",
            "epochs : 184 Loss : 0.5373051166534424\n",
            "epochs : 189 Loss : 0.5353907942771912\n",
            "epochs : 194 Loss : 0.5334894061088562\n",
            "epochs : 199 Loss : 0.531600832939148\n",
            "epochs : 204 Loss : 0.5297248959541321\n",
            "epochs : 209 Loss : 0.5278613567352295\n",
            "epochs : 214 Loss : 0.5260100364685059\n",
            "epochs : 219 Loss : 0.5241710543632507\n",
            "epochs : 224 Loss : 0.5223438143730164\n",
            "epochs : 229 Loss : 0.5205284953117371\n",
            "epochs : 234 Loss : 0.518724799156189\n",
            "epochs : 239 Loss : 0.5169326663017273\n",
            "epochs : 244 Loss : 0.5151517987251282\n",
            "epochs : 249 Loss : 0.5133821964263916\n",
            "epochs : 254 Loss : 0.511623740196228\n",
            "epochs : 259 Loss : 0.5098763704299927\n",
            "epochs : 264 Loss : 0.5081396102905273\n",
            "epochs : 269 Loss : 0.5064137578010559\n",
            "epochs : 274 Loss : 0.5046983957290649\n",
            "epochs : 279 Loss : 0.5029934644699097\n",
            "epochs : 284 Loss : 0.5012989640235901\n",
            "epochs : 289 Loss : 0.4996146261692047\n",
            "epochs : 294 Loss : 0.4979404807090759\n",
            "epochs : 299 Loss : 0.4962764084339142\n",
            "epochs : 304 Loss : 0.4946220815181732\n",
            "epochs : 309 Loss : 0.49297767877578735\n",
            "epochs : 314 Loss : 0.4913429915904999\n",
            "epochs : 319 Loss : 0.48971793055534363\n",
            "epochs : 324 Loss : 0.4881024658679962\n",
            "epochs : 329 Loss : 0.48649632930755615\n",
            "epochs : 334 Loss : 0.4848995506763458\n",
            "epochs : 339 Loss : 0.48331207036972046\n",
            "epochs : 344 Loss : 0.4817337095737457\n",
            "epochs : 349 Loss : 0.48016440868377686\n",
            "epochs : 354 Loss : 0.47860416769981384\n",
            "epochs : 359 Loss : 0.4770529270172119\n",
            "epochs : 364 Loss : 0.47551044821739197\n",
            "epochs : 369 Loss : 0.47397667169570923\n",
            "epochs : 374 Loss : 0.47245171666145325\n",
            "epochs : 379 Loss : 0.47093528509140015\n",
            "epochs : 384 Loss : 0.46942752599716187\n",
            "epochs : 389 Loss : 0.4679282009601593\n",
            "epochs : 394 Loss : 0.46643730998039246\n",
            "epochs : 399 Loss : 0.4649546444416046\n",
            "epochs : 404 Loss : 0.4634804129600525\n",
            "epochs : 409 Loss : 0.4620143175125122\n",
            "epochs : 414 Loss : 0.4605563282966614\n",
            "epochs : 419 Loss : 0.45910656452178955\n",
            "epochs : 424 Loss : 0.45766472816467285\n",
            "epochs : 429 Loss : 0.45623087882995605\n",
            "epochs : 434 Loss : 0.4548048675060272\n",
            "epochs : 439 Loss : 0.4533868134021759\n",
            "epochs : 444 Loss : 0.4519765377044678\n",
            "epochs : 449 Loss : 0.4505739212036133\n",
            "epochs : 454 Loss : 0.4491789937019348\n",
            "epochs : 459 Loss : 0.4477916955947876\n",
            "epochs : 464 Loss : 0.44641196727752686\n",
            "epochs : 469 Loss : 0.4450397491455078\n",
            "epochs : 474 Loss : 0.4436749517917633\n",
            "epochs : 479 Loss : 0.4423176050186157\n",
            "epochs : 484 Loss : 0.44096753001213074\n",
            "epochs : 489 Loss : 0.4396248757839203\n",
            "epochs : 494 Loss : 0.4382893741130829\n",
            "epochs : 499 Loss : 0.4369610548019409\n",
            "epochs : 504 Loss : 0.435639888048172\n",
            "epochs : 509 Loss : 0.43432578444480896\n",
            "epochs : 514 Loss : 0.4330187141895294\n",
            "epochs : 519 Loss : 0.4317187964916229\n",
            "epochs : 524 Loss : 0.4304256737232208\n",
            "epochs : 529 Loss : 0.42913949489593506\n",
            "epochs : 534 Loss : 0.4278600811958313\n",
            "epochs : 539 Loss : 0.4265875518321991\n",
            "epochs : 544 Loss : 0.4253217279911041\n",
            "epochs : 549 Loss : 0.4240626394748688\n",
            "epochs : 554 Loss : 0.42281025648117065\n",
            "epochs : 559 Loss : 0.42156440019607544\n",
            "epochs : 564 Loss : 0.4203251898288727\n",
            "epochs : 569 Loss : 0.41909244656562805\n",
            "epochs : 574 Loss : 0.41786617040634155\n",
            "epochs : 579 Loss : 0.41664639115333557\n",
            "epochs : 584 Loss : 0.41543295979499817\n",
            "epochs : 589 Loss : 0.41422587633132935\n",
            "epochs : 594 Loss : 0.4130251705646515\n",
            "epochs : 599 Loss : 0.4118306040763855\n",
            "epochs : 604 Loss : 0.4106423556804657\n",
            "epochs : 609 Loss : 0.4094602167606354\n",
            "epochs : 614 Loss : 0.40828418731689453\n",
            "epochs : 619 Loss : 0.40711432695388794\n",
            "epochs : 624 Loss : 0.4059505760669708\n",
            "epochs : 629 Loss : 0.4047926664352417\n",
            "epochs : 634 Loss : 0.40364089608192444\n",
            "epochs : 639 Loss : 0.4024949371814728\n",
            "epochs : 644 Loss : 0.4013548195362091\n",
            "epochs : 649 Loss : 0.40022072196006775\n",
            "epochs : 654 Loss : 0.39909231662750244\n",
            "epochs : 659 Loss : 0.3979697525501251\n",
            "epochs : 664 Loss : 0.39685288071632385\n",
            "epochs : 669 Loss : 0.39574164152145386\n",
            "epochs : 674 Loss : 0.3946361243724823\n",
            "epochs : 679 Loss : 0.39353618025779724\n",
            "epochs : 684 Loss : 0.39244186878204346\n",
            "epochs : 689 Loss : 0.3913531005382538\n",
            "epochs : 694 Loss : 0.3902697265148163\n",
            "epochs : 699 Loss : 0.3891918957233429\n",
            "epochs : 704 Loss : 0.38811954855918884\n",
            "epochs : 709 Loss : 0.3870525062084198\n",
            "epochs : 714 Loss : 0.38599085807800293\n",
            "epochs : 719 Loss : 0.38493451476097107\n",
            "epochs : 724 Loss : 0.3838835060596466\n",
            "epochs : 729 Loss : 0.38283771276474\n",
            "epochs : 734 Loss : 0.381797194480896\n",
            "epochs : 739 Loss : 0.3807617127895355\n",
            "epochs : 744 Loss : 0.3797314763069153\n",
            "epochs : 749 Loss : 0.37870633602142334\n",
            "epochs : 754 Loss : 0.3776863217353821\n",
            "epochs : 759 Loss : 0.37667128443717957\n",
            "epochs : 764 Loss : 0.37566128373146057\n",
            "epochs : 769 Loss : 0.37465623021125793\n",
            "epochs : 774 Loss : 0.37365609407424927\n",
            "epochs : 779 Loss : 0.37266093492507935\n",
            "epochs : 784 Loss : 0.37167060375213623\n",
            "epochs : 789 Loss : 0.3706851601600647\n",
            "epochs : 794 Loss : 0.3697044849395752\n",
            "epochs : 799 Loss : 0.3687286078929901\n",
            "epochs : 804 Loss : 0.3677574396133423\n",
            "epochs : 809 Loss : 0.3667910397052765\n",
            "epochs : 814 Loss : 0.36582934856414795\n",
            "epochs : 819 Loss : 0.3648723363876343\n",
            "epochs : 824 Loss : 0.36391985416412354\n",
            "epochs : 829 Loss : 0.36297208070755005\n",
            "epochs : 834 Loss : 0.3620287775993347\n",
            "epochs : 839 Loss : 0.3610900640487671\n",
            "epochs : 844 Loss : 0.36015579104423523\n",
            "epochs : 849 Loss : 0.3592260777950287\n",
            "epochs : 854 Loss : 0.35830071568489075\n",
            "epochs : 859 Loss : 0.3573797643184662\n",
            "epochs : 864 Loss : 0.3564632833003998\n",
            "epochs : 869 Loss : 0.355551153421402\n",
            "epochs : 874 Loss : 0.3546432852745056\n",
            "epochs : 879 Loss : 0.35373976826667786\n",
            "epochs : 884 Loss : 0.35284051299095154\n",
            "epochs : 889 Loss : 0.3519454598426819\n",
            "epochs : 894 Loss : 0.35105469822883606\n",
            "epochs : 899 Loss : 0.3501681387424469\n",
            "epochs : 904 Loss : 0.34928569197654724\n",
            "epochs : 909 Loss : 0.3484073579311371\n",
            "epochs : 914 Loss : 0.34753313660621643\n",
            "epochs : 919 Loss : 0.34666305780410767\n",
            "epochs : 924 Loss : 0.34579700231552124\n",
            "epochs : 929 Loss : 0.34493502974510193\n",
            "epochs : 934 Loss : 0.3440769910812378\n",
            "epochs : 939 Loss : 0.34322303533554077\n",
            "epochs : 944 Loss : 0.3423728942871094\n",
            "epochs : 949 Loss : 0.34152668714523315\n",
            "epochs : 954 Loss : 0.3406844437122345\n",
            "epochs : 959 Loss : 0.33984604477882385\n",
            "epochs : 964 Loss : 0.339011549949646\n",
            "epochs : 969 Loss : 0.338180810213089\n",
            "epochs : 974 Loss : 0.3373539447784424\n",
            "epochs : 979 Loss : 0.33653080463409424\n",
            "epochs : 984 Loss : 0.33571144938468933\n",
            "epochs : 989 Loss : 0.3348957300186157\n",
            "epochs : 994 Loss : 0.33408379554748535\n",
            "epochs : 999 Loss : 0.33327555656433105\n"
          ],
          "name": "stdout"
        }
      ]
    },
    {
      "cell_type": "code",
      "metadata": {
        "id": "_CvxuLY_H633",
        "colab_type": "code",
        "colab": {
          "base_uri": "https://localhost:8080/",
          "height": 265
        },
        "outputId": "331356ae-5b22-491e-a7d9-70ca20bec9e8"
      },
      "source": [
        "plot_fit('Training Data')"
      ],
      "execution_count": null,
      "outputs": [
        {
          "output_type": "display_data",
          "data": {
            "image/png": "[encoded data removed]",
            "text/plain": [
              "<Figure size 432x288 with 1 Axes>"
            ]
          },
          "metadata": {
            "tags": [],
            "needs_background": "light"
          }
        }
      ]
    },
    {
      "cell_type": "code",
      "metadata": {
        "id": "1tu79VVoKXet",
        "colab_type": "code",
        "colab": {}
      },
      "source": [
        ""
      ],
      "execution_count": null,
      "outputs": []
    }
  ]
}