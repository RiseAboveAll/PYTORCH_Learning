{
  "nbformat": 4,
  "nbformat_minor": 0,
  "metadata": {
    "colab": {
      "name": "Pytorch-Tensors.ipynb",
      "provenance": [],
      "toc_visible": true,
      "authorship_tag": "ABX9TyM2GU7dpLNAzVRI2VqqE1zA",
      "include_colab_link": true
    },
    "kernelspec": {
      "name": "python3",
      "display_name": "Python 3"
    },
    "accelerator": "GPU"
  },
  "cells": [
    {
      "cell_type": "markdown",
      "metadata": {
        "id": "view-in-github",
        "colab_type": "text"
      },
      "source": [
        "<a href=\"https://colab.research.google.com/github/RiseAboveAll/PYTORCH_Learning/blob/master/Pytorch_Tensors.ipynb\" target=\"_parent\"><img src=\"https://colab.research.google.com/assets/colab-badge.svg\" alt=\"Open In Colab\"/></a>"
      ]
    },
    {
      "cell_type": "markdown",
      "metadata": {
        "id": "-rZDDIAF6n2j",
        "colab_type": "text"
      },
      "source": [
        "### PyTorch Library Installation and Import "
      ]
    },
    {
      "cell_type": "code",
      "metadata": {
        "id": "WP8ejfvp6iS8",
        "colab_type": "code",
        "colab": {
          "base_uri": "https://localhost:8080/",
          "height": 68
        },
        "outputId": "52ab3a75-9c1e-487b-f8ab-fbcee4eaaf64"
      },
      "source": [
        "!pip3 install torch"
      ],
      "execution_count": null,
      "outputs": [
        {
          "output_type": "stream",
          "text": [
            "Requirement already satisfied: torch in /usr/local/lib/python3.6/dist-packages (1.5.1+cu101)\n",
            "Requirement already satisfied: future in /usr/local/lib/python3.6/dist-packages (from torch) (0.16.0)\n",
            "Requirement already satisfied: numpy in /usr/local/lib/python3.6/dist-packages (from torch) (1.18.5)\n"
          ],
          "name": "stdout"
        }
      ]
    },
    {
      "cell_type": "code",
      "metadata": {
        "id": "M4EbUhdL7FXq",
        "colab_type": "code",
        "colab": {}
      },
      "source": [
        "import torch\n",
        "import torch.nn as nn\n",
        "import pandas as pd\n",
        "import numpy as np \n",
        "import matplotlib.pyplot as plt\n",
        "from sklearn.datasets import load_breast_cancer\n",
        "from sklearn.model_selection import train_test_split as tts\n",
        "from sklearn.preprocessing import StandardScaler"
      ],
      "execution_count": 1,
      "outputs": []
    },
    {
      "cell_type": "markdown",
      "metadata": {
        "id": "FjM7ktdOed4s",
        "colab_type": "text"
      },
      "source": [
        "# Pytorch Basic"
      ]
    },
    {
      "cell_type": "markdown",
      "metadata": {
        "id": "F5xC-bsa7L_i",
        "colab_type": "text"
      },
      "source": [
        "### Creating 1-D Tensor"
      ]
    },
    {
      "cell_type": "code",
      "metadata": {
        "id": "VE84pmcb7J3U",
        "colab_type": "code",
        "colab": {
          "base_uri": "https://localhost:8080/"
        },
        "outputId": "429b3aa1-e17b-4c69-cce6-ef7ea774c0d6"
      },
      "source": [
        "v=torch.tensor([1,2,3])\n",
        "v"
      ],
      "execution_count": null,
      "outputs": [
        {
          "output_type": "execute_result",
          "data": {
            "text/plain": [
              "tensor([1, 2, 3])"
            ]
          },
          "metadata": {
            "tags": []
          },
          "execution_count": 3
        }
      ]
    },
    {
      "cell_type": "code",
      "metadata": {
        "id": "c-qyniOO8wQO",
        "colab_type": "code",
        "colab": {
          "base_uri": "https://localhost:8080/"
        },
        "outputId": "5974086f-69be-43c4-8fc9-90784ec82c09"
      },
      "source": [
        "#@title Float Tensor\n",
        "f=torch.FloatTensor([1.0,2.0,3.0,4.0])\n",
        "f\n",
        "f=torch.tensor([1,2,3,4,5,6],dtype=torch.float64)\n",
        "print(f)"
      ],
      "execution_count": null,
      "outputs": [
        {
          "output_type": "stream",
          "text": [
            "tensor([1., 2., 3., 4., 5., 6.], dtype=torch.float64)\n"
          ],
          "name": "stdout"
        }
      ]
    },
    {
      "cell_type": "code",
      "metadata": {
        "id": "Oet951Ju87Yg",
        "colab_type": "code",
        "colab": {}
      },
      "source": [
        ""
      ],
      "execution_count": null,
      "outputs": []
    },
    {
      "cell_type": "markdown",
      "metadata": {
        "id": "sx5m4Yrx7jHU",
        "colab_type": "text"
      },
      "source": [
        "### Properties of Tensor\n",
        "\n",
        "- data type : dtype\n",
        "\n",
        "- Size of Tensor : .size()\n",
        "\n",
        "- Changing the shape of tensor : .view(rows,columns)\n",
        "\n",
        "- Type of data : .type()\n",
        "\n",
        "- Dimension of Tensor :.dim()"
      ]
    },
    {
      "cell_type": "code",
      "metadata": {
        "id": "BMukXTBF7bXP",
        "colab_type": "code",
        "colab": {
          "base_uri": "https://localhost:8080/"
        },
        "outputId": "893726c3-9fe5-43ef-b515-58a535d92d0f"
      },
      "source": [
        "#@title Data Type\n",
        "v.dtype"
      ],
      "execution_count": null,
      "outputs": [
        {
          "output_type": "execute_result",
          "data": {
            "text/plain": [
              "torch.int64"
            ]
          },
          "metadata": {
            "tags": []
          },
          "execution_count": 5
        }
      ]
    },
    {
      "cell_type": "code",
      "metadata": {
        "id": "6TbqIRwvdv3o",
        "colab_type": "code",
        "colab": {
          "base_uri": "https://localhost:8080/"
        },
        "outputId": "f15fdd7a-03cb-45a9-8b88-fd6f9a05b404"
      },
      "source": [
        "v.dim()"
      ],
      "execution_count": null,
      "outputs": [
        {
          "output_type": "execute_result",
          "data": {
            "text/plain": [
              "1"
            ]
          },
          "metadata": {
            "tags": []
          },
          "execution_count": 6
        }
      ]
    },
    {
      "cell_type": "code",
      "metadata": {
        "id": "8WeGdelwFNve",
        "colab_type": "code",
        "colab": {
          "base_uri": "https://localhost:8080/"
        },
        "outputId": "37822f44-b501-4238-9d1d-9af5918fa16c"
      },
      "source": [
        "#@title Size of Tensor\n",
        "f.size()"
      ],
      "execution_count": null,
      "outputs": [
        {
          "output_type": "execute_result",
          "data": {
            "text/plain": [
              "torch.Size([6])"
            ]
          },
          "metadata": {
            "tags": []
          },
          "execution_count": 7
        }
      ]
    },
    {
      "cell_type": "code",
      "metadata": {
        "id": "AdiRjcIAFs2V",
        "colab_type": "code",
        "colab": {
          "base_uri": "https://localhost:8080/"
        },
        "outputId": "a2eae3fd-8911-4161-f523-d8d3c9c22014"
      },
      "source": [
        "#@title Shape of Tensor : .view() . It is ver similar to numy .reshape() method\n",
        "print(f.view(3,2))\n",
        "print(f.type())"
      ],
      "execution_count": null,
      "outputs": [
        {
          "output_type": "stream",
          "text": [
            "tensor([[1., 2.],\n",
            "        [3., 4.],\n",
            "        [5., 6.]], dtype=torch.float64)\n",
            "torch.DoubleTensor\n"
          ],
          "name": "stdout"
        }
      ]
    },
    {
      "cell_type": "code",
      "metadata": {
        "id": "Q8YCSVgKGW_a",
        "colab_type": "code",
        "colab": {
          "base_uri": "https://localhost:8080/"
        },
        "outputId": "1124402c-3442-4277-a038-2138e58098ac"
      },
      "source": [
        "#@title We can also utiles property of -1. if we have given 3 as rows so -1 will check to the total size of the tensor, then it will divide it by number of rows , if the remainder is 0 then it will use that value else check different value. It will be opposite for when we use -1 as rows . \n",
        "\n",
        "f.view(3,-1)\n"
      ],
      "execution_count": null,
      "outputs": [
        {
          "output_type": "execute_result",
          "data": {
            "text/plain": [
              "tensor([[1., 2.],\n",
              "        [3., 4.],\n",
              "        [5., 6.]], dtype=torch.float64)"
            ]
          },
          "metadata": {
            "tags": []
          },
          "execution_count": 9
        }
      ]
    },
    {
      "cell_type": "code",
      "metadata": {
        "id": "kVb9gzdoGyrU",
        "colab_type": "code",
        "colab": {
          "base_uri": "https://localhost:8080/"
        },
        "outputId": "fda50736-44a4-42f7-c58d-80c64c736e79"
      },
      "source": [
        "f.view(-1,3)"
      ],
      "execution_count": null,
      "outputs": [
        {
          "output_type": "execute_result",
          "data": {
            "text/plain": [
              "tensor([[1., 2., 3.],\n",
              "        [4., 5., 6.]], dtype=torch.float64)"
            ]
          },
          "metadata": {
            "tags": []
          },
          "execution_count": 10
        }
      ]
    },
    {
      "cell_type": "code",
      "metadata": {
        "id": "3XpNH7A-HG6J",
        "colab_type": "code",
        "colab": {}
      },
      "source": [
        ""
      ],
      "execution_count": null,
      "outputs": []
    },
    {
      "cell_type": "code",
      "metadata": {
        "id": "c8GWFvZr7rAe",
        "colab_type": "code",
        "colab": {
          "base_uri": "https://localhost:8080/"
        },
        "outputId": "d1c117df-3621-4113-9522-2ffc0c1e80f2"
      },
      "source": [
        "#@title Indexing Tensor\n",
        "# Indexing the tensor\n",
        "v[0:2]"
      ],
      "execution_count": null,
      "outputs": [
        {
          "output_type": "execute_result",
          "data": {
            "text/plain": [
              "tensor([1, 2])"
            ]
          },
          "metadata": {
            "tags": []
          },
          "execution_count": 11
        }
      ]
    },
    {
      "cell_type": "markdown",
      "metadata": {
        "id": "PrT1yGOIYuv4",
        "colab_type": "text"
      },
      "source": [
        "### Converting Numpy Array as Tensor"
      ]
    },
    {
      "cell_type": "code",
      "metadata": {
        "id": "J4KJbn_58JMc",
        "colab_type": "code",
        "colab": {
          "base_uri": "https://localhost:8080/"
        },
        "outputId": "b2060b98-4f7c-422c-990c-52a88347f461"
      },
      "source": [
        "a=np.array([1,2,3,4,5,6])\n",
        "tensor_conv=torch.from_numpy(a)\n",
        "tensor_conv"
      ],
      "execution_count": null,
      "outputs": [
        {
          "output_type": "execute_result",
          "data": {
            "text/plain": [
              "tensor([1, 2, 3, 4, 5, 6])"
            ]
          },
          "metadata": {
            "tags": []
          },
          "execution_count": 12
        }
      ]
    },
    {
      "cell_type": "markdown",
      "metadata": {
        "id": "AmJ0FsYiZnC9",
        "colab_type": "text"
      },
      "source": [
        "### Converting Tensor to Numpy"
      ]
    },
    {
      "cell_type": "code",
      "metadata": {
        "id": "NVBmwEhrZD2V",
        "colab_type": "code",
        "colab": {
          "base_uri": "https://localhost:8080/"
        },
        "outputId": "f6d895e3-915f-4275-f30b-7291fab57dfa"
      },
      "source": [
        "numpy_conv=tensor_conv.numpy()\n",
        "numpy_conv"
      ],
      "execution_count": null,
      "outputs": [
        {
          "output_type": "execute_result",
          "data": {
            "text/plain": [
              "array([1, 2, 3, 4, 5, 6])"
            ]
          },
          "metadata": {
            "tags": []
          },
          "execution_count": 13
        }
      ]
    },
    {
      "cell_type": "markdown",
      "metadata": {
        "id": "LihYgASngfRI",
        "colab_type": "text"
      },
      "source": [
        "### Vector (Tensor) Operations"
      ]
    },
    {
      "cell_type": "code",
      "metadata": {
        "id": "VYQcB35MZvJW",
        "colab_type": "code",
        "colab": {
          "base_uri": "https://localhost:8080/"
        },
        "outputId": "e9256d6d-a495-457d-a28e-7d5497fff987"
      },
      "source": [
        "#@title Addition\n",
        "t_one=torch.tensor([1,2,3])\n",
        "t_two=torch.tensor([2,3,4])\n",
        "t_one+t_two"
      ],
      "execution_count": null,
      "outputs": [
        {
          "output_type": "execute_result",
          "data": {
            "text/plain": [
              "tensor([3, 5, 7])"
            ]
          },
          "metadata": {
            "tags": []
          },
          "execution_count": 14
        }
      ]
    },
    {
      "cell_type": "code",
      "metadata": {
        "id": "JNTsWbSHg4wW",
        "colab_type": "code",
        "colab": {
          "base_uri": "https://localhost:8080/"
        },
        "outputId": "a77beb0e-4262-428c-c95c-261ed7e93b9c"
      },
      "source": [
        "#@title Vector Multiplication\n",
        "t_one*t_two"
      ],
      "execution_count": null,
      "outputs": [
        {
          "output_type": "execute_result",
          "data": {
            "text/plain": [
              "tensor([ 2,  6, 12])"
            ]
          },
          "metadata": {
            "tags": []
          },
          "execution_count": 15
        }
      ]
    },
    {
      "cell_type": "code",
      "metadata": {
        "id": "6X8IMLdghV63",
        "colab_type": "code",
        "colab": {
          "base_uri": "https://localhost:8080/"
        },
        "outputId": "d45f27f8-5f0d-4128-a3ab-e7e3f4a363cb"
      },
      "source": [
        "#@title Dot Product\n",
        "dot_product=torch.dot(t_one,t_two)\n",
        "dot_product"
      ],
      "execution_count": null,
      "outputs": [
        {
          "output_type": "execute_result",
          "data": {
            "text/plain": [
              "tensor(20)"
            ]
          },
          "metadata": {
            "tags": []
          },
          "execution_count": 16
        }
      ]
    },
    {
      "cell_type": "code",
      "metadata": {
        "id": "551YcRLehATf",
        "colab_type": "code",
        "colab": {
          "base_uri": "https://localhost:8080/"
        },
        "outputId": "0bedeada-ac2b-485a-ae2a-ad73e384a980"
      },
      "source": [
        "#@title Numbers between certain range : (from , to , step size)\n",
        "\n",
        "num=torch.linspace(0,10)\n",
        "num.size()\n",
        "y=torch.cos(num)\n",
        "plt.plot(num,y)\n"
      ],
      "execution_count": null,
      "outputs": [
        {
          "output_type": "execute_result",
          "data": {
            "text/plain": [
              "[<matplotlib.lines.Line2D at 0x7fb33ded9e48>]"
            ]
          },
          "metadata": {
            "tags": []
          },
          "execution_count": 17
        },
        {
          "output_type": "display_data",
          "data": {
            "image/png": "[encoded data removed]",
            "text/plain": [
              "<Figure size 432x288 with 1 Axes>"
            ]
          },
          "metadata": {
            "tags": [],
            "needs_background": "light"
          }
        }
      ]
    },
    {
      "cell_type": "markdown",
      "metadata": {
        "id": "YOMsqkip5pUR",
        "colab_type": "text"
      },
      "source": [
        "### 2-Dimensional Tensors "
      ]
    },
    {
      "cell_type": "markdown",
      "metadata": {
        "id": "dDvfwVkt701-",
        "colab_type": "text"
      },
      "source": [
        " It is a sort of matrics , generally represents grey-scale images having values as 0 - Black & 255- White"
      ]
    },
    {
      "cell_type": "code",
      "metadata": {
        "id": "kojey4UY5o9S",
        "colab_type": "code",
        "colab": {
          "base_uri": "https://localhost:8080/"
        },
        "outputId": "44cfc9c7-4a3c-4485-e21d-44708838e209"
      },
      "source": [
        "#@title .arange() initializes a 1-D tensor (from,to,step size)\n",
        "\n",
        "one_d=torch.arange(0,9)\n",
        "one_d"
      ],
      "execution_count": null,
      "outputs": [
        {
          "output_type": "execute_result",
          "data": {
            "text/plain": [
              "tensor([0, 1, 2, 3, 4, 5, 6, 7, 8])"
            ]
          },
          "metadata": {
            "tags": []
          },
          "execution_count": 18
        }
      ]
    },
    {
      "cell_type": "code",
      "metadata": {
        "id": "MbY226CLZypf",
        "colab_type": "code",
        "colab": {
          "base_uri": "https://localhost:8080/"
        },
        "outputId": "f2828faf-9e75-42e4-8177-be9be5cb0588"
      },
      "source": [
        "#@title View one_d in two dimensional tensor \n",
        "two_d=one_d.view(3,-1)\n",
        "two_d"
      ],
      "execution_count": null,
      "outputs": [
        {
          "output_type": "execute_result",
          "data": {
            "text/plain": [
              "tensor([[0, 1, 2],\n",
              "        [3, 4, 5],\n",
              "        [6, 7, 8]])"
            ]
          },
          "metadata": {
            "tags": []
          },
          "execution_count": 19
        }
      ]
    },
    {
      "cell_type": "code",
      "metadata": {
        "id": "9WKF1IK8vk1w",
        "colab_type": "code",
        "colab": {
          "base_uri": "https://localhost:8080/"
        },
        "outputId": "e0ed5013-dc4a-4438-bc6e-ab7d6490c48f"
      },
      "source": [
        "two_d.dim()"
      ],
      "execution_count": null,
      "outputs": [
        {
          "output_type": "execute_result",
          "data": {
            "text/plain": [
              "2"
            ]
          },
          "metadata": {
            "tags": []
          },
          "execution_count": 20
        }
      ]
    },
    {
      "cell_type": "code",
      "metadata": {
        "id": "F2YD0vp3eJtk",
        "colab_type": "code",
        "colab": {
          "base_uri": "https://localhost:8080/"
        },
        "outputId": "089a2f08-8599-45fe-af48-41b3615442ea"
      },
      "source": [
        "#@title slicing two dimensional tensor\n",
        "#0th row 0th column \n",
        "\n",
        "two_d[0,0]"
      ],
      "execution_count": null,
      "outputs": [
        {
          "output_type": "execute_result",
          "data": {
            "text/plain": [
              "tensor(0)"
            ]
          },
          "metadata": {
            "tags": []
          },
          "execution_count": 21
        }
      ]
    },
    {
      "cell_type": "code",
      "metadata": {
        "id": "fe6Y_cJPfdMu",
        "colab_type": "code",
        "colab": {
          "base_uri": "https://localhost:8080/"
        },
        "outputId": "9d92a764-f1c5-4491-f794-e91c4fe1021e"
      },
      "source": [
        "two_d[0,:3]"
      ],
      "execution_count": null,
      "outputs": [
        {
          "output_type": "execute_result",
          "data": {
            "text/plain": [
              "tensor([0, 1, 2])"
            ]
          },
          "metadata": {
            "tags": []
          },
          "execution_count": 22
        }
      ]
    },
    {
      "cell_type": "markdown",
      "metadata": {
        "id": "Oy8oOp8igSwc",
        "colab_type": "text"
      },
      "source": [
        "### 3-D Tensor ( number of channels, rows, columns)\n",
        "\n"
      ]
    },
    {
      "cell_type": "code",
      "metadata": {
        "id": "-Tg3oy0hgrF4",
        "colab_type": "code",
        "colab": {
          "base_uri": "https://localhost:8080/"
        },
        "outputId": "26b80605-1753-4d8c-98c8-170816831bd8"
      },
      "source": [
        "three_d=torch.arange(18).view(3,2,3)\n",
        "three_d.dim()"
      ],
      "execution_count": null,
      "outputs": [
        {
          "output_type": "execute_result",
          "data": {
            "text/plain": [
              "3"
            ]
          },
          "metadata": {
            "tags": []
          },
          "execution_count": 23
        }
      ]
    },
    {
      "cell_type": "code",
      "metadata": {
        "id": "grAk6rPOf5Lp",
        "colab_type": "code",
        "colab": {
          "base_uri": "https://localhost:8080/"
        },
        "outputId": "407a62a1-e144-45a8-a03c-c060fd5152ba"
      },
      "source": [
        "three_d"
      ],
      "execution_count": null,
      "outputs": [
        {
          "output_type": "execute_result",
          "data": {
            "text/plain": [
              "tensor([[[ 0,  1,  2],\n",
              "         [ 3,  4,  5]],\n",
              "\n",
              "        [[ 6,  7,  8],\n",
              "         [ 9, 10, 11]],\n",
              "\n",
              "        [[12, 13, 14],\n",
              "         [15, 16, 17]]])"
            ]
          },
          "metadata": {
            "tags": []
          },
          "execution_count": 24
        }
      ]
    },
    {
      "cell_type": "code",
      "metadata": {
        "id": "GxsnS0TLgx8W",
        "colab_type": "code",
        "colab": {
          "base_uri": "https://localhost:8080/"
        },
        "outputId": "368661b9-4c69-48d7-acba-dac13bffd8ca"
      },
      "source": [
        "three_d1=torch.arange(18).view(2,-1,3)\n",
        "three_d1"
      ],
      "execution_count": null,
      "outputs": [
        {
          "output_type": "execute_result",
          "data": {
            "text/plain": [
              "tensor([[[ 0,  1,  2],\n",
              "         [ 3,  4,  5],\n",
              "         [ 6,  7,  8]],\n",
              "\n",
              "        [[ 9, 10, 11],\n",
              "         [12, 13, 14],\n",
              "         [15, 16, 17]]])"
            ]
          },
          "metadata": {
            "tags": []
          },
          "execution_count": 25
        }
      ]
    },
    {
      "cell_type": "code",
      "metadata": {
        "id": "l8qXgvNuz8ll",
        "colab_type": "code",
        "colab": {
          "base_uri": "https://localhost:8080/"
        },
        "outputId": "168e91c4-596b-45fd-f09b-7562163c2aed"
      },
      "source": [
        "#@title Slicing 3D Tensor\n",
        "\n",
        "three_d[:,:,:]"
      ],
      "execution_count": null,
      "outputs": [
        {
          "output_type": "execute_result",
          "data": {
            "text/plain": [
              "tensor([[[ 0,  1,  2],\n",
              "         [ 3,  4,  5]],\n",
              "\n",
              "        [[ 6,  7,  8],\n",
              "         [ 9, 10, 11]],\n",
              "\n",
              "        [[12, 13, 14],\n",
              "         [15, 16, 17]]])"
            ]
          },
          "metadata": {
            "tags": []
          },
          "execution_count": 26
        }
      ]
    },
    {
      "cell_type": "code",
      "metadata": {
        "id": "Lk8bIwiF0zas",
        "colab_type": "code",
        "colab": {
          "base_uri": "https://localhost:8080/"
        },
        "outputId": "f7bb9179-4ca8-4d1f-f310-458c437fa9a2"
      },
      "source": [
        "three_d[:,:,-1]"
      ],
      "execution_count": null,
      "outputs": [
        {
          "output_type": "execute_result",
          "data": {
            "text/plain": [
              "tensor([[ 2,  5],\n",
              "        [ 8, 11],\n",
              "        [14, 17]])"
            ]
          },
          "metadata": {
            "tags": []
          },
          "execution_count": 27
        }
      ]
    },
    {
      "cell_type": "code",
      "metadata": {
        "id": "8hc6fS1C1US_",
        "colab_type": "code",
        "colab": {
          "base_uri": "https://localhost:8080/"
        },
        "outputId": "ff8ddc4b-940e-4ea3-e1ab-7852f972c30f"
      },
      "source": [
        "#@title Slicing 3D Tensor\n",
        "\n",
        "three_d[:,:1,:]"
      ],
      "execution_count": null,
      "outputs": [
        {
          "output_type": "execute_result",
          "data": {
            "text/plain": [
              "tensor([[[ 0,  1,  2]],\n",
              "\n",
              "        [[ 6,  7,  8]],\n",
              "\n",
              "        [[12, 13, 14]]])"
            ]
          },
          "metadata": {
            "tags": []
          },
          "execution_count": 28
        }
      ]
    },
    {
      "cell_type": "code",
      "metadata": {
        "id": "8DcyeLjW1cFu",
        "colab_type": "code",
        "colab": {
          "base_uri": "https://localhost:8080/"
        },
        "outputId": "1c318593-74c6-4035-b6b5-2ebbad87dc1f"
      },
      "source": [
        "#@title Slicing 3D Tensor\n",
        "\n",
        "three_d[1:,:,:]"
      ],
      "execution_count": null,
      "outputs": [
        {
          "output_type": "execute_result",
          "data": {
            "text/plain": [
              "tensor([[[ 6,  7,  8],\n",
              "         [ 9, 10, 11]],\n",
              "\n",
              "        [[12, 13, 14],\n",
              "         [15, 16, 17]]])"
            ]
          },
          "metadata": {
            "tags": []
          },
          "execution_count": 29
        }
      ]
    },
    {
      "cell_type": "code",
      "metadata": {
        "id": "Ikjmr3QE1hdo",
        "colab_type": "code",
        "colab": {
          "base_uri": "https://localhost:8080/"
        },
        "outputId": "41b140fb-7b89-4480-b016-001d20fda3a1"
      },
      "source": [
        "#@title Slicing 3D Tensor for value 10 \n",
        "\n",
        "three_d[1,1,1]"
      ],
      "execution_count": null,
      "outputs": [
        {
          "output_type": "execute_result",
          "data": {
            "text/plain": [
              "tensor(10)"
            ]
          },
          "metadata": {
            "tags": []
          },
          "execution_count": 30
        }
      ]
    },
    {
      "cell_type": "markdown",
      "metadata": {
        "id": "aiudTxpy2dbw",
        "colab_type": "text"
      },
      "source": [
        "### Tensor Multiplication \n",
        "\n",
        "- Columns of first matrix must be equal to rows of second matrix"
      ]
    },
    {
      "cell_type": "code",
      "metadata": {
        "id": "2i4ulnKC1yaG",
        "colab_type": "code",
        "colab": {}
      },
      "source": [
        "matrix_a=torch.tensor([1,2,3,4,5,6]).view(2,3)\n",
        "matrix_b=torch.tensor([2,4,6,-2,-4,-6]).view(3,2)"
      ],
      "execution_count": null,
      "outputs": []
    },
    {
      "cell_type": "code",
      "metadata": {
        "id": "m-F2b8Gh70_p",
        "colab_type": "code",
        "colab": {
          "base_uri": "https://localhost:8080/"
        },
        "outputId": "c2ac7ecf-0d06-48be-c7e9-cb6218402992"
      },
      "source": [
        "torch.matmul(matrix_a,matrix_b)"
      ],
      "execution_count": null,
      "outputs": [
        {
          "output_type": "execute_result",
          "data": {
            "text/plain": [
              "tensor([[  2, -18],\n",
              "        [ 14, -30]])"
            ]
          },
          "metadata": {
            "tags": []
          },
          "execution_count": 32
        }
      ]
    },
    {
      "cell_type": "markdown",
      "metadata": {
        "id": "UzzT7FQ6D59c",
        "colab_type": "text"
      },
      "source": [
        "##### Alternative Way of Tensor Multiplication"
      ]
    },
    {
      "cell_type": "code",
      "metadata": {
        "id": "VDrKDJXBDweF",
        "colab_type": "code",
        "colab": {
          "base_uri": "https://localhost:8080/"
        },
        "outputId": "b9a3d53d-aaa9-474d-9387-2b22fb639d8c"
      },
      "source": [
        "matrix_a @ matrix_b"
      ],
      "execution_count": null,
      "outputs": [
        {
          "output_type": "execute_result",
          "data": {
            "text/plain": [
              "tensor([[  2, -18],\n",
              "        [ 14, -30]])"
            ]
          },
          "metadata": {
            "tags": []
          },
          "execution_count": 33
        }
      ]
    },
    {
      "cell_type": "markdown",
      "metadata": {
        "id": "vqK-e_5MESmT",
        "colab_type": "text"
      },
      "source": [
        "### Gradients \n",
        "\n",
        "Derivative represents a function's rate of change. Derivative of function f(x) , when x is at point a , derivatives gives the slope of curve at point when x is equal to a .\n",
        "\n"
      ]
    },
    {
      "cell_type": "code",
      "metadata": {
        "id": "T6UALo_7EMtV",
        "colab_type": "code",
        "colab": {
          "base_uri": "https://localhost:8080/"
        },
        "outputId": "4c485394-f52a-44df-8d75-f0f40dc9c68c"
      },
      "source": [
        "x=torch.tensor(2.0,requires_grad=True)# require_grads parameter is used when you are calculating the derivative of any function\n",
        "y=9*x**4 + 2*x**3 + 3*x**2 + 6*x + 1\n",
        "y.backward()# It computes gradient of y wrt x when x==2\n",
        "x.grad # it gives the values of gradients \n"
      ],
      "execution_count": null,
      "outputs": [
        {
          "output_type": "execute_result",
          "data": {
            "text/plain": [
              "tensor(330.)"
            ]
          },
          "metadata": {
            "tags": []
          },
          "execution_count": 34
        }
      ]
    },
    {
      "cell_type": "markdown",
      "metadata": {
        "id": "LuXCgKzjGt38",
        "colab_type": "text"
      },
      "source": [
        "##### Partial Derivatives"
      ]
    },
    {
      "cell_type": "code",
      "metadata": {
        "id": "XYU8Me5VGnrw",
        "colab_type": "code",
        "colab": {
          "base_uri": "https://localhost:8080/"
        },
        "outputId": "5e97e435-e6b5-455e-a945-2a62b6e4486d"
      },
      "source": [
        "#@title This will compute partial derivative of y wrt x and z\n",
        "x=torch.tensor(1.0,requires_grad=True)\n",
        "z=torch.tensor(2.0,requires_grad=True)\n",
        "y=x**2 + z**3\n",
        "y.backward()\n",
        "print(x.grad)\n",
        "print(z.grad)"
      ],
      "execution_count": null,
      "outputs": [
        {
          "output_type": "stream",
          "text": [
            "tensor(2.)\n",
            "tensor(12.)\n"
          ],
          "name": "stdout"
        }
      ]
    },
    {
      "cell_type": "code",
      "metadata": {
        "id": "2wncExK4dlwC",
        "colab_type": "code",
        "colab": {}
      },
      "source": [
        ""
      ],
      "execution_count": null,
      "outputs": []
    },
    {
      "cell_type": "markdown",
      "metadata": {
        "id": "00Mhr5YBejiJ",
        "colab_type": "text"
      },
      "source": [
        "# Deep Learning Basics"
      ]
    },
    {
      "cell_type": "markdown",
      "metadata": {
        "id": "cfhUpSbljCpc",
        "colab_type": "text"
      },
      "source": [
        "### What is Machine Learning?\n",
        "\n",
        "- Ability to automatically learn and improve from experience without being explicitly programmed. \n",
        "\n",
        "- The process of learning begins with observation of data \n",
        "\n",
        "- Geometry problem of fitting line amongst data for regression and seperating data with a line for classification\n",
        "\n"
      ]
    },
    {
      "cell_type": "markdown",
      "metadata": {
        "id": "FzC66MET8txY",
        "colab_type": "text"
      },
      "source": [
        "### Model Architecture \n",
        "\n",
        "- y=mx+c , using this equation , it is our model architecture and as well as using this we make prediction. In te equation m and b are the parameters which model wants to learn\n",
        "\n",
        "- Finding Slope m and Intercept c :\n",
        "\n",
        "  -  Cost function : For Regression we use MSE\n",
        "\n",
        "  -  Goal : Minimize Loss wrt m & b ; m*,b*=arg min L. i.e values of m and b will minimize the loss \n",
        "\n",
        "  -  Take partial derivatives of loss wrt m & b ;  \n",
        "\n",
        "  \n",
        "\n"
      ]
    },
    {
      "cell_type": "markdown",
      "metadata": {
        "id": "1R8_zmVJZn4Q",
        "colab_type": "text"
      },
      "source": [
        "## Code Preparation"
      ]
    },
    {
      "cell_type": "markdown",
      "metadata": {
        "id": "XJr2kDkWGluu",
        "colab_type": "text"
      },
      "source": [
        "**Building Model**\n",
        "\n",
        "model = nn.Linear(1,1) -> This means is that we have a linear model with one input and one output -> nn.Linear(input_size,output_size)\n",
        "\n",
        "**Training Model**\n",
        "\n",
        "  -  Define the Loss and optimizer :\n",
        "\n",
        "      -  criterion = nn.MSELoss() # Loss\n",
        "\n",
        "      -  optimizer = torch.optim.SGD(model.parameters(),lr=.1) # Optimizer\n",
        "\n",
        "  -  Training with Gradient Descent: \n"
      ]
    },
    {
      "cell_type": "code",
      "metadata": {
        "id": "l9vMqe4dX4Td",
        "colab_type": "code",
        "colab": {}
      },
      "source": [
        "#Reshape your X & y numpy arrays \n",
        "\n",
        "X=X.reshape(N,1)\n",
        "y=y.reshape(N,1)\n",
        "\n",
        "# Create Pytorch Tensors from numpy array \n",
        "\n",
        "inputs= torch.from_numpy(X.astype(np.float32))\n",
        "target= torch.from_numpy(y.astype(np.float32))\n"
      ],
      "execution_count": null,
      "outputs": []
    },
    {
      "cell_type": "code",
      "metadata": {
        "id": "NXC9pWyV8sW6",
        "colab_type": "code",
        "colab": {}
      },
      "source": [
        "criterion = nn.MSELoss()\n",
        "optimizer = torch.optim.SGD(model.parameters(),lr=.1)\n",
        "# Define n.o of epochs \n",
        "n_epochs=30\n",
        "for it in range(n_epochs):\n",
        "  # Zero the parameter gradients; pytorch accumulates gradients when we call backward()\n",
        "  optimizer.zero_grad()\n",
        "  # Forward Pass\n",
        "  outputs=model(inputs) # model is an object of type nn.Linear , but here is used as function to take inputs for prediction \n",
        "  loss=criterion(outputs,target) # To get the loss \n",
        "  # Backward optimization \n",
        "  loss.backward() # derivate loss wrt m and b\n",
        "  optimizer.step()# apply gradients using gradient descent equation \n",
        "\n",
        "\n"
      ],
      "execution_count": null,
      "outputs": []
    },
    {
      "cell_type": "markdown",
      "metadata": {
        "id": "SJSC28NIYyg_",
        "colab_type": "text"
      },
      "source": [
        "Making Predictions :\n"
      ]
    },
    {
      "cell_type": "code",
      "metadata": {
        "id": "CWmB-Ebvj1x_",
        "colab_type": "code",
        "colab": {}
      },
      "source": [
        "predictions= model(inputs).detach().numpy() # pytorch creates a graph and keep its tracks of gradient within the graph; , it detaches tensor from the graph and conert back to numpy array "
      ],
      "execution_count": null,
      "outputs": []
    },
    {
      "cell_type": "code",
      "metadata": {
        "id": "lqqlVeMDeh6x",
        "colab_type": "code",
        "colab": {}
      },
      "source": [
        ""
      ],
      "execution_count": null,
      "outputs": []
    },
    {
      "cell_type": "markdown",
      "metadata": {
        "id": "ny9jZk00fZt1",
        "colab_type": "text"
      },
      "source": [
        "# Linear Regression - Code"
      ]
    },
    {
      "cell_type": "code",
      "metadata": {
        "id": "gGjT_rP_fbaA",
        "colab_type": "code",
        "colab": {}
      },
      "source": [
        "# Generate 20 data points\n",
        "\n",
        "N=20 \n",
        "# Generate random data between -5 to +5 \n",
        "X=np.random.random(N)*10-5\n",
        "# Equation of Line plus noise\n",
        "y=0.5*X - 1 + np.random.randn(N) # We have added gaussian noise which has mean as 0 and std as 1 , when noise is gaussian the mean squared error is the correct loss function to use \n",
        "\n"
      ],
      "execution_count": null,
      "outputs": []
    },
    {
      "cell_type": "code",
      "metadata": {
        "id": "iWvmVVuzz4QN",
        "colab_type": "code",
        "colab": {
          "base_uri": "https://localhost:8080/",
          "height": 282
        },
        "outputId": "eb6aa5fa-0f4e-4392-ada8-c4d11e5c7c2f"
      },
      "source": [
        "plt.scatter(X,y)"
      ],
      "execution_count": null,
      "outputs": [
        {
          "output_type": "execute_result",
          "data": {
            "text/plain": [
              "<matplotlib.collections.PathCollection at 0x7fb33adc2b70>"
            ]
          },
          "metadata": {
            "tags": []
          },
          "execution_count": 38
        },
        {
          "output_type": "display_data",
          "data": {
            "image/png": "[encoded data removed]",
            "text/plain": [
              "<Figure size 432x288 with 1 Axes>"
            ]
          },
          "metadata": {
            "tags": [],
            "needs_background": "light"
          }
        }
      ]
    },
    {
      "cell_type": "code",
      "metadata": {
        "id": "UVdDTF1lz7Ms",
        "colab_type": "code",
        "colab": {}
      },
      "source": [
        "    # Create the Linear Regression Model\n",
        "    model = nn.Linear(1,1,bias=True)\n",
        "    # Define Loss and Optimizer\n",
        "    criterion = nn.MSELoss()\n",
        "    optimizer = torch.optim.SGD(model.parameters(),lr=.01)\n"
      ],
      "execution_count": null,
      "outputs": []
    },
    {
      "cell_type": "code",
      "metadata": {
        "id": "lY2ukagD1wYf",
        "colab_type": "code",
        "colab": {}
      },
      "source": [
        "# Our Data Should be in the shape of ( no. of samples , num of dimensions )\n",
        "X=X.reshape(N,1)\n",
        "y=y.reshape(N,1)\n",
        "\n",
        "# Converting numpy array to pytorch tensor \n",
        "\n",
        "inputs = torch.from_numpy(X.astype(np.float32))\n",
        "targets = torch.from_numpy(y.astype(np.float32))\n",
        "\n"
      ],
      "execution_count": null,
      "outputs": []
    },
    {
      "cell_type": "code",
      "metadata": {
        "id": "z8iDgagr4SF1",
        "colab_type": "code",
        "colab": {
          "base_uri": "https://localhost:8080/",
          "height": 34
        },
        "outputId": "3310dad9-453b-480d-9385-74059c45fb77"
      },
      "source": [
        "inputs.size()"
      ],
      "execution_count": null,
      "outputs": [
        {
          "output_type": "execute_result",
          "data": {
            "text/plain": [
              "torch.Size([20, 1])"
            ]
          },
          "metadata": {
            "tags": []
          },
          "execution_count": 41
        }
      ]
    },
    {
      "cell_type": "code",
      "metadata": {
        "id": "S8Demuoa2gs5",
        "colab_type": "code",
        "colab": {
          "base_uri": "https://localhost:8080/",
          "height": 527
        },
        "outputId": "b745b122-a01e-4cc1-85a1-cae32f126069"
      },
      "source": [
        "#Train the Model\n",
        "\n",
        "n_epochs=30\n",
        "losses=[]\n",
        "for it in range(n_epochs):\n",
        "  optimizer.zero_grad()\n",
        "\n",
        "  #forward pass\n",
        "  outputs=model(inputs)\n",
        "  loss=criterion(outputs,targets)\n",
        "\n",
        "  #keep the loss so that we can plot it \n",
        "  losses.append(loss.item())\n",
        "\n",
        "  #Backward Pass\n",
        "  loss.backward()\n",
        "  optimizer.step()\n",
        "  print( f'Epoch{it+1}/{n_epochs},Loss : {loss.item(): .4f}')\n",
        "\n",
        "  "
      ],
      "execution_count": null,
      "outputs": [
        {
          "output_type": "stream",
          "text": [
            "Epoch1/30,Loss :  3.3836\n",
            "Epoch2/30,Loss :  2.5577\n",
            "Epoch3/30,Loss :  2.0017\n",
            "Epoch4/30,Loss :  1.6273\n",
            "Epoch5/30,Loss :  1.3753\n",
            "Epoch6/30,Loss :  1.2056\n",
            "Epoch7/30,Loss :  1.0913\n",
            "Epoch8/30,Loss :  1.0144\n",
            "Epoch9/30,Loss :  0.9626\n",
            "Epoch10/30,Loss :  0.9277\n",
            "Epoch11/30,Loss :  0.9043\n",
            "Epoch12/30,Loss :  0.8884\n",
            "Epoch13/30,Loss :  0.8778\n",
            "Epoch14/30,Loss :  0.8706\n",
            "Epoch15/30,Loss :  0.8658\n",
            "Epoch16/30,Loss :  0.8626\n",
            "Epoch17/30,Loss :  0.8604\n",
            "Epoch18/30,Loss :  0.8589\n",
            "Epoch19/30,Loss :  0.8579\n",
            "Epoch20/30,Loss :  0.8572\n",
            "Epoch21/30,Loss :  0.8568\n",
            "Epoch22/30,Loss :  0.8565\n",
            "Epoch23/30,Loss :  0.8563\n",
            "Epoch24/30,Loss :  0.8561\n",
            "Epoch25/30,Loss :  0.8561\n",
            "Epoch26/30,Loss :  0.8560\n",
            "Epoch27/30,Loss :  0.8559\n",
            "Epoch28/30,Loss :  0.8559\n",
            "Epoch29/30,Loss :  0.8559\n",
            "Epoch30/30,Loss :  0.8559\n"
          ],
          "name": "stdout"
        }
      ]
    },
    {
      "cell_type": "code",
      "metadata": {
        "id": "sg3VwqQd4KL9",
        "colab_type": "code",
        "colab": {
          "base_uri": "https://localhost:8080/",
          "height": 286
        },
        "outputId": "280fcf06-244f-414e-d412-2947da522fc9"
      },
      "source": [
        "plt.plot(losses) #Plot Loss Graph"
      ],
      "execution_count": null,
      "outputs": [
        {
          "output_type": "execute_result",
          "data": {
            "text/plain": [
              "[<matplotlib.lines.Line2D at 0x7fb33ad059b0>]"
            ]
          },
          "metadata": {
            "tags": []
          },
          "execution_count": 48
        },
        {
          "output_type": "display_data",
          "data": {
            "image/png": "[encoded data removed]",
            "text/plain": [
              "<Figure size 432x288 with 1 Axes>"
            ]
          },
          "metadata": {
            "tags": [],
            "needs_background": "light"
          }
        }
      ]
    },
    {
      "cell_type": "code",
      "metadata": {
        "id": "At8kh1YB5SlV",
        "colab_type": "code",
        "colab": {
          "base_uri": "https://localhost:8080/",
          "height": 282
        },
        "outputId": "6960bf2a-b216-4bd9-d964-1ea868050100"
      },
      "source": [
        "#Plotting Graph\n",
        "predicted=model(inputs).detach().numpy()\n",
        "plt.scatter(X,y, label='Original Data')\n",
        "plt.plot(X,predicted,label='Predicted Data')\n",
        "plt.legend()"
      ],
      "execution_count": null,
      "outputs": [
        {
          "output_type": "execute_result",
          "data": {
            "text/plain": [
              "<matplotlib.legend.Legend at 0x7fb33ade9710>"
            ]
          },
          "metadata": {
            "tags": []
          },
          "execution_count": 49
        },
        {
          "output_type": "display_data",
          "data": {
            "image/png": "[encoded data removed]",
            "text/plain": [
              "<Figure size 432x288 with 1 Axes>"
            ]
          },
          "metadata": {
            "tags": [],
            "needs_background": "light"
          }
        }
      ]
    },
    {
      "cell_type": "code",
      "metadata": {
        "id": "3_O8G6Ep6Ski",
        "colab_type": "code",
        "colab": {
          "base_uri": "https://localhost:8080/",
          "height": 34
        },
        "outputId": "6d879d88-4ec9-4124-9352-beb3b3ae8b6a"
      },
      "source": [
        "# Identified Parameters\n",
        "w=model.weight.data.numpy()\n",
        "b=model.bias.data.numpy()\n",
        "print(w,b)"
      ],
      "execution_count": null,
      "outputs": [
        {
          "output_type": "stream",
          "text": [
            "[[0.63587844]] [-0.6310213]\n"
          ],
          "name": "stdout"
        }
      ]
    },
    {
      "cell_type": "markdown",
      "metadata": {
        "id": "ClGs29qDC_jT",
        "colab_type": "text"
      },
      "source": [
        "# Moore Law\n",
        "\n",
        "The number of transistors per square inch on integrated curcuits doubles every two year !\n",
        "\n",
        "\n",
        "\n"
      ]
    },
    {
      "cell_type": "markdown",
      "metadata": {
        "id": "pvadxb8AXAzC",
        "colab_type": "text"
      },
      "source": [
        "- If something grows by constant factor over a given period of time is non linear or exponential growth! Taking it's log we can convert the non linear into linear form.\n",
        "\n",
        "\n",
        "\n"
      ]
    },
    {
      "cell_type": "code",
      "metadata": {
        "id": "zDxGbrUSU4hC",
        "colab_type": "code",
        "colab": {
          "base_uri": "https://localhost:8080/",
          "height": 204
        },
        "outputId": "7d06a162-04c4-4f90-c0ed-7bdc2329dc49"
      },
      "source": [
        "!wget -nc https://raw.githubusercontent.com/wallento/mooreandmore/master/raw_data.csv"
      ],
      "execution_count": null,
      "outputs": [
        {
          "output_type": "stream",
          "text": [
            "--2020-07-17 03:36:47--  https://raw.githubusercontent.com/wallento/mooreandmore/master/raw_data.csv\n",
            "Resolving raw.githubusercontent.com (raw.githubusercontent.com)... 151.101.0.133, 151.101.64.133, 151.101.128.133, ...\n",
            "Connecting to raw.githubusercontent.com (raw.githubusercontent.com)|151.101.0.133|:443... connected.\n",
            "HTTP request sent, awaiting response... 200 OK\n",
            "Length: 3695 (3.6K) [text/plain]\n",
            "Saving to: ‘raw_data.csv’\n",
            "\n",
            "\rraw_data.csv          0%[                    ]       0  --.-KB/s               \rraw_data.csv        100%[===================>]   3.61K  --.-KB/s    in 0s      \n",
            "\n",
            "2020-07-17 03:36:48 (53.5 MB/s) - ‘raw_data.csv’ saved [3695/3695]\n",
            "\n"
          ],
          "name": "stdout"
        }
      ]
    },
    {
      "cell_type": "code",
      "metadata": {
        "id": "Ic6lDLFtRMAX",
        "colab_type": "code",
        "colab": {}
      },
      "source": [
        "data=pd.read_csv('raw_data.csv',delimiter=';').values"
      ],
      "execution_count": null,
      "outputs": []
    },
    {
      "cell_type": "code",
      "metadata": {
        "id": "K0w_kzgoRde6",
        "colab_type": "code",
        "colab": {
          "base_uri": "https://localhost:8080/",
          "height": 34
        },
        "outputId": "41917988-37bb-41a8-918e-fa82f3b10598"
      },
      "source": [
        "type(data)"
      ],
      "execution_count": null,
      "outputs": [
        {
          "output_type": "execute_result",
          "data": {
            "text/plain": [
              "numpy.ndarray"
            ]
          },
          "metadata": {
            "tags": []
          },
          "execution_count": 5
        }
      ]
    },
    {
      "cell_type": "code",
      "metadata": {
        "id": "E4zzRIjeRyZI",
        "colab_type": "code",
        "colab": {}
      },
      "source": [
        "X=data[:,0].reshape(-1,1)\n",
        "y=data[:,1].reshape(-1,1)"
      ],
      "execution_count": null,
      "outputs": []
    },
    {
      "cell_type": "code",
      "metadata": {
        "id": "HnmyxbtcSIMs",
        "colab_type": "code",
        "colab": {
          "base_uri": "https://localhost:8080/",
          "height": 293
        },
        "outputId": "2d2844a8-b308-488d-c96b-8e0338d29341"
      },
      "source": [
        "plt.scatter(X,y)"
      ],
      "execution_count": null,
      "outputs": [
        {
          "output_type": "execute_result",
          "data": {
            "text/plain": [
              "<matplotlib.collections.PathCollection at 0x7f35de9531d0>"
            ]
          },
          "metadata": {
            "tags": []
          },
          "execution_count": 7
        },
        {
          "output_type": "display_data",
          "data": {
            "image/png": "[encoded data removed]",
            "text/plain": [
              "<Figure size 432x288 with 1 Axes>"
            ]
          },
          "metadata": {
            "tags": [],
            "needs_background": "light"
          }
        }
      ]
    },
    {
      "cell_type": "code",
      "metadata": {
        "id": "I94GlNyLSNP2",
        "colab_type": "code",
        "colab": {
          "base_uri": "https://localhost:8080/",
          "height": 265
        },
        "outputId": "a9f9f0ae-ad76-4002-96ac-65bf1f5b2863"
      },
      "source": [
        "# Since we want linear model lets do transformations:\n",
        "plt.scatter(X,np.log(y))\n",
        "y=np.log(y)"
      ],
      "execution_count": null,
      "outputs": [
        {
          "output_type": "display_data",
          "data": {
            "image/png": "[encoded data removed]",
            "text/plain": [
              "<Figure size 432x288 with 1 Axes>"
            ]
          },
          "metadata": {
            "tags": [],
            "needs_background": "light"
          }
        }
      ]
    },
    {
      "cell_type": "code",
      "metadata": {
        "id": "5NEeZGIMWo4J",
        "colab_type": "code",
        "colab": {}
      },
      "source": [
        "#Scale and center both x and y axes\n",
        "\n",
        "mx=X.mean()\n",
        "sx=X.std()\n",
        "my=y.mean()\n",
        "sy=y.std()\n",
        "x=(X-mx)/sx\n",
        "Y=(y-my)/sy"
      ],
      "execution_count": null,
      "outputs": []
    },
    {
      "cell_type": "code",
      "metadata": {
        "id": "UZA-2j1zXaRL",
        "colab_type": "code",
        "colab": {
          "base_uri": "https://localhost:8080/",
          "height": 282
        },
        "outputId": "0771a97e-a4c4-4acb-daf0-0b968ed1a9de"
      },
      "source": [
        "plt.scatter(x,Y)"
      ],
      "execution_count": null,
      "outputs": [
        {
          "output_type": "execute_result",
          "data": {
            "text/plain": [
              "<matplotlib.collections.PathCollection at 0x7f35de437cf8>"
            ]
          },
          "metadata": {
            "tags": []
          },
          "execution_count": 10
        },
        {
          "output_type": "display_data",
          "data": {
            "image/png": "[encoded data removed]",
            "text/plain": [
              "<Figure size 432x288 with 1 Axes>"
            ]
          },
          "metadata": {
            "tags": [],
            "needs_background": "light"
          }
        }
      ]
    },
    {
      "cell_type": "code",
      "metadata": {
        "id": "NZ7DM_FFX0F2",
        "colab_type": "code",
        "colab": {}
      },
      "source": [
        "#Cast to float32\n",
        "x=x.astype(np.float32)\n",
        "Y=Y.astype(np.float32)"
      ],
      "execution_count": null,
      "outputs": []
    },
    {
      "cell_type": "code",
      "metadata": {
        "id": "Nou7E6kMYFjS",
        "colab_type": "code",
        "colab": {}
      },
      "source": [
        "#Create A Linear Regression Model\n",
        "model=nn.Linear(1,1)\n",
        "#Loss & Optimizer\n",
        "criterion=nn.MSELoss()\n",
        "optimizer=torch.optim.SGD(model.parameters(),lr=.01,momentum=.7)\n"
      ],
      "execution_count": null,
      "outputs": []
    },
    {
      "cell_type": "code",
      "metadata": {
        "id": "bczGJ_yYYghq",
        "colab_type": "code",
        "colab": {}
      },
      "source": [
        "#Convert numpy to tensor \n",
        "\n",
        "inputs=torch.from_numpy(x)\n",
        "targets=torch.from_numpy(Y)"
      ],
      "execution_count": null,
      "outputs": []
    },
    {
      "cell_type": "code",
      "metadata": {
        "id": "nA1CKbGNaR59",
        "colab_type": "code",
        "colab": {
          "base_uri": "https://localhost:8080/",
          "height": 1000
        },
        "outputId": "be6d8f6c-c78a-4f21-d63d-18762e0b1a3e"
      },
      "source": [
        "torch.manual_seed(1)\n",
        "n_epochs=100\n",
        "losses=[]\n",
        "for it in range(n_epochs):\n",
        "  optimizer.zero_grad()\n",
        "\n",
        "  #forward pass\n",
        "  outputs=model(inputs)\n",
        "  loss=criterion(outputs,targets)\n",
        "\n",
        "  #keep the loss so that we can plot it \n",
        "  losses.append(loss.item())\n",
        "\n",
        "  #Backward Pass\n",
        "  loss.backward()\n",
        "  optimizer.step()\n",
        "  print( f'Epoch{it+1}/{n_epochs},Loss : {loss.item(): .4f}')\n"
      ],
      "execution_count": null,
      "outputs": [
        {
          "output_type": "stream",
          "text": [
            "Epoch1/100,Loss :  0.9021\n",
            "Epoch2/100,Loss :  0.8674\n",
            "Epoch3/100,Loss :  0.8107\n",
            "Epoch4/100,Loss :  0.7418\n",
            "Epoch5/100,Loss :  0.6680\n",
            "Epoch6/100,Loss :  0.5943\n",
            "Epoch7/100,Loss :  0.5239\n",
            "Epoch8/100,Loss :  0.4585\n",
            "Epoch9/100,Loss :  0.3992\n",
            "Epoch10/100,Loss :  0.3463\n",
            "Epoch11/100,Loss :  0.2997\n",
            "Epoch12/100,Loss :  0.2590\n",
            "Epoch13/100,Loss :  0.2237\n",
            "Epoch14/100,Loss :  0.1934\n",
            "Epoch15/100,Loss :  0.1674\n",
            "Epoch16/100,Loss :  0.1452\n",
            "Epoch17/100,Loss :  0.1263\n",
            "Epoch18/100,Loss :  0.1103\n",
            "Epoch19/100,Loss :  0.0968\n",
            "Epoch20/100,Loss :  0.0854\n",
            "Epoch21/100,Loss :  0.0757\n",
            "Epoch22/100,Loss :  0.0676\n",
            "Epoch23/100,Loss :  0.0608\n",
            "Epoch24/100,Loss :  0.0551\n",
            "Epoch25/100,Loss :  0.0502\n",
            "Epoch26/100,Loss :  0.0462\n",
            "Epoch27/100,Loss :  0.0428\n",
            "Epoch28/100,Loss :  0.0400\n",
            "Epoch29/100,Loss :  0.0376\n",
            "Epoch30/100,Loss :  0.0356\n",
            "Epoch31/100,Loss :  0.0339\n",
            "Epoch32/100,Loss :  0.0325\n",
            "Epoch33/100,Loss :  0.0313\n",
            "Epoch34/100,Loss :  0.0303\n",
            "Epoch35/100,Loss :  0.0295\n",
            "Epoch36/100,Loss :  0.0288\n",
            "Epoch37/100,Loss :  0.0282\n",
            "Epoch38/100,Loss :  0.0277\n",
            "Epoch39/100,Loss :  0.0273\n",
            "Epoch40/100,Loss :  0.0270\n",
            "Epoch41/100,Loss :  0.0267\n",
            "Epoch42/100,Loss :  0.0265\n",
            "Epoch43/100,Loss :  0.0263\n",
            "Epoch44/100,Loss :  0.0261\n",
            "Epoch45/100,Loss :  0.0260\n",
            "Epoch46/100,Loss :  0.0259\n",
            "Epoch47/100,Loss :  0.0258\n",
            "Epoch48/100,Loss :  0.0257\n",
            "Epoch49/100,Loss :  0.0256\n",
            "Epoch50/100,Loss :  0.0256\n",
            "Epoch51/100,Loss :  0.0255\n",
            "Epoch52/100,Loss :  0.0255\n",
            "Epoch53/100,Loss :  0.0254\n",
            "Epoch54/100,Loss :  0.0254\n",
            "Epoch55/100,Loss :  0.0254\n",
            "Epoch56/100,Loss :  0.0254\n",
            "Epoch57/100,Loss :  0.0253\n",
            "Epoch58/100,Loss :  0.0253\n",
            "Epoch59/100,Loss :  0.0253\n",
            "Epoch60/100,Loss :  0.0253\n",
            "Epoch61/100,Loss :  0.0253\n",
            "Epoch62/100,Loss :  0.0253\n",
            "Epoch63/100,Loss :  0.0253\n",
            "Epoch64/100,Loss :  0.0253\n",
            "Epoch65/100,Loss :  0.0253\n",
            "Epoch66/100,Loss :  0.0253\n",
            "Epoch67/100,Loss :  0.0253\n",
            "Epoch68/100,Loss :  0.0253\n",
            "Epoch69/100,Loss :  0.0253\n",
            "Epoch70/100,Loss :  0.0253\n",
            "Epoch71/100,Loss :  0.0253\n",
            "Epoch72/100,Loss :  0.0253\n",
            "Epoch73/100,Loss :  0.0253\n",
            "Epoch74/100,Loss :  0.0253\n",
            "Epoch75/100,Loss :  0.0253\n",
            "Epoch76/100,Loss :  0.0253\n",
            "Epoch77/100,Loss :  0.0253\n",
            "Epoch78/100,Loss :  0.0253\n",
            "Epoch79/100,Loss :  0.0253\n",
            "Epoch80/100,Loss :  0.0253\n",
            "Epoch81/100,Loss :  0.0253\n",
            "Epoch82/100,Loss :  0.0253\n",
            "Epoch83/100,Loss :  0.0253\n",
            "Epoch84/100,Loss :  0.0253\n",
            "Epoch85/100,Loss :  0.0253\n",
            "Epoch86/100,Loss :  0.0253\n",
            "Epoch87/100,Loss :  0.0253\n",
            "Epoch88/100,Loss :  0.0253\n",
            "Epoch89/100,Loss :  0.0253\n",
            "Epoch90/100,Loss :  0.0253\n",
            "Epoch91/100,Loss :  0.0253\n",
            "Epoch92/100,Loss :  0.0253\n",
            "Epoch93/100,Loss :  0.0253\n",
            "Epoch94/100,Loss :  0.0253\n",
            "Epoch95/100,Loss :  0.0253\n",
            "Epoch96/100,Loss :  0.0253\n",
            "Epoch97/100,Loss :  0.0253\n",
            "Epoch98/100,Loss :  0.0253\n",
            "Epoch99/100,Loss :  0.0253\n",
            "Epoch100/100,Loss :  0.0253\n"
          ],
          "name": "stdout"
        }
      ]
    },
    {
      "cell_type": "code",
      "metadata": {
        "id": "BYsyiBTParG7",
        "colab_type": "code",
        "colab": {
          "base_uri": "https://localhost:8080/",
          "height": 282
        },
        "outputId": "ad1c2d9c-3196-401f-e790-51c0df9ecb64"
      },
      "source": [
        "#Loss per iteration\n",
        "plt.plot(losses)"
      ],
      "execution_count": null,
      "outputs": [
        {
          "output_type": "execute_result",
          "data": {
            "text/plain": [
              "[<matplotlib.lines.Line2D at 0x7f35db48add8>]"
            ]
          },
          "metadata": {
            "tags": []
          },
          "execution_count": 16
        },
        {
          "output_type": "display_data",
          "data": {
            "image/png": "[encoded data removed]",
            "text/plain": [
              "<Figure size 432x288 with 1 Axes>"
            ]
          },
          "metadata": {
            "tags": [],
            "needs_background": "light"
          }
        }
      ]
    },
    {
      "cell_type": "code",
      "metadata": {
        "id": "_zzehqEF2zEd",
        "colab_type": "code",
        "colab": {
          "base_uri": "https://localhost:8080/",
          "height": 282
        },
        "outputId": "b9e059f9-4e46-4d85-a8cc-c46c12a0fac6"
      },
      "source": [
        "#Plotting Graph\n",
        "predicted=model(inputs).detach().numpy()\n",
        "plt.scatter(x,Y,color='r', label='Original Data')\n",
        "plt.plot(x,predicted,label='Predicted Data')\n",
        "plt.legend()"
      ],
      "execution_count": null,
      "outputs": [
        {
          "output_type": "execute_result",
          "data": {
            "text/plain": [
              "<matplotlib.legend.Legend at 0x7f35db07ba58>"
            ]
          },
          "metadata": {
            "tags": []
          },
          "execution_count": 25
        },
        {
          "output_type": "display_data",
          "data": {
            "image/png": "[encoded data removed]",
            "text/plain": [
              "<Figure size 432x288 with 1 Axes>"
            ]
          },
          "metadata": {
            "tags": [],
            "needs_background": "light"
          }
        }
      ]
    },
    {
      "cell_type": "code",
      "metadata": {
        "id": "YBT3tWQl3E1s",
        "colab_type": "code",
        "colab": {
          "base_uri": "https://localhost:8080/",
          "height": 34
        },
        "outputId": "71113ce6-a7e6-4417-9692-b260e295ccaf"
      },
      "source": [
        "#Trained Weights\n",
        "\n",
        "w=model.weight.data.numpy()\n",
        "print(w)"
      ],
      "execution_count": null,
      "outputs": [
        {
          "output_type": "stream",
          "text": [
            "[[0.98727584]]\n"
          ],
          "name": "stdout"
        }
      ]
    },
    {
      "cell_type": "code",
      "metadata": {
        "id": "sSNUNWGb32l3",
        "colab_type": "code",
        "colab": {
          "base_uri": "https://localhost:8080/",
          "height": 34
        },
        "outputId": "92e5e1ee-9ff5-4e71-c219-bfc8332ccb72"
      },
      "source": [
        "#Non Linear Slope\n",
        "a=w[0,0]*sy/sx\n",
        "print(a)"
      ],
      "execution_count": null,
      "outputs": [
        {
          "output_type": "stream",
          "text": [
            "0.32642658175447115\n"
          ],
          "name": "stdout"
        }
      ]
    },
    {
      "cell_type": "markdown",
      "metadata": {
        "id": "QqOpJFZJ5dBT",
        "colab_type": "text"
      },
      "source": [
        "## Exponential Growth Model"
      ]
    },
    {
      "cell_type": "markdown",
      "metadata": {
        "id": "CQHa6PMw5mcO",
        "colab_type": "text"
      },
      "source": [
        "- Original Non-Linear Equation :\n",
        "\n",
        "    C=C0*r^t"
      ]
    },
    {
      "cell_type": "code",
      "metadata": {
        "id": "7F3Y6LTT5HCA",
        "colab_type": "code",
        "colab": {
          "base_uri": "https://localhost:8080/",
          "height": 34
        },
        "outputId": "db4ea7f8-ad09-47d4-c1d3-28dcdb20387f"
      },
      "source": [
        "print(\"time to double \",np.log(2)/a)"
      ],
      "execution_count": null,
      "outputs": [
        {
          "output_type": "stream",
          "text": [
            "time to double  2.123439754306869\n"
          ],
          "name": "stdout"
        }
      ]
    },
    {
      "cell_type": "markdown",
      "metadata": {
        "id": "q0AdoIifhr1F",
        "colab_type": "text"
      },
      "source": [
        "# Linear Classification"
      ]
    },
    {
      "cell_type": "markdown",
      "metadata": {
        "id": "vIn7EVMYh4D9",
        "colab_type": "text"
      },
      "source": [
        "- In classification we do not want the line,plane or hyper-plane to be close to our data points, rather the goal is to seperate the data points into distinct classes\n",
        "\n",
        "- Steps:\n",
        "\n",
        "  -  Load Data\n",
        "\n",
        "  -  Instantiate the Model\n",
        "\n",
        "  -  Train / Fit the model\n",
        "\n",
        "  -  Make the Predictions\n",
        "\n",
        "  -  Evaluate\n",
        "\n",
        "-  Accuracy : No. of Correct Predictions/ Total Predictions\n",
        "\n",
        "-  Error = 1 - Accuracy \n",
        "\n",
        "-  Sigmoid Function = P(y=1|X)=a(w.T . X + b); Where X={x1,x2,x3,.....,xn}\n",
        "\n",
        "\n"
      ]
    },
    {
      "cell_type": "code",
      "metadata": {
        "id": "jeYS6cVc6o_t",
        "colab_type": "code",
        "colab": {}
      },
      "source": [
        "#Loading Data\n",
        "data=load_breast_cancer()\n",
        "X,y= data.data,data.target"
      ],
      "execution_count": 3,
      "outputs": []
    },
    {
      "cell_type": "code",
      "metadata": {
        "id": "ATBr_JWgmxKA",
        "colab_type": "code",
        "colab": {}
      },
      "source": [
        "X_train,X_test,y_train,y_test=tts(X,y,test_size=.33,random_state=1)\n",
        "scaler=StandardScaler()\n",
        "X_train=scaler.fit_transform(X_train)\n",
        "X_test=scaler.transform(X_test) #We apply transformation on test data using the fitted mean and variance of traning data\n"
      ],
      "execution_count": 5,
      "outputs": []
    },
    {
      "cell_type": "markdown",
      "metadata": {
        "id": "GTQnE4OIorQP",
        "colab_type": "text"
      },
      "source": [
        "Model Defenition :\n",
        "\n",
        "Shape of data : NXD\n",
        "\n",
        "model = nn.Sequential(\n",
        "\n",
        "  nn.Linear(D,1),\n",
        "\n",
        "  nn.Sigmoid() \n",
        "  \n",
        "  )\n",
        "\n",
        "nn.Sequential() is the wrapper object which tells the kernel to apply the functions in the given order. \n",
        "\n",
        "When we are creating a linear layer it is of size D , the data is of size NxD , where N is number of samples & D is the number of features. So we have the one input for each feature column in the dataset and one output which represents the probability of belonging to class . \n",
        "\n",
        "\n",
        "\n"
      ]
    },
    {
      "cell_type": "markdown",
      "metadata": {
        "id": "Xw6r5JyzqBA4",
        "colab_type": "text"
      },
      "source": [
        "Training Model : \n",
        "\n",
        "Loss & Optimizer :\n",
        "\n",
        "criterion=nn.BCELoss()\n",
        "\n",
        "optimizer = torch.optim.Adam(model.parameters())"
      ]
    },
    {
      "cell_type": "markdown",
      "metadata": {
        "id": "NFFpYEPYq5q5",
        "colab_type": "text"
      },
      "source": [
        "Evaluation :\n",
        "\n",
        "Accuracy - >\n",
        "\n",
        "with torch.no_grad():\n",
        "\n",
        "  p_train=model(X_train)\n",
        "\n",
        "  p_train=np.round(p_train.numpy())\n",
        "\n",
        "  accuracy=np.mean(y_train.numpy()==p_train)"
      ]
    },
    {
      "cell_type": "code",
      "metadata": {
        "id": "2VVszdfcq4oO",
        "colab_type": "code",
        "colab": {}
      },
      "source": [
        ""
      ],
      "execution_count": null,
      "outputs": []
    },
    {
      "cell_type": "code",
      "metadata": {
        "id": "LPXON-_yqAXT",
        "colab_type": "code",
        "colab": {}
      },
      "source": [
        ""
      ],
      "execution_count": null,
      "outputs": []
    },
    {
      "cell_type": "markdown",
      "metadata": {
        "id": "HNAaqdgWTC3Y",
        "colab_type": "text"
      },
      "source": [
        "# Code Linear Classification"
      ]
    },
    {
      "cell_type": "code",
      "metadata": {
        "id": "EOvCvgLwTFnZ",
        "colab_type": "code",
        "colab": {
          "base_uri": "https://localhost:8080/",
          "height": 34
        },
        "outputId": "e98ec6de-988c-4714-c227-82f405658c35"
      },
      "source": [
        "#Loading Data\n",
        "data=load_breast_cancer()\n",
        "type(data)"
      ],
      "execution_count": 2,
      "outputs": [
        {
          "output_type": "execute_result",
          "data": {
            "text/plain": [
              "sklearn.utils.Bunch"
            ]
          },
          "metadata": {
            "tags": []
          },
          "execution_count": 2
        }
      ]
    },
    {
      "cell_type": "code",
      "metadata": {
        "id": "-XcZvGDUTSeL",
        "colab_type": "code",
        "colab": {}
      },
      "source": [
        ""
      ],
      "execution_count": null,
      "outputs": []
    },
    {
      "cell_type": "code",
      "metadata": {
        "id": "MDJEZ7fZTI9T",
        "colab_type": "code",
        "colab": {}
      },
      "source": [
        "X,y= data.data,data.target\n",
        "X_train,X_test,y_train,y_test=tts(X,y,test_size=.33,random_state=1)\n",
        "N,D=X_train.shape\n",
        "scaler=StandardScaler()\n",
        "X_train=scaler.fit_transform(X_train)\n",
        "X_test=scaler.transform(X_test) #We apply transformation on test data using the fitted mean and variance of traning data\n"
      ],
      "execution_count": 11,
      "outputs": []
    },
    {
      "cell_type": "code",
      "metadata": {
        "id": "1ov5m-IsURds",
        "colab_type": "code",
        "colab": {}
      },
      "source": [
        "# Build Model Object\n",
        "model= nn.Sequential(\n",
        "    nn.Linear(D,1),\n",
        "    nn.Sigmoid()\n",
        ")\n",
        "# Loss and Optimizer\n",
        "criterion=nn.BCELoss()\n",
        "optimizer=torch.optim.Adam(model.parameters(),lr=.001)\n"
      ],
      "execution_count": 23,
      "outputs": []
    },
    {
      "cell_type": "code",
      "metadata": {
        "id": "frg_zrYRVKAH",
        "colab_type": "code",
        "colab": {}
      },
      "source": [
        "# Convert Data to tensors\n",
        "X_train=torch.from_numpy(X_train.astype(np.float32))\n",
        "X_test=torch.from_numpy(X_test.astype(np.float32))\n",
        "y_train=torch.from_numpy(y_train.astype(np.float32).reshape(-1,1))\n",
        "y_test=torch.from_numpy(y_test.astype(np.float32).reshape(-1,1))"
      ],
      "execution_count": 13,
      "outputs": []
    },
    {
      "cell_type": "code",
      "metadata": {
        "id": "WkCvASGNVo6w",
        "colab_type": "code",
        "colab": {
          "base_uri": "https://localhost:8080/",
          "height": 357
        },
        "outputId": "07a22b16-6fd4-464f-f09d-771ad929e359"
      },
      "source": [
        "# Train Model \n",
        "\n",
        "n_epochs=100\n",
        "#Stuff to store\n",
        "train_losses=np.zeros(n_epochs)\n",
        "test_losses=np.zeros(n_epochs)\n",
        "for i in range(n_epochs):\n",
        "  #Zero the parameter gradient\n",
        "  optimizer.zero_grad()\n",
        "  #Forward Pass\n",
        "  outputs=model(X_train)\n",
        "  loss=criterion(outputs,y_train)\n",
        "\n",
        "  #Backward and optimizer\n",
        "  loss.backward()\n",
        "  optimizer.step()\n",
        "\n",
        "  #Get test loss\n",
        "  outputs_test=model(X_test)\n",
        "  loss_test=criterion(outputs_test,y_test)\n",
        "\n",
        "  #Save losses\n",
        "  train_losses[i]=loss.item()\n",
        "  test_losses[i]=loss_test.item()\n",
        "\n",
        "  if(i+1)%5==0:\n",
        "    print(f'Epoch {i+1}/{n_epochs},Train Losses : {loss.item():.4f},Test Loss : {loss_test.item():.4f}')"
      ],
      "execution_count": 14,
      "outputs": [
        {
          "output_type": "stream",
          "text": [
            "Epoch 5/100,Train Losses : 0.8987,Test Loss : 0.8504\n",
            "Epoch 10/100,Train Losses : 0.8583,Test Loss : 0.8164\n",
            "Epoch 15/100,Train Losses : 0.8199,Test Loss : 0.7840\n",
            "Epoch 20/100,Train Losses : 0.7835,Test Loss : 0.7532\n",
            "Epoch 25/100,Train Losses : 0.7491,Test Loss : 0.7241\n",
            "Epoch 30/100,Train Losses : 0.7169,Test Loss : 0.6968\n",
            "Epoch 35/100,Train Losses : 0.6868,Test Loss : 0.6711\n",
            "Epoch 40/100,Train Losses : 0.6586,Test Loss : 0.6471\n",
            "Epoch 45/100,Train Losses : 0.6324,Test Loss : 0.6246\n",
            "Epoch 50/100,Train Losses : 0.6080,Test Loss : 0.6036\n",
            "Epoch 55/100,Train Losses : 0.5852,Test Loss : 0.5840\n",
            "Epoch 60/100,Train Losses : 0.5639,Test Loss : 0.5657\n",
            "Epoch 65/100,Train Losses : 0.5441,Test Loss : 0.5486\n",
            "Epoch 70/100,Train Losses : 0.5257,Test Loss : 0.5326\n",
            "Epoch 75/100,Train Losses : 0.5084,Test Loss : 0.5176\n",
            "Epoch 80/100,Train Losses : 0.4922,Test Loss : 0.5035\n",
            "Epoch 85/100,Train Losses : 0.4771,Test Loss : 0.4903\n",
            "Epoch 90/100,Train Losses : 0.4628,Test Loss : 0.4778\n",
            "Epoch 95/100,Train Losses : 0.4494,Test Loss : 0.4660\n",
            "Epoch 100/100,Train Losses : 0.4368,Test Loss : 0.4549\n"
          ],
          "name": "stdout"
        }
      ]
    },
    {
      "cell_type": "code",
      "metadata": {
        "id": "FzIalsH2YADt",
        "colab_type": "code",
        "colab": {
          "base_uri": "https://localhost:8080/",
          "height": 282
        },
        "outputId": "10cf1214-6677-4951-e385-7a5ca8745867"
      },
      "source": [
        "plt.plot(train_losses,label='Train Loss')\n",
        "plt.plot(test_losses,label='Test Loss')\n",
        "plt.legend()"
      ],
      "execution_count": 16,
      "outputs": [
        {
          "output_type": "execute_result",
          "data": {
            "text/plain": [
              "<matplotlib.legend.Legend at 0x7ff31df798d0>"
            ]
          },
          "metadata": {
            "tags": []
          },
          "execution_count": 16
        },
        {
          "output_type": "display_data",
          "data": {
            "image/png": "[encoded data removed]",
            "text/plain": [
              "<Figure size 432x288 with 1 Axes>"
            ]
          },
          "metadata": {
            "tags": [],
            "needs_background": "light"
          }
        }
      ]
    },
    {
      "cell_type": "markdown",
      "metadata": {
        "id": "zzRBdPQBYtLo",
        "colab_type": "text"
      },
      "source": [
        "**Everything appears good, train and test loss appears almost similar , we see convergence at 60th epoch**"
      ]
    },
    {
      "cell_type": "code",
      "metadata": {
        "id": "J5hqZSs1Y_D3",
        "colab_type": "code",
        "colab": {
          "base_uri": "https://localhost:8080/",
          "height": 34
        },
        "outputId": "8448f444-9994-434e-ccb5-d09e94621319"
      },
      "source": [
        "with torch.no_grad():\n",
        "  p_train=model(X_train)\n",
        "  p_train=np.round(p_train.numpy())\n",
        "  train_acc=np.mean(y_train.numpy()==p_train)\n",
        "  p_test=model(X_test)\n",
        "  p_test=np.round(p_test.numpy())\n",
        "  test_acc=np.mean(y_test.numpy()==p_test)\n",
        "print(f'Train Accuracy : {train_acc:.4f}, Test Accuracy : {test_acc:.4f}')\n"
      ],
      "execution_count": 18,
      "outputs": [
        {
          "output_type": "stream",
          "text": [
            "Train Accuracy : 0.8793, Test Accuracy : 0.8723\n"
          ],
          "name": "stdout"
        }
      ]
    },
    {
      "cell_type": "code",
      "metadata": {
        "id": "vR5wWvVGZfan",
        "colab_type": "code",
        "colab": {}
      },
      "source": [
        "#Accuracy Function\n",
        "def accuracy(data,target):\n",
        "  with torch.no_grad():\n",
        "    Pred=model(data)\n",
        "    Pred=np.round(Pred.numpy())\n",
        "    acc=np.mean(target.numpy()==Pred)\n",
        "  return acc"
      ],
      "execution_count": 19,
      "outputs": []
    },
    {
      "cell_type": "code",
      "metadata": {
        "id": "IHiUqfIjYjQe",
        "colab_type": "code",
        "colab": {
          "base_uri": "https://localhost:8080/",
          "height": 357
        },
        "outputId": "06cc9d5c-d17a-4db1-ca24-afcea2c47bbb"
      },
      "source": [
        "# Train Model \n",
        "\n",
        "n_epochs=100\n",
        "#Stuff to store\n",
        "train_losses=np.zeros(n_epochs)\n",
        "test_losses=np.zeros(n_epochs)\n",
        "train_accuracy=np.zeros(n_epochs)\n",
        "test_accuracy=np.zeros(n_epochs)\n",
        "for i in range(n_epochs):\n",
        "  #Zero the parameter gradient\n",
        "  optimizer.zero_grad()\n",
        "  #Forward Pass\n",
        "  outputs=model(X_train)\n",
        "  loss=criterion(outputs,y_train)\n",
        "  train_acc=accuracy(X_train,y_train)\n",
        "\n",
        "  #Backward and optimizer\n",
        "  loss.backward()\n",
        "  optimizer.step()\n",
        "\n",
        "  #Get test loss\n",
        "  outputs_test=model(X_test)\n",
        "  loss_test=criterion(outputs_test,y_test)\n",
        "  test_acc=accuracy(X_test,y_test)\n",
        "\n",
        "  #Save losses\n",
        "  train_losses[i]=loss.item()\n",
        "  test_losses[i]=loss_test.item()\n",
        "  #Save Accuracy\n",
        "  train_accuracy[i]=train_acc.item()\n",
        "  test_accuracy[i]=test_acc.item()\n",
        "\n",
        "  if(i+1)%5==0:\n",
        "    print(f'Epoch {i+1}/{n_epochs},Train Losses : {loss.item():.4f},Test Loss : {loss_test.item():.4f}, Train Acc : {train_acc.item():.4f}, Test Acc : {test_acc.item():.4f}')"
      ],
      "execution_count": 24,
      "outputs": [
        {
          "output_type": "stream",
          "text": [
            "Epoch 5/100,Train Losses : 0.7121,Test Loss : 0.6715, Train Acc : 0.5669, Test Acc : 0.6011\n",
            "Epoch 10/100,Train Losses : 0.6798,Test Loss : 0.6458, Train Acc : 0.6247, Test Acc : 0.6383\n",
            "Epoch 15/100,Train Losses : 0.6495,Test Loss : 0.6216, Train Acc : 0.6745, Test Acc : 0.6755\n",
            "Epoch 20/100,Train Losses : 0.6211,Test Loss : 0.5989, Train Acc : 0.6850, Test Acc : 0.7340\n",
            "Epoch 25/100,Train Losses : 0.5947,Test Loss : 0.5777, Train Acc : 0.7087, Test Acc : 0.7713\n",
            "Epoch 30/100,Train Losses : 0.5702,Test Loss : 0.5581, Train Acc : 0.7270, Test Acc : 0.7926\n",
            "Epoch 35/100,Train Losses : 0.5475,Test Loss : 0.5398, Train Acc : 0.7533, Test Acc : 0.8085\n",
            "Epoch 40/100,Train Losses : 0.5264,Test Loss : 0.5228, Train Acc : 0.7848, Test Acc : 0.8085\n",
            "Epoch 45/100,Train Losses : 0.5068,Test Loss : 0.5070, Train Acc : 0.7953, Test Acc : 0.8138\n",
            "Epoch 50/100,Train Losses : 0.4887,Test Loss : 0.4923, Train Acc : 0.8215, Test Acc : 0.8351\n",
            "Epoch 55/100,Train Losses : 0.4718,Test Loss : 0.4786, Train Acc : 0.8425, Test Acc : 0.8404\n",
            "Epoch 60/100,Train Losses : 0.4561,Test Loss : 0.4658, Train Acc : 0.8504, Test Acc : 0.8457\n",
            "Epoch 65/100,Train Losses : 0.4415,Test Loss : 0.4538, Train Acc : 0.8583, Test Acc : 0.8511\n",
            "Epoch 70/100,Train Losses : 0.4278,Test Loss : 0.4425, Train Acc : 0.8793, Test Acc : 0.8564\n",
            "Epoch 75/100,Train Losses : 0.4149,Test Loss : 0.4318, Train Acc : 0.8871, Test Acc : 0.8617\n",
            "Epoch 80/100,Train Losses : 0.4029,Test Loss : 0.4218, Train Acc : 0.8950, Test Acc : 0.8723\n",
            "Epoch 85/100,Train Losses : 0.3915,Test Loss : 0.4123, Train Acc : 0.9003, Test Acc : 0.8777\n",
            "Epoch 90/100,Train Losses : 0.3808,Test Loss : 0.4033, Train Acc : 0.9029, Test Acc : 0.8777\n",
            "Epoch 95/100,Train Losses : 0.3707,Test Loss : 0.3948, Train Acc : 0.9055, Test Acc : 0.8777\n",
            "Epoch 100/100,Train Losses : 0.3612,Test Loss : 0.3866, Train Acc : 0.9029, Test Acc : 0.8936\n"
          ],
          "name": "stdout"
        }
      ]
    },
    {
      "cell_type": "code",
      "metadata": {
        "id": "9Lbgrne-cc7X",
        "colab_type": "code",
        "colab": {
          "base_uri": "https://localhost:8080/",
          "height": 282
        },
        "outputId": "c768e11b-1329-405a-c7be-75864bfea556"
      },
      "source": [
        "plt.plot(train_accuracy,label='Train Acc')\n",
        "plt.plot(test_accuracy,label='Test Acc')\n",
        "plt.legend()"
      ],
      "execution_count": 25,
      "outputs": [
        {
          "output_type": "execute_result",
          "data": {
            "text/plain": [
              "<matplotlib.legend.Legend at 0x7ff31ddfc400>"
            ]
          },
          "metadata": {
            "tags": []
          },
          "execution_count": 25
        },
        {
          "output_type": "display_data",
          "data": {
            "image/png": "[encoded data removed]",
            "text/plain": [
              "<Figure size 432x288 with 1 Axes>"
            ]
          },
          "metadata": {
            "tags": [],
            "needs_background": "light"
          }
        }
      ]
    },
    {
      "cell_type": "code",
      "metadata": {
        "id": "POzV6e-icmPN",
        "colab_type": "code",
        "colab": {
          "base_uri": "https://localhost:8080/",
          "height": 282
        },
        "outputId": "273c9d55-dcee-4218-a252-881e50496843"
      },
      "source": [
        "plt.plot(train_losses,label='Train Loss')\n",
        "plt.plot(test_losses,label='Test Loss')\n",
        "plt.legend()"
      ],
      "execution_count": 26,
      "outputs": [
        {
          "output_type": "execute_result",
          "data": {
            "text/plain": [
              "<matplotlib.legend.Legend at 0x7ff31dde3978>"
            ]
          },
          "metadata": {
            "tags": []
          },
          "execution_count": 26
        },
        {
          "output_type": "display_data",
          "data": {
            "image/png": "[encoded data removed]",
            "text/plain": [
              "<Figure size 432x288 with 1 Axes>"
            ]
          },
          "metadata": {
            "tags": [],
            "needs_background": "light"
          }
        }
      ]
    },
    {
      "cell_type": "markdown",
      "metadata": {
        "id": "pvQt649DdTpw",
        "colab_type": "text"
      },
      "source": [
        "# Saving and Loading a Model"
      ]
    },
    {
      "cell_type": "code",
      "metadata": {
        "id": "oBMuP5EzcqGt",
        "colab_type": "code",
        "colab": {
          "base_uri": "https://localhost:8080/",
          "height": 119
        },
        "outputId": "a0e7b615-b24d-48af-a492-ee6f0cdc491a"
      },
      "source": [
        "# Get ordered parameter model dictionary:\n",
        "model.state_dict()"
      ],
      "execution_count": 27,
      "outputs": [
        {
          "output_type": "execute_result",
          "data": {
            "text/plain": [
              "OrderedDict([('0.weight',\n",
              "              tensor([[-0.0811,  0.0761, -0.0651,  0.0216, -0.1291, -0.1096, -0.2584,  0.0309,\n",
              "                       -0.1968, -0.0373, -0.2022, -0.0406,  0.0816, -0.1066,  0.0057, -0.2102,\n",
              "                        0.0836, -0.2130,  0.1235,  0.2268, -0.0102, -0.0181, -0.2112, -0.0591,\n",
              "                       -0.1616,  0.0364, -0.2254,  0.0444,  0.0166, -0.2095]])),\n",
              "             ('0.bias', tensor([0.2160]))])"
            ]
          },
          "metadata": {
            "tags": []
          },
          "execution_count": 27
        }
      ]
    },
    {
      "cell_type": "code",
      "metadata": {
        "id": "9Yw18vggdxS9",
        "colab_type": "code",
        "colab": {}
      },
      "source": [
        "# Save the model or weights and bias or parameters \n",
        "\n",
        "torch.save(model.state_dict(),'Linear_Classifierv1.pt')"
      ],
      "execution_count": 28,
      "outputs": []
    },
    {
      "cell_type": "code",
      "metadata": {
        "id": "Ng3R9q9ReGIM",
        "colab_type": "code",
        "colab": {
          "base_uri": "https://localhost:8080/",
          "height": 34
        },
        "outputId": "9b504794-163e-4c72-cd5e-dee87b969e7c"
      },
      "source": [
        "!ls"
      ],
      "execution_count": 29,
      "outputs": [
        {
          "output_type": "stream",
          "text": [
            "Linear_Classifierv1.pt\tsample_data\n"
          ],
          "name": "stdout"
        }
      ]
    },
    {
      "cell_type": "code",
      "metadata": {
        "id": "Ls_ds3HneTC5",
        "colab_type": "code",
        "colab": {
          "base_uri": "https://localhost:8080/",
          "height": 34
        },
        "outputId": "d91e2888-3d9e-4068-b5e8-72e6908ef07a"
      },
      "source": [
        "# Loading Saved parameters\n",
        "# Build Model Object\n",
        "model1= nn.Sequential(\n",
        "    nn.Linear(D,1),\n",
        "    nn.Sigmoid()\n",
        ")\n",
        "model1.load_state_dict(torch.load('Linear_Classifierv1.pt'))\n",
        "\n"
      ],
      "execution_count": 30,
      "outputs": [
        {
          "output_type": "execute_result",
          "data": {
            "text/plain": [
              "<All keys matched successfully>"
            ]
          },
          "metadata": {
            "tags": []
          },
          "execution_count": 30
        }
      ]
    },
    {
      "cell_type": "code",
      "metadata": {
        "id": "JRjmnPbRe0Q-",
        "colab_type": "code",
        "colab": {
          "base_uri": "https://localhost:8080/",
          "height": 34
        },
        "outputId": "79b2e871-5792-41a8-8126-d10ab0485ff9"
      },
      "source": [
        "with torch.no_grad():\n",
        "  p_train=model1(X_train)\n",
        "  p_train=np.round(p_train.numpy())\n",
        "  train_acc=np.mean(y_train.numpy()==p_train)\n",
        "  p_test=model1(X_test)\n",
        "  p_test=np.round(p_test.numpy())\n",
        "  test_acc=np.mean(y_test.numpy()==p_test)\n",
        "print(f'Train Accuracy : {train_acc:.4f}, Test Accuracy : {test_acc:.4f}')\n"
      ],
      "execution_count": 31,
      "outputs": [
        {
          "output_type": "stream",
          "text": [
            "Train Accuracy : 0.9029, Test Accuracy : 0.8936\n"
          ],
          "name": "stdout"
        }
      ]
    },
    {
      "cell_type": "code",
      "metadata": {
        "id": "7Gndu3b1e6tt",
        "colab_type": "code",
        "colab": {
          "base_uri": "https://localhost:8080/",
          "height": 17
        },
        "outputId": "989a9f85-c68d-45a6-d0d6-30d21938bc18"
      },
      "source": [
        "# Download the Model\n",
        "# Works only with chrome\n",
        "from google.colab import files\n",
        "files.download('Linear_Classifierv1.pt')"
      ],
      "execution_count": 32,
      "outputs": [
        {
          "output_type": "display_data",
          "data": {
            "application/javascript": [
              "\n",
              "    async function download(id, filename, size) {\n",
              "      if (!google.colab.kernel.accessAllowed) {\n",
              "        return;\n",
              "      }\n",
              "      const div = document.createElement('div');\n",
              "      const label = document.createElement('label');\n",
              "      label.textContent = `Downloading \"${filename}\": `;\n",
              "      div.appendChild(label);\n",
              "      const progress = document.createElement('progress');\n",
              "      progress.max = size;\n",
              "      div.appendChild(progress);\n",
              "      document.body.appendChild(div);\n",
              "\n",
              "      const buffers = [];\n",
              "      let downloaded = 0;\n",
              "\n",
              "      const channel = await google.colab.kernel.comms.open(id);\n",
              "      // Send a message to notify the kernel that we're ready.\n",
              "      channel.send({})\n",
              "\n",
              "      for await (const message of channel.messages) {\n",
              "        // Send a message to notify the kernel that we're ready.\n",
              "        channel.send({})\n",
              "        if (message.buffers) {\n",
              "          for (const buffer of message.buffers) {\n",
              "            buffers.push(buffer);\n",
              "            downloaded += buffer.byteLength;\n",
              "            progress.value = downloaded;\n",
              "          }\n",
              "        }\n",
              "      }\n",
              "      const blob = new Blob(buffers, {type: 'application/binary'});\n",
              "      const a = document.createElement('a');\n",
              "      a.href = window.URL.createObjectURL(blob);\n",
              "      a.download = filename;\n",
              "      div.appendChild(a);\n",
              "      a.click();\n",
              "      div.remove();\n",
              "    }\n",
              "  "
            ],
            "text/plain": [
              "<IPython.core.display.Javascript object>"
            ]
          },
          "metadata": {
            "tags": []
          }
        },
        {
          "output_type": "display_data",
          "data": {
            "application/javascript": [
              "download(\"download_5979b922-566d-4b23-9669-f35404126813\", \"Linear_Classifierv1.pt\", 658)"
            ],
            "text/plain": [
              "<IPython.core.display.Javascript object>"
            ]
          },
          "metadata": {
            "tags": []
          }
        }
      ]
    },
    {
      "cell_type": "markdown",
      "metadata": {
        "id": "G0S0v2b_f-UO",
        "colab_type": "text"
      },
      "source": [
        "# Next"
      ]
    },
    {
      "cell_type": "code",
      "metadata": {
        "id": "ZvWrMCWmfwi6",
        "colab_type": "code",
        "colab": {}
      },
      "source": [
        ""
      ],
      "execution_count": null,
      "outputs": []
    }
  ]
}