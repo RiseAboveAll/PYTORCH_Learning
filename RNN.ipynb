{
  "nbformat": 4,
  "nbformat_minor": 0,
  "metadata": {
    "colab": {
      "name": "RNN.ipynb",
      "provenance": [],
      "collapsed_sections": [
        "967iW99-WUot",
        "sTS4POjMz-BF"
      ],
      "authorship_tag": "ABX9TyPnsdG+RBqrHPMLCFWKrj9q",
      "include_colab_link": true
    },
    "kernelspec": {
      "name": "python3",
      "display_name": "Python 3"
    },
    "accelerator": "GPU"
  },
  "cells": [
    {
      "cell_type": "markdown",
      "metadata": {
        "id": "view-in-github",
        "colab_type": "text"
      },
      "source": [
        "<a href=\"https://colab.research.google.com/github/RiseAboveAll/PYTORCH_Learning/blob/master/RNN.ipynb\" target=\"_parent\"><img src=\"https://colab.research.google.com/assets/colab-badge.svg\" alt=\"Open In Colab\"/></a>"
      ]
    },
    {
      "cell_type": "markdown",
      "metadata": {
        "id": "5-9hzjFz3Ybn",
        "colab_type": "text"
      },
      "source": [
        "# Sequential Data"
      ]
    },
    {
      "cell_type": "markdown",
      "metadata": {
        "id": "PDK0Xyi13esl",
        "colab_type": "text"
      },
      "source": [
        "- Example of sequential data : Text , Speech, Financial Data\n",
        "\n",
        "<h1> Types Of Sequence Data : </h1>\n",
        "\n",
        "1. Time Series Data\n",
        "\n",
        "  - Any continues value measurement recorded periodically \n",
        "\n",
        "2. Text \n",
        "\n",
        "  - Can be treated as sequence \n",
        "\n",
        "  - In ML we used to create Bag of Words, Using this we used to loose information.\n",
        "\n",
        "<h1> What is Sequence ? </h1>\n",
        "\n",
        "Length of data is measured by time , represented by letter 'T'.\n",
        "\n",
        "Shape of Data = N x T x D\n",
        "\n",
        "N -> N.O of Samples\n",
        "\n",
        "T -> Time Step\n",
        "\n",
        "D -> N.O of Features\n",
        "\n",
        "Most of the time we have variable length sequences, i.e if T is variable i.e not constant length of sequence in data will differ but we require constant length of all . Example sentences , words in sentences differ. We can pad the sequences with 0s so that all the sequence at T(n) become constant length. \n",
        "\n",
        "In pytorch , instead of having all the sequences padded to the same length as the longest sequence, just do this accross single batches. Pytorch try to group sequences on the basis of similarity in length , hence batches will be random but not as random as it would be.  \n",
        "\n"
      ]
    },
    {
      "cell_type": "markdown",
      "metadata": {
        "id": "xpAjwWlYcyec",
        "colab_type": "text"
      },
      "source": [
        "# Forecasting"
      ]
    },
    {
      "cell_type": "markdown",
      "metadata": {
        "id": "l_kH9L0dj_44",
        "colab_type": "text"
      },
      "source": [
        "- We have time series , we have to predict next values of the time series.\n",
        "\n",
        "- Number of future steps we want to predict is called Horizon\n"
      ]
    },
    {
      "cell_type": "markdown",
      "metadata": {
        "id": "URO3hcr8md3h",
        "colab_type": "text"
      },
      "source": [
        "# RNN"
      ]
    },
    {
      "cell_type": "markdown",
      "metadata": {
        "id": "nrMzFq_vmgBb",
        "colab_type": "text"
      },
      "source": [
        "**In ANN we used to calculate the output of hidden node using the input vector and output of output node using the output of hidden node as input . X -> H -> Y_hat.**\n",
        "\n",
        "**H = a(W.T . X + b)**\n",
        "\n",
        "**Y_hat = a(W.T . H + b)**\n",
        "\n",
        "Whereas,\n",
        "\n",
        "**In RNN, the *Hidden Node*  loop back to itself, i.e in other words the *Hidden Node* does not only depends on the input, but also on it's own previous (time-stamp) value. This *Hidden Node is also called *Hidden State*. This Hidden State is non linear function of past values. This loop-back to previous value states that there is time delay of one step**\n",
        "\n",
        "<h3> RNN Equation </h3>\n",
        "\n",
        "Ht = a(Wxh.T . X + Whh.T . Ht-1 + b)\n",
        "\n",
        "Y_hat = a(W.T . Ht + b)\n",
        "\n",
        "<h3> Calculation </h3>\n",
        "\n",
        "Given : x1,x2,x3,....,xt\n",
        "\n",
        "Shape(Xt) : D\n",
        "\n",
        "First Step : \n",
        "\n",
        "-> h1 = a(Wxh.T . x1 + Whh.T . h0 + b)\n",
        "\n",
        "-> y_hat1 = a(W.T . h1 + b)\n",
        "\n",
        "Now we have x2 & h1 :\n",
        "\n",
        "-> h2 = a(Wxh.T . x2 + Whh.T . h1 + b)\n",
        "\n",
        "-> y_hat2 = a(W.T . h2 + b)\n",
        "\n",
        "We can repeat this process till we calculate hT and y_hatT. \n",
        "\n",
        "**Each y_hatT depends on x1,x2,x3,...,xt, we get yhat for each corresponding x1,x2,x3,....,xt...xT. xT gives us the final prediction , i.e final y_hat , hence all the previous time-stamps y_hat will be removed. There are instances when we do not discard the previous y_hats , instances like neural machine translation. In machine translation , both input and output are senteces but in different languages. Both the input and output are sequences, capture predctions at each time point. \n",
        "\n",
        "<h3>Classification Probability</h3>\n",
        "\n",
        "- In ANN and CNN after applying softmax the output prediction is probability distribution. P(y=k|X)\n",
        "\n",
        "- For neural machine translation, it is also a classification, but we will have probability of yt=k given something. P(y=k|?) . \n",
        "\n",
        "What is this 'Something'?\n",
        "\n",
        "![RNN](https://raw.githubusercontent.com/RiseAboveAll/PYTORCH_Learning/master/RNN.PNG)\n",
        "\n",
        "We can say that y_hatT depends on every X in the input sequence. Hence:\n",
        "\n",
        "P(y1=k|x1)\n",
        "\n",
        "P(y2=k|X2,X1)\n",
        "\n",
        "P(y3=k|X3,X2,X1)\n",
        "\n",
        ".\n",
        ".\n",
        ".\n",
        ".\n",
        "\n",
        "P(yT=k|XT,...,X3,X2,X1)\n",
        "\n",
        "RNN accounts for all the previous words in the sentence not only the previous words. \n",
        "\n"
      ]
    },
    {
      "cell_type": "markdown",
      "metadata": {
        "id": "967iW99-WUot",
        "colab_type": "text"
      },
      "source": [
        "# RNN Code Prepration"
      ]
    },
    {
      "cell_type": "markdown",
      "metadata": {
        "id": "m6oL1Ib9XQhw",
        "colab_type": "text"
      },
      "source": [
        "In pytorch simple RNN layer is called RNN avaliable in nn module of torch : nn.RNN(input_size,hidden_size,num_layers,nonlinearity,batch_first=True)\n",
        "\n",
        "batch_first=True means the data is of shape : N  x T x D\n",
        "\n",
        "With RNN there are two inputs and set of weights. It wont only depend on Input X but also on previous time-stampt hidden state.\n",
        "\n",
        "Hence in forward function we need to first define the initial hidden state.\n",
        "\n",
        "L -> Number of RNN Layers\n",
        "\n",
        "N -> Batch Size\n",
        "\n",
        "M -> Number of hidden features\n",
        "\n",
        "RNN module in pytorch can be a single layer and also stack of RNN layers. For all hidden states we will have few dimensions (n,l,t,j):\n",
        "\n",
        "n - which sample\n",
        "\n",
        "l - which layer\n",
        "\n",
        "t - which time-step\n",
        "\n",
        "j - Which feature\n",
        "\n",
        "RNN gives you two output : \n",
        "\n",
        "1. The first output gives us the hidden states for the final layer at each time step (n,t,j) . We only use first output mostly.\n",
        "\n",
        "2. The second output gives us the hidden states over all of hidden layers but only at the final time step. (n,l,j)\n",
        "\n",
        "As a last step we pass hidden state to the last dense layer. Since the hidden state we have obtained from the RNN module is N,T,M . This gives us hidden states for every time-steps. But in certain cases we only want hidden state at the final time step .\n",
        "\n",
        "\n",
        "<h3>Build Model</h3>\n",
        "\n",
        "```\n",
        "class SimpleRNN(nn.Module):\n",
        "  def __init__(self,num_inputs,num_hidden,num_layers,num_outputs):\n",
        "    super(SimpleRNN,self).__init__()\n",
        "    self.D=num_inputs\n",
        "    self.M=num_hidden\n",
        "    self.K=num_outputs\n",
        "    self.L=num_layers\n",
        "    self.rnn=nn.RNN(\n",
        "      input_size=self.D,\n",
        "      hidden_size=self.M,\n",
        "      num_layers=self.L,\n",
        "      nonlinearity='relu',\n",
        "      batch_first=True)\n",
        "    self.fc=nn.Linear(self.M,self.K)\n",
        "  def forward(self,X):\n",
        "    # Initial hidden states :  L x N x M\n",
        "\n",
        "    h0=torch.zeros(self.L,X.size(0),self.M).to(device)\n",
        "    #Get RNN unit output\n",
        "    #out is of size (N , T , M)\n",
        "    out,_=self.rnn(X,h0)\n",
        "    #We only want hT at the final time-step\n",
        "    #N x M -> N x K\n",
        "    out=self.fc(out[:,-1,:])\n",
        "    return out\n",
        "\n",
        "\n",
        "```\n",
        "\n",
        "<h3>Instantiate the Model</h3>\n",
        "\n",
        "```\n",
        "\n",
        "model=SimpleRNN(num_inputs=1,num_hidden=5,num_layers=1,num_outputs=1)\n",
        "model.to(device)\n",
        "\n",
        "```\n",
        "\n",
        "<h3>Loss and Optimizer</h3>\n",
        "\n",
        "```\n",
        "criterion=nn.MSELoss()\n",
        "optimizer=torch.optim.Adam(model.parameters(),lr=.1)\n",
        "```\n",
        "\n",
        "<h3>Make Inputs and Targets</h3>\n",
        "\n",
        "```\n",
        "x_train\n",
        "y_train\n",
        "```\n",
        "\n",
        "<h3>Making Predictions</h3>\n",
        "input_=x_test[i].reshape(1,T,1)\n",
        "p=model(input_)[0,0].item()\n",
        "\n",
        "\n"
      ]
    },
    {
      "cell_type": "markdown",
      "metadata": {
        "id": "sTS4POjMz-BF",
        "colab_type": "text"
      },
      "source": [
        "# Code"
      ]
    },
    {
      "cell_type": "code",
      "metadata": {
        "id": "GvukTQk5z7Yu",
        "colab_type": "code",
        "colab": {}
      },
      "source": [
        "import torch\n",
        "from torch import nn\n",
        "import numpy as np\n",
        "import matplotlib.pyplot as plt\n"
      ],
      "execution_count": 1,
      "outputs": []
    },
    {
      "cell_type": "code",
      "metadata": {
        "id": "rlPb_qC_Ud7b",
        "colab_type": "code",
        "colab": {
          "base_uri": "https://localhost:8080/",
          "height": 282
        },
        "outputId": "259febd2-04c1-4108-945c-6b5a38dce3bd"
      },
      "source": [
        "#Make orignal data\n",
        "N=1000\n",
        "series=np.sin(.1*np.arange(N))+np.random.randn(N)*.1\n",
        "plt.plot(series)"
      ],
      "execution_count": 34,
      "outputs": [
        {
          "output_type": "execute_result",
          "data": {
            "text/plain": [
              "[<matplotlib.lines.Line2D at 0x7f63e459c240>]"
            ]
          },
          "metadata": {
            "tags": []
          },
          "execution_count": 34
        },
        {
          "output_type": "display_data",
          "data": {
            "image/png": "[encoded data removed]",
            "text/plain": [
              "<Figure size 432x288 with 1 Axes>"
            ]
          },
          "metadata": {
            "tags": [],
            "needs_background": "light"
          }
        }
      ]
    },
    {
      "cell_type": "code",
      "metadata": {
        "id": "DhKv0oSH3SDi",
        "colab_type": "code",
        "colab": {}
      },
      "source": [
        "#build the dataset\n",
        "#Let see if we can use T past values to predict the next value\n",
        "T=10\n",
        "X=[]\n",
        "Y=[]\n",
        "for t in range(len(series)-T):\n",
        "  x=series[t:t+T]\n",
        "  X.append(x)\n",
        "  y=series[t+T]\n",
        "  Y.append(y)\n",
        "X=np.array(X).reshape(-1,T,1)\n",
        "Y=np.array(Y).reshape(-1,1)\n",
        "N=len(X)"
      ],
      "execution_count": 35,
      "outputs": []
    },
    {
      "cell_type": "code",
      "metadata": {
        "id": "t4o0MyW_ZwpF",
        "colab_type": "code",
        "colab": {
          "base_uri": "https://localhost:8080/",
          "height": 34
        },
        "outputId": "1fad39de-7172-470e-ad9e-7f66315182e3"
      },
      "source": [
        "Y.shape"
      ],
      "execution_count": 36,
      "outputs": [
        {
          "output_type": "execute_result",
          "data": {
            "text/plain": [
              "(990, 1)"
            ]
          },
          "metadata": {
            "tags": []
          },
          "execution_count": 36
        }
      ]
    },
    {
      "cell_type": "code",
      "metadata": {
        "id": "Y_o_shu6Z5oS",
        "colab_type": "code",
        "colab": {
          "base_uri": "https://localhost:8080/",
          "height": 34
        },
        "outputId": "75dbf206-9563-41dc-c172-f942b6c7cd6d"
      },
      "source": [
        "#Set Device\n",
        "device=torch.device(\"cuda:0\"if torch.cuda.is_available() else \"cpu\")\n",
        "print(device)"
      ],
      "execution_count": 37,
      "outputs": [
        {
          "output_type": "stream",
          "text": [
            "cuda:0\n"
          ],
          "name": "stdout"
        }
      ]
    },
    {
      "cell_type": "code",
      "metadata": {
        "id": "QYxvzmrZZ8F_",
        "colab_type": "code",
        "colab": {}
      },
      "source": [
        "#Define Simple RNN\n",
        "class SimpleRNN(nn.Module):\n",
        "  def __init__(self,num_inputs,num_hidden,num_layers,num_outputs):\n",
        "    super(SimpleRNN,self).__init__()\n",
        "    self.D=num_inputs\n",
        "    self.M=num_hidden\n",
        "    self.K=num_outputs\n",
        "    self.L=num_layers\n",
        "    #note : batch_first=True means that data will be of shape (num_samples,sequence_length,num_features) rather than (sequence_lengthnum_samples,num_feaures)\n",
        "    self.rnn=nn.RNN(\n",
        "      input_size=self.D,\n",
        "      hidden_size=self.M,\n",
        "      num_layers=self.L,\n",
        "      nonlinearity='relu',\n",
        "      batch_first=True)\n",
        "    self.fc=nn.Linear(self.M,self.K)\n",
        "  def forward(self,X):\n",
        "    # Initial hidden states :  L x N x M\n",
        " \n",
        "    h0=torch.zeros(self.L,X.size(0),self.M).to(device)\n",
        "    #Get RNN unit output\n",
        "    #out is of size (N , T , M)\n",
        "    out,_=self.rnn(X,h0)\n",
        "    #We only want hT at the final time-step\n",
        "    #N x M -> N x K\n",
        "    out=self.fc(out[:,-1,:])\n",
        "    return out"
      ],
      "execution_count": 38,
      "outputs": []
    },
    {
      "cell_type": "code",
      "metadata": {
        "id": "o0ccIxH7bxXO",
        "colab_type": "code",
        "colab": {
          "base_uri": "https://localhost:8080/",
          "height": 87
        },
        "outputId": "5d43bf2a-6a39-4849-f0e6-4ff2fa052100"
      },
      "source": [
        "#Instantiate Model\n",
        "model=SimpleRNN(num_inputs=1,num_hidden=5,num_layers=1,num_outputs=1)\n",
        "model.to(device)"
      ],
      "execution_count": 39,
      "outputs": [
        {
          "output_type": "execute_result",
          "data": {
            "text/plain": [
              "SimpleRNN(\n",
              "  (rnn): RNN(1, 5, batch_first=True)\n",
              "  (fc): Linear(in_features=5, out_features=1, bias=True)\n",
              ")"
            ]
          },
          "metadata": {
            "tags": []
          },
          "execution_count": 39
        }
      ]
    },
    {
      "cell_type": "code",
      "metadata": {
        "id": "iyT_VlhkcLsP",
        "colab_type": "code",
        "colab": {}
      },
      "source": [
        "#Loss & Optimizer\n",
        "criterion=nn.MSELoss()\n",
        "optimizer=torch.optim.Adam(model.parameters(),lr=.1)"
      ],
      "execution_count": 40,
      "outputs": []
    },
    {
      "cell_type": "code",
      "metadata": {
        "id": "NyG09ImIcTQi",
        "colab_type": "code",
        "colab": {}
      },
      "source": [
        "#Make inputs and targets\n",
        "X_train=torch.from_numpy(X[:-N//2].astype(np.float32))\n",
        "Y_train=torch.from_numpy(Y[:-N//2].astype(np.float32))\n",
        "X_test=torch.from_numpy(X[-N//2:].astype(np.float32))\n",
        "Y_test=torch.from_numpy(Y[-N//2:].astype(np.float32))"
      ],
      "execution_count": 41,
      "outputs": []
    },
    {
      "cell_type": "code",
      "metadata": {
        "id": "n-_8B_JTc6MN",
        "colab_type": "code",
        "colab": {}
      },
      "source": [
        "X_train,Y_train=X_train.to(device),Y_train.to(device)\n",
        "X_test,Y_test=X_test.to(device),Y_test.to(device)\n"
      ],
      "execution_count": 42,
      "outputs": []
    },
    {
      "cell_type": "code",
      "metadata": {
        "id": "avJdf1NIdPtS",
        "colab_type": "code",
        "colab": {}
      },
      "source": [
        "def full_gd(model,criterion,optimizer,X_train,Y_train,X_test,Y_test,epochs=200):\n",
        "  #stuff to store\n",
        "  train_losses=np.zeros(epochs)\n",
        "  test_losses=np.zeros(epochs)\n",
        "\n",
        "  for it in range(epochs):\n",
        "    #Zero the parameter gradients\n",
        "    optimizer.zero_grad()\n",
        "    #Forward Pass\n",
        "    outputs=model(X_train)\n",
        "    loss=criterion(outputs,Y_train)\n",
        "    #Backward & Optimize\n",
        "    loss.backward()\n",
        "    optimizer.step()\n",
        "    #Save Losses\n",
        "    train_losses[it]=loss.item()\n",
        "    #Test Loss\n",
        "    test_outputs=model(X_test)\n",
        "    test_loss=criterion(test_outputs,Y_test)\n",
        "    test_losses[it]=test_loss.item()\n",
        "    if(it+1)%5==0:\n",
        "      print(f'Epoch:{it+1}/{epochs}, Train Loss: {loss.item():.4f}, Test loss: {test_loss.item():.4f}')\n",
        "  return train_losses,test_losses"
      ],
      "execution_count": 43,
      "outputs": []
    },
    {
      "cell_type": "code",
      "metadata": {
        "id": "aE3o0IZ6e-sY",
        "colab_type": "code",
        "colab": {
          "base_uri": "https://localhost:8080/",
          "height": 727
        },
        "outputId": "c53d3cfe-ec78-4e80-ab7a-d3cd4c31a430"
      },
      "source": [
        "train_losses,test_losses=full_gd(model,criterion,optimizer,X_train,Y_train,X_test,Y_test,200)"
      ],
      "execution_count": 44,
      "outputs": [
        {
          "output_type": "stream",
          "text": [
            "Epoch:5/200, Train Loss: 0.2839, Test loss: 0.2230\n",
            "Epoch:10/200, Train Loss: 0.0930, Test loss: 0.0630\n",
            "Epoch:15/200, Train Loss: 0.0730, Test loss: 0.0808\n",
            "Epoch:20/200, Train Loss: 0.0621, Test loss: 0.0600\n",
            "Epoch:25/200, Train Loss: 0.0367, Test loss: 0.0371\n",
            "Epoch:30/200, Train Loss: 0.0315, Test loss: 0.0335\n",
            "Epoch:35/200, Train Loss: 0.0279, Test loss: 0.0279\n",
            "Epoch:40/200, Train Loss: 0.0218, Test loss: 0.0231\n",
            "Epoch:45/200, Train Loss: 0.0220, Test loss: 0.0243\n",
            "Epoch:50/200, Train Loss: 0.0214, Test loss: 0.0235\n",
            "Epoch:55/200, Train Loss: 0.0214, Test loss: 0.0235\n",
            "Epoch:60/200, Train Loss: 0.0211, Test loss: 0.0232\n",
            "Epoch:65/200, Train Loss: 0.0210, Test loss: 0.0232\n",
            "Epoch:70/200, Train Loss: 0.0210, Test loss: 0.0230\n",
            "Epoch:75/200, Train Loss: 0.0209, Test loss: 0.0231\n",
            "Epoch:80/200, Train Loss: 0.0209, Test loss: 0.0230\n",
            "Epoch:85/200, Train Loss: 0.0208, Test loss: 0.0230\n",
            "Epoch:90/200, Train Loss: 0.0208, Test loss: 0.0230\n",
            "Epoch:95/200, Train Loss: 0.0208, Test loss: 0.0230\n",
            "Epoch:100/200, Train Loss: 0.0208, Test loss: 0.0230\n",
            "Epoch:105/200, Train Loss: 0.0208, Test loss: 0.0229\n",
            "Epoch:110/200, Train Loss: 0.0208, Test loss: 0.0229\n",
            "Epoch:115/200, Train Loss: 0.0208, Test loss: 0.0230\n",
            "Epoch:120/200, Train Loss: 0.0208, Test loss: 0.0229\n",
            "Epoch:125/200, Train Loss: 0.0208, Test loss: 0.0229\n",
            "Epoch:130/200, Train Loss: 0.0208, Test loss: 0.0229\n",
            "Epoch:135/200, Train Loss: 0.0208, Test loss: 0.0229\n",
            "Epoch:140/200, Train Loss: 0.0208, Test loss: 0.0229\n",
            "Epoch:145/200, Train Loss: 0.0208, Test loss: 0.0229\n",
            "Epoch:150/200, Train Loss: 0.0208, Test loss: 0.0229\n",
            "Epoch:155/200, Train Loss: 0.0208, Test loss: 0.0229\n",
            "Epoch:160/200, Train Loss: 0.0208, Test loss: 0.0229\n",
            "Epoch:165/200, Train Loss: 0.0208, Test loss: 0.0229\n",
            "Epoch:170/200, Train Loss: 0.0208, Test loss: 0.0229\n",
            "Epoch:175/200, Train Loss: 0.0208, Test loss: 0.0229\n",
            "Epoch:180/200, Train Loss: 0.0208, Test loss: 0.0229\n",
            "Epoch:185/200, Train Loss: 0.0208, Test loss: 0.0229\n",
            "Epoch:190/200, Train Loss: 0.0208, Test loss: 0.0229\n",
            "Epoch:195/200, Train Loss: 0.0208, Test loss: 0.0229\n",
            "Epoch:200/200, Train Loss: 0.0208, Test loss: 0.0229\n"
          ],
          "name": "stdout"
        }
      ]
    },
    {
      "cell_type": "code",
      "metadata": {
        "id": "g8W3nyoAfJLV",
        "colab_type": "code",
        "colab": {
          "base_uri": "https://localhost:8080/",
          "height": 282
        },
        "outputId": "c9e3acba-e1f7-4e69-c67d-0d8aba5b639b"
      },
      "source": [
        "#Loss Curve\n",
        "plt.plot(train_losses,label='Train Loss')\n",
        "plt.plot(test_losses,label='Test Loss')\n",
        "plt.legend()"
      ],
      "execution_count": 45,
      "outputs": [
        {
          "output_type": "execute_result",
          "data": {
            "text/plain": [
              "<matplotlib.legend.Legend at 0x7f63e45b5f60>"
            ]
          },
          "metadata": {
            "tags": []
          },
          "execution_count": 45
        },
        {
          "output_type": "display_data",
          "data": {
            "image/png": "[encoded data removed]",
            "text/plain": [
              "<Figure size 432x288 with 1 Axes>"
            ]
          },
          "metadata": {
            "tags": [],
            "needs_background": "light"
          }
        }
      ]
    },
    {
      "cell_type": "code",
      "metadata": {
        "id": "lKHYEqaKfiD3",
        "colab_type": "code",
        "colab": {}
      },
      "source": [
        "#Forecasting using true targets\n",
        "\n",
        "validation_target=Y[-N//2:]\n",
        "validation_prediction=[]\n",
        "i=0\n",
        "while len(validation_prediction)<len(validation_target):\n",
        "  input_=X_test[i].reshape(1,T,1)\n",
        "  p=model(input_)[0,0].item()\n",
        "  i+=1\n",
        "  validation_prediction.append(p)\n",
        "  \n"
      ],
      "execution_count": 46,
      "outputs": []
    },
    {
      "cell_type": "code",
      "metadata": {
        "id": "vpCFFYoQg-A2",
        "colab_type": "code",
        "colab": {
          "base_uri": "https://localhost:8080/",
          "height": 194
        },
        "outputId": "1aa8c566-0978-4bda-ebed-34a488a68d9c"
      },
      "source": [
        "validation_prediction[:10]"
      ],
      "execution_count": 26,
      "outputs": [
        {
          "output_type": "execute_result",
          "data": {
            "text/plain": [
              "[0.23883990943431854,\n",
              " 0.31529897451400757,\n",
              " 0.4141419529914856,\n",
              " 0.5276208519935608,\n",
              " 0.6263653039932251,\n",
              " 0.6915383338928223,\n",
              " 0.7500914931297302,\n",
              " 0.8010855317115784,\n",
              " 0.846693217754364,\n",
              " 0.8939420580863953]"
            ]
          },
          "metadata": {
            "tags": []
          },
          "execution_count": 26
        }
      ]
    },
    {
      "cell_type": "code",
      "metadata": {
        "id": "i-BVwcJlhDFI",
        "colab_type": "code",
        "colab": {
          "base_uri": "https://localhost:8080/",
          "height": 194
        },
        "outputId": "9e42ee4b-0b9a-4235-f0d1-1f0571c3b4d2"
      },
      "source": [
        "validation_target[:10]"
      ],
      "execution_count": 27,
      "outputs": [
        {
          "output_type": "execute_result",
          "data": {
            "text/plain": [
              "array([[0.23237376],\n",
              "       [0.32831349],\n",
              "       [0.42097283],\n",
              "       [0.50942594],\n",
              "       [0.59278903],\n",
              "       [0.67022918],\n",
              "       [0.74097261],\n",
              "       [0.80431249],\n",
              "       [0.85961595],\n",
              "       [0.90633041]])"
            ]
          },
          "metadata": {
            "tags": []
          },
          "execution_count": 27
        }
      ]
    },
    {
      "cell_type": "code",
      "metadata": {
        "id": "-aXolCUxg_Yp",
        "colab_type": "code",
        "colab": {
          "base_uri": "https://localhost:8080/",
          "height": 282
        },
        "outputId": "66fc784a-f1df-4378-af47-2d9768350f56"
      },
      "source": [
        "plt.plot(validation_target,label='Validation Target')\n",
        "plt.plot(validation_prediction,label='Validation Prediction')\n",
        "plt.legend()"
      ],
      "execution_count": 47,
      "outputs": [
        {
          "output_type": "execute_result",
          "data": {
            "text/plain": [
              "<matplotlib.legend.Legend at 0x7f63e4476470>"
            ]
          },
          "metadata": {
            "tags": []
          },
          "execution_count": 47
        },
        {
          "output_type": "display_data",
          "data": {
            "image/png": "[encoded data removed]",
            "text/plain": [
              "<Figure size 432x288 with 1 Axes>"
            ]
          },
          "metadata": {
            "tags": [],
            "needs_background": "light"
          }
        }
      ]
    },
    {
      "cell_type": "code",
      "metadata": {
        "id": "kzbCsdMYhYgA",
        "colab_type": "code",
        "colab": {}
      },
      "source": [
        "#Forecasting Future Values\n",
        "#Multi Step Forecast\n",
        "validation_target=Y[-N//2:]\n",
        "validation_prediction=[]\n",
        "last_X=X_test[0].view(T)\n",
        "i=0\n",
        "while len(validation_prediction)<len(validation_target):\n",
        "  input_=last_X.reshape(1,T,1)\n",
        "  p=model(input_)\n",
        "  validation_prediction.append(p[0,0].item())\n",
        "  last_X=torch.cat((last_X[1:],p[0]))\n",
        "\n",
        "  \n"
      ],
      "execution_count": 48,
      "outputs": []
    },
    {
      "cell_type": "code",
      "metadata": {
        "id": "pVNWr-S-i4Hy",
        "colab_type": "code",
        "colab": {
          "base_uri": "https://localhost:8080/",
          "height": 282
        },
        "outputId": "6b8a1e9d-899b-46f1-8fab-5a7a31ae72f8"
      },
      "source": [
        "\n",
        "plt.plot(validation_target,label='Validation Target')\n",
        "plt.plot(validation_prediction,label='Validation Prediction')\n",
        "plt.legend()"
      ],
      "execution_count": 49,
      "outputs": [
        {
          "output_type": "execute_result",
          "data": {
            "text/plain": [
              "<matplotlib.legend.Legend at 0x7f63e445d668>"
            ]
          },
          "metadata": {
            "tags": []
          },
          "execution_count": 49
        },
        {
          "output_type": "display_data",
          "data": {
            "image/png": "[encoded data removed]",
            "text/plain": [
              "<Figure size 432x288 with 1 Axes>"
            ]
          },
          "metadata": {
            "tags": [],
            "needs_background": "light"
          }
        }
      ]
    },
    {
      "cell_type": "markdown",
      "metadata": {
        "id": "Cu8H_f1Hmsmc",
        "colab_type": "text"
      },
      "source": [
        "This is a bad fit as RNN is over-parameterized, AR model fits better."
      ]
    },
    {
      "cell_type": "markdown",
      "metadata": {
        "id": "05FL_ju5sd1V",
        "colab_type": "text"
      },
      "source": [
        "# Understanding the Shapes in RNN"
      ]
    },
    {
      "cell_type": "code",
      "metadata": {
        "id": "Bc6R7zi1i7YV",
        "colab_type": "code",
        "colab": {}
      },
      "source": [
        ""
      ],
      "execution_count": null,
      "outputs": []
    },
    {
      "cell_type": "code",
      "metadata": {
        "id": "w2zFu8tGixp6",
        "colab_type": "code",
        "colab": {}
      },
      "source": [
        ""
      ],
      "execution_count": null,
      "outputs": []
    }
  ]
}