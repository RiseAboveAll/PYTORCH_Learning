{
  "nbformat": 4,
  "nbformat_minor": 0,
  "metadata": {
    "colab": {
      "name": "RNN.ipynb",
      "provenance": [],
      "collapsed_sections": [
        "967iW99-WUot",
        "sTS4POjMz-BF"
      ],
      "authorship_tag": "ABX9TyOkRi6JUHgQQPZ9nzHI1FIu",
      "include_colab_link": true
    },
    "kernelspec": {
      "name": "python3",
      "display_name": "Python 3"
    },
    "accelerator": "GPU"
  },
  "cells": [
    {
      "cell_type": "markdown",
      "metadata": {
        "id": "view-in-github",
        "colab_type": "text"
      },
      "source": [
        "<a href=\"https://colab.research.google.com/github/RiseAboveAll/PYTORCH_Learning/blob/master/RNN.ipynb\" target=\"_parent\"><img src=\"https://colab.research.google.com/assets/colab-badge.svg\" alt=\"Open In Colab\"/></a>"
      ]
    },
    {
      "cell_type": "markdown",
      "metadata": {
        "id": "5-9hzjFz3Ybn",
        "colab_type": "text"
      },
      "source": [
        "# Sequential Data"
      ]
    },
    {
      "cell_type": "markdown",
      "metadata": {
        "id": "PDK0Xyi13esl",
        "colab_type": "text"
      },
      "source": [
        "- Example of sequential data : Text , Speech, Financial Data\n",
        "\n",
        "<h1> Types Of Sequence Data : </h1>\n",
        "\n",
        "1. Time Series Data\n",
        "\n",
        "  - Any continues value measurement recorded periodically \n",
        "\n",
        "2. Text \n",
        "\n",
        "  - Can be treated as sequence \n",
        "\n",
        "  - In ML we used to create Bag of Words, Using this we used to loose information.\n",
        "\n",
        "<h1> What is Sequence ? </h1>\n",
        "\n",
        "Length of data is measured by time , represented by letter 'T'.\n",
        "\n",
        "Shape of Data = N x T x D\n",
        "\n",
        "N -> N.O of Samples\n",
        "\n",
        "T -> Time Step\n",
        "\n",
        "D -> N.O of Features\n",
        "\n",
        "Most of the time we have variable length sequences, i.e if T is variable i.e not constant length of sequence in data will differ but we require constant length of all . Example sentences , words in sentences differ. We can pad the sequences with 0s so that all the sequence at T(n) become constant length. \n",
        "\n",
        "In pytorch , instead of having all the sequences padded to the same length as the longest sequence, just do this accross single batches. Pytorch try to group sequences on the basis of similarity in length , hence batches will be random but not as random as it would be.  \n",
        "\n"
      ]
    },
    {
      "cell_type": "markdown",
      "metadata": {
        "id": "xpAjwWlYcyec",
        "colab_type": "text"
      },
      "source": [
        "# Forecasting"
      ]
    },
    {
      "cell_type": "markdown",
      "metadata": {
        "id": "l_kH9L0dj_44",
        "colab_type": "text"
      },
      "source": [
        "- We have time series , we have to predict next values of the time series.\n",
        "\n",
        "- Number of future steps we want to predict is called Horizon\n"
      ]
    },
    {
      "cell_type": "markdown",
      "metadata": {
        "id": "URO3hcr8md3h",
        "colab_type": "text"
      },
      "source": [
        "# RNN"
      ]
    },
    {
      "cell_type": "markdown",
      "metadata": {
        "id": "nrMzFq_vmgBb",
        "colab_type": "text"
      },
      "source": [
        "**In ANN we used to calculate the output of hidden node using the input vector and output of output node using the output of hidden node as input . X -> H -> Y_hat.**\n",
        "\n",
        "**H = a(W.T . X + b)**\n",
        "\n",
        "**Y_hat = a(W.T . H + b)**\n",
        "\n",
        "Whereas,\n",
        "\n",
        "**In RNN, the *Hidden Node*  loop back to itself, i.e in other words the *Hidden Node* does not only depends on the input, but also on it's own previous (time-stamp) value. This *Hidden Node is also called *Hidden State*. This Hidden State is non linear function of past values. This loop-back to previous value states that there is time delay of one step**\n",
        "\n",
        "<h3> RNN Equation </h3>\n",
        "\n",
        "Ht = a(Wxh.T . X + Whh.T . Ht-1 + b)\n",
        "\n",
        "Y_hat = a(W.T . Ht + b)\n",
        "\n",
        "<h3> Calculation </h3>\n",
        "\n",
        "Given : x1,x2,x3,....,xt\n",
        "\n",
        "Shape(Xt) : D\n",
        "\n",
        "First Step : \n",
        "\n",
        "-> h1 = a(Wxh.T . x1 + Whh.T . h0 + b)\n",
        "\n",
        "-> y_hat1 = a(W.T . h1 + b)\n",
        "\n",
        "Now we have x2 & h1 :\n",
        "\n",
        "-> h2 = a(Wxh.T . x2 + Whh.T . h1 + b)\n",
        "\n",
        "-> y_hat2 = a(W.T . h2 + b)\n",
        "\n",
        "We can repeat this process till we calculate hT and y_hatT. \n",
        "\n",
        "**Each y_hatT depends on x1,x2,x3,...,xt, we get yhat for each corresponding x1,x2,x3,....,xt...xT. xT gives us the final prediction , i.e final y_hat , hence all the previous time-stamps y_hat will be removed. There are instances when we do not discard the previous y_hats , instances like neural machine translation. In machine translation , both input and output are senteces but in different languages. Both the input and output are sequences, capture predctions at each time point. \n",
        "\n",
        "<h3>Classification Probability</h3>\n",
        "\n",
        "- In ANN and CNN after applying softmax the output prediction is probability distribution. P(y=k|X)\n",
        "\n",
        "- For neural machine translation, it is also a classification, but we will have probability of yt=k given something. P(y=k|?) . \n",
        "\n",
        "What is this 'Something'?\n",
        "\n",
        "![RNN](https://raw.githubusercontent.com/RiseAboveAll/PYTORCH_Learning/master/RNN.PNG)\n",
        "\n",
        "We can say that y_hatT depends on every X in the input sequence. Hence:\n",
        "\n",
        "P(y1=k|x1)\n",
        "\n",
        "P(y2=k|X2,X1)\n",
        "\n",
        "P(y3=k|X3,X2,X1)\n",
        "\n",
        ".\n",
        ".\n",
        ".\n",
        ".\n",
        "\n",
        "P(yT=k|XT,...,X3,X2,X1)\n",
        "\n",
        "RNN accounts for all the previous words in the sentence not only the previous words. \n",
        "\n"
      ]
    },
    {
      "cell_type": "markdown",
      "metadata": {
        "id": "967iW99-WUot",
        "colab_type": "text"
      },
      "source": [
        "# RNN Code Prepration"
      ]
    },
    {
      "cell_type": "markdown",
      "metadata": {
        "id": "m6oL1Ib9XQhw",
        "colab_type": "text"
      },
      "source": [
        "In pytorch simple RNN layer is called RNN avaliable in nn module of torch : nn.RNN(input_size,hidden_size,num_layers,nonlinearity,batch_first=True)\n",
        "\n",
        "batch_first=True means the data is of shape : N  x T x D\n",
        "\n",
        "With RNN there are two inputs and set of weights. It wont only depend on Input X but also on previous time-stampt hidden state.\n",
        "\n",
        "Hence in forward function we need to first define the initial hidden state.\n",
        "\n",
        "L -> Number of RNN Layers\n",
        "\n",
        "N -> Batch Size\n",
        "\n",
        "M -> Number of hidden features\n",
        "\n",
        "RNN module in pytorch can be a single layer and also stack of RNN layers. For all hidden states we will have few dimensions (n,l,t,j):\n",
        "\n",
        "n - which sample\n",
        "\n",
        "l - which layer\n",
        "\n",
        "t - which time-step\n",
        "\n",
        "j - Which feature\n",
        "\n",
        "RNN gives you two output : \n",
        "\n",
        "1. The first output gives us the hidden states for the final layer at each time step (n,t,j) . We only use first output mostly.\n",
        "\n",
        "2. The second output gives us the hidden states over all of hidden layers but only at the final time step. (n,l,j)\n",
        "\n",
        "As a last step we pass hidden state to the last dense layer. Since the hidden state we have obtained from the RNN module is N,T,M . This gives us hidden states for every time-steps. But in certain cases we only want hidden state at the final time step .\n",
        "\n",
        "\n",
        "<h3>Build Model</h3>\n",
        "\n",
        "```\n",
        "class SimpleRNN(nn.Module):\n",
        "  def __init__(self,num_inputs,num_hidden,num_layers,num_outputs):\n",
        "    super(SimpleRNN,self).__init__()\n",
        "    self.D=num_inputs\n",
        "    self.M=num_hidden\n",
        "    self.K=num_outputs\n",
        "    self.L=num_layers\n",
        "    self.rnn=nn.RNN(\n",
        "      input_size=self.D,\n",
        "      hidden_size=self.M,\n",
        "      num_layers=self.L,\n",
        "      nonlinearity='relu',\n",
        "      batch_first=True)\n",
        "    self.fc=nn.Linear(self.M,self.K)\n",
        "  def forward(self,X):\n",
        "    # Initial hidden states :  L x N x M\n",
        "\n",
        "    h0=torch.zeros(self.L,X.size(0),self.M).to(device)\n",
        "    #Get RNN unit output\n",
        "    #out is of size (N , T , M)\n",
        "    out,_=self.rnn(X,h0)\n",
        "    #We only want hT at the final time-step\n",
        "    #N x M -> N x K\n",
        "    out=self.fc(out[:,-1,:])\n",
        "    return out\n",
        "\n",
        "\n",
        "```\n",
        "\n",
        "<h3>Instantiate the Model</h3>\n",
        "\n",
        "```\n",
        "\n",
        "model=SimpleRNN(num_inputs=1,num_hidden=5,num_layers=1,num_outputs=1)\n",
        "model.to(device)\n",
        "\n",
        "```\n",
        "\n",
        "<h3>Loss and Optimizer</h3>\n",
        "\n",
        "```\n",
        "criterion=nn.MSELoss()\n",
        "optimizer=torch.optim.Adam(model.parameters(),lr=.1)\n",
        "```\n",
        "\n",
        "<h3>Make Inputs and Targets</h3>\n",
        "\n",
        "```\n",
        "x_train\n",
        "y_train\n",
        "```\n",
        "\n",
        "<h3>Making Predictions</h3>\n",
        "input_=x_test[i].reshape(1,T,1)\n",
        "p=model(input_)[0,0].item()\n",
        "\n",
        "\n"
      ]
    },
    {
      "cell_type": "markdown",
      "metadata": {
        "id": "sTS4POjMz-BF",
        "colab_type": "text"
      },
      "source": [
        "# Code"
      ]
    },
    {
      "cell_type": "code",
      "metadata": {
        "id": "GvukTQk5z7Yu",
        "colab_type": "code",
        "colab": {}
      },
      "source": [
        "import torch\n",
        "from torch import nn\n",
        "import numpy as np\n",
        "import matplotlib.pyplot as plt\n"
      ],
      "execution_count": null,
      "outputs": []
    },
    {
      "cell_type": "code",
      "metadata": {
        "id": "rlPb_qC_Ud7b",
        "colab_type": "code",
        "colab": {
          "base_uri": "https://localhost:8080/",
          "height": 282
        },
        "outputId": "259febd2-04c1-4108-945c-6b5a38dce3bd"
      },
      "source": [
        "#Make orignal data\n",
        "N=1000\n",
        "series=np.sin(.1*np.arange(N))+np.random.randn(N)*.1\n",
        "plt.plot(series)"
      ],
      "execution_count": null,
      "outputs": [
        {
          "output_type": "execute_result",
          "data": {
            "text/plain": [
              "[<matplotlib.lines.Line2D at 0x7f63e459c240>]"
            ]
          },
          "metadata": {
            "tags": []
          },
          "execution_count": 34
        },
        {
          "output_type": "display_data",
          "data": {
            "image/png": "[encoded data removed]",
            "text/plain": [
              "<Figure size 432x288 with 1 Axes>"
            ]
          },
          "metadata": {
            "tags": [],
            "needs_background": "light"
          }
        }
      ]
    },
    {
      "cell_type": "code",
      "metadata": {
        "id": "DhKv0oSH3SDi",
        "colab_type": "code",
        "colab": {}
      },
      "source": [
        "#build the dataset\n",
        "#Let see if we can use T past values to predict the next value\n",
        "T=10\n",
        "X=[]\n",
        "Y=[]\n",
        "for t in range(len(series)-T):\n",
        "  x=series[t:t+T]\n",
        "  X.append(x)\n",
        "  y=series[t+T]\n",
        "  Y.append(y)\n",
        "X=np.array(X).reshape(-1,T,1)\n",
        "Y=np.array(Y).reshape(-1,1)\n",
        "N=len(X)"
      ],
      "execution_count": null,
      "outputs": []
    },
    {
      "cell_type": "code",
      "metadata": {
        "id": "t4o0MyW_ZwpF",
        "colab_type": "code",
        "colab": {
          "base_uri": "https://localhost:8080/",
          "height": 34
        },
        "outputId": "1fad39de-7172-470e-ad9e-7f66315182e3"
      },
      "source": [
        "Y.shape"
      ],
      "execution_count": null,
      "outputs": [
        {
          "output_type": "execute_result",
          "data": {
            "text/plain": [
              "(990, 1)"
            ]
          },
          "metadata": {
            "tags": []
          },
          "execution_count": 36
        }
      ]
    },
    {
      "cell_type": "code",
      "metadata": {
        "id": "Y_o_shu6Z5oS",
        "colab_type": "code",
        "colab": {
          "base_uri": "https://localhost:8080/",
          "height": 34
        },
        "outputId": "75dbf206-9563-41dc-c172-f942b6c7cd6d"
      },
      "source": [
        "#Set Device\n",
        "device=torch.device(\"cuda:0\"if torch.cuda.is_available() else \"cpu\")\n",
        "print(device)"
      ],
      "execution_count": null,
      "outputs": [
        {
          "output_type": "stream",
          "text": [
            "cuda:0\n"
          ],
          "name": "stdout"
        }
      ]
    },
    {
      "cell_type": "code",
      "metadata": {
        "id": "QYxvzmrZZ8F_",
        "colab_type": "code",
        "colab": {}
      },
      "source": [
        "#Define Simple RNN\n",
        "class SimpleRNN(nn.Module):\n",
        "  def __init__(self,num_inputs,num_hidden,num_layers,num_outputs):\n",
        "    super(SimpleRNN,self).__init__()\n",
        "    self.D=num_inputs\n",
        "    self.M=num_hidden\n",
        "    self.K=num_outputs\n",
        "    self.L=num_layers\n",
        "    #note : batch_first=True means that data will be of shape (num_samples,sequence_length,num_features) rather than (sequence_lengthnum_samples,num_feaures)\n",
        "    self.rnn=nn.RNN(\n",
        "      input_size=self.D,\n",
        "      hidden_size=self.M,\n",
        "      num_layers=self.L,\n",
        "      nonlinearity='relu',\n",
        "      batch_first=True)\n",
        "    self.fc=nn.Linear(self.M,self.K)\n",
        "  def forward(self,X):\n",
        "    # Initial hidden states :  L x N x M\n",
        " \n",
        "    h0=torch.zeros(self.L,X.size(0),self.M).to(device)\n",
        "    #Get RNN unit output\n",
        "    #out is of size (N , T , M)\n",
        "    out,_=self.rnn(X,h0)\n",
        "    #We only want hT at the final time-step\n",
        "    #N x M -> N x K\n",
        "    out=self.fc(out[:,-1,:])\n",
        "    return out"
      ],
      "execution_count": null,
      "outputs": []
    },
    {
      "cell_type": "code",
      "metadata": {
        "id": "o0ccIxH7bxXO",
        "colab_type": "code",
        "colab": {
          "base_uri": "https://localhost:8080/",
          "height": 87
        },
        "outputId": "5d43bf2a-6a39-4849-f0e6-4ff2fa052100"
      },
      "source": [
        "#Instantiate Model\n",
        "model=SimpleRNN(num_inputs=1,num_hidden=5,num_layers=1,num_outputs=1)\n",
        "model.to(device)"
      ],
      "execution_count": null,
      "outputs": [
        {
          "output_type": "execute_result",
          "data": {
            "text/plain": [
              "SimpleRNN(\n",
              "  (rnn): RNN(1, 5, batch_first=True)\n",
              "  (fc): Linear(in_features=5, out_features=1, bias=True)\n",
              ")"
            ]
          },
          "metadata": {
            "tags": []
          },
          "execution_count": 39
        }
      ]
    },
    {
      "cell_type": "code",
      "metadata": {
        "id": "iyT_VlhkcLsP",
        "colab_type": "code",
        "colab": {}
      },
      "source": [
        "#Loss & Optimizer\n",
        "criterion=nn.MSELoss()\n",
        "optimizer=torch.optim.Adam(model.parameters(),lr=.1)"
      ],
      "execution_count": null,
      "outputs": []
    },
    {
      "cell_type": "code",
      "metadata": {
        "id": "NyG09ImIcTQi",
        "colab_type": "code",
        "colab": {}
      },
      "source": [
        "#Make inputs and targets\n",
        "X_train=torch.from_numpy(X[:-N//2].astype(np.float32))\n",
        "Y_train=torch.from_numpy(Y[:-N//2].astype(np.float32))\n",
        "X_test=torch.from_numpy(X[-N//2:].astype(np.float32))\n",
        "Y_test=torch.from_numpy(Y[-N//2:].astype(np.float32))"
      ],
      "execution_count": null,
      "outputs": []
    },
    {
      "cell_type": "code",
      "metadata": {
        "id": "n-_8B_JTc6MN",
        "colab_type": "code",
        "colab": {}
      },
      "source": [
        "X_train,Y_train=X_train.to(device),Y_train.to(device)\n",
        "X_test,Y_test=X_test.to(device),Y_test.to(device)\n"
      ],
      "execution_count": null,
      "outputs": []
    },
    {
      "cell_type": "code",
      "metadata": {
        "id": "avJdf1NIdPtS",
        "colab_type": "code",
        "colab": {}
      },
      "source": [
        "def full_gd(model,criterion,optimizer,X_train,Y_train,X_test,Y_test,epochs=200):\n",
        "  #stuff to store\n",
        "  train_losses=np.zeros(epochs)\n",
        "  test_losses=np.zeros(epochs)\n",
        "\n",
        "  for it in range(epochs):\n",
        "    #Zero the parameter gradients\n",
        "    optimizer.zero_grad()\n",
        "    #Forward Pass\n",
        "    outputs=model(X_train)\n",
        "    loss=criterion(outputs,Y_train)\n",
        "    #Backward & Optimize\n",
        "    loss.backward()\n",
        "    optimizer.step()\n",
        "    #Save Losses\n",
        "    train_losses[it]=loss.item()\n",
        "    #Test Loss\n",
        "    test_outputs=model(X_test)\n",
        "    test_loss=criterion(test_outputs,Y_test)\n",
        "    test_losses[it]=test_loss.item()\n",
        "    if(it+1)%5==0:\n",
        "      print(f'Epoch:{it+1}/{epochs}, Train Loss: {loss.item():.4f}, Test loss: {test_loss.item():.4f}')\n",
        "  return train_losses,test_losses"
      ],
      "execution_count": null,
      "outputs": []
    },
    {
      "cell_type": "code",
      "metadata": {
        "id": "aE3o0IZ6e-sY",
        "colab_type": "code",
        "colab": {
          "base_uri": "https://localhost:8080/",
          "height": 727
        },
        "outputId": "c53d3cfe-ec78-4e80-ab7a-d3cd4c31a430"
      },
      "source": [
        "train_losses,test_losses=full_gd(model,criterion,optimizer,X_train,Y_train,X_test,Y_test,200)"
      ],
      "execution_count": null,
      "outputs": [
        {
          "output_type": "stream",
          "text": [
            "Epoch:5/200, Train Loss: 0.2839, Test loss: 0.2230\n",
            "Epoch:10/200, Train Loss: 0.0930, Test loss: 0.0630\n",
            "Epoch:15/200, Train Loss: 0.0730, Test loss: 0.0808\n",
            "Epoch:20/200, Train Loss: 0.0621, Test loss: 0.0600\n",
            "Epoch:25/200, Train Loss: 0.0367, Test loss: 0.0371\n",
            "Epoch:30/200, Train Loss: 0.0315, Test loss: 0.0335\n",
            "Epoch:35/200, Train Loss: 0.0279, Test loss: 0.0279\n",
            "Epoch:40/200, Train Loss: 0.0218, Test loss: 0.0231\n",
            "Epoch:45/200, Train Loss: 0.0220, Test loss: 0.0243\n",
            "Epoch:50/200, Train Loss: 0.0214, Test loss: 0.0235\n",
            "Epoch:55/200, Train Loss: 0.0214, Test loss: 0.0235\n",
            "Epoch:60/200, Train Loss: 0.0211, Test loss: 0.0232\n",
            "Epoch:65/200, Train Loss: 0.0210, Test loss: 0.0232\n",
            "Epoch:70/200, Train Loss: 0.0210, Test loss: 0.0230\n",
            "Epoch:75/200, Train Loss: 0.0209, Test loss: 0.0231\n",
            "Epoch:80/200, Train Loss: 0.0209, Test loss: 0.0230\n",
            "Epoch:85/200, Train Loss: 0.0208, Test loss: 0.0230\n",
            "Epoch:90/200, Train Loss: 0.0208, Test loss: 0.0230\n",
            "Epoch:95/200, Train Loss: 0.0208, Test loss: 0.0230\n",
            "Epoch:100/200, Train Loss: 0.0208, Test loss: 0.0230\n",
            "Epoch:105/200, Train Loss: 0.0208, Test loss: 0.0229\n",
            "Epoch:110/200, Train Loss: 0.0208, Test loss: 0.0229\n",
            "Epoch:115/200, Train Loss: 0.0208, Test loss: 0.0230\n",
            "Epoch:120/200, Train Loss: 0.0208, Test loss: 0.0229\n",
            "Epoch:125/200, Train Loss: 0.0208, Test loss: 0.0229\n",
            "Epoch:130/200, Train Loss: 0.0208, Test loss: 0.0229\n",
            "Epoch:135/200, Train Loss: 0.0208, Test loss: 0.0229\n",
            "Epoch:140/200, Train Loss: 0.0208, Test loss: 0.0229\n",
            "Epoch:145/200, Train Loss: 0.0208, Test loss: 0.0229\n",
            "Epoch:150/200, Train Loss: 0.0208, Test loss: 0.0229\n",
            "Epoch:155/200, Train Loss: 0.0208, Test loss: 0.0229\n",
            "Epoch:160/200, Train Loss: 0.0208, Test loss: 0.0229\n",
            "Epoch:165/200, Train Loss: 0.0208, Test loss: 0.0229\n",
            "Epoch:170/200, Train Loss: 0.0208, Test loss: 0.0229\n",
            "Epoch:175/200, Train Loss: 0.0208, Test loss: 0.0229\n",
            "Epoch:180/200, Train Loss: 0.0208, Test loss: 0.0229\n",
            "Epoch:185/200, Train Loss: 0.0208, Test loss: 0.0229\n",
            "Epoch:190/200, Train Loss: 0.0208, Test loss: 0.0229\n",
            "Epoch:195/200, Train Loss: 0.0208, Test loss: 0.0229\n",
            "Epoch:200/200, Train Loss: 0.0208, Test loss: 0.0229\n"
          ],
          "name": "stdout"
        }
      ]
    },
    {
      "cell_type": "code",
      "metadata": {
        "id": "g8W3nyoAfJLV",
        "colab_type": "code",
        "colab": {
          "base_uri": "https://localhost:8080/",
          "height": 282
        },
        "outputId": "c9e3acba-e1f7-4e69-c67d-0d8aba5b639b"
      },
      "source": [
        "#Loss Curve\n",
        "plt.plot(train_losses,label='Train Loss')\n",
        "plt.plot(test_losses,label='Test Loss')\n",
        "plt.legend()"
      ],
      "execution_count": null,
      "outputs": [
        {
          "output_type": "execute_result",
          "data": {
            "text/plain": [
              "<matplotlib.legend.Legend at 0x7f63e45b5f60>"
            ]
          },
          "metadata": {
            "tags": []
          },
          "execution_count": 45
        },
        {
          "output_type": "display_data",
          "data": {
            "image/png": "[encoded data removed]",
            "text/plain": [
              "<Figure size 432x288 with 1 Axes>"
            ]
          },
          "metadata": {
            "tags": [],
            "needs_background": "light"
          }
        }
      ]
    },
    {
      "cell_type": "code",
      "metadata": {
        "id": "lKHYEqaKfiD3",
        "colab_type": "code",
        "colab": {}
      },
      "source": [
        "#Forecasting using true targets\n",
        "\n",
        "validation_target=Y[-N//2:]\n",
        "validation_prediction=[]\n",
        "i=0\n",
        "while len(validation_prediction)<len(validation_target):\n",
        "  input_=X_test[i].reshape(1,T,1)\n",
        "  p=model(input_)[0,0].item()\n",
        "  i+=1\n",
        "  validation_prediction.append(p)\n",
        "  \n"
      ],
      "execution_count": null,
      "outputs": []
    },
    {
      "cell_type": "code",
      "metadata": {
        "id": "vpCFFYoQg-A2",
        "colab_type": "code",
        "colab": {
          "base_uri": "https://localhost:8080/",
          "height": 194
        },
        "outputId": "1aa8c566-0978-4bda-ebed-34a488a68d9c"
      },
      "source": [
        "validation_prediction[:10]"
      ],
      "execution_count": null,
      "outputs": [
        {
          "output_type": "execute_result",
          "data": {
            "text/plain": [
              "[0.23883990943431854,\n",
              " 0.31529897451400757,\n",
              " 0.4141419529914856,\n",
              " 0.5276208519935608,\n",
              " 0.6263653039932251,\n",
              " 0.6915383338928223,\n",
              " 0.7500914931297302,\n",
              " 0.8010855317115784,\n",
              " 0.846693217754364,\n",
              " 0.8939420580863953]"
            ]
          },
          "metadata": {
            "tags": []
          },
          "execution_count": 26
        }
      ]
    },
    {
      "cell_type": "code",
      "metadata": {
        "id": "i-BVwcJlhDFI",
        "colab_type": "code",
        "colab": {
          "base_uri": "https://localhost:8080/",
          "height": 194
        },
        "outputId": "9e42ee4b-0b9a-4235-f0d1-1f0571c3b4d2"
      },
      "source": [
        "validation_target[:10]"
      ],
      "execution_count": null,
      "outputs": [
        {
          "output_type": "execute_result",
          "data": {
            "text/plain": [
              "array([[0.23237376],\n",
              "       [0.32831349],\n",
              "       [0.42097283],\n",
              "       [0.50942594],\n",
              "       [0.59278903],\n",
              "       [0.67022918],\n",
              "       [0.74097261],\n",
              "       [0.80431249],\n",
              "       [0.85961595],\n",
              "       [0.90633041]])"
            ]
          },
          "metadata": {
            "tags": []
          },
          "execution_count": 27
        }
      ]
    },
    {
      "cell_type": "code",
      "metadata": {
        "id": "-aXolCUxg_Yp",
        "colab_type": "code",
        "colab": {
          "base_uri": "https://localhost:8080/",
          "height": 282
        },
        "outputId": "66fc784a-f1df-4378-af47-2d9768350f56"
      },
      "source": [
        "plt.plot(validation_target,label='Validation Target')\n",
        "plt.plot(validation_prediction,label='Validation Prediction')\n",
        "plt.legend()"
      ],
      "execution_count": null,
      "outputs": [
        {
          "output_type": "execute_result",
          "data": {
            "text/plain": [
              "<matplotlib.legend.Legend at 0x7f63e4476470>"
            ]
          },
          "metadata": {
            "tags": []
          },
          "execution_count": 47
        },
        {
          "output_type": "display_data",
          "data": {
            "image/png": "[encoded data removed]",
            "text/plain": [
              "<Figure size 432x288 with 1 Axes>"
            ]
          },
          "metadata": {
            "tags": [],
            "needs_background": "light"
          }
        }
      ]
    },
    {
      "cell_type": "code",
      "metadata": {
        "id": "kzbCsdMYhYgA",
        "colab_type": "code",
        "colab": {}
      },
      "source": [
        "#Forecasting Future Values\n",
        "#Multi Step Forecast\n",
        "validation_target=Y[-N//2:]\n",
        "validation_prediction=[]\n",
        "last_X=X_test[0].view(T)\n",
        "i=0\n",
        "while len(validation_prediction)<len(validation_target):\n",
        "  input_=last_X.reshape(1,T,1)\n",
        "  p=model(input_)\n",
        "  validation_prediction.append(p[0,0].item())\n",
        "  last_X=torch.cat((last_X[1:],p[0]))\n",
        "\n",
        "  \n"
      ],
      "execution_count": null,
      "outputs": []
    },
    {
      "cell_type": "code",
      "metadata": {
        "id": "pVNWr-S-i4Hy",
        "colab_type": "code",
        "colab": {
          "base_uri": "https://localhost:8080/",
          "height": 282
        },
        "outputId": "6b8a1e9d-899b-46f1-8fab-5a7a31ae72f8"
      },
      "source": [
        "\n",
        "plt.plot(validation_target,label='Validation Target')\n",
        "plt.plot(validation_prediction,label='Validation Prediction')\n",
        "plt.legend()"
      ],
      "execution_count": null,
      "outputs": [
        {
          "output_type": "execute_result",
          "data": {
            "text/plain": [
              "<matplotlib.legend.Legend at 0x7f63e445d668>"
            ]
          },
          "metadata": {
            "tags": []
          },
          "execution_count": 49
        },
        {
          "output_type": "display_data",
          "data": {
            "image/png": "[encoded data removed]",
            "text/plain": [
              "<Figure size 432x288 with 1 Axes>"
            ]
          },
          "metadata": {
            "tags": [],
            "needs_background": "light"
          }
        }
      ]
    },
    {
      "cell_type": "markdown",
      "metadata": {
        "id": "Cu8H_f1Hmsmc",
        "colab_type": "text"
      },
      "source": [
        "This is a bad fit as RNN is over-parameterized, AR model fits better."
      ]
    },
    {
      "cell_type": "markdown",
      "metadata": {
        "id": "05FL_ju5sd1V",
        "colab_type": "text"
      },
      "source": [
        "# Understanding the Shapes in RNN\n",
        "\n",
        "N - Number of Samples\n",
        "\n",
        "T - Sequence Length\n",
        "\n",
        "D - Number of Input Features\n",
        "\n",
        "M - Number of Hidden Units\n",
        "\n",
        "K - Number of Output Units"
      ]
    },
    {
      "cell_type": "code",
      "metadata": {
        "id": "ElIdt3ZHs9mD",
        "colab_type": "code",
        "colab": {}
      },
      "source": [
        "#Make Some Data\n",
        "N=1\n",
        "T=10\n",
        "D=3\n",
        "M=5\n",
        "K=2\n",
        "X=np.random.randn(N,T,D)"
      ],
      "execution_count": null,
      "outputs": []
    },
    {
      "cell_type": "code",
      "metadata": {
        "id": "JPKxEOtkt3Wm",
        "colab_type": "code",
        "colab": {
          "base_uri": "https://localhost:8080/",
          "height": 34
        },
        "outputId": "767b46e0-3628-4b84-d9ed-9ecd949eee2c"
      },
      "source": [
        "X.shape"
      ],
      "execution_count": null,
      "outputs": [
        {
          "output_type": "execute_result",
          "data": {
            "text/plain": [
              "(1, 10, 3)"
            ]
          },
          "metadata": {
            "tags": []
          },
          "execution_count": 52
        }
      ]
    },
    {
      "cell_type": "code",
      "metadata": {
        "id": "oSbglmLptqZZ",
        "colab_type": "code",
        "colab": {}
      },
      "source": [
        "#Define Simple RNN\n",
        "class SimpleRNN(nn.Module):\n",
        "  def __init__(self,num_inputs,num_hidden,num_layers,num_outputs):\n",
        "    super(SimpleRNN,self).__init__()\n",
        "    self.D=num_inputs\n",
        "    self.M=num_hidden\n",
        "    self.K=num_outputs\n",
        "    self.L=num_layers\n",
        "    #note : batch_first=True means that data will be of shape (num_samples,sequence_length,num_features) rather than (sequence_lengthnum_samples,num_feaures)\n",
        "    self.rnn=nn.RNN(\n",
        "      input_size=self.D,\n",
        "      hidden_size=self.M,\n",
        "      num_layers=self.L,\n",
        "      nonlinearity='tanh',\n",
        "      batch_first=True)\n",
        "    self.fc=nn.Linear(self.M,self.K)\n",
        "  def forward(self,X):\n",
        "    # Initial hidden states :  L x N x M\n",
        " \n",
        "    h0=torch.zeros(self.L,X.size(0),self.M).to(device)\n",
        "    #Get RNN unit output\n",
        "    #out is of size (N , T , M)\n",
        "    out,_=self.rnn(X,h0)\n",
        "    #We only want hT at the final time-step\n",
        "    #N x M -> N x K\n",
        "    out=self.fc(out[:,-1,:])\n",
        "    return out"
      ],
      "execution_count": null,
      "outputs": []
    },
    {
      "cell_type": "code",
      "metadata": {
        "id": "Bc6R7zi1i7YV",
        "colab_type": "code",
        "colab": {}
      },
      "source": [
        "model=SimpleRNN(num_inputs=N,num_hidden=m,num_layers=L,num_outputs=K)\n",
        "#Get the output\n",
        "inputs=torch.from_numpy(X.astype(np.float32))\n",
        "out=model(inputs)\n",
        "#Detach output and save as numpy array\n",
        "Yhats_torch=out.detach().numpy()\n",
        "#Get Parameters of RNN model\n",
        "w_xh,w_hh,b_xh,b_hh=model.rnn.parameters()\n"
      ],
      "execution_count": null,
      "outputs": []
    },
    {
      "cell_type": "code",
      "metadata": {
        "id": "Eu76LeA2DGYb",
        "colab_type": "code",
        "colab": {}
      },
      "source": [
        "w_xh=w_xh.data.numpy()\n",
        "w_hh=w_hh.data.numpy()\n",
        "b_xh=b_xh.data.numpy()\n",
        "b_hh=b_hh.data.numpy()\n"
      ],
      "execution_count": null,
      "outputs": []
    },
    {
      "cell_type": "code",
      "metadata": {
        "id": "w2zFu8tGixp6",
        "colab_type": "code",
        "colab": {}
      },
      "source": [
        "#Get fully connected layer parameters\n",
        "wo,bo=model.fc.parameters()\n",
        "wo=wo.data.numpy()\n",
        "bo=bo.data.numpy()\n"
      ],
      "execution_count": null,
      "outputs": []
    },
    {
      "cell_type": "markdown",
      "metadata": {
        "id": "jVF7AZjUM2oy",
        "colab_type": "text"
      },
      "source": [
        "# GRU & LSTM"
      ]
    },
    {
      "cell_type": "markdown",
      "metadata": {
        "id": "zcuPqi3cM_1O",
        "colab_type": "text"
      },
      "source": [
        "<h2> Modern RNNs Unit </h2>\n",
        "\n",
        "- GRU \n",
        "\n",
        "- LSTM\n",
        "\n",
        "The reasons why RNN is not good enough is :\n",
        "\n",
        "1. Vanishing Gradient : The output prediction in ANN is composite function , depending on x1,x2,x3,...xt. Suppose we want to take derivative of this function wrt Wxh, hence we will be finding derivative wrt Wxh for time t=1 to t=T for all X. Hence all of these single derivative are going to appear somewhere in our expression for the gradient of our cost wrt Wxh. Deeply nested each term is wrt y_hat(T) . The term involving x1 , i.e at the first time stamp is deeply nested. Hence y_hat(T) is the composite function which turn into multiplication in the gradients due to the chain rule . Hence, more deeply nested terms have to be multiplied maximum times. Hence RNN are vulnerable to vanishing gradient issue. Farther back in the sequence the input is , the more its gradient vanishes. Solution for this issue is to use GRU or LSTM.\n",
        "\n",
        "<h3> GRU </h3>\n",
        "\n",
        "There is a hidden unit at time t[h(t)], it depends on x(t)[the input] and h(t-1) [Previous hidden unit].  In GRU, we calculate : \n",
        "\n",
        "  - z(t) - it is called **update gate vector**\n",
        "\n",
        "  - r(t) - it is called **reset gate vector**\n",
        "\n",
        "  - h(t) - it is hidden state\n",
        "\n",
        "z(t)=a(Wxz.T*x(t) + Whz.T*h(t-1)+bz)\n",
        "\n",
        "r(t)=a(Wxr.T*x(t) + Whr.T*h(t-1)+br)\n",
        "\n",
        "h(t)=(1-z(t)).h(t-1) + z(t).tanh(Wxh.T*x(t) + Whh.T*(r(t).h(t-1))+bh)\n",
        "\n",
        "h(t),z(t),r(t) are of same size of size M, M is a hyper-parameter , i.e how many feature or hidden units. This also implies shape of weights, if any weights going from x(t) to one of the gate vectores then it must be of size DxM. If weight is going from h(t-1) , it should be of size MxM. \n",
        "\n",
        "z(t) tells us what should we do, should we take new value for the hidden state or should we just remember the previous hidden state h(t-1). Simple RNN tends to forget things which it has seen in the past. Using this gate , it allows you to remember the previous hidden state so that it can be carried forward to the next hidden state h(t+1). z(t) is the ouput of the sigmoid, its values are always between 0 & 1. Therefore for h(t) we always take weighted sum of the previous h(t-1) . If z(t) is close to 0 then we will remember the old value of h(t-1) but if z(t) is close to 1 , then we will forget the new value and forget the old h(t-1) .\n",
        "\n",
        "We concatenate : \n",
        "\n",
        "1. v=[x(t),h(t-1)]\n",
        "\n",
        "2. W(vz)=[W(xz),W(hz)]\n",
        "\n",
        "3. z(t)=a(W(vz).T * v + bz)\n",
        "\n",
        "z(t) tells us the probability of choosing h(t) or remembring old h(t-1). Hence we can express h(t) as \n",
        "\n",
        "h(t) = p(keep h(t-1)) * h(t-1) + p(discard h(t-1)) Simple RNN (x(t),h(t-1))\n",
        "\n",
        "**Reset Gate**\n",
        "\n",
        "Reset gate is used by doing element wise multiplication with h(t-1)). Value of r(t) are always between 0 and 1. If we multiply h(t-1) by close to zero value , it gets closer to zero, but if we multiply by 1 then h(t-1) remains same .\n",
        "\n",
        "Hence reset gate decides which part to remember and which to forget.\n",
        "\n",
        "<h3> LSTM </h3>\n",
        "\n",
        "LSTM have more state vectors and gates. LSTM has two states :\n",
        "\n",
        "  - h(t) Hidden State\n",
        "\n",
        "  - c(t) Cell State\n",
        "\n",
        "Initial States : X(T) , h(0), c(0) \n",
        "\n",
        "**LSTM Equation:**\n",
        "\n",
        "![LSTM](https://raw.githubusercontent.com/RiseAboveAll/PYTORCH_Learning/master/LSTM-equation.PNG)\n",
        "\n",
        "We have lot of gates like : \n",
        "\n",
        "f(t) - Forget Gate Vector \n",
        "\n",
        "i(t) - Input / Update Gate Vector\n",
        "\n",
        "o(t) - Output Gate Vector\n",
        "\n",
        "We have two states :\n",
        "\n",
        "- Cell State c(t)\n",
        "\n",
        "- Hidden State h(t)\n",
        "\n",
        "Cell state takes the role of h(t) from GRU, we have weighted sum of two terms: previous cell state[c(t-1)], how much of it we end up keeping is controlled by **forget gate** f(t) , the second term is the simple RNN equation which is controlled by **input gate** i(t). In the equation f(c) & f(h) is activation function , by default it is tanh. **Hidden State** is simple transformation on cell state c(t) and multiply it by an output gate o(t) which controls which value of cell state we pass through to the hidden state h(t) . \n",
        "\n",
        "\n",
        "\n"
      ]
    },
    {
      "cell_type": "markdown",
      "metadata": {
        "id": "THqOk0MrcLhZ",
        "colab_type": "text"
      },
      "source": [
        "<h2> Code Comparison of Simple RNN , GRU, LSTM </h2>\n",
        "\n",
        "\n",
        "<h3> Simple RNN </h3>\n",
        "\n",
        "```\n",
        "nn.RNN(\n",
        "  input_size=self.D,\n",
        "  hidden_size=self.M,\n",
        "  num_layers=self.L,\n",
        "  nonlinearity='relu',\n",
        "  batch_first=True)\n",
        "\n",
        "```\n",
        "\n",
        "<h3> GRU </h3>\n",
        "\n",
        "```\n",
        "\n",
        "nn.GRU(\n",
        "  input_size=self.D,\n",
        "  hidden_size=self.M,\n",
        "  num_layers=self.L,\n",
        "  batch_first=True)\n",
        "\n",
        "```\n",
        "<h3> LSTM </h3>\n",
        "\n",
        "```\n",
        "nn.LSTM(\n",
        "  input_size=self.D,\n",
        "  hidden_size=self.M,\n",
        "  num_layers=self.L,\n",
        "  batch_first=True)\n",
        "\n",
        "```\n",
        "\n",
        "<h2> Forward Function </h2>\n",
        "\n",
        "<h3>- GRU </h3>\n",
        "\n",
        "```\n",
        "  def forward(self,X):\n",
        "    # Initial hidden states :  L x N x M\n",
        " \n",
        "    h0=torch.zeros(self.L,X.size(0),self.M).to(device)\n",
        "    #Get RNN unit output\n",
        "    #out is of size (N , T , M)\n",
        "    out,_=self.rnn(X,h0)\n",
        " \n",
        "\n",
        "```\n",
        "\n",
        "<h3>- LSTM </h3>\n",
        "\n",
        "```\n",
        "  def forward(self,X):\n",
        "    # Initial hidden states :  L x N x M\n",
        " \n",
        "    h0=torch.zeros(self.L,X.size(0),self.M).to(device)\n",
        "    c0=torch.zeros(self.L,X.size(0),self.M).to(device)\n",
        "    #Get RNN unit output\n",
        "    #out is of size (N , T , M)\n",
        "    out,_=self.rnn(X,(h0,c0))\n",
        " ```\n"
      ]
    },
    {
      "cell_type": "markdown",
      "metadata": {
        "id": "pvNY2wUYfADl",
        "colab_type": "text"
      },
      "source": [
        "#### Code"
      ]
    },
    {
      "cell_type": "code",
      "metadata": {
        "id": "U8H0GboAewW8",
        "colab_type": "code",
        "colab": {}
      },
      "source": [
        "import torch\n",
        "import torch.nn as nn\n",
        "import numpy as np\n",
        "import matplotlib.pyplot as plt\n"
      ],
      "execution_count": null,
      "outputs": []
    },
    {
      "cell_type": "code",
      "metadata": {
        "id": "bAPYdfLoM70-",
        "colab_type": "code",
        "colab": {}
      },
      "source": [
        "# Create Series\n",
        "\n",
        "series=np.sin((.1*np.arange(400))**2)"
      ],
      "execution_count": null,
      "outputs": []
    },
    {
      "cell_type": "code",
      "metadata": {
        "id": "H4q5pk2QfhqX",
        "colab_type": "code",
        "colab": {
          "base_uri": "https://localhost:8080/",
          "height": 264
        },
        "outputId": "7cb31789-3fa1-4865-92a0-be9ac0199fdd"
      },
      "source": [
        "# Plot it\n",
        "plt.plot(series)\n",
        "plt.show()"
      ],
      "execution_count": null,
      "outputs": [
        {
          "output_type": "display_data",
          "data": {
            "image/png": "[encoded data removed]",
            "text/plain": [
              "<Figure size 432x288 with 1 Axes>"
            ]
          },
          "metadata": {
            "tags": [],
            "needs_background": "light"
          }
        }
      ]
    },
    {
      "cell_type": "code",
      "metadata": {
        "id": "Hjo1VgK_fsDe",
        "colab_type": "code",
        "colab": {}
      },
      "source": [
        "# Build Dataset\n",
        "T=10\n",
        "D=1\n",
        "X=[]\n",
        "Y=[]\n",
        "for t in range(len(series)-T):\n",
        "  x=series[t:t+T]\n",
        "  X.append(x)\n",
        "  y=series[t+T]\n",
        "  Y.append(y)\n",
        "X=np.array(X).reshape(-1,T,1)#make it N x T\n",
        "Y=np.array(Y).reshape(-1,1)\n",
        "N=len(X)\n"
      ],
      "execution_count": null,
      "outputs": []
    },
    {
      "cell_type": "code",
      "metadata": {
        "id": "i5rQyzfKvVb0",
        "colab_type": "code",
        "colab": {
          "base_uri": "https://localhost:8080/",
          "height": 34
        },
        "outputId": "4477c697-db19-4bac-8d9a-99c2af173d27"
      },
      "source": [
        "# Set Device\n",
        "device=torch.device(\"cuda:0\" if torch.cuda.is_available() else \"cpu\")\n",
        "print(device)"
      ],
      "execution_count": null,
      "outputs": [
        {
          "output_type": "stream",
          "text": [
            "cuda:0\n"
          ],
          "name": "stdout"
        }
      ]
    },
    {
      "cell_type": "code",
      "metadata": {
        "id": "a21d4qZ5vynE",
        "colab_type": "code",
        "colab": {}
      },
      "source": [
        "class LSTM(nn.Module):\n",
        "  def __init__(self,n_inputs,n_hidden,n_layers,n_outputs):\n",
        "    super(LSTM,self).__init__()\n",
        "    self.D=n_inputs\n",
        "    self.M=n_hidden\n",
        "    self.K=n_outputs\n",
        "    self.L=n_layers\n",
        "    self.lstm=nn.LSTM(input_size=self.D,hidden_size=self.M,num_layers=self.L,batch_first=True)\n",
        "    self.fc=nn.Linear(self.M,self.K)\n",
        "  \n",
        "  def forward(self,X):\n",
        "    # Initial Hidden State\n",
        "    h0=torch.zeros(self.L,X.size(0),self.M).to(device)\n",
        "    c0=torch.zeros(self.L,X.size(0),self.M).to(device)\n",
        "    out,_=self.lstm(X,(h0,c0))\n",
        "    out=self.fc(out[:,-1,:])\n",
        "    return out\n",
        "    "
      ],
      "execution_count": null,
      "outputs": []
    },
    {
      "cell_type": "code",
      "metadata": {
        "id": "sOPl5Zce7n5G",
        "colab_type": "code",
        "colab": {
          "base_uri": "https://localhost:8080/",
          "height": 87
        },
        "outputId": "da37f136-e320-456e-e741-598a36f53383"
      },
      "source": [
        "model=LSTM(n_inputs=1,n_hidden=10,n_layers=1,n_outputs=1)\n",
        "model.to(device)"
      ],
      "execution_count": null,
      "outputs": [
        {
          "output_type": "execute_result",
          "data": {
            "text/plain": [
              "LSTM(\n",
              "  (lstm): LSTM(1, 10, batch_first=True)\n",
              "  (fc): Linear(in_features=10, out_features=1, bias=True)\n",
              ")"
            ]
          },
          "metadata": {
            "tags": []
          },
          "execution_count": 39
        }
      ]
    },
    {
      "cell_type": "code",
      "metadata": {
        "id": "hjm2EFB270pO",
        "colab_type": "code",
        "colab": {}
      },
      "source": [
        "criterion=nn.MSELoss()\n",
        "optimizer=torch.optim.Adam(model.parameters(),lr=.05)"
      ],
      "execution_count": null,
      "outputs": []
    },
    {
      "cell_type": "code",
      "metadata": {
        "id": "hAUQMbZt8B5S",
        "colab_type": "code",
        "colab": {}
      },
      "source": [
        "X_train=torch.from_numpy(X[:-N//2].astype(np.float32))\n",
        "y_train=torch.from_numpy(Y[:-N//2].astype(np.float32))\n",
        "X_test=torch.from_numpy(X[-N//2:].astype(np.float32))\n",
        "y_test=torch.from_numpy(Y[-N//2:].astype(np.float32))\n"
      ],
      "execution_count": null,
      "outputs": []
    },
    {
      "cell_type": "code",
      "metadata": {
        "id": "e60GqPGwEGJ4",
        "colab_type": "code",
        "colab": {}
      },
      "source": [
        "def full_gd(model,criterion,optimizer,X_train,y_train,X_test,y_test,epochs=200):\n",
        "  train_losses=np.zeros(epochs)\n",
        "  test_losses=np.zeros(epochs)\n",
        "  for it in range(epochs):\n",
        "    #t0=datetime.now()\n",
        "    \n",
        "    optimizer.zero_grad()\n",
        "    \n",
        "    #Forward Pass\n",
        "    outputs=model(X_train)\n",
        "    loss=criterion(outputs,y_train)\n",
        "    #Bacward Pass\n",
        "    loss.backward()\n",
        "    #Perform single optmization step\n",
        "    optimizer.step()\n",
        "    #Training Loss\n",
        "    train_losses[it]=loss.item()\n",
        "    #Test Loss\n",
        "    test_output=model(X_test)\n",
        "    test_loss=criterion(test_output,y_test)\n",
        "    test_losses[it]=test_loss.item()\n",
        "    \n",
        "    print(f'Epoch {it+1}/{epochs} , Train Loss : {loss.item() : .4f},  Test Loss : {test_loss.item() : .4f}')\n",
        "  return train_losses,test_losses\n"
      ],
      "execution_count": null,
      "outputs": []
    },
    {
      "cell_type": "code",
      "metadata": {
        "id": "w6EUao4qfkKd",
        "colab_type": "code",
        "colab": {}
      },
      "source": [
        "X_train,y_train=X_train.to(device),y_train.to(device)\n",
        "X_test,y_test=X_test.to(device),y_test.to(device)"
      ],
      "execution_count": null,
      "outputs": []
    },
    {
      "cell_type": "code",
      "metadata": {
        "id": "Cb_3CDBmfzCf",
        "colab_type": "code",
        "colab": {
          "base_uri": "https://localhost:8080/",
          "height": 1000
        },
        "outputId": "15803eee-2869-471c-8c46-0955091b0d91"
      },
      "source": [
        "train_losses,test_losses=full_gd(model, criterion,optimizer,X_train,y_train,X_test,y_test)"
      ],
      "execution_count": null,
      "outputs": [
        {
          "output_type": "stream",
          "text": [
            "Epoch 1/200 , Train Loss :  0.5549,  Test Loss :  0.5035\n",
            "Epoch 2/200 , Train Loss :  0.5132,  Test Loss :  0.5301\n",
            "Epoch 3/200 , Train Loss :  0.5249,  Test Loss :  0.5367\n",
            "Epoch 4/200 , Train Loss :  0.5171,  Test Loss :  0.5385\n",
            "Epoch 5/200 , Train Loss :  0.5050,  Test Loss :  0.5513\n",
            "Epoch 6/200 , Train Loss :  0.5017,  Test Loss :  0.5733\n",
            "Epoch 7/200 , Train Loss :  0.5038,  Test Loss :  0.5922\n",
            "Epoch 8/200 , Train Loss :  0.5017,  Test Loss :  0.6075\n",
            "Epoch 9/200 , Train Loss :  0.4972,  Test Loss :  0.6205\n",
            "Epoch 10/200 , Train Loss :  0.4940,  Test Loss :  0.6299\n",
            "Epoch 11/200 , Train Loss :  0.4926,  Test Loss :  0.6321\n",
            "Epoch 12/200 , Train Loss :  0.4908,  Test Loss :  0.6252\n",
            "Epoch 13/200 , Train Loss :  0.4865,  Test Loss :  0.6107\n",
            "Epoch 14/200 , Train Loss :  0.4796,  Test Loss :  0.5926\n",
            "Epoch 15/200 , Train Loss :  0.4716,  Test Loss :  0.5761\n",
            "Epoch 16/200 , Train Loss :  0.4641,  Test Loss :  0.5653\n",
            "Epoch 17/200 , Train Loss :  0.4531,  Test Loss :  0.5610\n",
            "Epoch 18/200 , Train Loss :  0.4311,  Test Loss :  0.5589\n",
            "Epoch 19/200 , Train Loss :  0.4053,  Test Loss :  0.5211\n",
            "Epoch 20/200 , Train Loss :  0.3778,  Test Loss :  0.4532\n",
            "Epoch 21/200 , Train Loss :  0.3641,  Test Loss :  0.4264\n",
            "Epoch 22/200 , Train Loss :  0.3336,  Test Loss :  0.4095\n",
            "Epoch 23/200 , Train Loss :  0.3129,  Test Loss :  0.3622\n",
            "Epoch 24/200 , Train Loss :  0.2719,  Test Loss :  0.3198\n",
            "Epoch 25/200 , Train Loss :  0.2498,  Test Loss :  0.3189\n",
            "Epoch 26/200 , Train Loss :  0.2092,  Test Loss :  0.3128\n",
            "Epoch 27/200 , Train Loss :  0.1845,  Test Loss :  0.2720\n",
            "Epoch 28/200 , Train Loss :  0.1576,  Test Loss :  0.2469\n",
            "Epoch 29/200 , Train Loss :  0.1439,  Test Loss :  0.2508\n",
            "Epoch 30/200 , Train Loss :  0.1284,  Test Loss :  0.2704\n",
            "Epoch 31/200 , Train Loss :  0.1191,  Test Loss :  0.2861\n",
            "Epoch 32/200 , Train Loss :  0.1139,  Test Loss :  0.2891\n",
            "Epoch 33/200 , Train Loss :  0.1105,  Test Loss :  0.2943\n",
            "Epoch 34/200 , Train Loss :  0.1083,  Test Loss :  0.2977\n",
            "Epoch 35/200 , Train Loss :  0.1058,  Test Loss :  0.2786\n",
            "Epoch 36/200 , Train Loss :  0.1019,  Test Loss :  0.2519\n",
            "Epoch 37/200 , Train Loss :  0.0945,  Test Loss :  0.2360\n",
            "Epoch 38/200 , Train Loss :  0.0870,  Test Loss :  0.2293\n",
            "Epoch 39/200 , Train Loss :  0.0804,  Test Loss :  0.2245\n",
            "Epoch 40/200 , Train Loss :  0.0775,  Test Loss :  0.2113\n",
            "Epoch 41/200 , Train Loss :  0.0732,  Test Loss :  0.1941\n",
            "Epoch 42/200 , Train Loss :  0.0694,  Test Loss :  0.1821\n",
            "Epoch 43/200 , Train Loss :  0.0656,  Test Loss :  0.1765\n",
            "Epoch 44/200 , Train Loss :  0.0616,  Test Loss :  0.1699\n",
            "Epoch 45/200 , Train Loss :  0.0576,  Test Loss :  0.1549\n",
            "Epoch 46/200 , Train Loss :  0.0520,  Test Loss :  0.1393\n",
            "Epoch 47/200 , Train Loss :  0.0460,  Test Loss :  0.1341\n",
            "Epoch 48/200 , Train Loss :  0.0417,  Test Loss :  0.1360\n",
            "Epoch 49/200 , Train Loss :  0.0377,  Test Loss :  0.1424\n",
            "Epoch 50/200 , Train Loss :  0.0363,  Test Loss :  0.1390\n",
            "Epoch 51/200 , Train Loss :  0.0339,  Test Loss :  0.1253\n",
            "Epoch 52/200 , Train Loss :  0.0304,  Test Loss :  0.1154\n",
            "Epoch 53/200 , Train Loss :  0.0273,  Test Loss :  0.1153\n",
            "Epoch 54/200 , Train Loss :  0.0237,  Test Loss :  0.1128\n",
            "Epoch 55/200 , Train Loss :  0.0212,  Test Loss :  0.0996\n",
            "Epoch 56/200 , Train Loss :  0.0185,  Test Loss :  0.0888\n",
            "Epoch 57/200 , Train Loss :  0.0174,  Test Loss :  0.0869\n",
            "Epoch 58/200 , Train Loss :  0.0157,  Test Loss :  0.0871\n",
            "Epoch 59/200 , Train Loss :  0.0144,  Test Loss :  0.0801\n",
            "Epoch 60/200 , Train Loss :  0.0127,  Test Loss :  0.0711\n",
            "Epoch 61/200 , Train Loss :  0.0115,  Test Loss :  0.0686\n",
            "Epoch 62/200 , Train Loss :  0.0101,  Test Loss :  0.0707\n",
            "Epoch 63/200 , Train Loss :  0.0094,  Test Loss :  0.0683\n",
            "Epoch 64/200 , Train Loss :  0.0088,  Test Loss :  0.0644\n",
            "Epoch 65/200 , Train Loss :  0.0087,  Test Loss :  0.0660\n",
            "Epoch 66/200 , Train Loss :  0.0084,  Test Loss :  0.0700\n",
            "Epoch 67/200 , Train Loss :  0.0082,  Test Loss :  0.0680\n",
            "Epoch 68/200 , Train Loss :  0.0077,  Test Loss :  0.0651\n",
            "Epoch 69/200 , Train Loss :  0.0074,  Test Loss :  0.0669\n",
            "Epoch 70/200 , Train Loss :  0.0069,  Test Loss :  0.0691\n",
            "Epoch 71/200 , Train Loss :  0.0066,  Test Loss :  0.0666\n",
            "Epoch 72/200 , Train Loss :  0.0061,  Test Loss :  0.0653\n",
            "Epoch 73/200 , Train Loss :  0.0058,  Test Loss :  0.0676\n",
            "Epoch 74/200 , Train Loss :  0.0054,  Test Loss :  0.0690\n",
            "Epoch 75/200 , Train Loss :  0.0052,  Test Loss :  0.0677\n",
            "Epoch 76/200 , Train Loss :  0.0049,  Test Loss :  0.0685\n",
            "Epoch 77/200 , Train Loss :  0.0047,  Test Loss :  0.0715\n",
            "Epoch 78/200 , Train Loss :  0.0046,  Test Loss :  0.0723\n",
            "Epoch 79/200 , Train Loss :  0.0044,  Test Loss :  0.0714\n",
            "Epoch 80/200 , Train Loss :  0.0042,  Test Loss :  0.0735\n",
            "Epoch 81/200 , Train Loss :  0.0041,  Test Loss :  0.0759\n",
            "Epoch 82/200 , Train Loss :  0.0040,  Test Loss :  0.0751\n",
            "Epoch 83/200 , Train Loss :  0.0038,  Test Loss :  0.0751\n",
            "Epoch 84/200 , Train Loss :  0.0037,  Test Loss :  0.0770\n",
            "Epoch 85/200 , Train Loss :  0.0036,  Test Loss :  0.0771\n",
            "Epoch 86/200 , Train Loss :  0.0034,  Test Loss :  0.0760\n",
            "Epoch 87/200 , Train Loss :  0.0033,  Test Loss :  0.0767\n",
            "Epoch 88/200 , Train Loss :  0.0032,  Test Loss :  0.0776\n",
            "Epoch 89/200 , Train Loss :  0.0031,  Test Loss :  0.0767\n",
            "Epoch 90/200 , Train Loss :  0.0030,  Test Loss :  0.0762\n",
            "Epoch 91/200 , Train Loss :  0.0029,  Test Loss :  0.0772\n",
            "Epoch 92/200 , Train Loss :  0.0028,  Test Loss :  0.0775\n",
            "Epoch 93/200 , Train Loss :  0.0028,  Test Loss :  0.0769\n",
            "Epoch 94/200 , Train Loss :  0.0027,  Test Loss :  0.0773\n",
            "Epoch 95/200 , Train Loss :  0.0027,  Test Loss :  0.0783\n",
            "Epoch 96/200 , Train Loss :  0.0026,  Test Loss :  0.0783\n",
            "Epoch 97/200 , Train Loss :  0.0026,  Test Loss :  0.0783\n",
            "Epoch 98/200 , Train Loss :  0.0025,  Test Loss :  0.0792\n",
            "Epoch 99/200 , Train Loss :  0.0025,  Test Loss :  0.0796\n",
            "Epoch 100/200 , Train Loss :  0.0024,  Test Loss :  0.0792\n",
            "Epoch 101/200 , Train Loss :  0.0024,  Test Loss :  0.0796\n",
            "Epoch 102/200 , Train Loss :  0.0023,  Test Loss :  0.0801\n",
            "Epoch 103/200 , Train Loss :  0.0023,  Test Loss :  0.0795\n",
            "Epoch 104/200 , Train Loss :  0.0022,  Test Loss :  0.0791\n",
            "Epoch 105/200 , Train Loss :  0.0022,  Test Loss :  0.0794\n",
            "Epoch 106/200 , Train Loss :  0.0022,  Test Loss :  0.0791\n",
            "Epoch 107/200 , Train Loss :  0.0021,  Test Loss :  0.0785\n",
            "Epoch 108/200 , Train Loss :  0.0021,  Test Loss :  0.0787\n",
            "Epoch 109/200 , Train Loss :  0.0021,  Test Loss :  0.0786\n",
            "Epoch 110/200 , Train Loss :  0.0020,  Test Loss :  0.0780\n",
            "Epoch 111/200 , Train Loss :  0.0020,  Test Loss :  0.0781\n",
            "Epoch 112/200 , Train Loss :  0.0020,  Test Loss :  0.0782\n",
            "Epoch 113/200 , Train Loss :  0.0019,  Test Loss :  0.0777\n",
            "Epoch 114/200 , Train Loss :  0.0019,  Test Loss :  0.0776\n",
            "Epoch 115/200 , Train Loss :  0.0019,  Test Loss :  0.0779\n",
            "Epoch 116/200 , Train Loss :  0.0019,  Test Loss :  0.0775\n",
            "Epoch 117/200 , Train Loss :  0.0018,  Test Loss :  0.0773\n",
            "Epoch 118/200 , Train Loss :  0.0018,  Test Loss :  0.0774\n",
            "Epoch 119/200 , Train Loss :  0.0018,  Test Loss :  0.0771\n",
            "Epoch 120/200 , Train Loss :  0.0018,  Test Loss :  0.0768\n",
            "Epoch 121/200 , Train Loss :  0.0017,  Test Loss :  0.0769\n",
            "Epoch 122/200 , Train Loss :  0.0017,  Test Loss :  0.0766\n",
            "Epoch 123/200 , Train Loss :  0.0017,  Test Loss :  0.0763\n",
            "Epoch 124/200 , Train Loss :  0.0017,  Test Loss :  0.0764\n",
            "Epoch 125/200 , Train Loss :  0.0017,  Test Loss :  0.0762\n",
            "Epoch 126/200 , Train Loss :  0.0016,  Test Loss :  0.0759\n",
            "Epoch 127/200 , Train Loss :  0.0016,  Test Loss :  0.0760\n",
            "Epoch 128/200 , Train Loss :  0.0016,  Test Loss :  0.0757\n",
            "Epoch 129/200 , Train Loss :  0.0016,  Test Loss :  0.0755\n",
            "Epoch 130/200 , Train Loss :  0.0016,  Test Loss :  0.0756\n",
            "Epoch 131/200 , Train Loss :  0.0015,  Test Loss :  0.0754\n",
            "Epoch 132/200 , Train Loss :  0.0015,  Test Loss :  0.0753\n",
            "Epoch 133/200 , Train Loss :  0.0015,  Test Loss :  0.0754\n",
            "Epoch 134/200 , Train Loss :  0.0015,  Test Loss :  0.0752\n",
            "Epoch 135/200 , Train Loss :  0.0015,  Test Loss :  0.0752\n",
            "Epoch 136/200 , Train Loss :  0.0015,  Test Loss :  0.0753\n",
            "Epoch 137/200 , Train Loss :  0.0014,  Test Loss :  0.0751\n",
            "Epoch 138/200 , Train Loss :  0.0014,  Test Loss :  0.0751\n",
            "Epoch 139/200 , Train Loss :  0.0014,  Test Loss :  0.0752\n",
            "Epoch 140/200 , Train Loss :  0.0014,  Test Loss :  0.0749\n",
            "Epoch 141/200 , Train Loss :  0.0014,  Test Loss :  0.0750\n",
            "Epoch 142/200 , Train Loss :  0.0014,  Test Loss :  0.0750\n",
            "Epoch 143/200 , Train Loss :  0.0014,  Test Loss :  0.0749\n",
            "Epoch 144/200 , Train Loss :  0.0013,  Test Loss :  0.0750\n",
            "Epoch 145/200 , Train Loss :  0.0013,  Test Loss :  0.0749\n",
            "Epoch 146/200 , Train Loss :  0.0013,  Test Loss :  0.0748\n",
            "Epoch 147/200 , Train Loss :  0.0013,  Test Loss :  0.0749\n",
            "Epoch 148/200 , Train Loss :  0.0013,  Test Loss :  0.0747\n",
            "Epoch 149/200 , Train Loss :  0.0013,  Test Loss :  0.0748\n",
            "Epoch 150/200 , Train Loss :  0.0013,  Test Loss :  0.0748\n",
            "Epoch 151/200 , Train Loss :  0.0012,  Test Loss :  0.0746\n",
            "Epoch 152/200 , Train Loss :  0.0012,  Test Loss :  0.0747\n",
            "Epoch 153/200 , Train Loss :  0.0012,  Test Loss :  0.0745\n",
            "Epoch 154/200 , Train Loss :  0.0012,  Test Loss :  0.0745\n",
            "Epoch 155/200 , Train Loss :  0.0012,  Test Loss :  0.0744\n",
            "Epoch 156/200 , Train Loss :  0.0012,  Test Loss :  0.0743\n",
            "Epoch 157/200 , Train Loss :  0.0012,  Test Loss :  0.0743\n",
            "Epoch 158/200 , Train Loss :  0.0012,  Test Loss :  0.0742\n",
            "Epoch 159/200 , Train Loss :  0.0011,  Test Loss :  0.0742\n",
            "Epoch 160/200 , Train Loss :  0.0011,  Test Loss :  0.0741\n",
            "Epoch 161/200 , Train Loss :  0.0011,  Test Loss :  0.0740\n",
            "Epoch 162/200 , Train Loss :  0.0011,  Test Loss :  0.0740\n",
            "Epoch 163/200 , Train Loss :  0.0011,  Test Loss :  0.0739\n",
            "Epoch 164/200 , Train Loss :  0.0011,  Test Loss :  0.0740\n",
            "Epoch 165/200 , Train Loss :  0.0011,  Test Loss :  0.0738\n",
            "Epoch 166/200 , Train Loss :  0.0011,  Test Loss :  0.0738\n",
            "Epoch 167/200 , Train Loss :  0.0011,  Test Loss :  0.0737\n",
            "Epoch 168/200 , Train Loss :  0.0011,  Test Loss :  0.0737\n",
            "Epoch 169/200 , Train Loss :  0.0010,  Test Loss :  0.0736\n",
            "Epoch 170/200 , Train Loss :  0.0010,  Test Loss :  0.0736\n",
            "Epoch 171/200 , Train Loss :  0.0010,  Test Loss :  0.0735\n",
            "Epoch 172/200 , Train Loss :  0.0010,  Test Loss :  0.0735\n",
            "Epoch 173/200 , Train Loss :  0.0010,  Test Loss :  0.0734\n",
            "Epoch 174/200 , Train Loss :  0.0010,  Test Loss :  0.0733\n",
            "Epoch 175/200 , Train Loss :  0.0010,  Test Loss :  0.0733\n",
            "Epoch 176/200 , Train Loss :  0.0010,  Test Loss :  0.0732\n",
            "Epoch 177/200 , Train Loss :  0.0010,  Test Loss :  0.0732\n",
            "Epoch 178/200 , Train Loss :  0.0010,  Test Loss :  0.0730\n",
            "Epoch 179/200 , Train Loss :  0.0010,  Test Loss :  0.0732\n",
            "Epoch 180/200 , Train Loss :  0.0009,  Test Loss :  0.0727\n",
            "Epoch 181/200 , Train Loss :  0.0009,  Test Loss :  0.0732\n",
            "Epoch 182/200 , Train Loss :  0.0009,  Test Loss :  0.0723\n",
            "Epoch 183/200 , Train Loss :  0.0009,  Test Loss :  0.0737\n",
            "Epoch 184/200 , Train Loss :  0.0009,  Test Loss :  0.0713\n",
            "Epoch 185/200 , Train Loss :  0.0009,  Test Loss :  0.0753\n",
            "Epoch 186/200 , Train Loss :  0.0010,  Test Loss :  0.0687\n",
            "Epoch 187/200 , Train Loss :  0.0011,  Test Loss :  0.0804\n",
            "Epoch 188/200 , Train Loss :  0.0015,  Test Loss :  0.0633\n",
            "Epoch 189/200 , Train Loss :  0.0025,  Test Loss :  0.0906\n",
            "Epoch 190/200 , Train Loss :  0.0044,  Test Loss :  0.0614\n",
            "Epoch 191/200 , Train Loss :  0.0046,  Test Loss :  0.0807\n",
            "Epoch 192/200 , Train Loss :  0.0025,  Test Loss :  0.0740\n",
            "Epoch 193/200 , Train Loss :  0.0011,  Test Loss :  0.0669\n",
            "Epoch 194/200 , Train Loss :  0.0028,  Test Loss :  0.0763\n",
            "Epoch 195/200 , Train Loss :  0.0022,  Test Loss :  0.0726\n",
            "Epoch 196/200 , Train Loss :  0.0011,  Test Loss :  0.0678\n",
            "Epoch 197/200 , Train Loss :  0.0025,  Test Loss :  0.0743\n",
            "Epoch 198/200 , Train Loss :  0.0014,  Test Loss :  0.0745\n",
            "Epoch 199/200 , Train Loss :  0.0014,  Test Loss :  0.0690\n",
            "Epoch 200/200 , Train Loss :  0.0019,  Test Loss :  0.0725\n"
          ],
          "name": "stdout"
        }
      ]
    },
    {
      "cell_type": "code",
      "metadata": {
        "id": "F1vohEjcgH3G",
        "colab_type": "code",
        "colab": {
          "base_uri": "https://localhost:8080/",
          "height": 282
        },
        "outputId": "88fc4261-edd7-4d2a-d406-54c6b4f37750"
      },
      "source": [
        "plt.plot(train_losses,label=\"train losses\")\n",
        "plt.plot(test_losses,label=\"test losses\")"
      ],
      "execution_count": null,
      "outputs": [
        {
          "output_type": "execute_result",
          "data": {
            "text/plain": [
              "[<matplotlib.lines.Line2D at 0x7fa8ba297048>]"
            ]
          },
          "metadata": {
            "tags": []
          },
          "execution_count": 48
        },
        {
          "output_type": "display_data",
          "data": {
            "image/png": "[encoded data removed]",
            "text/plain": [
              "<Figure size 432x288 with 1 Axes>"
            ]
          },
          "metadata": {
            "tags": [],
            "needs_background": "light"
          }
        }
      ]
    },
    {
      "cell_type": "code",
      "metadata": {
        "id": "4jJoQoGJoLJi",
        "colab_type": "code",
        "colab": {}
      },
      "source": [
        ""
      ],
      "execution_count": null,
      "outputs": []
    }
  ]
}